{
  "nbformat": 4,
  "nbformat_minor": 0,
  "metadata": {
    "colab": {
      "name": "Boston Airbnb EDA.ipynb",
      "provenance": [],
      "authorship_tag": "ABX9TyOt9jRLwRLmZdXWsfMG4aZs",
      "include_colab_link": true
    },
    "kernelspec": {
      "name": "python3",
      "display_name": "Python 3"
    },
    "language_info": {
      "name": "python"
    }
  },
  "cells": [
    {
      "cell_type": "markdown",
      "metadata": {
        "id": "view-in-github",
        "colab_type": "text"
      },
      "source": [
        "<a href=\"https://colab.research.google.com/github/MehzHats/Boston-Data-Analysis/blob/main/Boston%20Airbnb%20EDA.ipynb\" target=\"_parent\"><img src=\"https://colab.research.google.com/assets/colab-badge.svg\" alt=\"Open In Colab\"/></a>"
      ]
    },
    {
      "cell_type": "markdown",
      "source": [
        "# Boston Airbnb Data Analysis"
      ],
      "metadata": {
        "id": "LtCIbhDDWnlU"
      }
    },
    {
      "cell_type": "code",
      "execution_count": null,
      "metadata": {
        "id": "p5VK1O2gWSpC"
      },
      "outputs": [],
      "source": [
        ""
      ]
    }
  ]
}