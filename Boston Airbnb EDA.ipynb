{
  "nbformat": 4,
  "nbformat_minor": 0,
  "metadata": {
    "colab": {
      "name": "Boston Airbnb EDA.ipynb",
      "provenance": [],
      "authorship_tag": "ABX9TyMiCbfZ/OVV/jqGR9jeGifj",
      "include_colab_link": true
    },
    "kernelspec": {
      "name": "python3",
      "display_name": "Python 3"
    },
    "language_info": {
      "name": "python"
    }
  },
  "cells": [
    {
      "cell_type": "markdown",
      "metadata": {
        "id": "view-in-github",
        "colab_type": "text"
      },
      "source": [
        "<a href=\"https://colab.research.google.com/github/MehzHats/Boston-Data-Analysis/blob/main/Boston%20Airbnb%20EDA.ipynb\" target=\"_parent\"><img src=\"https://colab.research.google.com/assets/colab-badge.svg\" alt=\"Open In Colab\"/></a>"
      ]
    },
    {
      "cell_type": "markdown",
      "source": [
        "# Boston Airbnb Data Analysis"
      ],
      "metadata": {
        "id": "LtCIbhDDWnlU"
      }
    },
    {
      "cell_type": "markdown",
      "source": [
        "## About Data\n",
        "\n",
        "This dataset contains bookings, listings and reviews of homestay activity from 2008 till 2016.\n",
        "\n",
        "The following Airbnb activity is included in this Boston dataset:\n",
        "\n",
        "1.   Listings, including full descriptions and average review score.\n",
        "2.   Reviews, including unique id for each reviewer and detailed comments\n",
        "3. Calendar, including listing id and the price and availability for that day"
      ],
      "metadata": {
        "id": "7l1CUDSbaAzd"
      }
    },
    {
      "cell_type": "code",
      "execution_count": null,
      "metadata": {
        "id": "p5VK1O2gWSpC"
      },
      "outputs": [],
      "source": [
        ""
      ]
    }
  ]
}