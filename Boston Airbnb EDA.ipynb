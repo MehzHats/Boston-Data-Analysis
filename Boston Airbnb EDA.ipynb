{
  "nbformat": 4,
  "nbformat_minor": 0,
  "metadata": {
    "colab": {
      "name": "Boston Airbnb EDA.ipynb",
      "provenance": [],
      "authorship_tag": "ABX9TyNsFo6mhHH7+1im9uridtgc",
      "include_colab_link": true
    },
    "kernelspec": {
      "name": "python3",
      "display_name": "Python 3"
    },
    "language_info": {
      "name": "python"
    }
  },
  "cells": [
    {
      "cell_type": "markdown",
      "metadata": {
        "id": "view-in-github",
        "colab_type": "text"
      },
      "source": [
        "<a href=\"https://colab.research.google.com/github/MehzHats/Boston-Data-Analysis/blob/main/Boston%20Airbnb%20EDA.ipynb\" target=\"_parent\"><img src=\"https://colab.research.google.com/assets/colab-badge.svg\" alt=\"Open In Colab\"/></a>"
      ]
    },
    {
      "cell_type": "markdown",
      "source": [
        "# Boston Airbnb Data Analysis\n",
        "\n",
        "The dataset used in this notebook was choosen from the Boston Airbnb Open Data hosted on Kaggle. This dataset contains bookings, listings and reviews of homestay activity from 2008 till 2016.\n",
        "\n",
        "This dataset is analysed based on the  the Cross-Industry Standard Process for Data Mining (CRISP-DM) incorporated as a part of the \"Write a Data Science Blog Post\" project for Udacity's Data Scientist Nanodegree. \n",
        "\n",
        "The CRoss Industry Standard Process for Data Mining (CRISP-DM) is a process model that serves as the base for a data science process. It has six sequential phases:\n",
        "\n",
        "1. **Business understanding** – What are the needs of the business?\n",
        "2. **Data understanding** – What data do we have / need? Is it clean?\n",
        "3. **Data preparation** – How the data is organised for modeling?\n",
        "4. **Modeling** – What are the modeling techniques applied?\n",
        "5. **Evaluation** – Which model best meets the objectives of business?\n",
        "6. **Deployment** – How do stakeholders access the results?\n",
        "\n",
        "\n"
      ],
      "metadata": {
        "id": "LtCIbhDDWnlU"
      }
    },
    {
      "cell_type": "markdown",
      "source": [
        "## About Data\n",
        "\n",
        "The following Airbnb activity is included in this Boston dataset:\n",
        "\n",
        "1.   Listings, including full descriptions and average review score.\n",
        "2.   Reviews, including unique id for each reviewer and detailed comments\n",
        "3. Calendar, including listing id and the price and availability for that day"
      ],
      "metadata": {
        "id": "7l1CUDSbaAzd"
      }
    },
    {
      "cell_type": "code",
      "execution_count": null,
      "metadata": {
        "id": "p5VK1O2gWSpC"
      },
      "outputs": [],
      "source": [
        ""
      ]
    }
  ]
}