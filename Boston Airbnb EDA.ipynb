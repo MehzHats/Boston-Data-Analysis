{
  "nbformat": 4,
  "nbformat_minor": 0,
  "metadata": {
    "colab": {
      "name": "Boston Airbnb EDA.ipynb",
      "provenance": [],
      "collapsed_sections": [],
      "authorship_tag": "ABX9TyPQcDcKmJioat03jSLsW53c",
      "include_colab_link": true
    },
    "kernelspec": {
      "name": "python3",
      "display_name": "Python 3"
    },
    "language_info": {
      "name": "python"
    }
  },
  "cells": [
    {
      "cell_type": "markdown",
      "metadata": {
        "id": "view-in-github",
        "colab_type": "text"
      },
      "source": [
        "<a href=\"https://colab.research.google.com/github/MehzHats/Boston-Data-Analysis/blob/main/Boston%20Airbnb%20EDA.ipynb\" target=\"_parent\"><img src=\"https://colab.research.google.com/assets/colab-badge.svg\" alt=\"Open In Colab\"/></a>"
      ]
    },
    {
      "cell_type": "markdown",
      "source": [
        "# Boston Airbnb Data Analysis\n",
        "\n",
        "The dataset used in this notebook was choosen from the Boston Airbnb Open Data hosted on Kaggle. This dataset contains bookings, listings and reviews of homestay activity from 2008 till 2016.\n",
        "\n",
        "This dataset is analysed based on the  the Cross-Industry Standard Process for Data Mining (CRISP-DM) incorporated as a part of the \"Write a Data Science Blog Post\" project for Udacity's Data Scientist Nanodegree. \n",
        "\n",
        "The CRoss Industry Standard Process for Data Mining (CRISP-DM) is a process model that serves as the base for a data science process. It has six sequential phases:\n",
        "\n",
        "1. **Business understanding** – What are the needs of the business?\n",
        "2. **Data understanding** – What data do we have / need? Is it clean?\n",
        "3. **Data preparation** – How the data is organised for modeling?\n",
        "4. **Modeling** – What are the modeling techniques applied?\n",
        "5. **Evaluation** – Which model best meets the objectives of business?\n",
        "6. **Deployment** – How do stakeholders access the results?\n",
        "\n",
        "\n"
      ],
      "metadata": {
        "id": "LtCIbhDDWnlU"
      }
    },
    {
      "cell_type": "markdown",
      "source": [
        "## About Data\n",
        "\n",
        "The following Airbnb activity is included in this Boston dataset:\n",
        "\n",
        "1.   Listings, including full descriptions and average review score.\n",
        "2.   Reviews, including unique id for each reviewer and detailed comments\n",
        "3. Calendar, including listing id and the price and availability for that day"
      ],
      "metadata": {
        "id": "7l1CUDSbaAzd"
      }
    },
    {
      "cell_type": "markdown",
      "source": [
        "## Get Data"
      ],
      "metadata": {
        "id": "3MDrBBkhd57V"
      }
    },
    {
      "cell_type": "code",
      "source": [
        "!pip install --user -q kaggle"
      ],
      "metadata": {
        "id": "FHemqzcTgFIi"
      },
      "execution_count": 5,
      "outputs": []
    },
    {
      "cell_type": "code",
      "source": [
        "!mkdir ~/.kaggle\n",
        "!touch ~/.kaggle/kaggle.json\n",
        "!cd ~/.kaggle/ && echo '{\"username\":\"mehzhats\",\"key\":\"c56b2e27eae429152faae50277e85142\"}' > \"./kaggle.json\"\n",
        "!chmod 600 ~/.kaggle/kaggle.json"
      ],
      "metadata": {
        "id": "AAq77sucgJNK",
        "colab": {
          "base_uri": "https://localhost:8080/"
        },
        "outputId": "3998159d-e204-4b0f-b24f-e46258e004dc"
      },
      "execution_count": 6,
      "outputs": [
        {
          "output_type": "stream",
          "name": "stdout",
          "text": [
            "mkdir: cannot create directory ‘/root/.kaggle’: File exists\n"
          ]
        }
      ]
    },
    {
      "cell_type": "code",
      "source": [
        "!kaggle datasets download airbnb/boston\n",
        "!unzip boston.zip\n",
        "!rm boston.zip"
      ],
      "metadata": {
        "id": "0qrAvyJsfBX_"
      },
      "execution_count": null,
      "outputs": []
    },
    {
      "cell_type": "markdown",
      "source": [
        "## Imports"
      ],
      "metadata": {
        "id": "i13JdSFI944_"
      }
    },
    {
      "cell_type": "code",
      "source": [
        "%matplotlib inline"
      ],
      "metadata": {
        "id": "p4qMS0vFspxT"
      },
      "execution_count": 2,
      "outputs": []
    },
    {
      "cell_type": "code",
      "execution_count": 3,
      "metadata": {
        "id": "p5VK1O2gWSpC"
      },
      "outputs": [],
      "source": [
        "import pandas as pd\n",
        "import numpy as np\n",
        "import matplotlib\n",
        "import matplotlib.pyplot as plt\n",
        "import seaborn as sns"
      ]
    },
    {
      "cell_type": "markdown",
      "source": [
        "### Settings"
      ],
      "metadata": {
        "id": "FiaCef2q7eR7"
      }
    },
    {
      "cell_type": "code",
      "source": [
        "pd.set_option('display.max_rows', None)\n",
        "pd.set_option('display.float_format', lambda x: '%.9f' % x)"
      ],
      "metadata": {
        "id": "jkhOFqUV7hO_"
      },
      "execution_count": 4,
      "outputs": []
    },
    {
      "cell_type": "markdown",
      "source": [
        "## Section 1: Business Understanding\n",
        "The listing of AirBnB's rental homes in and near the neighbourhood of Boston, Massachusetts, as well as the guest evaluations and the dates that the homes were available, were made public. We'll examine this information in this blog to learn more about the cities and the areas , the impacts of the various columns on the data sets , how the positive and negative reviews affect the listings by the host, the number of other factors that contribute to the choice of the guests and price factor based on the time of the booking.\n",
        "\n",
        "We will make an effort to comprehend the types of homes that are offered, their costs, the distribution of these listings, the number of reviews, and, finally, how visitors described the properties after their stay.\n",
        "\n",
        "\n",
        " **We aspire to answer following questions from the dataset.**\n",
        "1. Which column has the most impact on the data?\n",
        "2. Which cities are the most expensive?\n",
        "3. How reviews affect listings?\n",
        "4. What factors affect the listings booked by customers?\n",
        "5. Price difference between the peak period and off season?"
      ],
      "metadata": {
        "id": "DsJ0M0o8Tp9k"
      }
    },
    {
      "cell_type": "markdown",
      "source": [
        "## Section 2: Data Understanding\n",
        "\n",
        "AirBnB has made the listing of its rental properties in and around Boston, MA neighborhoods public, along with the reviews left by guests, and the dates when properties were available. In this blog, we will review this data to learn about the neighborhood and attempt to understand which types of properties are available, their prices, the concentration of these listings, the number of reviews and lastly, how guests described the properties after their stay."
      ],
      "metadata": {
        "id": "dS78M0_aSqRJ"
      }
    },
    {
      "cell_type": "markdown",
      "source": [
        "### Exploration of dataset"
      ],
      "metadata": {
        "id": "2yNZZ4-ohp8D"
      }
    },
    {
      "cell_type": "code",
      "source": [
        "calendar = pd.read_csv('calendar.csv')\n",
        "listings = pd.read_csv('listings.csv')\n",
        "reviews = pd.read_csv('reviews.csv')\n"
      ],
      "metadata": {
        "id": "xB0jYOpuh6Tl"
      },
      "execution_count": null,
      "outputs": []
    },
    {
      "cell_type": "markdown",
      "source": [
        "#### Calendar Data"
      ],
      "metadata": {
        "id": "0yu0zKbRyuZW"
      }
    },
    {
      "cell_type": "code",
      "source": [
        "#print the head of calendar\n",
        "calendar.head()"
      ],
      "metadata": {
        "id": "WplsQio5jKqA"
      },
      "execution_count": null,
      "outputs": []
    },
    {
      "cell_type": "code",
      "source": [
        "#calendar data types\n",
        "calendar.dtypes"
      ],
      "metadata": {
        "id": "3FBP67ekkflf"
      },
      "execution_count": null,
      "outputs": []
    },
    {
      "cell_type": "code",
      "source": [
        "calendar[(calendar[\"price\"].isna()) & (calendar[\"available\"] == \"t\")]"
      ],
      "metadata": {
        "id": "N-tYO_kWFLDi"
      },
      "execution_count": null,
      "outputs": []
    },
    {
      "cell_type": "code",
      "source": [
        "calendar[(calendar[\"price\"].notna()) & (calendar[\"available\"] == \"f\")]"
      ],
      "metadata": {
        "id": "OdKAA24oGBA3"
      },
      "execution_count": null,
      "outputs": []
    },
    {
      "cell_type": "code",
      "source": [
        "calendar[(calendar[\"price\"].isna()) & (calendar[\"available\"] == \"f\")]"
      ],
      "metadata": {
        "id": "T_vGEDEdhZ1A"
      },
      "execution_count": null,
      "outputs": []
    },
    {
      "cell_type": "code",
      "source": [
        "calendar[(calendar[\"price\"].notna()) & (calendar[\"available\"] == \"t\")]"
      ],
      "metadata": {
        "id": "tWUhx1Y4F-sL"
      },
      "execution_count": null,
      "outputs": []
    },
    {
      "cell_type": "code",
      "source": [
        "# calendar[\"price\"] = calendar[\"price\"].fillna(\"$0\")\n",
        "# calendar[\"price\"] = calendar[\"price\"].replace('[\\$,]', '', regex = True).astype(float)"
      ],
      "metadata": {
        "id": "8cCAlz4_Gssg"
      },
      "execution_count": null,
      "outputs": []
    },
    {
      "cell_type": "code",
      "source": [
        "#Calendar[calendar.columns[0]].count()\n",
        "#len(calendar.index)\n",
        "calendar.shape"
      ],
      "metadata": {
        "id": "9_VH6ah-lZqU"
      },
      "execution_count": null,
      "outputs": []
    },
    {
      "cell_type": "code",
      "source": [
        "#print description of data\n",
        "calendar.describe()"
      ],
      "metadata": {
        "id": "AH3xJrnxy_9i"
      },
      "execution_count": null,
      "outputs": []
    },
    {
      "cell_type": "code",
      "source": [
        "#print concise summary of data\n",
        "calendar.info()"
      ],
      "metadata": {
        "id": "hcJo4-sJeLT6"
      },
      "execution_count": null,
      "outputs": []
    },
    {
      "cell_type": "code",
      "source": [
        "# Check if number of missing values is the same as number of 'f' availability\n",
        "calendar.price.isna().sum() "
      ],
      "metadata": {
        "id": "OrDCwaBA5_NG"
      },
      "execution_count": null,
      "outputs": []
    },
    {
      "cell_type": "code",
      "source": [
        "calendar.duplicated().sum()"
      ],
      "metadata": {
        "id": "-kErlYhUJXdk"
      },
      "execution_count": null,
      "outputs": []
    },
    {
      "cell_type": "code",
      "source": [
        "# calendar[(calendar[\"listing_id\"] == 12898806) & (calendar[\"date\"] == \"2017-06-15\")]\n",
        "calendar[calendar.duplicated()]"
      ],
      "metadata": {
        "id": "1-Hm09BM90mo"
      },
      "execution_count": null,
      "outputs": []
    },
    {
      "cell_type": "code",
      "source": [
        "# price_corr = calendar.corr()['price'].sort_values(ascending = False)[1:]\n",
        "# price_corr\n",
        "# print ('Correlation Matrix')\n",
        "# print(calendar.corr())\n",
        "# print()"
      ],
      "metadata": {
        "id": "duvxaBHKCo_1"
      },
      "execution_count": null,
      "outputs": []
    },
    {
      "cell_type": "markdown",
      "source": [
        "**Calendar Data Issues Identified**\n",
        "\n",
        "- listing_id: convert to `str`\n",
        "- date: convert to `datetime`\n",
        "- available: convert to dummy variable\n",
        "- price: drop $ and comma and convert to float/int\n",
        "\n",
        "\n"
      ],
      "metadata": {
        "id": "LLJn-_HpxrGB"
      }
    },
    {
      "cell_type": "markdown",
      "source": [
        "#### Listings Data"
      ],
      "metadata": {
        "id": "KVmnaGqFi9g8"
      }
    },
    {
      "cell_type": "code",
      "source": [
        "#print the head of listings\n",
        "listings.head()"
      ],
      "metadata": {
        "id": "FmzmG85mi_xU"
      },
      "execution_count": null,
      "outputs": []
    },
    {
      "cell_type": "code",
      "source": [
        "# len_listings = len('listings')\n",
        "# print(len_listings)\n",
        "#listings[listings.columns[0]].count()\n",
        "#len(listings.index)\n",
        "listings.shape"
      ],
      "metadata": {
        "id": "W03f8xbWjGe6"
      },
      "execution_count": null,
      "outputs": []
    },
    {
      "cell_type": "code",
      "source": [
        "#print description of data\n",
        "listings.describe()"
      ],
      "metadata": {
        "id": "ECrgXSItktld"
      },
      "execution_count": null,
      "outputs": []
    },
    {
      "cell_type": "code",
      "source": [
        "#print concise summary of data\n",
        "listings.info()"
      ],
      "metadata": {
        "id": "etE2J5zkoAc8"
      },
      "execution_count": null,
      "outputs": []
    },
    {
      "cell_type": "code",
      "source": [
        "# Inspecting the difference between summary & description\n",
        "print(listings[\"summary\"][1])\n",
        "print(listings[\"description\"][1])"
      ],
      "metadata": {
        "id": "uE9C7vrAtFHX"
      },
      "execution_count": null,
      "outputs": []
    },
    {
      "cell_type": "code",
      "source": [
        "# Inspecting space column\n",
        "print(listings[\"space\"][2])\n",
        "print(listings[\"space\"][8])"
      ],
      "metadata": {
        "id": "TfKYczXYttAh",
        "cellView": "code"
      },
      "execution_count": null,
      "outputs": []
    },
    {
      "cell_type": "code",
      "source": [
        "# Inspecting experiences_offered column\n",
        "print(listings[\"experiences_offered\"][124])\n",
        "print(listings[\"experiences_offered\"][130])"
      ],
      "metadata": {
        "id": "HM-B-07que_d"
      },
      "execution_count": null,
      "outputs": []
    },
    {
      "cell_type": "code",
      "source": [
        "# Inspecting neighborhood_overview column\n",
        "print(listings[\"neighborhood_overview\"][124])\n",
        "print(listings[\"neighborhood_overview\"][130])"
      ],
      "metadata": {
        "id": "uh2kIPiQt5uz"
      },
      "execution_count": null,
      "outputs": []
    },
    {
      "cell_type": "code",
      "source": [
        "# inspecting some of the URL columns\n",
        "listings[[\"medium_url\", \"thumbnail_url\"]].iloc[0]"
      ],
      "metadata": {
        "id": "myCi2u9BvDjf"
      },
      "execution_count": null,
      "outputs": []
    },
    {
      "cell_type": "code",
      "source": [
        "print(listings[\"host_id\"][0])\n",
        "listings[\"host_id\"].nunique()"
      ],
      "metadata": {
        "id": "D5b3H1eZvmfs"
      },
      "execution_count": null,
      "outputs": []
    },
    {
      "cell_type": "code",
      "source": [
        "\n",
        "listings[listings[\"host_response_time\"].notna()][\"host_response_time\"]"
      ],
      "metadata": {
        "id": "lERqobE0v-N7"
      },
      "execution_count": null,
      "outputs": []
    },
    {
      "cell_type": "code",
      "source": [
        "listings[\"experiences_offered\"].unique()"
      ],
      "metadata": {
        "id": "lbMYVoxHsw31"
      },
      "execution_count": null,
      "outputs": []
    },
    {
      "cell_type": "code",
      "source": [
        "listings[\"host_name\"][0], listings[\"host_since\"][0], listings[\"host_location\"][0], listings[\"host_about\"][0]"
      ],
      "metadata": {
        "id": "XmwlC5gnwoaQ"
      },
      "execution_count": null,
      "outputs": []
    },
    {
      "cell_type": "code",
      "source": [
        "listings[\"host_response_rate\"].unique()"
      ],
      "metadata": {
        "id": "9LRW0pKwxprk"
      },
      "execution_count": null,
      "outputs": []
    },
    {
      "cell_type": "code",
      "source": [
        "listings[\"host_acceptance_rate\"].unique()"
      ],
      "metadata": {
        "id": "1_8ElGP0x5As"
      },
      "execution_count": null,
      "outputs": []
    },
    {
      "cell_type": "code",
      "source": [
        "listings[listings[\"host_is_superhost\"].isna()]"
      ],
      "metadata": {
        "id": "ftCll0kAyczo"
      },
      "execution_count": null,
      "outputs": []
    },
    {
      "cell_type": "code",
      "source": [
        "(print(listings[\"host_listings_count\"].unique()))\n",
        "listings[\"host_listings_count\"].isna().sum()"
      ],
      "metadata": {
        "id": "jbMQXTMqy7Wh"
      },
      "execution_count": null,
      "outputs": []
    },
    {
      "cell_type": "code",
      "source": [
        "print(listings[\"host_total_listings_count\"].unique())\n",
        "listings[\"host_total_listings_count\"].isna().sum()"
      ],
      "metadata": {
        "id": "oBsGEX3EzeUF"
      },
      "execution_count": null,
      "outputs": []
    },
    {
      "cell_type": "code",
      "source": [
        "listings[listings[\"host_listings_count\"] != listings[\"host_total_listings_count\"]]"
      ],
      "metadata": {
        "id": "stUuPo2KzjdD"
      },
      "execution_count": null,
      "outputs": []
    },
    {
      "cell_type": "code",
      "source": [
        "print(listings[\"host_verifications\"].isna().sum())\n",
        "listings[\"host_verifications\"].unique()"
      ],
      "metadata": {
        "id": "i5xwHHIt0gBW"
      },
      "execution_count": null,
      "outputs": []
    },
    {
      "cell_type": "code",
      "source": [
        "listings[\"host_identity_verified\"].value_counts()"
      ],
      "metadata": {
        "id": "8qYhmX_41ZxU"
      },
      "execution_count": null,
      "outputs": []
    },
    {
      "cell_type": "code",
      "source": [
        "listings[listings[\"neighbourhood\"].isna()][[\"neighbourhood\", \"neighbourhood_cleansed\"]]"
      ],
      "metadata": {
        "id": "0i7bvCwo2bVM"
      },
      "execution_count": null,
      "outputs": []
    },
    {
      "cell_type": "code",
      "source": [
        "listings[\"neighbourhood_group_cleansed\"].unique()"
      ],
      "metadata": {
        "id": "wJ21jzsR2YTR"
      },
      "execution_count": null,
      "outputs": []
    },
    {
      "cell_type": "code",
      "source": [
        "listings[listings[\"city\"] != listings[\"neighbourhood_cleansed\"]][[\"city\", \"neighbourhood_cleansed\"]]"
      ],
      "metadata": {
        "id": "EHetV-0v3BLG"
      },
      "execution_count": null,
      "outputs": []
    },
    {
      "cell_type": "code",
      "source": [
        "listings[\"state\"].unique()"
      ],
      "metadata": {
        "id": "jdwmVN7A3ZN-"
      },
      "execution_count": null,
      "outputs": []
    },
    {
      "cell_type": "code",
      "source": [
        "print(listings[\"zipcode\"].isna().sum())\n",
        "listings[\"zipcode\"].unique()"
      ],
      "metadata": {
        "id": "P8XpESDn3q86"
      },
      "execution_count": null,
      "outputs": []
    },
    {
      "cell_type": "code",
      "source": [
        "listings[\"market\"].unique()"
      ],
      "metadata": {
        "id": "ZVNrvMee3wko"
      },
      "execution_count": null,
      "outputs": []
    },
    {
      "cell_type": "code",
      "source": [
        "listings[\"smart_location\"].unique()"
      ],
      "metadata": {
        "id": "-N61tzrX4Bpi"
      },
      "execution_count": null,
      "outputs": []
    },
    {
      "cell_type": "code",
      "source": [
        "print(listings[\"security_deposit\"].isna().sum())\n",
        "listings[\"security_deposit\"].unique()"
      ],
      "metadata": {
        "id": "4Z9XWE3f49d2"
      },
      "execution_count": null,
      "outputs": []
    },
    {
      "cell_type": "code",
      "source": [
        "print(listings[\"cleaning_fee\"].isna().sum())\n",
        "listings[\"cleaning_fee\"].unique()"
      ],
      "metadata": {
        "id": "lhIAFH3g5Fo7"
      },
      "execution_count": null,
      "outputs": []
    },
    {
      "cell_type": "code",
      "source": [
        "print(listings[\"accommodates\"].unique())\n",
        "listings[\"accommodates\"].isna().sum()"
      ],
      "metadata": {
        "id": "bpc1zBuDU7Xu"
      },
      "execution_count": null,
      "outputs": []
    },
    {
      "cell_type": "code",
      "source": [
        "print(listings[\"guests_included\"].isna().sum())\n",
        "listings[\"guests_included\"].unique()"
      ],
      "metadata": {
        "id": "Bp5iR3Ar5Tjv"
      },
      "execution_count": null,
      "outputs": []
    },
    {
      "cell_type": "code",
      "source": [
        "listings[listings[\"accommodates\"] != listings[\"guests_included\"]][[\"accommodates\", \"guests_included\"]]"
      ],
      "metadata": {
        "id": "xyjOa4pSVDqa"
      },
      "execution_count": null,
      "outputs": []
    },
    {
      "cell_type": "code",
      "source": [
        "print(listings[\"extra_people\"].isna().sum())\n",
        "listings[\"extra_people\"].unique()"
      ],
      "metadata": {
        "id": "PhfgFqae5fjq"
      },
      "execution_count": null,
      "outputs": []
    },
    {
      "cell_type": "code",
      "source": [
        "print(listings[\"calendar_updated\"].isna().sum())\n",
        "listings[\"calendar_updated\"].unique()"
      ],
      "metadata": {
        "id": "KxL9BSfz5m8k"
      },
      "execution_count": null,
      "outputs": []
    },
    {
      "cell_type": "code",
      "source": [
        "print(listings[\"has_availability\"].isna().sum())\n",
        "listings[\"has_availability\"].unique()"
      ],
      "metadata": {
        "id": "Rd1-2Luq6MWf"
      },
      "execution_count": null,
      "outputs": []
    },
    {
      "cell_type": "code",
      "source": [
        "print(listings[\"availability_30\"].isna().sum())\n",
        "listings[\"availability_30\"].unique()\n"
      ],
      "metadata": {
        "id": "v-QcV8W16dx2"
      },
      "execution_count": null,
      "outputs": []
    },
    {
      "cell_type": "code",
      "source": [
        "print(listings[\"availability_60\"].isna().sum())\n",
        "listings[\"availability_60\"].unique()"
      ],
      "metadata": {
        "id": "f-ANz5t-6igQ"
      },
      "execution_count": null,
      "outputs": []
    },
    {
      "cell_type": "code",
      "source": [
        "print(listings.iloc[0])"
      ],
      "metadata": {
        "id": "m_evUjcq6rhE"
      },
      "execution_count": null,
      "outputs": []
    },
    {
      "cell_type": "code",
      "source": [
        "print(listings[\"first_review\"].isna().sum())\n",
        "listings[\"first_review\"].unique()"
      ],
      "metadata": {
        "id": "pPAGZ6MX81G7"
      },
      "execution_count": null,
      "outputs": []
    },
    {
      "cell_type": "code",
      "source": [
        "# Check if all rows have unique IDs\n",
        "listings.id.nunique()"
      ],
      "metadata": {
        "id": "Ic0Wl1c-AHfG"
      },
      "execution_count": null,
      "outputs": []
    },
    {
      "cell_type": "code",
      "source": [
        "# Are there less host ids?\n",
        "listings.host_id.nunique()"
      ],
      "metadata": {
        "id": "o0gUf_MeApGC"
      },
      "execution_count": null,
      "outputs": []
    },
    {
      "cell_type": "code",
      "source": [
        "# Check response times\n",
        "listings.host_response_time.nunique()\n",
        "print(listings.host_response_time.nunique())"
      ],
      "metadata": {
        "id": "FAGWXCExKmfe"
      },
      "execution_count": null,
      "outputs": []
    },
    {
      "cell_type": "code",
      "source": [
        "listings.host_neighbourhood.nunique()"
      ],
      "metadata": {
        "id": "bwNtesFtLYvQ"
      },
      "execution_count": null,
      "outputs": []
    },
    {
      "cell_type": "code",
      "source": [
        "# Check values for city\n",
        "listings.city.value_counts()"
      ],
      "metadata": {
        "id": "7IEZ50M0OR2d"
      },
      "execution_count": null,
      "outputs": []
    },
    {
      "cell_type": "code",
      "source": [
        "listings[\"instant_bookable\"].value_counts()"
      ],
      "metadata": {
        "id": "eImJmEGdA7pi"
      },
      "execution_count": null,
      "outputs": []
    },
    {
      "cell_type": "code",
      "source": [
        "print(listings[\"cancellation_policy\"].unique())\n",
        "print(listings[\"cancellation_policy\"].value_counts())"
      ],
      "metadata": {
        "id": "z7PKyyakBUJM"
      },
      "execution_count": null,
      "outputs": []
    },
    {
      "cell_type": "code",
      "source": [
        "print(listings[\"calculated_host_listings_count\"].unique())\n",
        "print(listings[\"calculated_host_listings_count\"].value_counts())"
      ],
      "metadata": {
        "id": "E6NV5AfKBpfI"
      },
      "execution_count": null,
      "outputs": []
    },
    {
      "cell_type": "code",
      "source": [
        "# Drop extraneous column\n",
        "listings_semi = listings.drop(\n",
        "    columns = [\n",
        "              \"listing_url\", \"scrape_id\", \"last_scraped\", \"summary\", \n",
        "              \"experiences_offered\", \"thumbnail_url\", \"medium_url\", \n",
        "              \"picture_url\", \"xl_picture_url\", \"host_url\", \n",
        "              \"host_thumbnail_url\", \"host_picture_url\", \n",
        "              \"host_total_listings_count\", \"host_verifications\", \n",
        "              \"host_has_profile_pic\", \"host_identity_verified\", \n",
        "              \"neighbourhood\", \"neighbourhood_group_cleansed\", \n",
        "              \"state\", \"market\", \"country_code\", \"smart_location\", \n",
        "              \"country\", \"latitude\", \"longitude\", \"is_location_exact\", \n",
        "              \"security_deposit\", \"cleaning_fee\", \"minimum_nights\", \n",
        "              \"maximum_nights\", \"calendar_updated\", \"has_availability\", \n",
        "              \"availability_30\", \"availability_60\", \"availability_90\", \n",
        "              \"availability_365\", \"calendar_last_scraped\", \"first_review\", \n",
        "              \"last_review\", \"review_scores_rating\", \"review_scores_accuracy\", \n",
        "              \"review_scores_cleanliness\", \"review_scores_checkin\", \n",
        "              \"review_scores_communication\", \"review_scores_location\", \n",
        "              \"review_scores_value\", \"requires_license\", \"license\", \n",
        "              \"jurisdiction_names\", \"require_guest_profile_picture\", \n",
        "              \"require_guest_phone_verification\", \"calculated_host_listings_count\",\n",
        "               \"number_of_reviews\", \"reviews_per_month\", \"guests_included\", \"host_name\",\n",
        "               \"host_since\", \"host_location\", \"host_response_rate\", \n",
        "               \"host_acceptance_rate\", \"host_is_superhost\", \n",
        "               \"host_neighbourhood\", \"host_id\", \"host_about\"\n",
        "              ],\n",
        ")"
      ],
      "metadata": {
        "id": "vDRopKfLOaBu"
      },
      "execution_count": null,
      "outputs": []
    },
    {
      "cell_type": "code",
      "source": [
        "listings_semi.info()"
      ],
      "metadata": {
        "id": "4uM_jUDKOjPj"
      },
      "execution_count": null,
      "outputs": []
    },
    {
      "cell_type": "code",
      "source": [
        "listings_semi[\"house_rules\"].iloc[0]"
      ],
      "metadata": {
        "id": "yvsli6ykPd0r"
      },
      "execution_count": null,
      "outputs": []
    },
    {
      "cell_type": "code",
      "source": [
        "print(listings_semi[\"property_type\"].unique())\n",
        "listings_semi[\"property_type\"].isna().sum()"
      ],
      "metadata": {
        "id": "0DWfe1S1Pz4f"
      },
      "execution_count": null,
      "outputs": []
    },
    {
      "cell_type": "code",
      "source": [
        "print(listings_semi[\"room_type\"].unique())\n",
        "listings_semi[\"room_type\"].isna().sum()"
      ],
      "metadata": {
        "id": "uzVgdemkP3n5"
      },
      "execution_count": null,
      "outputs": []
    },
    {
      "cell_type": "code",
      "source": [
        "print(listings_semi[\"accommodates\"].unique())\n",
        "listings_semi[\"accommodates\"].isna().sum()"
      ],
      "metadata": {
        "id": "A1_xjkkPP4u2"
      },
      "execution_count": null,
      "outputs": []
    },
    {
      "cell_type": "code",
      "source": [
        "print(listings_semi[\"bathrooms\"].unique())\n",
        "listings_semi[\"bathrooms\"].isna().sum()"
      ],
      "metadata": {
        "id": "6M1skGkSP6V_"
      },
      "execution_count": null,
      "outputs": []
    },
    {
      "cell_type": "code",
      "source": [
        "print(listings_semi[\"bedrooms\"].unique())\n",
        "listings_semi[\"bedrooms\"].isna().sum()"
      ],
      "metadata": {
        "id": "wVOhnopeUAAN"
      },
      "execution_count": null,
      "outputs": []
    },
    {
      "cell_type": "code",
      "source": [
        "print(listings_semi[\"beds\"].unique())\n",
        "listings_semi[\"beds\"].isna().sum()"
      ],
      "metadata": {
        "id": "bSWGctyuacKs"
      },
      "execution_count": null,
      "outputs": []
    },
    {
      "cell_type": "code",
      "source": [
        "print(listings_semi[\"bed_type\"].unique())\n",
        "listings_semi[\"bed_type\"].isna().sum()"
      ],
      "metadata": {
        "id": "cEZ7-EcZab7V"
      },
      "execution_count": null,
      "outputs": []
    },
    {
      "cell_type": "code",
      "source": [
        "listings_semi[listings_semi[\"beds\"] == 9].iloc[0]"
      ],
      "metadata": {
        "id": "fc4hy0rga79f"
      },
      "execution_count": null,
      "outputs": []
    },
    {
      "cell_type": "code",
      "source": [
        "print(listings_semi[\"amenities\"].unique())\n",
        "listings_semi[\"amenities\"].isna().sum()"
      ],
      "metadata": {
        "id": "V95dWzKhbww6"
      },
      "execution_count": null,
      "outputs": []
    },
    {
      "cell_type": "code",
      "source": [
        "# print(listings_semi[\"square_feet\"].unique())\n",
        "listings_semi[\"square_feet\"].isna().sum()\n",
        "listings_semi[\"square_feet\"][50]"
      ],
      "metadata": {
        "id": "PUMPJTt8cNi2"
      },
      "execution_count": null,
      "outputs": []
    },
    {
      "cell_type": "code",
      "source": [
        "# print(listings_semi[\"price\"].unique())\n",
        "listings_semi[\"price\"].isna().sum()"
      ],
      "metadata": {
        "id": "bgJ7eyc1czCR"
      },
      "execution_count": null,
      "outputs": []
    },
    {
      "cell_type": "code",
      "source": [
        "# print(listings_semi[\"weekly_price\"].unique())\n",
        "listings_semi[\"weekly_price\"].isna().sum()"
      ],
      "metadata": {
        "id": "hK3-SKCZc-ZE"
      },
      "execution_count": null,
      "outputs": []
    },
    {
      "cell_type": "code",
      "source": [
        "listings_semi[\"monthly_price\"].isna().sum()"
      ],
      "metadata": {
        "id": "AFUq3WuIdAfg"
      },
      "execution_count": null,
      "outputs": []
    },
    {
      "cell_type": "code",
      "source": [
        "print(listings_semi[\"extra_people\"].unique())\n",
        "listings_semi[\"extra_people\"].isna().sum()"
      ],
      "metadata": {
        "id": "YbvMArJ-dSam"
      },
      "execution_count": null,
      "outputs": []
    },
    {
      "cell_type": "code",
      "source": [
        "listings_semi[\"extra_people\"].value_counts()"
      ],
      "metadata": {
        "id": "8xDLG5CsdkqA"
      },
      "execution_count": null,
      "outputs": []
    },
    {
      "cell_type": "code",
      "source": [
        "listings_semi.shape"
      ],
      "metadata": {
        "id": "rmO-IDAmduD6"
      },
      "execution_count": null,
      "outputs": []
    },
    {
      "cell_type": "markdown",
      "source": [
        "#### Reviews Data "
      ],
      "metadata": {
        "id": "trla-Za4qlUc"
      }
    },
    {
      "cell_type": "code",
      "source": [
        "#print the head of listings\n",
        "reviews.head()"
      ],
      "metadata": {
        "id": "t7LhXjPKqwUf"
      },
      "execution_count": null,
      "outputs": []
    },
    {
      "cell_type": "code",
      "source": [
        "#reviews[reviews.columns[0]].count()\n",
        "#len(reviews.index)\n",
        "reviews.shape"
      ],
      "metadata": {
        "id": "qDVU4Odpq5bo"
      },
      "execution_count": null,
      "outputs": []
    },
    {
      "cell_type": "code",
      "source": [
        "#print description of data\n",
        "reviews.describe()"
      ],
      "metadata": {
        "id": "Hz1iRofErKRd"
      },
      "execution_count": null,
      "outputs": []
    },
    {
      "cell_type": "code",
      "source": [
        "#print concise summary of data\n",
        "reviews.info()"
      ],
      "metadata": {
        "id": "IRNNcS42rPny"
      },
      "execution_count": null,
      "outputs": []
    },
    {
      "cell_type": "code",
      "source": [
        "reviews[\"comments\"].isna().sum()"
      ],
      "metadata": {
        "id": "4heWzdVyFU0J"
      },
      "execution_count": null,
      "outputs": []
    },
    {
      "cell_type": "code",
      "source": [
        "reviews.reviewer_id.nunique()"
      ],
      "metadata": {
        "id": "R8X_4w0Gra5A"
      },
      "execution_count": null,
      "outputs": []
    },
    {
      "cell_type": "code",
      "source": [
        "reviews.duplicated(\"reviewer_id\").sum()"
      ],
      "metadata": {
        "id": "OPZd76p5NohK"
      },
      "execution_count": null,
      "outputs": []
    },
    {
      "cell_type": "code",
      "source": [
        "reviews.duplicated(subset=[\"reviewer_id\", \"listing_id\"]).sum()"
      ],
      "metadata": {
        "id": "DfVPxBTxRE3C"
      },
      "execution_count": null,
      "outputs": []
    },
    {
      "cell_type": "code",
      "source": [
        "print(reviews.duplicated(subset=[\"reviewer_id\", \"listing_id\", \"date\"]).sum())\n",
        "reviews[reviews.duplicated(subset=[\"reviewer_id\", \"listing_id\", \"date\"], keep=False)]"
      ],
      "metadata": {
        "id": "qh549LKMVFFK"
      },
      "execution_count": null,
      "outputs": []
    },
    {
      "cell_type": "code",
      "source": [
        "print(reviews.duplicated(subset=[\"reviewer_id\", \"listing_id\", \"comments\"]).sum())\n",
        "reviews[reviews.duplicated(subset=[\"reviewer_id\", \"listing_id\", \"comments\"], keep=False)]"
      ],
      "metadata": {
        "id": "YgP4BVpyVSdn"
      },
      "execution_count": null,
      "outputs": []
    },
    {
      "cell_type": "code",
      "source": [
        "reviews[reviews.duplicated(subset=[\"reviewer_id\", \"listing_id\", \"date\"])]"
      ],
      "metadata": {
        "id": "IQsHwjq9RIMk"
      },
      "execution_count": null,
      "outputs": []
    },
    {
      "cell_type": "code",
      "source": [
        "reviews[reviews.duplicated(subset=[\"reviewer_id\", \"listing_id\"], keep = False)]"
      ],
      "metadata": {
        "id": "q7bNRJlUlC-Z"
      },
      "execution_count": null,
      "outputs": []
    },
    {
      "cell_type": "markdown",
      "source": [
        "**Review Data Issues Identified**\n",
        "\n",
        "- reviewer_id: convert to `str`\n",
        "- date: convert to `datetime`\n",
        "- reviewer_id: convert to dummy\n",
        "- comment: ? missing value and duplication \n",
        "\n"
      ],
      "metadata": {
        "id": "Vf4RgzlJTzCi"
      }
    },
    {
      "cell_type": "markdown",
      "source": [
        "## Section 3: Data Preparation\n",
        "In order for the results to be reliable, data preparation makes sure that the raw data being prepared for analysis and processing is accurate and consistent. Data preparation efforts may involve resolving data issues, confirming data quality, and consolidating data collections.\n",
        "\n",
        "Finding pertinent data is another step in the data preparation process that enables analytics programmes to provide useful information and practical insights. By combining internal and external data sets, developing new data fields, removing outlier values, and resolving imbalanced data sets that can skew analytics results, the data is frequently enriched and optimised to make it much more relevant and usable.\n",
        "\n",
        "The data preparation pipeline consists of the following steps.\n",
        "\n",
        "1. Access the data.\n",
        "2. Fetch the data.\n",
        "3. Cleanse the data.\n",
        "4. Format the data.\n",
        "5. Combine the data.\n",
        "6. Analyze the data."
      ],
      "metadata": {
        "id": "yRQP8nivUcRf"
      }
    },
    {
      "cell_type": "markdown",
      "source": [
        "### Processing Calendar Data"
      ],
      "metadata": {
        "id": "zuTV0cn3H1bO"
      }
    },
    {
      "cell_type": "code",
      "source": [
        "calendar_cleaned = pd.read_csv('calendar.csv')"
      ],
      "metadata": {
        "id": "T88ea6DmUhaD"
      },
      "execution_count": 5,
      "outputs": []
    },
    {
      "cell_type": "code",
      "source": [
        "# convert calendar listing_id to string method 1= \n",
        "calendar_cleaned[\"listing_id\"] = calendar_cleaned[\"listing_id\"].apply(str)"
      ],
      "metadata": {
        "id": "E5zY0A5cH08L"
      },
      "execution_count": 6,
      "outputs": []
    },
    {
      "cell_type": "code",
      "source": [
        "# convert date(string) to datetime fastest method\n",
        "# calendar['date'] = pd.to_datetime(calendar['date']) o/p dtype('<M8[ns]')\n",
        "calendar_cleaned['date'] = calendar_cleaned['date'].astype('datetime64[ns]')"
      ],
      "metadata": {
        "id": "nLlkVPYOIZIE"
      },
      "execution_count": 7,
      "outputs": []
    },
    {
      "cell_type": "code",
      "source": [
        "# to check dtype of datetime is equal to endianess\n",
        "np.dtype('datetime64[ns]') == np.dtype('<M8[ns]')"
      ],
      "metadata": {
        "colab": {
          "base_uri": "https://localhost:8080/"
        },
        "id": "YyG0OoBsIeMa",
        "outputId": "67142f8b-339a-45a4-fa0c-94d0bd4254f8"
      },
      "execution_count": 8,
      "outputs": [
        {
          "output_type": "execute_result",
          "data": {
            "text/plain": [
              "True"
            ]
          },
          "metadata": {},
          "execution_count": 8
        }
      ]
    },
    {
      "cell_type": "code",
      "source": [
        "#apply for listings and calendar column both\n",
        "calendar_cleaned[\"price\"] = calendar_cleaned[\"price\"].fillna(\"$0\")\n",
        "\n",
        "# price fill nans to 0 and convert price to float and remove $ / ,\n",
        "calendar_cleaned[\"price\"] = calendar_cleaned[\"price\"].replace('[\\$,]', '', regex=True).astype(float)"
      ],
      "metadata": {
        "id": "i8S8oJAPIyYB"
      },
      "execution_count": 9,
      "outputs": []
    },
    {
      "cell_type": "code",
      "source": [
        "# drop duplicated rows in calendar\n",
        "calendar_cleaned = calendar_cleaned.drop_duplicates()"
      ],
      "metadata": {
        "id": "r_lSwUfoI-Eu"
      },
      "execution_count": 10,
      "outputs": []
    },
    {
      "cell_type": "code",
      "source": [
        "calendar_cleaned['available'] = np.where(calendar_cleaned['available'] == 'f', 0, 1)"
      ],
      "metadata": {
        "id": "8JmknR_xJN3V"
      },
      "execution_count": 11,
      "outputs": []
    },
    {
      "cell_type": "code",
      "source": [
        "calendar_cleaned.dtypes"
      ],
      "metadata": {
        "colab": {
          "base_uri": "https://localhost:8080/"
        },
        "id": "4SRW9cRfJdbC",
        "outputId": "1deef18a-a2e1-455d-8c78-a0e8d805af0a"
      },
      "execution_count": 12,
      "outputs": [
        {
          "output_type": "execute_result",
          "data": {
            "text/plain": [
              "listing_id            object\n",
              "date          datetime64[ns]\n",
              "available              int64\n",
              "price                float64\n",
              "dtype: object"
            ]
          },
          "metadata": {},
          "execution_count": 12
        }
      ]
    },
    {
      "cell_type": "markdown",
      "source": [
        "### Processing Listings Data"
      ],
      "metadata": {
        "id": "uhGEv83mJ05_"
      }
    },
    {
      "cell_type": "code",
      "source": [
        "listings_cleaned = pd.read_csv('listings.csv')"
      ],
      "metadata": {
        "id": "jq6AWHA-JzSP"
      },
      "execution_count": 13,
      "outputs": []
    },
    {
      "cell_type": "code",
      "source": [
        "# Drop extraneous column\n",
        "listings_cleaned = listings_cleaned.drop(\n",
        "    columns = [\n",
        "              \"listing_url\", \"scrape_id\", \"last_scraped\", \"summary\", \n",
        "              \"experiences_offered\", \"thumbnail_url\", \"medium_url\", \n",
        "              \"picture_url\", \"xl_picture_url\", \"host_url\", \n",
        "              \"host_thumbnail_url\", \"host_picture_url\", \n",
        "              \"host_total_listings_count\", \"host_verifications\", \n",
        "              \"host_has_profile_pic\", \"host_identity_verified\", \n",
        "              \"neighbourhood\", \"neighbourhood_group_cleansed\", \n",
        "              \"state\", \"market\", \"country_code\", \"smart_location\", \n",
        "              \"country\", \"latitude\", \"longitude\", \"is_location_exact\", \n",
        "              \"security_deposit\", \"cleaning_fee\", \"minimum_nights\", \n",
        "              \"maximum_nights\", \"calendar_updated\", \"has_availability\", \n",
        "              \"availability_30\", \"availability_60\", \"availability_90\", \n",
        "              \"availability_365\", \"calendar_last_scraped\", \"first_review\", \n",
        "              \"last_review\", \"review_scores_rating\", \"review_scores_accuracy\", \n",
        "              \"review_scores_cleanliness\", \"review_scores_checkin\", \n",
        "              \"review_scores_communication\", \"review_scores_location\", \n",
        "              \"review_scores_value\", \"requires_license\", \"license\", \n",
        "              \"jurisdiction_names\", \"require_guest_profile_picture\", \n",
        "              \"require_guest_phone_verification\", \"calculated_host_listings_count\",\n",
        "               \"number_of_reviews\", \"reviews_per_month\", \"guests_included\", \"host_name\",\n",
        "               \"host_since\", \"host_location\", \"host_response_rate\",\n",
        "               \"host_acceptance_rate\", \"host_is_superhost\",\n",
        "               \"host_neighbourhood\", \"host_id\", \"host_about\",\n",
        "               \"name\", \"amenities\", \"weekly_price\", \"weekly_price\"\n",
        "              ],\n",
        ")"
      ],
      "metadata": {
        "id": "bzs8JkURKnNL"
      },
      "execution_count": 14,
      "outputs": []
    },
    {
      "cell_type": "code",
      "source": [
        "# Convert id in listings from number to string\n",
        "listings_cleaned[\"id\"] = listings_cleaned[\"id\"].apply(str)"
      ],
      "metadata": {
        "id": "4654YubTfAPC"
      },
      "execution_count": 15,
      "outputs": []
    },
    {
      "cell_type": "code",
      "source": [
        "## Remove na from text columns\n",
        "text_cols = [\"space\", \"description\", \"neighborhood_overview\", \"notes\", \"transit\", \"access\", \"house_rules\", \"interaction\"]\n",
        "listings_cleaned[text_cols] = listings_cleaned[text_cols].fillna(\"\")"
      ],
      "metadata": {
        "id": "1fdyGASSfKzy"
      },
      "execution_count": 16,
      "outputs": []
    },
    {
      "cell_type": "code",
      "source": [
        "\"\"\"\n",
        "df: dataframe\n",
        "target_col: name of the new column to be created\n",
        "cols: lisr of columns to be merged with newline (\\n) character\n",
        "\"\"\"\n",
        "def combine_cols(df , target_col , cols):\n",
        "  df[target_col] = df[cols].apply(lambda x: '\\n'.join(x), axis=1)\n",
        "  df = df.drop(columns= cols)\n",
        "  return df"
      ],
      "metadata": {
        "id": "VzTBMlFpjY09"
      },
      "execution_count": 17,
      "outputs": []
    },
    {
      "cell_type": "code",
      "source": [
        "# Combine space, description, neighborhood_overview, notes -> listing_description\n",
        "listings_cleaned = combine_cols(\n",
        "    df = listings_cleaned,\n",
        "    target_col = \"listing_description\",\n",
        "    cols = [\"space\", \"description\", \"neighborhood_overview\", \"notes\"]\n",
        ")"
      ],
      "metadata": {
        "id": "L3XHUotGiIJn"
      },
      "execution_count": 18,
      "outputs": []
    },
    {
      "cell_type": "code",
      "source": [
        "print(listings_cleaned[\"listing_description\"].iloc[3])"
      ],
      "metadata": {
        "colab": {
          "base_uri": "https://localhost:8080/"
        },
        "id": "fA-HaZH2iH9A",
        "outputId": "ff530403-0edf-4d9a-f184-12fdfa44ee18"
      },
      "execution_count": 19,
      "outputs": [
        {
          "output_type": "stream",
          "name": "stdout",
          "text": [
            "Most places you find in Boston are small however our bedroom suite is large. The bedroom has plush down pillows and a down comforter. The mattress is fitted with a memory foam topper that gives each guest the best sleep. The leather couches are cozy.  The large leather couch can be converted to a bed. The television has been updated to a smart tv therefore you can access most tv programs through there including, HBO, Showtime and Cinemax. If you want to enjoy cable television, there is a tv in the kitchen. The kitchen has a gas burner, dishwasher, garbage disposal, music system, and a space in the fridge to keep your items.\n",
            "Come experience the comforts of home away from home in our fabulous bedroom suite available in Roslindale, a neighborhood in Boston.  Enjoy sleeping on a large king sized bed with plush down bedding, access to a dishwasher, washer dryer and home gym. The house is incredibly accessible to public transportation and the center of Boston. Free street parking is available right in front of the house. Weekend farmers markets, restaurants and grocery stores are a 10 min walk away from the house. Most places you find in Boston are small however our bedroom suite is large. The bedroom has plush down pillows and a down comforter. The mattress is fitted with a memory foam topper that gives each guest the best sleep. The leather couches are cozy.  The large leather couch can be converted to a bed. The television has been updated to a smart tv therefore you can access most tv programs through there including, HBO, Showtime and Cinemax. If you want to enjoy cable television, there is a tv in the kit\n",
            "Roslindale is a lovely little neighborhood located right in the city of Boston.  Though a part of the actual city, once you enter it, you feel as though you have escaped to a suburb with friendly neighbors.  The area is conveniently located with access to the city’s bus and subway system.  The Orange Line and Commuter Rail services connect the area to the heart of Boston and the neighboring towns.  It is situated close to shops, restaurants, grocery stores, parks and neighboring towns.  The farmer’s market held in the neighborhood’s center, Roslindale Village, and goes on all summer on Saturday morning.  Vendors of all different types of arts, crafts, and foods come to the neighborhood.  The Arnold Arboretum is a 265 acre park constructed as part of Frederick Law Olmsted’s Emerald Necklace project to provide Boston a connection through neighborhoods through it’s parks.  Jamaica Pond is also part of the emerald necklace which sits at the confluence of Jamaica Plain (a neighboring neighb\n",
            "Please be mindful of the property as it is old and needs to be treated with the love and care you would give to your own home.  We really hope you enjoy your stay!\n"
          ]
        }
      ]
    },
    {
      "cell_type": "code",
      "source": [
        "# Combine transit, access -> listing_access\n",
        "listings_cleaned = combine_cols(\n",
        "    df = listings_cleaned,\n",
        "    target_col = \"listing_access\",\n",
        "    cols = [\"transit\", \"access\"]\n",
        ")"
      ],
      "metadata": {
        "id": "KC-aVWmBjFmn"
      },
      "execution_count": 20,
      "outputs": []
    },
    {
      "cell_type": "code",
      "source": [
        "print(listings_cleaned[\"listing_access\"].iloc[5])"
      ],
      "metadata": {
        "colab": {
          "base_uri": "https://localhost:8080/"
        },
        "id": "Vcpz4M5gkpaT",
        "outputId": "cd5f927e-4e3a-479d-f192-adc8c734f607"
      },
      "execution_count": 21,
      "outputs": [
        {
          "output_type": "stream",
          "name": "stdout",
          "text": [
            "To reach downtown Boston via public transportation takes about 45 minutes. Guests can take the MBTA 51 bus and connect to either the Orange Line at Forest Hills, or the Green Line (D train) at Riverside, depending on where you want to go. In addition, we're a 10-minute walk from the Roslindale Village station on the MBTA Commuter Rail, another option for reaching downtown.\n",
            "Guests are welcome to share our living room and refrigerator space.\n"
          ]
        }
      ]
    },
    {
      "cell_type": "code",
      "source": [
        "# Combine house_rules, interaction -> host_rules\n",
        "listings_cleaned = combine_cols(\n",
        "    df = listings_cleaned,\n",
        "    target_col = \"host_rules\",\n",
        "    cols = [\"house_rules\", \"interaction\"]\n",
        ")"
      ],
      "metadata": {
        "id": "YsToN82QlCLG"
      },
      "execution_count": 22,
      "outputs": []
    },
    {
      "cell_type": "code",
      "source": [
        "print(listings_cleaned[\"host_rules\"].iloc[1])"
      ],
      "metadata": {
        "colab": {
          "base_uri": "https://localhost:8080/"
        },
        "id": "YAnponUNlJuq",
        "outputId": "be3484fb-43f5-4eb3-b172-a2f8816d83e6"
      },
      "execution_count": 23,
      "outputs": [
        {
          "output_type": "stream",
          "name": "stdout",
          "text": [
            "Pet friendly but please confirm with me if the pet you are planning on bringing with you is OK. I have a cute and quiet mixed chihuahua. I could accept more guests (for an extra fee) but this also needs to be confirmed beforehand. Also friends traveling together could sleep in separate beds for an extra fee (the second bed is either a sofa bed or inflatable bed). Smoking is only allowed on the porch.\n",
            "If I am at home, I am likely working in my home office, which is a separate room. I can help you settle in and give you tips and directions on the neighborhood and Boston. \n"
          ]
        }
      ]
    },
    {
      "cell_type": "code",
      "source": [
        "# neighbourhood_cleansed rename to neighbourhood\n",
        "listings_cleaned = listings_cleaned.rename(columns = {'neighbourhood_cleansed':'neighbourhood'})"
      ],
      "metadata": {
        "id": "sX26C2TElX5E"
      },
      "execution_count": 24,
      "outputs": []
    },
    {
      "cell_type": "code",
      "source": [
        "def convert_price_to_float(df , target_col):\n",
        "  df[target_col] = df[target_col].fillna(\"$0\").replace('[\\$,]', '', regex=True).astype(float)\n",
        "  return df\n"
      ],
      "metadata": {
        "id": "ZEGCtJkyBYkf"
      },
      "execution_count": 25,
      "outputs": []
    },
    {
      "cell_type": "code",
      "source": [
        "# extra_people to float price\n",
        "listings_cleaned = convert_price_to_float(\n",
        "      df = listings_cleaned,\n",
        "      target_col = \"extra_people\"\n",
        "    )"
      ],
      "metadata": {
        "id": "JjwtaZbHmAWo"
      },
      "execution_count": 26,
      "outputs": []
    },
    {
      "cell_type": "code",
      "source": [
        "# square_feet replace nan with 0.0\n",
        "listings_cleaned[\"square_feet\"] = listings_cleaned[\"square_feet\"].fillna(0.0)"
      ],
      "metadata": {
        "id": "O3oVdDAZmgan"
      },
      "execution_count": 27,
      "outputs": []
    },
    {
      "cell_type": "code",
      "source": [
        "# price to float price\n",
        "listings_cleaned = convert_price_to_float(\n",
        "      df = listings_cleaned,\n",
        "      target_col = \"price\"\n",
        "    )"
      ],
      "metadata": {
        "id": "MQV27RBXm8oW"
      },
      "execution_count": 28,
      "outputs": []
    },
    {
      "cell_type": "code",
      "source": [
        "# Convert na to unknown\n",
        "listings_cleaned[\"host_response_time\"] = listings_cleaned[\"host_response_time\"].fillna(\"unknown\")"
      ],
      "metadata": {
        "id": "-umVNovvpB1H"
      },
      "execution_count": 29,
      "outputs": []
    },
    {
      "cell_type": "code",
      "source": [
        "unique_hrt = listings_cleaned[\"host_response_time\"].unique()"
      ],
      "metadata": {
        "id": "AnkyH2kjo3uq"
      },
      "execution_count": 30,
      "outputs": []
    },
    {
      "cell_type": "code",
      "source": [
        "# The values are already in correct order. So, no manual reordering required\n",
        "unique_hrt"
      ],
      "metadata": {
        "colab": {
          "base_uri": "https://localhost:8080/"
        },
        "id": "CyLhwz2qpwhQ",
        "outputId": "83538856-a224-45ee-b72a-7b67488739c6"
      },
      "execution_count": 31,
      "outputs": [
        {
          "output_type": "execute_result",
          "data": {
            "text/plain": [
              "array(['unknown', 'within an hour', 'within a few hours', 'within a day',\n",
              "       'a few days or more'], dtype=object)"
            ]
          },
          "metadata": {},
          "execution_count": 31
        }
      ]
    },
    {
      "cell_type": "code",
      "source": [
        "# Convert host_response_time to categorical data\n",
        "listings_cleaned[\"host_response_time\"] = listings_cleaned[\"host_response_time\"].astype(\"category\")\n",
        "listings_cleaned[\"host_response_time\"] = listings_cleaned[\"host_response_time\"].cat.reorder_categories(unique_hrt, ordered=True)"
      ],
      "metadata": {
        "id": "aczOjYHAo1e-"
      },
      "execution_count": 32,
      "outputs": []
    },
    {
      "cell_type": "code",
      "source": [
        "# fillna with \"unknown\"\n",
        "listings_cleaned[\"property_type\"] = listings_cleaned[\"property_type\"].fillna(\"unknown\")\n",
        "listings_cleaned[\"room_type\"] = listings_cleaned[\"room_type\"].fillna(\"unknown\")\n",
        "listings_cleaned[\"accommodates\"] = listings_cleaned[\"accommodates\"].fillna(\"unknown\")"
      ],
      "metadata": {
        "id": "UlxGQyMLq7bX"
      },
      "execution_count": 33,
      "outputs": []
    },
    {
      "cell_type": "code",
      "source": [
        "# property_type, room_type, accommodates to categorical variable\n",
        "listings_cleaned[\"property_type\"] = listings_cleaned[\"property_type\"].astype(\"category\")\n",
        "listings_cleaned[\"room_type\"] = listings_cleaned[\"room_type\"].astype(\"category\")\n",
        "listings_cleaned[\"accommodates\"] = listings_cleaned[\"accommodates\"].astype(\"category\")"
      ],
      "metadata": {
        "id": "GVV2XUy4qdvj"
      },
      "execution_count": 34,
      "outputs": []
    },
    {
      "cell_type": "code",
      "source": [
        "# fillna with \"0\"\n",
        "listings_cleaned[\"bathrooms\"] = listings_cleaned[\"bathrooms\"].fillna(0)\n",
        "listings_cleaned[\"bedrooms\"] = listings_cleaned[\"bedrooms\"].fillna(0)\n",
        "listings_cleaned[\"beds\"] = listings_cleaned[\"beds\"].fillna(0)"
      ],
      "metadata": {
        "id": "wotQj1iHvT4r"
      },
      "execution_count": 35,
      "outputs": []
    },
    {
      "cell_type": "code",
      "source": [
        "# bathroom to categorical variable with order\n",
        "listings_cleaned[\"bathrooms\"] = listings_cleaned[\"bathrooms\"].astype(\"str\").astype(\"category\")\n",
        "bt_order = ['0.0', '0.5', '1.0', '1.5', '2.0', '2.5', '3.0', '3.5', '4.0', '4.5', '5.0', '6.0']\n",
        "listings_cleaned[\"bathrooms\"] = listings_cleaned[\"bathrooms\"].cat.set_categories(bt_order, ordered=True)"
      ],
      "metadata": {
        "id": "lXzaup6RrYXu"
      },
      "execution_count": 36,
      "outputs": []
    },
    {
      "cell_type": "code",
      "source": [
        "# Get unique values and sort ascending order\n",
        "unique_brs = listings_cleaned[\"bedrooms\"].unique()\n",
        "unique_brs.sort()\n",
        "unique_brs = unique_brs.astype(str)\n",
        "\n",
        "# to categorical variable\n",
        "listings_cleaned[\"bedrooms\"] = listings_cleaned[\"bedrooms\"].astype(\"str\").astype(\"category\")\n",
        "listings_cleaned[\"bedrooms\"] = listings_cleaned[\"bedrooms\"].cat.set_categories(unique_brs, ordered=True)"
      ],
      "metadata": {
        "id": "_s32LYpQFZnK"
      },
      "execution_count": 37,
      "outputs": []
    },
    {
      "cell_type": "code",
      "source": [
        "# beds to categorical variable with order\n",
        "\n",
        "# Get unique values and sort ascending order\n",
        "unique_beds = listings_cleaned[\"beds\"].unique()\n",
        "unique_beds.sort()\n",
        "unique_beds = unique_brs.astype(str)\n",
        "\n",
        "# to categorical variable\n",
        "listings_cleaned[\"beds\"] = listings_cleaned[\"beds\"].astype(\"str\").astype(\"category\")\n",
        "listings_cleaned[\"beds\"] = listings_cleaned[\"beds\"].cat.set_categories(unique_beds, ordered=True)"
      ],
      "metadata": {
        "id": "wukebkFYuldj"
      },
      "execution_count": 38,
      "outputs": []
    },
    {
      "cell_type": "code",
      "source": [
        "listings_cleaned[\"beds\"].unique()"
      ],
      "metadata": {
        "colab": {
          "base_uri": "https://localhost:8080/"
        },
        "id": "Z03MIrX1GjZg",
        "outputId": "d7c90adc-c1a5-4a25-a790-8ba029a4fa48"
      },
      "execution_count": 39,
      "outputs": [
        {
          "output_type": "execute_result",
          "data": {
            "text/plain": [
              "['3.0', '1.0', '2.0', '5.0', NaN, '4.0', '0.0']\n",
              "Categories (6, object): ['0.0' < '1.0' < '2.0' < '3.0' < '4.0' < '5.0']"
            ]
          },
          "metadata": {},
          "execution_count": 39
        }
      ]
    },
    {
      "cell_type": "code",
      "source": [
        "# bed_type to categorical variable\n",
        "# No much preprocessing is required as bed_type is already clean and unordered.\n",
        "listings_cleaned[\"bed_type\"] = listings_cleaned[\"bed_type\"].astype(\"category\")"
      ],
      "metadata": {
        "id": "nvDuPNC8u5GL"
      },
      "execution_count": 40,
      "outputs": []
    },
    {
      "cell_type": "code",
      "source": [
        "# instant_bookable to categorical\n",
        "listings_cleaned[\"instant_bookable\"] = np.where(listings_cleaned[\"instant_bookable\"] == 'f', 0, 1)"
      ],
      "metadata": {
        "id": "WBqRlhb6w8Pk"
      },
      "execution_count": 41,
      "outputs": []
    },
    {
      "cell_type": "code",
      "source": [
        "cancel_uniques = ['flexible', 'moderate', 'strict', 'super_strict_30']"
      ],
      "metadata": {
        "id": "eg3NBEoHHIBI"
      },
      "execution_count": 42,
      "outputs": []
    },
    {
      "cell_type": "code",
      "source": [
        "# cancellation_policy to categorical\n",
        "listings_cleaned[\"cancellation_policy\"] = listings_cleaned[\"cancellation_policy\"].astype(\"category\")\n",
        "listings_cleaned[\"cancellation_policy\"] = listings_cleaned[\"cancellation_policy\"].cat.set_categories(cancel_uniques, ordered=True)\n"
      ],
      "metadata": {
        "id": "q4VKodS75Fxx"
      },
      "execution_count": 43,
      "outputs": []
    },
    {
      "cell_type": "code",
      "source": [
        "# listings_cleaned[\"cancellation_policy\"].unique()"
      ],
      "metadata": {
        "id": "BIvzJQqwHo3Q"
      },
      "execution_count": 44,
      "outputs": []
    },
    {
      "cell_type": "code",
      "source": [
        "# listings_cleaned[\"id\"].unique()"
      ],
      "metadata": {
        "id": "BPtXH6OPPvB2"
      },
      "execution_count": 45,
      "outputs": []
    },
    {
      "cell_type": "markdown",
      "source": [
        "### Processing Reviews Data"
      ],
      "metadata": {
        "id": "OoWcMRhSKcR8"
      }
    },
    {
      "cell_type": "code",
      "source": [
        "reviews_cleaned = pd.read_csv('reviews.csv')"
      ],
      "metadata": {
        "id": "kmiQn6-FKcB5"
      },
      "execution_count": 46,
      "outputs": []
    },
    {
      "cell_type": "code",
      "source": [
        "reviews_cleaned.head()"
      ],
      "metadata": {
        "colab": {
          "base_uri": "https://localhost:8080/",
          "height": 337
        },
        "id": "KVTKjtXaHuh-",
        "outputId": "f2f05725-9cc3-4261-e9c4-2ad3957c5ca2"
      },
      "execution_count": 47,
      "outputs": [
        {
          "output_type": "execute_result",
          "data": {
            "text/plain": [
              "   listing_id       id        date  reviewer_id reviewer_name  \\\n",
              "0     1178162  4724140  2013-05-21      4298113       Olivier   \n",
              "1     1178162  4869189  2013-05-29      6452964     Charlotte   \n",
              "2     1178162  5003196  2013-06-06      6449554     Sebastian   \n",
              "3     1178162  5150351  2013-06-15      2215611        Marine   \n",
              "4     1178162  5171140  2013-06-16      6848427        Andrew   \n",
              "\n",
              "                                            comments  \n",
              "0  My stay at islam's place was really cool! Good...  \n",
              "1  Great location for both airport and city - gre...  \n",
              "2  We really enjoyed our stay at Islams house. Fr...  \n",
              "3  The room was nice and clean and so were the co...  \n",
              "4  Great location. Just 5 mins walk from the Airp...  "
            ],
            "text/html": [
              "\n",
              "  <div id=\"df-bc9edd29-2413-4850-a9f6-87effd421098\">\n",
              "    <div class=\"colab-df-container\">\n",
              "      <div>\n",
              "<style scoped>\n",
              "    .dataframe tbody tr th:only-of-type {\n",
              "        vertical-align: middle;\n",
              "    }\n",
              "\n",
              "    .dataframe tbody tr th {\n",
              "        vertical-align: top;\n",
              "    }\n",
              "\n",
              "    .dataframe thead th {\n",
              "        text-align: right;\n",
              "    }\n",
              "</style>\n",
              "<table border=\"1\" class=\"dataframe\">\n",
              "  <thead>\n",
              "    <tr style=\"text-align: right;\">\n",
              "      <th></th>\n",
              "      <th>listing_id</th>\n",
              "      <th>id</th>\n",
              "      <th>date</th>\n",
              "      <th>reviewer_id</th>\n",
              "      <th>reviewer_name</th>\n",
              "      <th>comments</th>\n",
              "    </tr>\n",
              "  </thead>\n",
              "  <tbody>\n",
              "    <tr>\n",
              "      <th>0</th>\n",
              "      <td>1178162</td>\n",
              "      <td>4724140</td>\n",
              "      <td>2013-05-21</td>\n",
              "      <td>4298113</td>\n",
              "      <td>Olivier</td>\n",
              "      <td>My stay at islam's place was really cool! Good...</td>\n",
              "    </tr>\n",
              "    <tr>\n",
              "      <th>1</th>\n",
              "      <td>1178162</td>\n",
              "      <td>4869189</td>\n",
              "      <td>2013-05-29</td>\n",
              "      <td>6452964</td>\n",
              "      <td>Charlotte</td>\n",
              "      <td>Great location for both airport and city - gre...</td>\n",
              "    </tr>\n",
              "    <tr>\n",
              "      <th>2</th>\n",
              "      <td>1178162</td>\n",
              "      <td>5003196</td>\n",
              "      <td>2013-06-06</td>\n",
              "      <td>6449554</td>\n",
              "      <td>Sebastian</td>\n",
              "      <td>We really enjoyed our stay at Islams house. Fr...</td>\n",
              "    </tr>\n",
              "    <tr>\n",
              "      <th>3</th>\n",
              "      <td>1178162</td>\n",
              "      <td>5150351</td>\n",
              "      <td>2013-06-15</td>\n",
              "      <td>2215611</td>\n",
              "      <td>Marine</td>\n",
              "      <td>The room was nice and clean and so were the co...</td>\n",
              "    </tr>\n",
              "    <tr>\n",
              "      <th>4</th>\n",
              "      <td>1178162</td>\n",
              "      <td>5171140</td>\n",
              "      <td>2013-06-16</td>\n",
              "      <td>6848427</td>\n",
              "      <td>Andrew</td>\n",
              "      <td>Great location. Just 5 mins walk from the Airp...</td>\n",
              "    </tr>\n",
              "  </tbody>\n",
              "</table>\n",
              "</div>\n",
              "      <button class=\"colab-df-convert\" onclick=\"convertToInteractive('df-bc9edd29-2413-4850-a9f6-87effd421098')\"\n",
              "              title=\"Convert this dataframe to an interactive table.\"\n",
              "              style=\"display:none;\">\n",
              "        \n",
              "  <svg xmlns=\"http://www.w3.org/2000/svg\" height=\"24px\"viewBox=\"0 0 24 24\"\n",
              "       width=\"24px\">\n",
              "    <path d=\"M0 0h24v24H0V0z\" fill=\"none\"/>\n",
              "    <path d=\"M18.56 5.44l.94 2.06.94-2.06 2.06-.94-2.06-.94-.94-2.06-.94 2.06-2.06.94zm-11 1L8.5 8.5l.94-2.06 2.06-.94-2.06-.94L8.5 2.5l-.94 2.06-2.06.94zm10 10l.94 2.06.94-2.06 2.06-.94-2.06-.94-.94-2.06-.94 2.06-2.06.94z\"/><path d=\"M17.41 7.96l-1.37-1.37c-.4-.4-.92-.59-1.43-.59-.52 0-1.04.2-1.43.59L10.3 9.45l-7.72 7.72c-.78.78-.78 2.05 0 2.83L4 21.41c.39.39.9.59 1.41.59.51 0 1.02-.2 1.41-.59l7.78-7.78 2.81-2.81c.8-.78.8-2.07 0-2.86zM5.41 20L4 18.59l7.72-7.72 1.47 1.35L5.41 20z\"/>\n",
              "  </svg>\n",
              "      </button>\n",
              "      \n",
              "  <style>\n",
              "    .colab-df-container {\n",
              "      display:flex;\n",
              "      flex-wrap:wrap;\n",
              "      gap: 12px;\n",
              "    }\n",
              "\n",
              "    .colab-df-convert {\n",
              "      background-color: #E8F0FE;\n",
              "      border: none;\n",
              "      border-radius: 50%;\n",
              "      cursor: pointer;\n",
              "      display: none;\n",
              "      fill: #1967D2;\n",
              "      height: 32px;\n",
              "      padding: 0 0 0 0;\n",
              "      width: 32px;\n",
              "    }\n",
              "\n",
              "    .colab-df-convert:hover {\n",
              "      background-color: #E2EBFA;\n",
              "      box-shadow: 0px 1px 2px rgba(60, 64, 67, 0.3), 0px 1px 3px 1px rgba(60, 64, 67, 0.15);\n",
              "      fill: #174EA6;\n",
              "    }\n",
              "\n",
              "    [theme=dark] .colab-df-convert {\n",
              "      background-color: #3B4455;\n",
              "      fill: #D2E3FC;\n",
              "    }\n",
              "\n",
              "    [theme=dark] .colab-df-convert:hover {\n",
              "      background-color: #434B5C;\n",
              "      box-shadow: 0px 1px 3px 1px rgba(0, 0, 0, 0.15);\n",
              "      filter: drop-shadow(0px 1px 2px rgba(0, 0, 0, 0.3));\n",
              "      fill: #FFFFFF;\n",
              "    }\n",
              "  </style>\n",
              "\n",
              "      <script>\n",
              "        const buttonEl =\n",
              "          document.querySelector('#df-bc9edd29-2413-4850-a9f6-87effd421098 button.colab-df-convert');\n",
              "        buttonEl.style.display =\n",
              "          google.colab.kernel.accessAllowed ? 'block' : 'none';\n",
              "\n",
              "        async function convertToInteractive(key) {\n",
              "          const element = document.querySelector('#df-bc9edd29-2413-4850-a9f6-87effd421098');\n",
              "          const dataTable =\n",
              "            await google.colab.kernel.invokeFunction('convertToInteractive',\n",
              "                                                     [key], {});\n",
              "          if (!dataTable) return;\n",
              "\n",
              "          const docLinkHtml = 'Like what you see? Visit the ' +\n",
              "            '<a target=\"_blank\" href=https://colab.research.google.com/notebooks/data_table.ipynb>data table notebook</a>'\n",
              "            + ' to learn more about interactive tables.';\n",
              "          element.innerHTML = '';\n",
              "          dataTable['output_type'] = 'display_data';\n",
              "          await google.colab.output.renderOutput(dataTable, element);\n",
              "          const docLink = document.createElement('div');\n",
              "          docLink.innerHTML = docLinkHtml;\n",
              "          element.appendChild(docLink);\n",
              "        }\n",
              "      </script>\n",
              "    </div>\n",
              "  </div>\n",
              "  "
            ]
          },
          "metadata": {},
          "execution_count": 47
        }
      ]
    },
    {
      "cell_type": "code",
      "source": [
        "reviews_cleaned.info()"
      ],
      "metadata": {
        "colab": {
          "base_uri": "https://localhost:8080/"
        },
        "id": "fzl5HcQrIIlB",
        "outputId": "be822bf4-b6ee-4916-e28d-dfee41512640"
      },
      "execution_count": 48,
      "outputs": [
        {
          "output_type": "stream",
          "name": "stdout",
          "text": [
            "<class 'pandas.core.frame.DataFrame'>\n",
            "RangeIndex: 68275 entries, 0 to 68274\n",
            "Data columns (total 6 columns):\n",
            " #   Column         Non-Null Count  Dtype \n",
            "---  ------         --------------  ----- \n",
            " 0   listing_id     68275 non-null  int64 \n",
            " 1   id             68275 non-null  int64 \n",
            " 2   date           68275 non-null  object\n",
            " 3   reviewer_id    68275 non-null  int64 \n",
            " 4   reviewer_name  68275 non-null  object\n",
            " 5   comments       68222 non-null  object\n",
            "dtypes: int64(3), object(3)\n",
            "memory usage: 3.1+ MB\n"
          ]
        }
      ]
    },
    {
      "cell_type": "code",
      "source": [
        "reviews_cleaned[[\"listing_id\", \"id\", \"reviewer_id\"]] = reviews_cleaned[[\"listing_id\", \"id\", \"reviewer_id\"]].astype('str')"
      ],
      "metadata": {
        "id": "7ygpf31t5IcS"
      },
      "execution_count": 49,
      "outputs": []
    },
    {
      "cell_type": "code",
      "source": [
        "# drop duplicates \"reviewer_id\", \"listing_id\"and \"comments\"\n",
        "reviews_cleaned = reviews_cleaned.drop_duplicates(subset=[\"reviewer_id\", \"listing_id\", \"comments\"])"
      ],
      "metadata": {
        "id": "rA-fac8SHvxp"
      },
      "execution_count": 50,
      "outputs": []
    },
    {
      "cell_type": "code",
      "source": [
        "# Remove null comments\n",
        "reviews_cleaned = reviews_cleaned.dropna(axis=0, subset=[\"comments\"])"
      ],
      "metadata": {
        "id": "dgYuPol6Ioo8"
      },
      "execution_count": 51,
      "outputs": []
    },
    {
      "cell_type": "code",
      "source": [
        "#convert date to datetime\n",
        "reviews_cleaned ['date'] = reviews_cleaned['date'].astype('datetime64[ns]')"
      ],
      "metadata": {
        "id": "vnpX39f6Jo6q"
      },
      "execution_count": 52,
      "outputs": []
    },
    {
      "cell_type": "code",
      "source": [
        "# reviews_cleaned = reviews_cleaned.drop(columns = [\"reviewer_id\", \"reviewer_name\"])"
      ],
      "metadata": {
        "id": "TEBdp3PEUooc"
      },
      "execution_count": 53,
      "outputs": []
    },
    {
      "cell_type": "code",
      "source": [
        "reviews_cleaned.info()"
      ],
      "metadata": {
        "colab": {
          "base_uri": "https://localhost:8080/"
        },
        "id": "0X3hMmUC5UgU",
        "outputId": "71ea2187-9671-40e7-a8a0-c5232c5bde39"
      },
      "execution_count": 54,
      "outputs": [
        {
          "output_type": "stream",
          "name": "stdout",
          "text": [
            "<class 'pandas.core.frame.DataFrame'>\n",
            "Int64Index: 68204 entries, 0 to 68274\n",
            "Data columns (total 6 columns):\n",
            " #   Column         Non-Null Count  Dtype         \n",
            "---  ------         --------------  -----         \n",
            " 0   listing_id     68204 non-null  object        \n",
            " 1   id             68204 non-null  object        \n",
            " 2   date           68204 non-null  datetime64[ns]\n",
            " 3   reviewer_id    68204 non-null  object        \n",
            " 4   reviewer_name  68204 non-null  object        \n",
            " 5   comments       68204 non-null  object        \n",
            "dtypes: datetime64[ns](1), object(5)\n",
            "memory usage: 3.6+ MB\n"
          ]
        }
      ]
    },
    {
      "cell_type": "markdown",
      "source": [
        "### Combining Data"
      ],
      "metadata": {
        "id": "6-w60SFKOKKO"
      }
    },
    {
      "cell_type": "markdown",
      "source": [
        "Combine two datasets for creating a clean dataset by using pd.merge() with a left join on calendar_cleaned. Drop listing_id on merged."
      ],
      "metadata": {
        "id": "ukhOvMp3OPKa"
      }
    },
    {
      "cell_type": "code",
      "source": [
        "cal_list = pd.merge(calendar_cleaned, listings_cleaned, how='left', left_on='listing_id', right_on='id')"
      ],
      "metadata": {
        "id": "uNuZ3u9UPc7Y"
      },
      "execution_count": 55,
      "outputs": []
    },
    {
      "cell_type": "code",
      "source": [
        "cal_list.info()"
      ],
      "metadata": {
        "colab": {
          "base_uri": "https://localhost:8080/"
        },
        "id": "SJaB6-rIwvh1",
        "outputId": "1d3f31bd-1690-4816-e66c-5993d4c77c00"
      },
      "execution_count": 56,
      "outputs": [
        {
          "output_type": "stream",
          "name": "stdout",
          "text": [
            "<class 'pandas.core.frame.DataFrame'>\n",
            "Int64Index: 1308525 entries, 0 to 1308524\n",
            "Data columns (total 27 columns):\n",
            " #   Column               Non-Null Count    Dtype         \n",
            "---  ------               --------------    -----         \n",
            " 0   listing_id           1308525 non-null  object        \n",
            " 1   date                 1308525 non-null  datetime64[ns]\n",
            " 2   available            1308525 non-null  int64         \n",
            " 3   price_x              1308525 non-null  float64       \n",
            " 4   id                   1308525 non-null  object        \n",
            " 5   host_response_time   1308525 non-null  category      \n",
            " 6   host_listings_count  1308525 non-null  int64         \n",
            " 7   street               1308525 non-null  object        \n",
            " 8   neighbourhood        1308525 non-null  object        \n",
            " 9   city                 1307795 non-null  object        \n",
            " 10  zipcode              1294655 non-null  object        \n",
            " 11  property_type        1308525 non-null  category      \n",
            " 12  room_type            1308525 non-null  category      \n",
            " 13  accommodates         1308525 non-null  category      \n",
            " 14  bathrooms            1308525 non-null  category      \n",
            " 15  bedrooms             1308525 non-null  category      \n",
            " 16  beds                 1296480 non-null  category      \n",
            " 17  bed_type             1308525 non-null  category      \n",
            " 18  square_feet          1308525 non-null  float64       \n",
            " 19  price_y              1308525 non-null  float64       \n",
            " 20  monthly_price        324120 non-null   object        \n",
            " 21  extra_people         1308525 non-null  float64       \n",
            " 22  instant_bookable     1308525 non-null  int64         \n",
            " 23  cancellation_policy  1308525 non-null  category      \n",
            " 24  listing_description  1308525 non-null  object        \n",
            " 25  listing_access       1308525 non-null  object        \n",
            " 26  host_rules           1308525 non-null  object        \n",
            "dtypes: category(9), datetime64[ns](1), float64(4), int64(3), object(10)\n",
            "memory usage: 200.9+ MB\n"
          ]
        }
      ]
    },
    {
      "cell_type": "code",
      "source": [
        "# id and listing_id are the same. So id will be dropped as it no longer\n",
        "# represent a unique identifier for the row.\n",
        "cal_list[cal_list[\"id\"] != cal_list[\"listing_id\"]]"
      ],
      "metadata": {
        "colab": {
          "base_uri": "https://localhost:8080/",
          "height": 143
        },
        "id": "kASs18uPwQvT",
        "outputId": "9e80df58-d170-4cca-883d-321c273f4fc2"
      },
      "execution_count": 57,
      "outputs": [
        {
          "output_type": "execute_result",
          "data": {
            "text/plain": [
              "Empty DataFrame\n",
              "Columns: [listing_id, date, available, price_x, id, host_response_time, host_listings_count, street, neighbourhood, city, zipcode, property_type, room_type, accommodates, bathrooms, bedrooms, beds, bed_type, square_feet, price_y, monthly_price, extra_people, instant_bookable, cancellation_policy, listing_description, listing_access, host_rules]\n",
              "Index: []\n",
              "\n",
              "[0 rows x 27 columns]"
            ],
            "text/html": [
              "\n",
              "  <div id=\"df-f7bb06fe-5f16-4e88-8efa-23e9926203cc\">\n",
              "    <div class=\"colab-df-container\">\n",
              "      <div>\n",
              "<style scoped>\n",
              "    .dataframe tbody tr th:only-of-type {\n",
              "        vertical-align: middle;\n",
              "    }\n",
              "\n",
              "    .dataframe tbody tr th {\n",
              "        vertical-align: top;\n",
              "    }\n",
              "\n",
              "    .dataframe thead th {\n",
              "        text-align: right;\n",
              "    }\n",
              "</style>\n",
              "<table border=\"1\" class=\"dataframe\">\n",
              "  <thead>\n",
              "    <tr style=\"text-align: right;\">\n",
              "      <th></th>\n",
              "      <th>listing_id</th>\n",
              "      <th>date</th>\n",
              "      <th>available</th>\n",
              "      <th>price_x</th>\n",
              "      <th>id</th>\n",
              "      <th>host_response_time</th>\n",
              "      <th>host_listings_count</th>\n",
              "      <th>street</th>\n",
              "      <th>neighbourhood</th>\n",
              "      <th>city</th>\n",
              "      <th>...</th>\n",
              "      <th>bed_type</th>\n",
              "      <th>square_feet</th>\n",
              "      <th>price_y</th>\n",
              "      <th>monthly_price</th>\n",
              "      <th>extra_people</th>\n",
              "      <th>instant_bookable</th>\n",
              "      <th>cancellation_policy</th>\n",
              "      <th>listing_description</th>\n",
              "      <th>listing_access</th>\n",
              "      <th>host_rules</th>\n",
              "    </tr>\n",
              "  </thead>\n",
              "  <tbody>\n",
              "  </tbody>\n",
              "</table>\n",
              "<p>0 rows × 27 columns</p>\n",
              "</div>\n",
              "      <button class=\"colab-df-convert\" onclick=\"convertToInteractive('df-f7bb06fe-5f16-4e88-8efa-23e9926203cc')\"\n",
              "              title=\"Convert this dataframe to an interactive table.\"\n",
              "              style=\"display:none;\">\n",
              "        \n",
              "  <svg xmlns=\"http://www.w3.org/2000/svg\" height=\"24px\"viewBox=\"0 0 24 24\"\n",
              "       width=\"24px\">\n",
              "    <path d=\"M0 0h24v24H0V0z\" fill=\"none\"/>\n",
              "    <path d=\"M18.56 5.44l.94 2.06.94-2.06 2.06-.94-2.06-.94-.94-2.06-.94 2.06-2.06.94zm-11 1L8.5 8.5l.94-2.06 2.06-.94-2.06-.94L8.5 2.5l-.94 2.06-2.06.94zm10 10l.94 2.06.94-2.06 2.06-.94-2.06-.94-.94-2.06-.94 2.06-2.06.94z\"/><path d=\"M17.41 7.96l-1.37-1.37c-.4-.4-.92-.59-1.43-.59-.52 0-1.04.2-1.43.59L10.3 9.45l-7.72 7.72c-.78.78-.78 2.05 0 2.83L4 21.41c.39.39.9.59 1.41.59.51 0 1.02-.2 1.41-.59l7.78-7.78 2.81-2.81c.8-.78.8-2.07 0-2.86zM5.41 20L4 18.59l7.72-7.72 1.47 1.35L5.41 20z\"/>\n",
              "  </svg>\n",
              "      </button>\n",
              "      \n",
              "  <style>\n",
              "    .colab-df-container {\n",
              "      display:flex;\n",
              "      flex-wrap:wrap;\n",
              "      gap: 12px;\n",
              "    }\n",
              "\n",
              "    .colab-df-convert {\n",
              "      background-color: #E8F0FE;\n",
              "      border: none;\n",
              "      border-radius: 50%;\n",
              "      cursor: pointer;\n",
              "      display: none;\n",
              "      fill: #1967D2;\n",
              "      height: 32px;\n",
              "      padding: 0 0 0 0;\n",
              "      width: 32px;\n",
              "    }\n",
              "\n",
              "    .colab-df-convert:hover {\n",
              "      background-color: #E2EBFA;\n",
              "      box-shadow: 0px 1px 2px rgba(60, 64, 67, 0.3), 0px 1px 3px 1px rgba(60, 64, 67, 0.15);\n",
              "      fill: #174EA6;\n",
              "    }\n",
              "\n",
              "    [theme=dark] .colab-df-convert {\n",
              "      background-color: #3B4455;\n",
              "      fill: #D2E3FC;\n",
              "    }\n",
              "\n",
              "    [theme=dark] .colab-df-convert:hover {\n",
              "      background-color: #434B5C;\n",
              "      box-shadow: 0px 1px 3px 1px rgba(0, 0, 0, 0.15);\n",
              "      filter: drop-shadow(0px 1px 2px rgba(0, 0, 0, 0.3));\n",
              "      fill: #FFFFFF;\n",
              "    }\n",
              "  </style>\n",
              "\n",
              "      <script>\n",
              "        const buttonEl =\n",
              "          document.querySelector('#df-f7bb06fe-5f16-4e88-8efa-23e9926203cc button.colab-df-convert');\n",
              "        buttonEl.style.display =\n",
              "          google.colab.kernel.accessAllowed ? 'block' : 'none';\n",
              "\n",
              "        async function convertToInteractive(key) {\n",
              "          const element = document.querySelector('#df-f7bb06fe-5f16-4e88-8efa-23e9926203cc');\n",
              "          const dataTable =\n",
              "            await google.colab.kernel.invokeFunction('convertToInteractive',\n",
              "                                                     [key], {});\n",
              "          if (!dataTable) return;\n",
              "\n",
              "          const docLinkHtml = 'Like what you see? Visit the ' +\n",
              "            '<a target=\"_blank\" href=https://colab.research.google.com/notebooks/data_table.ipynb>data table notebook</a>'\n",
              "            + ' to learn more about interactive tables.';\n",
              "          element.innerHTML = '';\n",
              "          dataTable['output_type'] = 'display_data';\n",
              "          await google.colab.output.renderOutput(dataTable, element);\n",
              "          const docLink = document.createElement('div');\n",
              "          docLink.innerHTML = docLinkHtml;\n",
              "          element.appendChild(docLink);\n",
              "        }\n",
              "      </script>\n",
              "    </div>\n",
              "  </div>\n",
              "  "
            ]
          },
          "metadata": {},
          "execution_count": 57
        }
      ]
    },
    {
      "cell_type": "code",
      "source": [
        "cal_list.drop('id', axis=1, inplace=True)"
      ],
      "metadata": {
        "id": "cVPZ49bhuwfM"
      },
      "execution_count": 58,
      "outputs": []
    },
    {
      "cell_type": "code",
      "source": [
        "cal_list.drop('price_x', axis=1, inplace=True)"
      ],
      "metadata": {
        "id": "Anho_GbD1hR2"
      },
      "execution_count": 59,
      "outputs": []
    },
    {
      "cell_type": "code",
      "source": [
        "cal_list = cal_list.rename(columns={\"price_y\": \"price\"})"
      ],
      "metadata": {
        "id": "n_s_eYiE13kR"
      },
      "execution_count": 60,
      "outputs": []
    },
    {
      "cell_type": "code",
      "source": [
        "# To confirm whether columns and rows are correct\n",
        "assert cal_list.shape[1] == ((calendar_cleaned.shape[1] + listings_cleaned.shape[1]) - 2)\n",
        "assert cal_list.shape[0] == calendar_cleaned.shape[0]"
      ],
      "metadata": {
        "id": "o-roEd5MSanG"
      },
      "execution_count": 61,
      "outputs": []
    },
    {
      "cell_type": "code",
      "source": [
        "cal_list.head()"
      ],
      "metadata": {
        "colab": {
          "base_uri": "https://localhost:8080/",
          "height": 820
        },
        "id": "QE6wS-gc3cYG",
        "outputId": "e9a15878-af89-4643-b3b5-3d2639d286e2"
      },
      "execution_count": 62,
      "outputs": [
        {
          "output_type": "execute_result",
          "data": {
            "text/plain": [
              "  listing_id       date  available host_response_time  host_listings_count  \\\n",
              "0   12147973 2017-09-05          0            unknown                    1   \n",
              "1   12147973 2017-09-04          0            unknown                    1   \n",
              "2   12147973 2017-09-03          0            unknown                    1   \n",
              "3   12147973 2017-09-02          0            unknown                    1   \n",
              "4   12147973 2017-09-01          0            unknown                    1   \n",
              "\n",
              "                                          street neighbourhood    city  \\\n",
              "0  Birch Street, Boston, MA 02131, United States    Roslindale  Boston   \n",
              "1  Birch Street, Boston, MA 02131, United States    Roslindale  Boston   \n",
              "2  Birch Street, Boston, MA 02131, United States    Roslindale  Boston   \n",
              "3  Birch Street, Boston, MA 02131, United States    Roslindale  Boston   \n",
              "4  Birch Street, Boston, MA 02131, United States    Roslindale  Boston   \n",
              "\n",
              "  zipcode property_type  ...  bed_type square_feet         price  \\\n",
              "0   02131         House  ...  Real Bed 0.000000000 250.000000000   \n",
              "1   02131         House  ...  Real Bed 0.000000000 250.000000000   \n",
              "2   02131         House  ...  Real Bed 0.000000000 250.000000000   \n",
              "3   02131         House  ...  Real Bed 0.000000000 250.000000000   \n",
              "4   02131         House  ...  Real Bed 0.000000000 250.000000000   \n",
              "\n",
              "  monthly_price extra_people instant_bookable  cancellation_policy  \\\n",
              "0           NaN  0.000000000                0             moderate   \n",
              "1           NaN  0.000000000                0             moderate   \n",
              "2           NaN  0.000000000                0             moderate   \n",
              "3           NaN  0.000000000                0             moderate   \n",
              "4           NaN  0.000000000                0             moderate   \n",
              "\n",
              "                                 listing_description  \\\n",
              "0  The house has an open and cozy feel at the sam...   \n",
              "1  The house has an open and cozy feel at the sam...   \n",
              "2  The house has an open and cozy feel at the sam...   \n",
              "3  The house has an open and cozy feel at the sam...   \n",
              "4  The house has an open and cozy feel at the sam...   \n",
              "\n",
              "                                      listing_access  \\\n",
              "0  The bus stop is 2 blocks away, and frequent. B...   \n",
              "1  The bus stop is 2 blocks away, and frequent. B...   \n",
              "2  The bus stop is 2 blocks away, and frequent. B...   \n",
              "3  The bus stop is 2 blocks away, and frequent. B...   \n",
              "4  The bus stop is 2 blocks away, and frequent. B...   \n",
              "\n",
              "                                          host_rules  \n",
              "0  Clean up and treat the home the way you'd like...  \n",
              "1  Clean up and treat the home the way you'd like...  \n",
              "2  Clean up and treat the home the way you'd like...  \n",
              "3  Clean up and treat the home the way you'd like...  \n",
              "4  Clean up and treat the home the way you'd like...  \n",
              "\n",
              "[5 rows x 25 columns]"
            ],
            "text/html": [
              "\n",
              "  <div id=\"df-01b2ffc2-a0ae-4859-ab11-d9db99808fe3\">\n",
              "    <div class=\"colab-df-container\">\n",
              "      <div>\n",
              "<style scoped>\n",
              "    .dataframe tbody tr th:only-of-type {\n",
              "        vertical-align: middle;\n",
              "    }\n",
              "\n",
              "    .dataframe tbody tr th {\n",
              "        vertical-align: top;\n",
              "    }\n",
              "\n",
              "    .dataframe thead th {\n",
              "        text-align: right;\n",
              "    }\n",
              "</style>\n",
              "<table border=\"1\" class=\"dataframe\">\n",
              "  <thead>\n",
              "    <tr style=\"text-align: right;\">\n",
              "      <th></th>\n",
              "      <th>listing_id</th>\n",
              "      <th>date</th>\n",
              "      <th>available</th>\n",
              "      <th>host_response_time</th>\n",
              "      <th>host_listings_count</th>\n",
              "      <th>street</th>\n",
              "      <th>neighbourhood</th>\n",
              "      <th>city</th>\n",
              "      <th>zipcode</th>\n",
              "      <th>property_type</th>\n",
              "      <th>...</th>\n",
              "      <th>bed_type</th>\n",
              "      <th>square_feet</th>\n",
              "      <th>price</th>\n",
              "      <th>monthly_price</th>\n",
              "      <th>extra_people</th>\n",
              "      <th>instant_bookable</th>\n",
              "      <th>cancellation_policy</th>\n",
              "      <th>listing_description</th>\n",
              "      <th>listing_access</th>\n",
              "      <th>host_rules</th>\n",
              "    </tr>\n",
              "  </thead>\n",
              "  <tbody>\n",
              "    <tr>\n",
              "      <th>0</th>\n",
              "      <td>12147973</td>\n",
              "      <td>2017-09-05</td>\n",
              "      <td>0</td>\n",
              "      <td>unknown</td>\n",
              "      <td>1</td>\n",
              "      <td>Birch Street, Boston, MA 02131, United States</td>\n",
              "      <td>Roslindale</td>\n",
              "      <td>Boston</td>\n",
              "      <td>02131</td>\n",
              "      <td>House</td>\n",
              "      <td>...</td>\n",
              "      <td>Real Bed</td>\n",
              "      <td>0.000000000</td>\n",
              "      <td>250.000000000</td>\n",
              "      <td>NaN</td>\n",
              "      <td>0.000000000</td>\n",
              "      <td>0</td>\n",
              "      <td>moderate</td>\n",
              "      <td>The house has an open and cozy feel at the sam...</td>\n",
              "      <td>The bus stop is 2 blocks away, and frequent. B...</td>\n",
              "      <td>Clean up and treat the home the way you'd like...</td>\n",
              "    </tr>\n",
              "    <tr>\n",
              "      <th>1</th>\n",
              "      <td>12147973</td>\n",
              "      <td>2017-09-04</td>\n",
              "      <td>0</td>\n",
              "      <td>unknown</td>\n",
              "      <td>1</td>\n",
              "      <td>Birch Street, Boston, MA 02131, United States</td>\n",
              "      <td>Roslindale</td>\n",
              "      <td>Boston</td>\n",
              "      <td>02131</td>\n",
              "      <td>House</td>\n",
              "      <td>...</td>\n",
              "      <td>Real Bed</td>\n",
              "      <td>0.000000000</td>\n",
              "      <td>250.000000000</td>\n",
              "      <td>NaN</td>\n",
              "      <td>0.000000000</td>\n",
              "      <td>0</td>\n",
              "      <td>moderate</td>\n",
              "      <td>The house has an open and cozy feel at the sam...</td>\n",
              "      <td>The bus stop is 2 blocks away, and frequent. B...</td>\n",
              "      <td>Clean up and treat the home the way you'd like...</td>\n",
              "    </tr>\n",
              "    <tr>\n",
              "      <th>2</th>\n",
              "      <td>12147973</td>\n",
              "      <td>2017-09-03</td>\n",
              "      <td>0</td>\n",
              "      <td>unknown</td>\n",
              "      <td>1</td>\n",
              "      <td>Birch Street, Boston, MA 02131, United States</td>\n",
              "      <td>Roslindale</td>\n",
              "      <td>Boston</td>\n",
              "      <td>02131</td>\n",
              "      <td>House</td>\n",
              "      <td>...</td>\n",
              "      <td>Real Bed</td>\n",
              "      <td>0.000000000</td>\n",
              "      <td>250.000000000</td>\n",
              "      <td>NaN</td>\n",
              "      <td>0.000000000</td>\n",
              "      <td>0</td>\n",
              "      <td>moderate</td>\n",
              "      <td>The house has an open and cozy feel at the sam...</td>\n",
              "      <td>The bus stop is 2 blocks away, and frequent. B...</td>\n",
              "      <td>Clean up and treat the home the way you'd like...</td>\n",
              "    </tr>\n",
              "    <tr>\n",
              "      <th>3</th>\n",
              "      <td>12147973</td>\n",
              "      <td>2017-09-02</td>\n",
              "      <td>0</td>\n",
              "      <td>unknown</td>\n",
              "      <td>1</td>\n",
              "      <td>Birch Street, Boston, MA 02131, United States</td>\n",
              "      <td>Roslindale</td>\n",
              "      <td>Boston</td>\n",
              "      <td>02131</td>\n",
              "      <td>House</td>\n",
              "      <td>...</td>\n",
              "      <td>Real Bed</td>\n",
              "      <td>0.000000000</td>\n",
              "      <td>250.000000000</td>\n",
              "      <td>NaN</td>\n",
              "      <td>0.000000000</td>\n",
              "      <td>0</td>\n",
              "      <td>moderate</td>\n",
              "      <td>The house has an open and cozy feel at the sam...</td>\n",
              "      <td>The bus stop is 2 blocks away, and frequent. B...</td>\n",
              "      <td>Clean up and treat the home the way you'd like...</td>\n",
              "    </tr>\n",
              "    <tr>\n",
              "      <th>4</th>\n",
              "      <td>12147973</td>\n",
              "      <td>2017-09-01</td>\n",
              "      <td>0</td>\n",
              "      <td>unknown</td>\n",
              "      <td>1</td>\n",
              "      <td>Birch Street, Boston, MA 02131, United States</td>\n",
              "      <td>Roslindale</td>\n",
              "      <td>Boston</td>\n",
              "      <td>02131</td>\n",
              "      <td>House</td>\n",
              "      <td>...</td>\n",
              "      <td>Real Bed</td>\n",
              "      <td>0.000000000</td>\n",
              "      <td>250.000000000</td>\n",
              "      <td>NaN</td>\n",
              "      <td>0.000000000</td>\n",
              "      <td>0</td>\n",
              "      <td>moderate</td>\n",
              "      <td>The house has an open and cozy feel at the sam...</td>\n",
              "      <td>The bus stop is 2 blocks away, and frequent. B...</td>\n",
              "      <td>Clean up and treat the home the way you'd like...</td>\n",
              "    </tr>\n",
              "  </tbody>\n",
              "</table>\n",
              "<p>5 rows × 25 columns</p>\n",
              "</div>\n",
              "      <button class=\"colab-df-convert\" onclick=\"convertToInteractive('df-01b2ffc2-a0ae-4859-ab11-d9db99808fe3')\"\n",
              "              title=\"Convert this dataframe to an interactive table.\"\n",
              "              style=\"display:none;\">\n",
              "        \n",
              "  <svg xmlns=\"http://www.w3.org/2000/svg\" height=\"24px\"viewBox=\"0 0 24 24\"\n",
              "       width=\"24px\">\n",
              "    <path d=\"M0 0h24v24H0V0z\" fill=\"none\"/>\n",
              "    <path d=\"M18.56 5.44l.94 2.06.94-2.06 2.06-.94-2.06-.94-.94-2.06-.94 2.06-2.06.94zm-11 1L8.5 8.5l.94-2.06 2.06-.94-2.06-.94L8.5 2.5l-.94 2.06-2.06.94zm10 10l.94 2.06.94-2.06 2.06-.94-2.06-.94-.94-2.06-.94 2.06-2.06.94z\"/><path d=\"M17.41 7.96l-1.37-1.37c-.4-.4-.92-.59-1.43-.59-.52 0-1.04.2-1.43.59L10.3 9.45l-7.72 7.72c-.78.78-.78 2.05 0 2.83L4 21.41c.39.39.9.59 1.41.59.51 0 1.02-.2 1.41-.59l7.78-7.78 2.81-2.81c.8-.78.8-2.07 0-2.86zM5.41 20L4 18.59l7.72-7.72 1.47 1.35L5.41 20z\"/>\n",
              "  </svg>\n",
              "      </button>\n",
              "      \n",
              "  <style>\n",
              "    .colab-df-container {\n",
              "      display:flex;\n",
              "      flex-wrap:wrap;\n",
              "      gap: 12px;\n",
              "    }\n",
              "\n",
              "    .colab-df-convert {\n",
              "      background-color: #E8F0FE;\n",
              "      border: none;\n",
              "      border-radius: 50%;\n",
              "      cursor: pointer;\n",
              "      display: none;\n",
              "      fill: #1967D2;\n",
              "      height: 32px;\n",
              "      padding: 0 0 0 0;\n",
              "      width: 32px;\n",
              "    }\n",
              "\n",
              "    .colab-df-convert:hover {\n",
              "      background-color: #E2EBFA;\n",
              "      box-shadow: 0px 1px 2px rgba(60, 64, 67, 0.3), 0px 1px 3px 1px rgba(60, 64, 67, 0.15);\n",
              "      fill: #174EA6;\n",
              "    }\n",
              "\n",
              "    [theme=dark] .colab-df-convert {\n",
              "      background-color: #3B4455;\n",
              "      fill: #D2E3FC;\n",
              "    }\n",
              "\n",
              "    [theme=dark] .colab-df-convert:hover {\n",
              "      background-color: #434B5C;\n",
              "      box-shadow: 0px 1px 3px 1px rgba(0, 0, 0, 0.15);\n",
              "      filter: drop-shadow(0px 1px 2px rgba(0, 0, 0, 0.3));\n",
              "      fill: #FFFFFF;\n",
              "    }\n",
              "  </style>\n",
              "\n",
              "      <script>\n",
              "        const buttonEl =\n",
              "          document.querySelector('#df-01b2ffc2-a0ae-4859-ab11-d9db99808fe3 button.colab-df-convert');\n",
              "        buttonEl.style.display =\n",
              "          google.colab.kernel.accessAllowed ? 'block' : 'none';\n",
              "\n",
              "        async function convertToInteractive(key) {\n",
              "          const element = document.querySelector('#df-01b2ffc2-a0ae-4859-ab11-d9db99808fe3');\n",
              "          const dataTable =\n",
              "            await google.colab.kernel.invokeFunction('convertToInteractive',\n",
              "                                                     [key], {});\n",
              "          if (!dataTable) return;\n",
              "\n",
              "          const docLinkHtml = 'Like what you see? Visit the ' +\n",
              "            '<a target=\"_blank\" href=https://colab.research.google.com/notebooks/data_table.ipynb>data table notebook</a>'\n",
              "            + ' to learn more about interactive tables.';\n",
              "          element.innerHTML = '';\n",
              "          dataTable['output_type'] = 'display_data';\n",
              "          await google.colab.output.renderOutput(dataTable, element);\n",
              "          const docLink = document.createElement('div');\n",
              "          docLink.innerHTML = docLinkHtml;\n",
              "          element.appendChild(docLink);\n",
              "        }\n",
              "      </script>\n",
              "    </div>\n",
              "  </div>\n",
              "  "
            ]
          },
          "metadata": {},
          "execution_count": 62
        }
      ]
    },
    {
      "cell_type": "code",
      "source": [
        "reviews_cleaned.head()"
      ],
      "metadata": {
        "colab": {
          "base_uri": "https://localhost:8080/",
          "height": 337
        },
        "id": "oBPHxEDd3etu",
        "outputId": "16c5191b-76f5-4abc-b4d2-c22b369fbd1f"
      },
      "execution_count": 63,
      "outputs": [
        {
          "output_type": "execute_result",
          "data": {
            "text/plain": [
              "  listing_id       id       date reviewer_id reviewer_name  \\\n",
              "0    1178162  4724140 2013-05-21     4298113       Olivier   \n",
              "1    1178162  4869189 2013-05-29     6452964     Charlotte   \n",
              "2    1178162  5003196 2013-06-06     6449554     Sebastian   \n",
              "3    1178162  5150351 2013-06-15     2215611        Marine   \n",
              "4    1178162  5171140 2013-06-16     6848427        Andrew   \n",
              "\n",
              "                                            comments  \n",
              "0  My stay at islam's place was really cool! Good...  \n",
              "1  Great location for both airport and city - gre...  \n",
              "2  We really enjoyed our stay at Islams house. Fr...  \n",
              "3  The room was nice and clean and so were the co...  \n",
              "4  Great location. Just 5 mins walk from the Airp...  "
            ],
            "text/html": [
              "\n",
              "  <div id=\"df-5916fd9d-016e-433d-a770-c755ecc5a19e\">\n",
              "    <div class=\"colab-df-container\">\n",
              "      <div>\n",
              "<style scoped>\n",
              "    .dataframe tbody tr th:only-of-type {\n",
              "        vertical-align: middle;\n",
              "    }\n",
              "\n",
              "    .dataframe tbody tr th {\n",
              "        vertical-align: top;\n",
              "    }\n",
              "\n",
              "    .dataframe thead th {\n",
              "        text-align: right;\n",
              "    }\n",
              "</style>\n",
              "<table border=\"1\" class=\"dataframe\">\n",
              "  <thead>\n",
              "    <tr style=\"text-align: right;\">\n",
              "      <th></th>\n",
              "      <th>listing_id</th>\n",
              "      <th>id</th>\n",
              "      <th>date</th>\n",
              "      <th>reviewer_id</th>\n",
              "      <th>reviewer_name</th>\n",
              "      <th>comments</th>\n",
              "    </tr>\n",
              "  </thead>\n",
              "  <tbody>\n",
              "    <tr>\n",
              "      <th>0</th>\n",
              "      <td>1178162</td>\n",
              "      <td>4724140</td>\n",
              "      <td>2013-05-21</td>\n",
              "      <td>4298113</td>\n",
              "      <td>Olivier</td>\n",
              "      <td>My stay at islam's place was really cool! Good...</td>\n",
              "    </tr>\n",
              "    <tr>\n",
              "      <th>1</th>\n",
              "      <td>1178162</td>\n",
              "      <td>4869189</td>\n",
              "      <td>2013-05-29</td>\n",
              "      <td>6452964</td>\n",
              "      <td>Charlotte</td>\n",
              "      <td>Great location for both airport and city - gre...</td>\n",
              "    </tr>\n",
              "    <tr>\n",
              "      <th>2</th>\n",
              "      <td>1178162</td>\n",
              "      <td>5003196</td>\n",
              "      <td>2013-06-06</td>\n",
              "      <td>6449554</td>\n",
              "      <td>Sebastian</td>\n",
              "      <td>We really enjoyed our stay at Islams house. Fr...</td>\n",
              "    </tr>\n",
              "    <tr>\n",
              "      <th>3</th>\n",
              "      <td>1178162</td>\n",
              "      <td>5150351</td>\n",
              "      <td>2013-06-15</td>\n",
              "      <td>2215611</td>\n",
              "      <td>Marine</td>\n",
              "      <td>The room was nice and clean and so were the co...</td>\n",
              "    </tr>\n",
              "    <tr>\n",
              "      <th>4</th>\n",
              "      <td>1178162</td>\n",
              "      <td>5171140</td>\n",
              "      <td>2013-06-16</td>\n",
              "      <td>6848427</td>\n",
              "      <td>Andrew</td>\n",
              "      <td>Great location. Just 5 mins walk from the Airp...</td>\n",
              "    </tr>\n",
              "  </tbody>\n",
              "</table>\n",
              "</div>\n",
              "      <button class=\"colab-df-convert\" onclick=\"convertToInteractive('df-5916fd9d-016e-433d-a770-c755ecc5a19e')\"\n",
              "              title=\"Convert this dataframe to an interactive table.\"\n",
              "              style=\"display:none;\">\n",
              "        \n",
              "  <svg xmlns=\"http://www.w3.org/2000/svg\" height=\"24px\"viewBox=\"0 0 24 24\"\n",
              "       width=\"24px\">\n",
              "    <path d=\"M0 0h24v24H0V0z\" fill=\"none\"/>\n",
              "    <path d=\"M18.56 5.44l.94 2.06.94-2.06 2.06-.94-2.06-.94-.94-2.06-.94 2.06-2.06.94zm-11 1L8.5 8.5l.94-2.06 2.06-.94-2.06-.94L8.5 2.5l-.94 2.06-2.06.94zm10 10l.94 2.06.94-2.06 2.06-.94-2.06-.94-.94-2.06-.94 2.06-2.06.94z\"/><path d=\"M17.41 7.96l-1.37-1.37c-.4-.4-.92-.59-1.43-.59-.52 0-1.04.2-1.43.59L10.3 9.45l-7.72 7.72c-.78.78-.78 2.05 0 2.83L4 21.41c.39.39.9.59 1.41.59.51 0 1.02-.2 1.41-.59l7.78-7.78 2.81-2.81c.8-.78.8-2.07 0-2.86zM5.41 20L4 18.59l7.72-7.72 1.47 1.35L5.41 20z\"/>\n",
              "  </svg>\n",
              "      </button>\n",
              "      \n",
              "  <style>\n",
              "    .colab-df-container {\n",
              "      display:flex;\n",
              "      flex-wrap:wrap;\n",
              "      gap: 12px;\n",
              "    }\n",
              "\n",
              "    .colab-df-convert {\n",
              "      background-color: #E8F0FE;\n",
              "      border: none;\n",
              "      border-radius: 50%;\n",
              "      cursor: pointer;\n",
              "      display: none;\n",
              "      fill: #1967D2;\n",
              "      height: 32px;\n",
              "      padding: 0 0 0 0;\n",
              "      width: 32px;\n",
              "    }\n",
              "\n",
              "    .colab-df-convert:hover {\n",
              "      background-color: #E2EBFA;\n",
              "      box-shadow: 0px 1px 2px rgba(60, 64, 67, 0.3), 0px 1px 3px 1px rgba(60, 64, 67, 0.15);\n",
              "      fill: #174EA6;\n",
              "    }\n",
              "\n",
              "    [theme=dark] .colab-df-convert {\n",
              "      background-color: #3B4455;\n",
              "      fill: #D2E3FC;\n",
              "    }\n",
              "\n",
              "    [theme=dark] .colab-df-convert:hover {\n",
              "      background-color: #434B5C;\n",
              "      box-shadow: 0px 1px 3px 1px rgba(0, 0, 0, 0.15);\n",
              "      filter: drop-shadow(0px 1px 2px rgba(0, 0, 0, 0.3));\n",
              "      fill: #FFFFFF;\n",
              "    }\n",
              "  </style>\n",
              "\n",
              "      <script>\n",
              "        const buttonEl =\n",
              "          document.querySelector('#df-5916fd9d-016e-433d-a770-c755ecc5a19e button.colab-df-convert');\n",
              "        buttonEl.style.display =\n",
              "          google.colab.kernel.accessAllowed ? 'block' : 'none';\n",
              "\n",
              "        async function convertToInteractive(key) {\n",
              "          const element = document.querySelector('#df-5916fd9d-016e-433d-a770-c755ecc5a19e');\n",
              "          const dataTable =\n",
              "            await google.colab.kernel.invokeFunction('convertToInteractive',\n",
              "                                                     [key], {});\n",
              "          if (!dataTable) return;\n",
              "\n",
              "          const docLinkHtml = 'Like what you see? Visit the ' +\n",
              "            '<a target=\"_blank\" href=https://colab.research.google.com/notebooks/data_table.ipynb>data table notebook</a>'\n",
              "            + ' to learn more about interactive tables.';\n",
              "          element.innerHTML = '';\n",
              "          dataTable['output_type'] = 'display_data';\n",
              "          await google.colab.output.renderOutput(dataTable, element);\n",
              "          const docLink = document.createElement('div');\n",
              "          docLink.innerHTML = docLinkHtml;\n",
              "          element.appendChild(docLink);\n",
              "        }\n",
              "      </script>\n",
              "    </div>\n",
              "  </div>\n",
              "  "
            ]
          },
          "metadata": {},
          "execution_count": 63
        }
      ]
    },
    {
      "cell_type": "code",
      "source": [
        "cal_list_rev = pd.merge(\n",
        "    cal_list,\n",
        "    reviews_cleaned,\n",
        "    how='left',\n",
        "    left_on='listing_id',\n",
        "    right_on='listing_id'\n",
        ")"
      ],
      "metadata": {
        "id": "RezgcVBOwYMO"
      },
      "execution_count": 64,
      "outputs": []
    },
    {
      "cell_type": "code",
      "source": [
        "cal_list_rev.to_csv(\"cal_list_rev.csv\")"
      ],
      "metadata": {
        "id": "5pxVLivH6bRt"
      },
      "execution_count": null,
      "outputs": []
    },
    {
      "cell_type": "code",
      "source": [
        "cal_list_rev.info()"
      ],
      "metadata": {
        "id": "-q1Cm93eyBTr"
      },
      "execution_count": null,
      "outputs": []
    },
    {
      "cell_type": "code",
      "source": [
        "cal_list_rev[[\"date_x\", \"date_y\"]].iloc[0:15]"
      ],
      "metadata": {
        "id": "5hEWZMlL2qUd"
      },
      "execution_count": null,
      "outputs": []
    },
    {
      "cell_type": "code",
      "source": [
        "# To confirm whether columns and rows are correct\n",
        "assert cal_list_rev.shape[1] == (cal_list.shape[1] + reviews_cleaned.shape[1] - 1)\n",
        "assert cal_list_rev.shape[0] == cal_list.shape[0]"
      ],
      "metadata": {
        "id": "eobfaTtg2G66"
      },
      "execution_count": null,
      "outputs": []
    },
    {
      "cell_type": "code",
      "source": [
        ""
      ],
      "metadata": {
        "id": "uDWbG3cY2cc8"
      },
      "execution_count": null,
      "outputs": []
    }
  ]
}