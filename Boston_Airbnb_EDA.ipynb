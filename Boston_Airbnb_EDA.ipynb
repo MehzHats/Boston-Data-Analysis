{
  "nbformat": 4,
  "nbformat_minor": 0,
  "metadata": {
    "colab": {
      "name": "Boston Airbnb EDA.ipynb",
      "provenance": [],
      "collapsed_sections": [],
      "toc_visible": true,
      "authorship_tag": "ABX9TyMzVy80xFZN5hqiTix9KE1J",
      "include_colab_link": true
    },
    "kernelspec": {
      "name": "python3",
      "display_name": "Python 3"
    },
    "language_info": {
      "name": "python"
    }
  },
  "cells": [
    {
      "cell_type": "markdown",
      "metadata": {
        "id": "view-in-github",
        "colab_type": "text"
      },
      "source": [
        "<a href=\"https://colab.research.google.com/github/MehzHats/Boston-Data-Analysis/blob/main/Boston_Airbnb_EDA.ipynb\" target=\"_parent\"><img src=\"https://colab.research.google.com/assets/colab-badge.svg\" alt=\"Open In Colab\"/></a>"
      ]
    },
    {
      "cell_type": "markdown",
      "source": [
        "# Boston Airbnb Data Analysis\n",
        "\n",
        "The dataset used in this notebook was choosen from the Boston Airbnb Open Data hosted on Kaggle. This dataset contains bookings, listings and reviews of homestay activity from 2008 till 2016.\n",
        "\n",
        "This dataset is analysed based on the  the Cross-Industry Standard Process for Data Mining (CRISP-DM) incorporated as a part of the \"Write a Data Science Blog Post\" project for Udacity's Data Scientist Nanodegree. \n",
        "\n",
        "The CRoss Industry Standard Process for Data Mining (CRISP-DM) is a process model that serves as the base for a data science process. It has six sequential phases:\n",
        "\n",
        "1. **Business understanding** – What are the needs of the business?\n",
        "2. **Data understanding** – What data do we have / need? Is it clean?\n",
        "3. **Data preparation** – How the data is organised for modeling?\n",
        "4. **Modeling** – What are the modeling techniques applied?\n",
        "5. **Evaluation** – Which model best meets the objectives of business?\n",
        "6. **Deployment** – How do stakeholders access the results?\n",
        "\n",
        "\n"
      ],
      "metadata": {
        "id": "LtCIbhDDWnlU"
      }
    },
    {
      "cell_type": "markdown",
      "source": [
        "## About Data\n",
        "\n",
        "The following Airbnb activity is included in this Boston dataset:\n",
        "\n",
        "1.   Listings, including full descriptions and average review score.\n",
        "2.   Reviews, including unique id for each reviewer and detailed comments\n",
        "3. Calendar, including listing id and the price and availability for that day"
      ],
      "metadata": {
        "id": "7l1CUDSbaAzd"
      }
    },
    {
      "cell_type": "markdown",
      "source": [
        "## Get Data"
      ],
      "metadata": {
        "id": "3MDrBBkhd57V"
      }
    },
    {
      "cell_type": "code",
      "source": [
        "!pip install --user -q kaggle"
      ],
      "metadata": {
        "id": "FHemqzcTgFIi"
      },
      "execution_count": 1,
      "outputs": []
    },
    {
      "cell_type": "code",
      "source": [
        "!mkdir ~/.kaggle\n",
        "!touch ~/.kaggle/kaggle.json\n",
        "!cd ~/.kaggle/ && echo '{\"username\":\"mehzhats\",\"key\":\"c56b2e27eae429152faae50277e85142\"}' > \"./kaggle.json\"\n",
        "!chmod 600 ~/.kaggle/kaggle.json"
      ],
      "metadata": {
        "id": "AAq77sucgJNK"
      },
      "execution_count": 2,
      "outputs": []
    },
    {
      "cell_type": "code",
      "source": [
        "!kaggle datasets download airbnb/boston\n",
        "!unzip boston.zip\n",
        "!rm boston.zip"
      ],
      "metadata": {
        "id": "0qrAvyJsfBX_",
        "colab": {
          "base_uri": "https://localhost:8080/"
        },
        "outputId": "570a72d3-b22e-45d0-d43d-1d643f458af9"
      },
      "execution_count": 3,
      "outputs": [
        {
          "output_type": "stream",
          "name": "stdout",
          "text": [
            "Downloading boston.zip to /content\n",
            "\r  0% 0.00/16.1M [00:00<?, ?B/s]\r 31% 5.00M/16.1M [00:00<00:00, 37.7MB/s]\n",
            "\r100% 16.1M/16.1M [00:00<00:00, 86.8MB/s]\n",
            "Archive:  boston.zip\n",
            "  inflating: calendar.csv            \n",
            "  inflating: listings.csv            \n",
            "  inflating: reviews.csv             \n"
          ]
        }
      ]
    },
    {
      "cell_type": "markdown",
      "source": [
        "## Imports"
      ],
      "metadata": {
        "id": "i13JdSFI944_"
      }
    },
    {
      "cell_type": "code",
      "source": [
        "%matplotlib inline"
      ],
      "metadata": {
        "id": "p4qMS0vFspxT"
      },
      "execution_count": 4,
      "outputs": []
    },
    {
      "cell_type": "code",
      "execution_count": 5,
      "metadata": {
        "id": "p5VK1O2gWSpC"
      },
      "outputs": [],
      "source": [
        "import pandas as pd\n",
        "import numpy as np\n",
        "import matplotlib\n",
        "import matplotlib.pyplot as plt\n",
        "import seaborn as sns"
      ]
    },
    {
      "cell_type": "markdown",
      "source": [
        "### Settings"
      ],
      "metadata": {
        "id": "FiaCef2q7eR7"
      }
    },
    {
      "cell_type": "code",
      "source": [
        "pd.set_option('display.max_rows', None)\n",
        "pd.set_option('display.float_format', lambda x: '%.9f' % x)"
      ],
      "metadata": {
        "id": "jkhOFqUV7hO_"
      },
      "execution_count": 6,
      "outputs": []
    },
    {
      "cell_type": "markdown",
      "source": [
        "## Section 1: Business Understanding\n",
        "The listing of AirBnB's rental homes in and near the neighbourhood of Boston, Massachusetts, as well as the guest evaluations and the dates that the homes were available, were made public. We'll examine this information in this blog to learn more about the cities and the areas , the impacts of the various columns on the data sets , how the positive and negative reviews affect the listings by the host, the number of other factors that contribute to the choice of the guests and price factor based on the time of the booking.\n",
        "\n",
        "We will make an effort to comprehend the types of homes that are offered, their costs, the distribution of these listings, the number of reviews, and, finally, how visitors described the properties after their stay.\n",
        "\n",
        "\n",
        " **We aspire to answer following questions from the dataset.**\n",
        "1. Which column has the most impact on the data?\n",
        "2. Which cities are the most expensive?\n",
        "3. How reviews affect listings?\n",
        "4. What factors affect the listings booked by customers?\n",
        "5. Price difference between the peak period and off season?"
      ],
      "metadata": {
        "id": "DsJ0M0o8Tp9k"
      }
    },
    {
      "cell_type": "markdown",
      "source": [
        "## Section 2: Data Understanding\n",
        "\n",
        "AirBnB has made the listing of its rental properties in and around Boston, MA neighborhoods public, along with the reviews left by guests, and the dates when properties were available. In this blog, we will review this data to learn about the neighborhood and attempt to understand which types of properties are available, their prices, the concentration of these listings, the number of reviews and lastly, how guests described the properties after their stay."
      ],
      "metadata": {
        "id": "dS78M0_aSqRJ"
      }
    },
    {
      "cell_type": "markdown",
      "source": [
        "### Utility Function For Exploration"
      ],
      "metadata": {
        "id": "itBxgu9IktC1"
      }
    },
    {
      "cell_type": "code",
      "source": [
        "def explore_column(df, column, print_samples=None, print_unique=False):\n",
        "  \"\"\"\n",
        "  Prints information about a column from the given dataset.\n",
        "  Parameters\n",
        "  ----------\n",
        "  df: pandas dataframe, required\n",
        "    default is None\n",
        "  column: string, required\n",
        "    default is None\n",
        "  print_samples: slice, optional\n",
        "    default is None\n",
        "  print_unique: bool, optional\n",
        "    default is False\n",
        "  \"\"\" \n",
        "\n",
        "  print(\"There are {} of na columns.\".format(df[column].isna().sum()))\n",
        "  print(\"There are {} unique values\".format(df[column].nunique()))\n",
        "  print(\"Column type: \", df[column].dtype)\n",
        "\n",
        "  if print_unique:\n",
        "    print(\"Unique values: \", df[column].unique())\n",
        "\n",
        "  if not print_samples == None:\n",
        "    print(\"Sample Values: \", df[column].iloc[print_samples])"
      ],
      "metadata": {
        "id": "VcukqCrzkszD"
      },
      "execution_count": 7,
      "outputs": []
    },
    {
      "cell_type": "markdown",
      "source": [
        "### Exploration of dataset"
      ],
      "metadata": {
        "id": "2yNZZ4-ohp8D"
      }
    },
    {
      "cell_type": "code",
      "source": [
        "calendar = pd.read_csv('calendar.csv')\n",
        "listings = pd.read_csv('listings.csv')\n",
        "reviews = pd.read_csv('reviews.csv')\n"
      ],
      "metadata": {
        "id": "xB0jYOpuh6Tl"
      },
      "execution_count": 8,
      "outputs": []
    },
    {
      "cell_type": "markdown",
      "source": [
        "#### Calendar Data"
      ],
      "metadata": {
        "id": "0yu0zKbRyuZW"
      }
    },
    {
      "cell_type": "code",
      "source": [
        "#print the head of calendar\n",
        "calendar.head()"
      ],
      "metadata": {
        "id": "WplsQio5jKqA",
        "colab": {
          "base_uri": "https://localhost:8080/",
          "height": 206
        },
        "outputId": "adcad395-d7ca-4e69-c953-ad4054727d19"
      },
      "execution_count": null,
      "outputs": [
        {
          "output_type": "execute_result",
          "data": {
            "text/plain": [
              "   listing_id        date available price\n",
              "0    12147973  2017-09-05         f   NaN\n",
              "1    12147973  2017-09-04         f   NaN\n",
              "2    12147973  2017-09-03         f   NaN\n",
              "3    12147973  2017-09-02         f   NaN\n",
              "4    12147973  2017-09-01         f   NaN"
            ],
            "text/html": [
              "\n",
              "  <div id=\"df-52aee690-c67a-46d6-85c2-d9aa9520199a\">\n",
              "    <div class=\"colab-df-container\">\n",
              "      <div>\n",
              "<style scoped>\n",
              "    .dataframe tbody tr th:only-of-type {\n",
              "        vertical-align: middle;\n",
              "    }\n",
              "\n",
              "    .dataframe tbody tr th {\n",
              "        vertical-align: top;\n",
              "    }\n",
              "\n",
              "    .dataframe thead th {\n",
              "        text-align: right;\n",
              "    }\n",
              "</style>\n",
              "<table border=\"1\" class=\"dataframe\">\n",
              "  <thead>\n",
              "    <tr style=\"text-align: right;\">\n",
              "      <th></th>\n",
              "      <th>listing_id</th>\n",
              "      <th>date</th>\n",
              "      <th>available</th>\n",
              "      <th>price</th>\n",
              "    </tr>\n",
              "  </thead>\n",
              "  <tbody>\n",
              "    <tr>\n",
              "      <th>0</th>\n",
              "      <td>12147973</td>\n",
              "      <td>2017-09-05</td>\n",
              "      <td>f</td>\n",
              "      <td>NaN</td>\n",
              "    </tr>\n",
              "    <tr>\n",
              "      <th>1</th>\n",
              "      <td>12147973</td>\n",
              "      <td>2017-09-04</td>\n",
              "      <td>f</td>\n",
              "      <td>NaN</td>\n",
              "    </tr>\n",
              "    <tr>\n",
              "      <th>2</th>\n",
              "      <td>12147973</td>\n",
              "      <td>2017-09-03</td>\n",
              "      <td>f</td>\n",
              "      <td>NaN</td>\n",
              "    </tr>\n",
              "    <tr>\n",
              "      <th>3</th>\n",
              "      <td>12147973</td>\n",
              "      <td>2017-09-02</td>\n",
              "      <td>f</td>\n",
              "      <td>NaN</td>\n",
              "    </tr>\n",
              "    <tr>\n",
              "      <th>4</th>\n",
              "      <td>12147973</td>\n",
              "      <td>2017-09-01</td>\n",
              "      <td>f</td>\n",
              "      <td>NaN</td>\n",
              "    </tr>\n",
              "  </tbody>\n",
              "</table>\n",
              "</div>\n",
              "      <button class=\"colab-df-convert\" onclick=\"convertToInteractive('df-52aee690-c67a-46d6-85c2-d9aa9520199a')\"\n",
              "              title=\"Convert this dataframe to an interactive table.\"\n",
              "              style=\"display:none;\">\n",
              "        \n",
              "  <svg xmlns=\"http://www.w3.org/2000/svg\" height=\"24px\"viewBox=\"0 0 24 24\"\n",
              "       width=\"24px\">\n",
              "    <path d=\"M0 0h24v24H0V0z\" fill=\"none\"/>\n",
              "    <path d=\"M18.56 5.44l.94 2.06.94-2.06 2.06-.94-2.06-.94-.94-2.06-.94 2.06-2.06.94zm-11 1L8.5 8.5l.94-2.06 2.06-.94-2.06-.94L8.5 2.5l-.94 2.06-2.06.94zm10 10l.94 2.06.94-2.06 2.06-.94-2.06-.94-.94-2.06-.94 2.06-2.06.94z\"/><path d=\"M17.41 7.96l-1.37-1.37c-.4-.4-.92-.59-1.43-.59-.52 0-1.04.2-1.43.59L10.3 9.45l-7.72 7.72c-.78.78-.78 2.05 0 2.83L4 21.41c.39.39.9.59 1.41.59.51 0 1.02-.2 1.41-.59l7.78-7.78 2.81-2.81c.8-.78.8-2.07 0-2.86zM5.41 20L4 18.59l7.72-7.72 1.47 1.35L5.41 20z\"/>\n",
              "  </svg>\n",
              "      </button>\n",
              "      \n",
              "  <style>\n",
              "    .colab-df-container {\n",
              "      display:flex;\n",
              "      flex-wrap:wrap;\n",
              "      gap: 12px;\n",
              "    }\n",
              "\n",
              "    .colab-df-convert {\n",
              "      background-color: #E8F0FE;\n",
              "      border: none;\n",
              "      border-radius: 50%;\n",
              "      cursor: pointer;\n",
              "      display: none;\n",
              "      fill: #1967D2;\n",
              "      height: 32px;\n",
              "      padding: 0 0 0 0;\n",
              "      width: 32px;\n",
              "    }\n",
              "\n",
              "    .colab-df-convert:hover {\n",
              "      background-color: #E2EBFA;\n",
              "      box-shadow: 0px 1px 2px rgba(60, 64, 67, 0.3), 0px 1px 3px 1px rgba(60, 64, 67, 0.15);\n",
              "      fill: #174EA6;\n",
              "    }\n",
              "\n",
              "    [theme=dark] .colab-df-convert {\n",
              "      background-color: #3B4455;\n",
              "      fill: #D2E3FC;\n",
              "    }\n",
              "\n",
              "    [theme=dark] .colab-df-convert:hover {\n",
              "      background-color: #434B5C;\n",
              "      box-shadow: 0px 1px 3px 1px rgba(0, 0, 0, 0.15);\n",
              "      filter: drop-shadow(0px 1px 2px rgba(0, 0, 0, 0.3));\n",
              "      fill: #FFFFFF;\n",
              "    }\n",
              "  </style>\n",
              "\n",
              "      <script>\n",
              "        const buttonEl =\n",
              "          document.querySelector('#df-52aee690-c67a-46d6-85c2-d9aa9520199a button.colab-df-convert');\n",
              "        buttonEl.style.display =\n",
              "          google.colab.kernel.accessAllowed ? 'block' : 'none';\n",
              "\n",
              "        async function convertToInteractive(key) {\n",
              "          const element = document.querySelector('#df-52aee690-c67a-46d6-85c2-d9aa9520199a');\n",
              "          const dataTable =\n",
              "            await google.colab.kernel.invokeFunction('convertToInteractive',\n",
              "                                                     [key], {});\n",
              "          if (!dataTable) return;\n",
              "\n",
              "          const docLinkHtml = 'Like what you see? Visit the ' +\n",
              "            '<a target=\"_blank\" href=https://colab.research.google.com/notebooks/data_table.ipynb>data table notebook</a>'\n",
              "            + ' to learn more about interactive tables.';\n",
              "          element.innerHTML = '';\n",
              "          dataTable['output_type'] = 'display_data';\n",
              "          await google.colab.output.renderOutput(dataTable, element);\n",
              "          const docLink = document.createElement('div');\n",
              "          docLink.innerHTML = docLinkHtml;\n",
              "          element.appendChild(docLink);\n",
              "        }\n",
              "      </script>\n",
              "    </div>\n",
              "  </div>\n",
              "  "
            ]
          },
          "metadata": {},
          "execution_count": 9
        }
      ]
    },
    {
      "cell_type": "code",
      "source": [
        "#calendar data types\n",
        "calendar.dtypes"
      ],
      "metadata": {
        "id": "3FBP67ekkflf",
        "colab": {
          "base_uri": "https://localhost:8080/"
        },
        "outputId": "f649f4ea-382b-4159-fd4f-849034f9d53a"
      },
      "execution_count": null,
      "outputs": [
        {
          "output_type": "execute_result",
          "data": {
            "text/plain": [
              "listing_id     int64\n",
              "date          object\n",
              "available     object\n",
              "price         object\n",
              "dtype: object"
            ]
          },
          "metadata": {},
          "execution_count": 10
        }
      ]
    },
    {
      "cell_type": "code",
      "source": [
        "explore_column(calendar, \"price\")"
      ],
      "metadata": {
        "colab": {
          "base_uri": "https://localhost:8080/"
        },
        "id": "n5XqJWmulNVT",
        "outputId": "6cec932f-2e3e-4032-af74-81ca65a4c4b5"
      },
      "execution_count": null,
      "outputs": [
        {
          "output_type": "stream",
          "name": "stdout",
          "text": [
            "There are 665853 of na columns.\n",
            "There are 1246 unique values\n",
            "Column type:  object\n"
          ]
        }
      ]
    },
    {
      "cell_type": "code",
      "source": [
        "calendar[(calendar[\"price\"].isna()) & (calendar[\"available\"] == \"t\")]"
      ],
      "metadata": {
        "id": "N-tYO_kWFLDi",
        "colab": {
          "base_uri": "https://localhost:8080/",
          "height": 49
        },
        "outputId": "656f225f-cce1-4206-b0e9-fb5df50a6de6"
      },
      "execution_count": null,
      "outputs": [
        {
          "output_type": "execute_result",
          "data": {
            "text/plain": [
              "Empty DataFrame\n",
              "Columns: [listing_id, date, available, price]\n",
              "Index: []"
            ],
            "text/html": [
              "\n",
              "  <div id=\"df-696dc111-9a9c-4fd6-9e01-b4d6843dec00\">\n",
              "    <div class=\"colab-df-container\">\n",
              "      <div>\n",
              "<style scoped>\n",
              "    .dataframe tbody tr th:only-of-type {\n",
              "        vertical-align: middle;\n",
              "    }\n",
              "\n",
              "    .dataframe tbody tr th {\n",
              "        vertical-align: top;\n",
              "    }\n",
              "\n",
              "    .dataframe thead th {\n",
              "        text-align: right;\n",
              "    }\n",
              "</style>\n",
              "<table border=\"1\" class=\"dataframe\">\n",
              "  <thead>\n",
              "    <tr style=\"text-align: right;\">\n",
              "      <th></th>\n",
              "      <th>listing_id</th>\n",
              "      <th>date</th>\n",
              "      <th>available</th>\n",
              "      <th>price</th>\n",
              "    </tr>\n",
              "  </thead>\n",
              "  <tbody>\n",
              "  </tbody>\n",
              "</table>\n",
              "</div>\n",
              "      <button class=\"colab-df-convert\" onclick=\"convertToInteractive('df-696dc111-9a9c-4fd6-9e01-b4d6843dec00')\"\n",
              "              title=\"Convert this dataframe to an interactive table.\"\n",
              "              style=\"display:none;\">\n",
              "        \n",
              "  <svg xmlns=\"http://www.w3.org/2000/svg\" height=\"24px\"viewBox=\"0 0 24 24\"\n",
              "       width=\"24px\">\n",
              "    <path d=\"M0 0h24v24H0V0z\" fill=\"none\"/>\n",
              "    <path d=\"M18.56 5.44l.94 2.06.94-2.06 2.06-.94-2.06-.94-.94-2.06-.94 2.06-2.06.94zm-11 1L8.5 8.5l.94-2.06 2.06-.94-2.06-.94L8.5 2.5l-.94 2.06-2.06.94zm10 10l.94 2.06.94-2.06 2.06-.94-2.06-.94-.94-2.06-.94 2.06-2.06.94z\"/><path d=\"M17.41 7.96l-1.37-1.37c-.4-.4-.92-.59-1.43-.59-.52 0-1.04.2-1.43.59L10.3 9.45l-7.72 7.72c-.78.78-.78 2.05 0 2.83L4 21.41c.39.39.9.59 1.41.59.51 0 1.02-.2 1.41-.59l7.78-7.78 2.81-2.81c.8-.78.8-2.07 0-2.86zM5.41 20L4 18.59l7.72-7.72 1.47 1.35L5.41 20z\"/>\n",
              "  </svg>\n",
              "      </button>\n",
              "      \n",
              "  <style>\n",
              "    .colab-df-container {\n",
              "      display:flex;\n",
              "      flex-wrap:wrap;\n",
              "      gap: 12px;\n",
              "    }\n",
              "\n",
              "    .colab-df-convert {\n",
              "      background-color: #E8F0FE;\n",
              "      border: none;\n",
              "      border-radius: 50%;\n",
              "      cursor: pointer;\n",
              "      display: none;\n",
              "      fill: #1967D2;\n",
              "      height: 32px;\n",
              "      padding: 0 0 0 0;\n",
              "      width: 32px;\n",
              "    }\n",
              "\n",
              "    .colab-df-convert:hover {\n",
              "      background-color: #E2EBFA;\n",
              "      box-shadow: 0px 1px 2px rgba(60, 64, 67, 0.3), 0px 1px 3px 1px rgba(60, 64, 67, 0.15);\n",
              "      fill: #174EA6;\n",
              "    }\n",
              "\n",
              "    [theme=dark] .colab-df-convert {\n",
              "      background-color: #3B4455;\n",
              "      fill: #D2E3FC;\n",
              "    }\n",
              "\n",
              "    [theme=dark] .colab-df-convert:hover {\n",
              "      background-color: #434B5C;\n",
              "      box-shadow: 0px 1px 3px 1px rgba(0, 0, 0, 0.15);\n",
              "      filter: drop-shadow(0px 1px 2px rgba(0, 0, 0, 0.3));\n",
              "      fill: #FFFFFF;\n",
              "    }\n",
              "  </style>\n",
              "\n",
              "      <script>\n",
              "        const buttonEl =\n",
              "          document.querySelector('#df-696dc111-9a9c-4fd6-9e01-b4d6843dec00 button.colab-df-convert');\n",
              "        buttonEl.style.display =\n",
              "          google.colab.kernel.accessAllowed ? 'block' : 'none';\n",
              "\n",
              "        async function convertToInteractive(key) {\n",
              "          const element = document.querySelector('#df-696dc111-9a9c-4fd6-9e01-b4d6843dec00');\n",
              "          const dataTable =\n",
              "            await google.colab.kernel.invokeFunction('convertToInteractive',\n",
              "                                                     [key], {});\n",
              "          if (!dataTable) return;\n",
              "\n",
              "          const docLinkHtml = 'Like what you see? Visit the ' +\n",
              "            '<a target=\"_blank\" href=https://colab.research.google.com/notebooks/data_table.ipynb>data table notebook</a>'\n",
              "            + ' to learn more about interactive tables.';\n",
              "          element.innerHTML = '';\n",
              "          dataTable['output_type'] = 'display_data';\n",
              "          await google.colab.output.renderOutput(dataTable, element);\n",
              "          const docLink = document.createElement('div');\n",
              "          docLink.innerHTML = docLinkHtml;\n",
              "          element.appendChild(docLink);\n",
              "        }\n",
              "      </script>\n",
              "    </div>\n",
              "  </div>\n",
              "  "
            ]
          },
          "metadata": {},
          "execution_count": 12
        }
      ]
    },
    {
      "cell_type": "code",
      "source": [
        "calendar[(calendar[\"price\"].notna()) & (calendar[\"available\"] == \"f\")]"
      ],
      "metadata": {
        "id": "OdKAA24oGBA3",
        "colab": {
          "base_uri": "https://localhost:8080/",
          "height": 49
        },
        "outputId": "17f055ee-b8d4-4ac4-cbb5-4510352487dd"
      },
      "execution_count": null,
      "outputs": [
        {
          "output_type": "execute_result",
          "data": {
            "text/plain": [
              "Empty DataFrame\n",
              "Columns: [listing_id, date, available, price]\n",
              "Index: []"
            ],
            "text/html": [
              "\n",
              "  <div id=\"df-28e0dd25-e2d0-4f6b-8956-fee60e1768ff\">\n",
              "    <div class=\"colab-df-container\">\n",
              "      <div>\n",
              "<style scoped>\n",
              "    .dataframe tbody tr th:only-of-type {\n",
              "        vertical-align: middle;\n",
              "    }\n",
              "\n",
              "    .dataframe tbody tr th {\n",
              "        vertical-align: top;\n",
              "    }\n",
              "\n",
              "    .dataframe thead th {\n",
              "        text-align: right;\n",
              "    }\n",
              "</style>\n",
              "<table border=\"1\" class=\"dataframe\">\n",
              "  <thead>\n",
              "    <tr style=\"text-align: right;\">\n",
              "      <th></th>\n",
              "      <th>listing_id</th>\n",
              "      <th>date</th>\n",
              "      <th>available</th>\n",
              "      <th>price</th>\n",
              "    </tr>\n",
              "  </thead>\n",
              "  <tbody>\n",
              "  </tbody>\n",
              "</table>\n",
              "</div>\n",
              "      <button class=\"colab-df-convert\" onclick=\"convertToInteractive('df-28e0dd25-e2d0-4f6b-8956-fee60e1768ff')\"\n",
              "              title=\"Convert this dataframe to an interactive table.\"\n",
              "              style=\"display:none;\">\n",
              "        \n",
              "  <svg xmlns=\"http://www.w3.org/2000/svg\" height=\"24px\"viewBox=\"0 0 24 24\"\n",
              "       width=\"24px\">\n",
              "    <path d=\"M0 0h24v24H0V0z\" fill=\"none\"/>\n",
              "    <path d=\"M18.56 5.44l.94 2.06.94-2.06 2.06-.94-2.06-.94-.94-2.06-.94 2.06-2.06.94zm-11 1L8.5 8.5l.94-2.06 2.06-.94-2.06-.94L8.5 2.5l-.94 2.06-2.06.94zm10 10l.94 2.06.94-2.06 2.06-.94-2.06-.94-.94-2.06-.94 2.06-2.06.94z\"/><path d=\"M17.41 7.96l-1.37-1.37c-.4-.4-.92-.59-1.43-.59-.52 0-1.04.2-1.43.59L10.3 9.45l-7.72 7.72c-.78.78-.78 2.05 0 2.83L4 21.41c.39.39.9.59 1.41.59.51 0 1.02-.2 1.41-.59l7.78-7.78 2.81-2.81c.8-.78.8-2.07 0-2.86zM5.41 20L4 18.59l7.72-7.72 1.47 1.35L5.41 20z\"/>\n",
              "  </svg>\n",
              "      </button>\n",
              "      \n",
              "  <style>\n",
              "    .colab-df-container {\n",
              "      display:flex;\n",
              "      flex-wrap:wrap;\n",
              "      gap: 12px;\n",
              "    }\n",
              "\n",
              "    .colab-df-convert {\n",
              "      background-color: #E8F0FE;\n",
              "      border: none;\n",
              "      border-radius: 50%;\n",
              "      cursor: pointer;\n",
              "      display: none;\n",
              "      fill: #1967D2;\n",
              "      height: 32px;\n",
              "      padding: 0 0 0 0;\n",
              "      width: 32px;\n",
              "    }\n",
              "\n",
              "    .colab-df-convert:hover {\n",
              "      background-color: #E2EBFA;\n",
              "      box-shadow: 0px 1px 2px rgba(60, 64, 67, 0.3), 0px 1px 3px 1px rgba(60, 64, 67, 0.15);\n",
              "      fill: #174EA6;\n",
              "    }\n",
              "\n",
              "    [theme=dark] .colab-df-convert {\n",
              "      background-color: #3B4455;\n",
              "      fill: #D2E3FC;\n",
              "    }\n",
              "\n",
              "    [theme=dark] .colab-df-convert:hover {\n",
              "      background-color: #434B5C;\n",
              "      box-shadow: 0px 1px 3px 1px rgba(0, 0, 0, 0.15);\n",
              "      filter: drop-shadow(0px 1px 2px rgba(0, 0, 0, 0.3));\n",
              "      fill: #FFFFFF;\n",
              "    }\n",
              "  </style>\n",
              "\n",
              "      <script>\n",
              "        const buttonEl =\n",
              "          document.querySelector('#df-28e0dd25-e2d0-4f6b-8956-fee60e1768ff button.colab-df-convert');\n",
              "        buttonEl.style.display =\n",
              "          google.colab.kernel.accessAllowed ? 'block' : 'none';\n",
              "\n",
              "        async function convertToInteractive(key) {\n",
              "          const element = document.querySelector('#df-28e0dd25-e2d0-4f6b-8956-fee60e1768ff');\n",
              "          const dataTable =\n",
              "            await google.colab.kernel.invokeFunction('convertToInteractive',\n",
              "                                                     [key], {});\n",
              "          if (!dataTable) return;\n",
              "\n",
              "          const docLinkHtml = 'Like what you see? Visit the ' +\n",
              "            '<a target=\"_blank\" href=https://colab.research.google.com/notebooks/data_table.ipynb>data table notebook</a>'\n",
              "            + ' to learn more about interactive tables.';\n",
              "          element.innerHTML = '';\n",
              "          dataTable['output_type'] = 'display_data';\n",
              "          await google.colab.output.renderOutput(dataTable, element);\n",
              "          const docLink = document.createElement('div');\n",
              "          docLink.innerHTML = docLinkHtml;\n",
              "          element.appendChild(docLink);\n",
              "        }\n",
              "      </script>\n",
              "    </div>\n",
              "  </div>\n",
              "  "
            ]
          },
          "metadata": {},
          "execution_count": 13
        }
      ]
    },
    {
      "cell_type": "code",
      "source": [
        "calendar[(calendar[\"price\"].isna()) & (calendar[\"available\"] == \"f\")]"
      ],
      "metadata": {
        "id": "T_vGEDEdhZ1A"
      },
      "execution_count": null,
      "outputs": []
    },
    {
      "cell_type": "code",
      "source": [
        "calendar[(calendar[\"price\"].notna()) & (calendar[\"available\"] == \"t\")]"
      ],
      "metadata": {
        "id": "tWUhx1Y4F-sL"
      },
      "execution_count": null,
      "outputs": []
    },
    {
      "cell_type": "code",
      "source": [
        "# calendar[\"price\"] = calendar[\"price\"].fillna(\"$0\")\n",
        "# calendar[\"price\"] = calendar[\"price\"].replace('[\\$,]', '', regex = True).astype(float)"
      ],
      "metadata": {
        "id": "8cCAlz4_Gssg"
      },
      "execution_count": null,
      "outputs": []
    },
    {
      "cell_type": "code",
      "source": [
        "#Calendar[calendar.columns[0]].count()\n",
        "#len(calendar.index)\n",
        "calendar.shape"
      ],
      "metadata": {
        "id": "9_VH6ah-lZqU"
      },
      "execution_count": null,
      "outputs": []
    },
    {
      "cell_type": "code",
      "source": [
        "#print description of data\n",
        "calendar.describe()"
      ],
      "metadata": {
        "id": "AH3xJrnxy_9i"
      },
      "execution_count": null,
      "outputs": []
    },
    {
      "cell_type": "code",
      "source": [
        "#print concise summary of data\n",
        "calendar.info()"
      ],
      "metadata": {
        "id": "hcJo4-sJeLT6"
      },
      "execution_count": null,
      "outputs": []
    },
    {
      "cell_type": "code",
      "source": [
        "# Check if number of missing values is the same as number of 'f' availability\n",
        "calendar.price.isna().sum() "
      ],
      "metadata": {
        "id": "OrDCwaBA5_NG"
      },
      "execution_count": null,
      "outputs": []
    },
    {
      "cell_type": "code",
      "source": [
        "calendar.duplicated().sum()"
      ],
      "metadata": {
        "id": "-kErlYhUJXdk"
      },
      "execution_count": null,
      "outputs": []
    },
    {
      "cell_type": "code",
      "source": [
        "# calendar[(calendar[\"listing_id\"] == 12898806) & (calendar[\"date\"] == \"2017-06-15\")]\n",
        "calendar[calendar.duplicated()]"
      ],
      "metadata": {
        "id": "1-Hm09BM90mo"
      },
      "execution_count": null,
      "outputs": []
    },
    {
      "cell_type": "code",
      "source": [
        "# price_corr = calendar.corr()['price'].sort_values(ascending = False)[1:]\n",
        "# price_corr\n",
        "# print ('Correlation Matrix')\n",
        "# print(calendar.corr())\n",
        "# print()"
      ],
      "metadata": {
        "id": "duvxaBHKCo_1"
      },
      "execution_count": null,
      "outputs": []
    },
    {
      "cell_type": "markdown",
      "source": [
        "**Calendar Data Issues Identified**\n",
        "\n",
        "- listing_id: convert to `str`\n",
        "- date: convert to `datetime`\n",
        "- available: convert to dummy variable\n",
        "- price: drop $ and comma and convert to float/int\n",
        "\n",
        "\n"
      ],
      "metadata": {
        "id": "LLJn-_HpxrGB"
      }
    },
    {
      "cell_type": "markdown",
      "source": [
        "#### Listings Data"
      ],
      "metadata": {
        "id": "KVmnaGqFi9g8"
      }
    },
    {
      "cell_type": "code",
      "source": [
        "#print the head of listings\n",
        "listings.head()"
      ],
      "metadata": {
        "id": "FmzmG85mi_xU"
      },
      "execution_count": null,
      "outputs": []
    },
    {
      "cell_type": "code",
      "source": [
        "# len_listings = len('listings')\n",
        "# print(len_listings)\n",
        "#listings[listings.columns[0]].count()\n",
        "#len(listings.index)\n",
        "listings.shape"
      ],
      "metadata": {
        "id": "W03f8xbWjGe6"
      },
      "execution_count": null,
      "outputs": []
    },
    {
      "cell_type": "code",
      "source": [
        "#print description of data\n",
        "listings.describe()"
      ],
      "metadata": {
        "id": "ECrgXSItktld"
      },
      "execution_count": null,
      "outputs": []
    },
    {
      "cell_type": "code",
      "source": [
        "#print concise summary of data\n",
        "listings.info()"
      ],
      "metadata": {
        "id": "etE2J5zkoAc8"
      },
      "execution_count": null,
      "outputs": []
    },
    {
      "cell_type": "code",
      "source": [
        "# Inspecting the difference between summary & description\n",
        "print(listings[\"summary\"][1])\n",
        "print(listings[\"description\"][1])"
      ],
      "metadata": {
        "id": "uE9C7vrAtFHX"
      },
      "execution_count": null,
      "outputs": []
    },
    {
      "cell_type": "code",
      "source": [
        "# Inspecting space column\n",
        "explore_column(listings, \"space\", print_samples=slice(10,14))"
      ],
      "metadata": {
        "id": "TfKYczXYttAh",
        "cellView": "code",
        "colab": {
          "base_uri": "https://localhost:8080/"
        },
        "outputId": "77342c96-dac8-4e47-918f-0cbda9d3b5c4"
      },
      "execution_count": null,
      "outputs": [
        {
          "output_type": "stream",
          "name": "stdout",
          "text": [
            "There are 1057 of na columns.\n",
            "There are 2268 unique values\n",
            "Sample Values:  10    NaN\n",
            "11    NaN\n",
            "12    NaN\n",
            "13    NaN\n",
            "Name: space, dtype: object\n"
          ]
        }
      ]
    },
    {
      "cell_type": "code",
      "source": [
        "# Inspecting experiences_offered column\n",
        "explore_column(listings, \"experiences_offered\", print_unique=True, print_samples=slice(5))"
      ],
      "metadata": {
        "id": "HM-B-07que_d",
        "colab": {
          "base_uri": "https://localhost:8080/"
        },
        "outputId": "e7500f52-a699-47cf-cbd6-7d23053183d8"
      },
      "execution_count": null,
      "outputs": [
        {
          "output_type": "stream",
          "name": "stdout",
          "text": [
            "There are 0 of na columns.\n",
            "There are 1 unique values\n",
            "Unique values:  ['none']\n",
            "Sample Values:  0    none\n",
            "1    none\n",
            "2    none\n",
            "3    none\n",
            "4    none\n",
            "Name: experiences_offered, dtype: object\n"
          ]
        }
      ]
    },
    {
      "cell_type": "code",
      "source": [
        "# Inspecting neighborhood_overview column\n",
        "print(listings[\"neighborhood_overview\"][124])\n",
        "print(listings[\"neighborhood_overview\"][130])"
      ],
      "metadata": {
        "id": "uh2kIPiQt5uz"
      },
      "execution_count": null,
      "outputs": []
    },
    {
      "cell_type": "code",
      "source": [
        "# inspecting some of the URL columns\n",
        "listings[[\"medium_url\", \"thumbnail_url\"]].iloc[0]"
      ],
      "metadata": {
        "id": "myCi2u9BvDjf"
      },
      "execution_count": null,
      "outputs": []
    },
    {
      "cell_type": "code",
      "source": [
        "print(listings[\"host_id\"][0])\n",
        "listings[\"host_id\"].nunique()"
      ],
      "metadata": {
        "id": "D5b3H1eZvmfs"
      },
      "execution_count": null,
      "outputs": []
    },
    {
      "cell_type": "code",
      "source": [
        "\n",
        "listings[listings[\"host_response_time\"].notna()][\"host_response_time\"]"
      ],
      "metadata": {
        "id": "lERqobE0v-N7"
      },
      "execution_count": null,
      "outputs": []
    },
    {
      "cell_type": "code",
      "source": [
        "listings[\"experiences_offered\"].unique()"
      ],
      "metadata": {
        "id": "lbMYVoxHsw31"
      },
      "execution_count": null,
      "outputs": []
    },
    {
      "cell_type": "code",
      "source": [
        "listings[\"host_name\"][0], listings[\"host_since\"][0], listings[\"host_location\"][0], listings[\"host_about\"][0]"
      ],
      "metadata": {
        "id": "XmwlC5gnwoaQ"
      },
      "execution_count": null,
      "outputs": []
    },
    {
      "cell_type": "code",
      "source": [
        "listings[\"host_response_rate\"].unique()"
      ],
      "metadata": {
        "id": "9LRW0pKwxprk"
      },
      "execution_count": null,
      "outputs": []
    },
    {
      "cell_type": "code",
      "source": [
        "listings[\"host_acceptance_rate\"].unique()"
      ],
      "metadata": {
        "id": "1_8ElGP0x5As"
      },
      "execution_count": null,
      "outputs": []
    },
    {
      "cell_type": "code",
      "source": [
        "listings[listings[\"host_is_superhost\"].isna()]"
      ],
      "metadata": {
        "id": "ftCll0kAyczo"
      },
      "execution_count": null,
      "outputs": []
    },
    {
      "cell_type": "code",
      "source": [
        "(print(listings[\"host_listings_count\"].unique()))\n",
        "listings[\"host_listings_count\"].isna().sum()"
      ],
      "metadata": {
        "id": "jbMQXTMqy7Wh"
      },
      "execution_count": null,
      "outputs": []
    },
    {
      "cell_type": "code",
      "source": [
        "print(listings[\"host_total_listings_count\"].unique())\n",
        "listings[\"host_total_listings_count\"].isna().sum()"
      ],
      "metadata": {
        "id": "oBsGEX3EzeUF"
      },
      "execution_count": null,
      "outputs": []
    },
    {
      "cell_type": "code",
      "source": [
        "listings[listings[\"host_listings_count\"] != listings[\"host_total_listings_count\"]]"
      ],
      "metadata": {
        "id": "stUuPo2KzjdD"
      },
      "execution_count": null,
      "outputs": []
    },
    {
      "cell_type": "code",
      "source": [
        "print(listings[\"host_verifications\"].isna().sum())\n",
        "listings[\"host_verifications\"].unique()"
      ],
      "metadata": {
        "id": "i5xwHHIt0gBW"
      },
      "execution_count": null,
      "outputs": []
    },
    {
      "cell_type": "code",
      "source": [
        "listings[\"host_identity_verified\"].value_counts()"
      ],
      "metadata": {
        "id": "8qYhmX_41ZxU"
      },
      "execution_count": null,
      "outputs": []
    },
    {
      "cell_type": "code",
      "source": [
        "listings[listings[\"neighbourhood\"].isna()][[\"neighbourhood\", \"neighbourhood_cleansed\"]]"
      ],
      "metadata": {
        "id": "0i7bvCwo2bVM"
      },
      "execution_count": null,
      "outputs": []
    },
    {
      "cell_type": "code",
      "source": [
        "listings[\"neighbourhood_group_cleansed\"].unique()"
      ],
      "metadata": {
        "id": "wJ21jzsR2YTR",
        "colab": {
          "base_uri": "https://localhost:8080/",
          "height": 169
        },
        "outputId": "ed60df54-0c18-4002-d06a-557117c96d34"
      },
      "execution_count": null,
      "outputs": [
        {
          "output_type": "error",
          "ename": "NameError",
          "evalue": "ignored",
          "traceback": [
            "\u001b[0;31m---------------------------------------------------------------------------\u001b[0m",
            "\u001b[0;31mNameError\u001b[0m                                 Traceback (most recent call last)",
            "\u001b[0;32m<ipython-input-79-7b658c77d0d4>\u001b[0m in \u001b[0;36m<module>\u001b[0;34m()\u001b[0m\n\u001b[0;32m----> 1\u001b[0;31m \u001b[0mlistings\u001b[0m\u001b[0;34m[\u001b[0m\u001b[0;34m\"neighbourhood_group_cleansed\"\u001b[0m\u001b[0;34m]\u001b[0m\u001b[0;34m.\u001b[0m\u001b[0munique\u001b[0m\u001b[0;34m(\u001b[0m\u001b[0;34m)\u001b[0m\u001b[0;34m\u001b[0m\u001b[0;34m\u001b[0m\u001b[0m\n\u001b[0m",
            "\u001b[0;31mNameError\u001b[0m: name 'listings' is not defined"
          ]
        }
      ]
    },
    {
      "cell_type": "code",
      "source": [
        "listings[listings[\"city\"] != listings[\"neighbourhood_cleansed\"]][[\"city\", \"neighbourhood_cleansed\"]]"
      ],
      "metadata": {
        "id": "EHetV-0v3BLG"
      },
      "execution_count": null,
      "outputs": []
    },
    {
      "cell_type": "code",
      "source": [
        "listings[\"state\"].unique()"
      ],
      "metadata": {
        "id": "jdwmVN7A3ZN-"
      },
      "execution_count": null,
      "outputs": []
    },
    {
      "cell_type": "code",
      "source": [
        "print(listings[\"zipcode\"].isna().sum())\n",
        "listings[\"zipcode\"].unique()"
      ],
      "metadata": {
        "id": "P8XpESDn3q86"
      },
      "execution_count": null,
      "outputs": []
    },
    {
      "cell_type": "code",
      "source": [
        "listings[\"market\"].unique()"
      ],
      "metadata": {
        "id": "ZVNrvMee3wko"
      },
      "execution_count": null,
      "outputs": []
    },
    {
      "cell_type": "code",
      "source": [
        "listings[\"smart_location\"].unique()"
      ],
      "metadata": {
        "id": "-N61tzrX4Bpi"
      },
      "execution_count": null,
      "outputs": []
    },
    {
      "cell_type": "code",
      "source": [
        "print(listings[\"security_deposit\"].isna().sum())\n",
        "listings[\"security_deposit\"].unique()"
      ],
      "metadata": {
        "id": "4Z9XWE3f49d2"
      },
      "execution_count": null,
      "outputs": []
    },
    {
      "cell_type": "code",
      "source": [
        "print(listings[\"cleaning_fee\"].isna().sum())\n",
        "listings[\"cleaning_fee\"].unique()"
      ],
      "metadata": {
        "id": "lhIAFH3g5Fo7"
      },
      "execution_count": null,
      "outputs": []
    },
    {
      "cell_type": "code",
      "source": [
        "print(listings[\"accommodates\"].unique())\n",
        "listings[\"accommodates\"].isna().sum()"
      ],
      "metadata": {
        "id": "bpc1zBuDU7Xu"
      },
      "execution_count": null,
      "outputs": []
    },
    {
      "cell_type": "code",
      "source": [
        "print(listings[\"guests_included\"].isna().sum())\n",
        "listings[\"guests_included\"].unique()"
      ],
      "metadata": {
        "id": "Bp5iR3Ar5Tjv"
      },
      "execution_count": null,
      "outputs": []
    },
    {
      "cell_type": "code",
      "source": [
        "listings[listings[\"accommodates\"] != listings[\"guests_included\"]][[\"accommodates\", \"guests_included\"]]"
      ],
      "metadata": {
        "id": "xyjOa4pSVDqa"
      },
      "execution_count": null,
      "outputs": []
    },
    {
      "cell_type": "code",
      "source": [
        "print(listings[\"extra_people\"].isna().sum())\n",
        "listings[\"extra_people\"].unique()"
      ],
      "metadata": {
        "id": "PhfgFqae5fjq"
      },
      "execution_count": null,
      "outputs": []
    },
    {
      "cell_type": "code",
      "source": [
        "print(listings[\"calendar_updated\"].isna().sum())\n",
        "listings[\"calendar_updated\"].unique()"
      ],
      "metadata": {
        "id": "KxL9BSfz5m8k"
      },
      "execution_count": null,
      "outputs": []
    },
    {
      "cell_type": "code",
      "source": [
        "print(listings[\"has_availability\"].isna().sum())\n",
        "listings[\"has_availability\"].unique()"
      ],
      "metadata": {
        "id": "Rd1-2Luq6MWf"
      },
      "execution_count": null,
      "outputs": []
    },
    {
      "cell_type": "code",
      "source": [
        "print(listings[\"availability_30\"].isna().sum())\n",
        "listings[\"availability_30\"].unique()\n"
      ],
      "metadata": {
        "id": "v-QcV8W16dx2"
      },
      "execution_count": null,
      "outputs": []
    },
    {
      "cell_type": "code",
      "source": [
        "print(listings[\"availability_60\"].isna().sum())\n",
        "listings[\"availability_60\"].unique()"
      ],
      "metadata": {
        "id": "f-ANz5t-6igQ"
      },
      "execution_count": null,
      "outputs": []
    },
    {
      "cell_type": "code",
      "source": [
        "print(listings.iloc[0])"
      ],
      "metadata": {
        "id": "m_evUjcq6rhE"
      },
      "execution_count": null,
      "outputs": []
    },
    {
      "cell_type": "code",
      "source": [
        "print(listings[\"first_review\"].isna().sum())\n",
        "listings[\"first_review\"].unique()"
      ],
      "metadata": {
        "id": "pPAGZ6MX81G7"
      },
      "execution_count": null,
      "outputs": []
    },
    {
      "cell_type": "code",
      "source": [
        "# Check if all rows have unique IDs\n",
        "listings.id.nunique()"
      ],
      "metadata": {
        "id": "Ic0Wl1c-AHfG"
      },
      "execution_count": null,
      "outputs": []
    },
    {
      "cell_type": "code",
      "source": [
        "# Are there less host ids?\n",
        "listings.host_id.nunique()"
      ],
      "metadata": {
        "id": "o0gUf_MeApGC"
      },
      "execution_count": null,
      "outputs": []
    },
    {
      "cell_type": "code",
      "source": [
        "# Check response times\n",
        "listings.host_response_time.nunique()\n",
        "print(listings.host_response_time.nunique())"
      ],
      "metadata": {
        "id": "FAGWXCExKmfe"
      },
      "execution_count": null,
      "outputs": []
    },
    {
      "cell_type": "code",
      "source": [
        "listings.host_neighbourhood.nunique()"
      ],
      "metadata": {
        "id": "bwNtesFtLYvQ"
      },
      "execution_count": null,
      "outputs": []
    },
    {
      "cell_type": "code",
      "source": [
        "# Check values for city\n",
        "listings.city.value_counts()"
      ],
      "metadata": {
        "id": "7IEZ50M0OR2d"
      },
      "execution_count": null,
      "outputs": []
    },
    {
      "cell_type": "code",
      "source": [
        "listings[\"instant_bookable\"].value_counts()"
      ],
      "metadata": {
        "id": "eImJmEGdA7pi"
      },
      "execution_count": null,
      "outputs": []
    },
    {
      "cell_type": "code",
      "source": [
        "print(listings[\"cancellation_policy\"].unique())\n",
        "print(listings[\"cancellation_policy\"].value_counts())"
      ],
      "metadata": {
        "id": "z7PKyyakBUJM"
      },
      "execution_count": null,
      "outputs": []
    },
    {
      "cell_type": "code",
      "source": [
        "print(listings[\"calculated_host_listings_count\"].unique())\n",
        "print(listings[\"calculated_host_listings_count\"].value_counts())"
      ],
      "metadata": {
        "id": "E6NV5AfKBpfI"
      },
      "execution_count": null,
      "outputs": []
    },
    {
      "cell_type": "code",
      "source": [
        "listings[\"house_rules\"].iloc[0]"
      ],
      "metadata": {
        "id": "yvsli6ykPd0r"
      },
      "execution_count": null,
      "outputs": []
    },
    {
      "cell_type": "code",
      "source": [
        "print(listings[\"property_type\"].unique())\n",
        "listings[\"property_type\"].isna().sum()"
      ],
      "metadata": {
        "id": "0DWfe1S1Pz4f"
      },
      "execution_count": null,
      "outputs": []
    },
    {
      "cell_type": "code",
      "source": [
        "print(listings[\"room_type\"].unique())\n",
        "listings[\"room_type\"].isna().sum()"
      ],
      "metadata": {
        "id": "uzVgdemkP3n5"
      },
      "execution_count": null,
      "outputs": []
    },
    {
      "cell_type": "code",
      "source": [
        "print(listings[\"accommodates\"].unique())\n",
        "listings[\"accommodates\"].isna().sum()"
      ],
      "metadata": {
        "id": "A1_xjkkPP4u2"
      },
      "execution_count": null,
      "outputs": []
    },
    {
      "cell_type": "code",
      "source": [
        "print(listings[\"bathrooms\"].unique())\n",
        "listings[\"bathrooms\"].isna().sum()"
      ],
      "metadata": {
        "id": "6M1skGkSP6V_"
      },
      "execution_count": null,
      "outputs": []
    },
    {
      "cell_type": "code",
      "source": [
        "print(listings[\"bedrooms\"].unique())\n",
        "listings[\"bedrooms\"].isna().sum()"
      ],
      "metadata": {
        "id": "wVOhnopeUAAN"
      },
      "execution_count": null,
      "outputs": []
    },
    {
      "cell_type": "code",
      "source": [
        "print(listings[\"beds\"].unique())\n",
        "listings[\"beds\"].isna().sum()"
      ],
      "metadata": {
        "id": "bSWGctyuacKs"
      },
      "execution_count": null,
      "outputs": []
    },
    {
      "cell_type": "code",
      "source": [
        "print(listings[\"bed_type\"].unique())\n",
        "listings[\"bed_type\"].isna().sum()"
      ],
      "metadata": {
        "id": "cEZ7-EcZab7V"
      },
      "execution_count": null,
      "outputs": []
    },
    {
      "cell_type": "code",
      "source": [
        "listings[listings[\"beds\"] == 9].iloc[0]"
      ],
      "metadata": {
        "id": "fc4hy0rga79f"
      },
      "execution_count": null,
      "outputs": []
    },
    {
      "cell_type": "code",
      "source": [
        "print(listings[\"amenities\"].unique())\n",
        "listings[\"amenities\"].isna().sum()"
      ],
      "metadata": {
        "id": "V95dWzKhbww6"
      },
      "execution_count": null,
      "outputs": []
    },
    {
      "cell_type": "code",
      "source": [
        "print(listings[\"square_feet\"].unique())\n",
        "print(listings[\"square_feet\"].isna().sum())\n",
        "listings[\"square_feet\"][50]"
      ],
      "metadata": {
        "id": "PUMPJTt8cNi2"
      },
      "execution_count": null,
      "outputs": []
    },
    {
      "cell_type": "code",
      "source": [
        "print(listings[\"price\"].unique())\n",
        "listings[\"price\"].isna().sum()"
      ],
      "metadata": {
        "id": "bgJ7eyc1czCR"
      },
      "execution_count": null,
      "outputs": []
    },
    {
      "cell_type": "code",
      "source": [
        "print(listings[\"weekly_price\"].unique())\n",
        "listings[\"weekly_price\"].isna().sum()"
      ],
      "metadata": {
        "id": "hK3-SKCZc-ZE"
      },
      "execution_count": null,
      "outputs": []
    },
    {
      "cell_type": "code",
      "source": [
        "listings[\"monthly_price\"].isna().sum()"
      ],
      "metadata": {
        "id": "AFUq3WuIdAfg"
      },
      "execution_count": null,
      "outputs": []
    },
    {
      "cell_type": "code",
      "source": [
        "print(listings[\"extra_people\"].unique())\n",
        "listings[\"extra_people\"].isna().sum()"
      ],
      "metadata": {
        "id": "YbvMArJ-dSam"
      },
      "execution_count": null,
      "outputs": []
    },
    {
      "cell_type": "code",
      "source": [
        "listings[\"extra_people\"].value_counts()"
      ],
      "metadata": {
        "id": "8xDLG5CsdkqA"
      },
      "execution_count": null,
      "outputs": []
    },
    {
      "cell_type": "code",
      "source": [
        "print(listings['city'].nunique())\n",
        "listings['city'].unique()"
      ],
      "metadata": {
        "id": "rmO-IDAmduD6"
      },
      "execution_count": null,
      "outputs": []
    },
    {
      "cell_type": "code",
      "source": [
        "# this needs to be dropped as needed in the processing of listings data\n",
        "\"\"\"\n",
        "\"listing_url\", \"scrape_id\", \"last_scraped\", \"summary\", \n",
        "\"experiences_offered\", \"thumbnail_url\", \"medium_url\", \n",
        "\"picture_url\", \"xl_picture_url\", \"host_url\", \n",
        "\"host_thumbnail_url\", \"host_picture_url\", \n",
        "\"host_total_listings_count\", \"host_verifications\", \n",
        "\"host_has_profile_pic\", \"host_identity_verified\", \n",
        "\"neighbourhood\", \"neighbourhood_group_cleansed\", \n",
        "\"state\", \"market\", \"country_code\", \"smart_location\", \n",
        "\"country\", \"latitude\", \"longitude\", \"is_location_exact\", \n",
        "\"security_deposit\", \"cleaning_fee\", \"minimum_nights\", \n",
        "\"maximum_nights\", \"calendar_updated\", \"has_availability\", \n",
        "\"availability_30\", \"availability_60\", \"availability_90\", \n",
        "\"availability_365\", \"calendar_last_scraped\", \"first_review\", \n",
        "\"last_review\", \"review_scores_rating\", \"review_scores_accuracy\", \n",
        "\"review_scores_cleanliness\", \"review_scores_checkin\", \n",
        "\"review_scores_communication\", \"review_scores_location\", \n",
        "\"review_scores_value\", \"requires_license\", \"license\", \n",
        "\"jurisdiction_names\", \"require_guest_profile_picture\", \n",
        "\"require_guest_phone_verification\", \"calculated_host_listings_count\",\n",
        "\"number_of_reviews\", \"reviews_per_month\", \"guests_included\", \"host_name\",\n",
        "\"host_since\", \"host_location\", \"host_response_rate\", \n",
        "\"host_acceptance_rate\", \"host_is_superhost\", \n",
        "\"host_neighbourhood\", \"host_id\", \"host_about\"\n",
        "\"\"\""
      ],
      "metadata": {
        "id": "NYcHA6qakAVl"
      },
      "execution_count": null,
      "outputs": []
    },
    {
      "cell_type": "markdown",
      "source": [
        "#### Reviews Data "
      ],
      "metadata": {
        "id": "trla-Za4qlUc"
      }
    },
    {
      "cell_type": "code",
      "source": [
        "#print the head of listings\n",
        "reviews.head()"
      ],
      "metadata": {
        "id": "t7LhXjPKqwUf"
      },
      "execution_count": null,
      "outputs": []
    },
    {
      "cell_type": "code",
      "source": [
        "#reviews[reviews.columns[0]].count()\n",
        "#len(reviews.index)\n",
        "reviews.shape"
      ],
      "metadata": {
        "id": "qDVU4Odpq5bo"
      },
      "execution_count": null,
      "outputs": []
    },
    {
      "cell_type": "code",
      "source": [
        "#print description of data\n",
        "reviews.describe()"
      ],
      "metadata": {
        "id": "Hz1iRofErKRd"
      },
      "execution_count": null,
      "outputs": []
    },
    {
      "cell_type": "code",
      "source": [
        "#print concise summary of data\n",
        "reviews.info()"
      ],
      "metadata": {
        "id": "IRNNcS42rPny"
      },
      "execution_count": null,
      "outputs": []
    },
    {
      "cell_type": "code",
      "source": [
        "reviews[\"comments\"].isna().sum()"
      ],
      "metadata": {
        "id": "4heWzdVyFU0J"
      },
      "execution_count": null,
      "outputs": []
    },
    {
      "cell_type": "code",
      "source": [
        "reviews.reviewer_id.nunique()"
      ],
      "metadata": {
        "id": "R8X_4w0Gra5A"
      },
      "execution_count": null,
      "outputs": []
    },
    {
      "cell_type": "code",
      "source": [
        "reviews.duplicated(\"reviewer_id\").sum()"
      ],
      "metadata": {
        "id": "OPZd76p5NohK"
      },
      "execution_count": null,
      "outputs": []
    },
    {
      "cell_type": "code",
      "source": [
        "reviews.duplicated(subset=[\"reviewer_id\", \"listing_id\"]).sum()"
      ],
      "metadata": {
        "id": "DfVPxBTxRE3C"
      },
      "execution_count": null,
      "outputs": []
    },
    {
      "cell_type": "code",
      "source": [
        "print(reviews.duplicated(subset=[\"reviewer_id\", \"listing_id\", \"date\"]).sum())\n",
        "reviews[reviews.duplicated(subset=[\"reviewer_id\", \"listing_id\", \"date\"], keep=False)]"
      ],
      "metadata": {
        "id": "qh549LKMVFFK"
      },
      "execution_count": null,
      "outputs": []
    },
    {
      "cell_type": "code",
      "source": [
        "print(reviews.duplicated(subset=[\"reviewer_id\", \"listing_id\", \"comments\"]).sum())\n",
        "reviews[reviews.duplicated(subset=[\"reviewer_id\", \"listing_id\", \"comments\"], keep=False)]"
      ],
      "metadata": {
        "id": "YgP4BVpyVSdn"
      },
      "execution_count": null,
      "outputs": []
    },
    {
      "cell_type": "markdown",
      "source": [
        "**Review Data Issues Identified**\n",
        "\n",
        "- reviewer_id: convert to `str`\n",
        "- date: convert to `datetime`\n",
        "- reviewer_id: convert to dummy\n",
        "- comment: ? missing value and duplication \n",
        "\n"
      ],
      "metadata": {
        "id": "Vf4RgzlJTzCi"
      }
    },
    {
      "cell_type": "markdown",
      "source": [
        "## Section 3: Data Preparation\n",
        "In order for the results to be reliable, data preparation makes sure that the raw data being prepared for analysis and processing is accurate and consistent. Data preparation efforts may involve resolving data issues, confirming data quality, and consolidating data collections.\n",
        "\n",
        "Finding pertinent data is another step in the data preparation process that enables analytics programmes to provide useful information and practical insights. By combining internal and external data sets, developing new data fields, removing outlier values, and resolving imbalanced data sets that can skew analytics results, the data is frequently enriched and optimised to make it much more relevant and usable.\n",
        "\n",
        "The data preparation pipeline consists of the following steps.\n",
        "\n",
        "1. Access the data.\n",
        "2. Fetch the data.\n",
        "3. Cleanse the data.\n",
        "4. Format the data.\n",
        "5. Combine the data.\n",
        "6. Analyze the data."
      ],
      "metadata": {
        "id": "yRQP8nivUcRf"
      }
    },
    {
      "cell_type": "markdown",
      "source": [
        "### Processing Calendar Data"
      ],
      "metadata": {
        "id": "zuTV0cn3H1bO"
      }
    },
    {
      "cell_type": "code",
      "source": [
        "calendar_cleaned = pd.read_csv('calendar.csv')"
      ],
      "metadata": {
        "id": "T88ea6DmUhaD"
      },
      "execution_count": 9,
      "outputs": []
    },
    {
      "cell_type": "code",
      "source": [
        "# convert calendar listing_id to string method 1= \n",
        "calendar_cleaned[\"listing_id\"] = calendar_cleaned[\"listing_id\"].apply(str)"
      ],
      "metadata": {
        "id": "E5zY0A5cH08L"
      },
      "execution_count": 10,
      "outputs": []
    },
    {
      "cell_type": "code",
      "source": [
        "# convert date(string) to datetime fastest method\n",
        "# calendar['date'] = pd.to_datetime(calendar['date']) o/p dtype('<M8[ns]')\n",
        "calendar_cleaned['date'] = calendar_cleaned['date'].astype('datetime64[ns]')"
      ],
      "metadata": {
        "id": "nLlkVPYOIZIE"
      },
      "execution_count": 11,
      "outputs": []
    },
    {
      "cell_type": "code",
      "source": [
        "# to check dtype of datetime is equal to endianess\n",
        "np.dtype('datetime64[ns]') == np.dtype('<M8[ns]')"
      ],
      "metadata": {
        "id": "YyG0OoBsIeMa",
        "colab": {
          "base_uri": "https://localhost:8080/"
        },
        "outputId": "03094f6b-ad71-4ce5-faa6-039c7634b269"
      },
      "execution_count": 173,
      "outputs": [
        {
          "output_type": "execute_result",
          "data": {
            "text/plain": [
              "True"
            ]
          },
          "metadata": {},
          "execution_count": 173
        }
      ]
    },
    {
      "cell_type": "code",
      "source": [
        "#apply for listings and calendar column both\n",
        "calendar_cleaned[\"price\"] = calendar_cleaned[\"price\"].fillna(\"$0\")"
      ],
      "metadata": {
        "id": "i8S8oJAPIyYB"
      },
      "execution_count": 13,
      "outputs": []
    },
    {
      "cell_type": "code",
      "source": [
        "# price fill nans to 0 and convert price to float and remove $ / ,\n",
        "calendar_cleaned[\"price\"] = calendar_cleaned[\"price\"].replace('[\\$,]', '', regex=True).astype(float)"
      ],
      "metadata": {
        "id": "fLy_fCK3nPX1"
      },
      "execution_count": 14,
      "outputs": []
    },
    {
      "cell_type": "code",
      "source": [
        "calendar_cleaned.shape"
      ],
      "metadata": {
        "colab": {
          "base_uri": "https://localhost:8080/"
        },
        "id": "tDGPpJArndBS",
        "outputId": "eb63c9fc-6f2f-4f3b-ff46-ff3b38c64172"
      },
      "execution_count": 15,
      "outputs": [
        {
          "output_type": "execute_result",
          "data": {
            "text/plain": [
              "(1308890, 4)"
            ]
          },
          "metadata": {},
          "execution_count": 15
        }
      ]
    },
    {
      "cell_type": "code",
      "source": [
        "# drop duplicated rows in calendar\n",
        "calendar_cleaned = calendar_cleaned.drop_duplicates()"
      ],
      "metadata": {
        "id": "r_lSwUfoI-Eu"
      },
      "execution_count": 16,
      "outputs": []
    },
    {
      "cell_type": "code",
      "source": [
        "calendar_cleaned.shape"
      ],
      "metadata": {
        "colab": {
          "base_uri": "https://localhost:8080/"
        },
        "id": "btVyNJJ-nfHb",
        "outputId": "9ef42020-a830-4a92-81b6-688bb8d8d2e3"
      },
      "execution_count": 17,
      "outputs": [
        {
          "output_type": "execute_result",
          "data": {
            "text/plain": [
              "(1308525, 4)"
            ]
          },
          "metadata": {},
          "execution_count": 17
        }
      ]
    },
    {
      "cell_type": "code",
      "source": [
        "calendar_cleaned['available'] = np.where(calendar_cleaned['available'] == 'f', 0, 1)"
      ],
      "metadata": {
        "id": "8JmknR_xJN3V"
      },
      "execution_count": 18,
      "outputs": []
    },
    {
      "cell_type": "code",
      "source": [
        "calendar_cleaned.dtypes"
      ],
      "metadata": {
        "colab": {
          "base_uri": "https://localhost:8080/"
        },
        "id": "4SRW9cRfJdbC",
        "outputId": "a008c9ad-c0c5-4d7c-ea45-f388f5750c83"
      },
      "execution_count": 19,
      "outputs": [
        {
          "output_type": "execute_result",
          "data": {
            "text/plain": [
              "listing_id            object\n",
              "date          datetime64[ns]\n",
              "available              int64\n",
              "price                float64\n",
              "dtype: object"
            ]
          },
          "metadata": {},
          "execution_count": 19
        }
      ]
    },
    {
      "cell_type": "code",
      "source": [
        "calendar_cleaned[calendar_cleaned[\"available\"] == 1].head()"
      ],
      "metadata": {
        "colab": {
          "base_uri": "https://localhost:8080/",
          "height": 206
        },
        "id": "aEFYs4iwnCO2",
        "outputId": "f23bea41-44ef-4103-db3e-512bd43eef06"
      },
      "execution_count": 20,
      "outputs": [
        {
          "output_type": "execute_result",
          "data": {
            "text/plain": [
              "    listing_id       date  available        price\n",
              "365    3075044 2017-08-22          1 65.000000000\n",
              "366    3075044 2017-08-21          1 65.000000000\n",
              "367    3075044 2017-08-20          1 65.000000000\n",
              "368    3075044 2017-08-19          1 75.000000000\n",
              "369    3075044 2017-08-18          1 75.000000000"
            ],
            "text/html": [
              "\n",
              "  <div id=\"df-a6aa963b-3959-4a28-9820-50ff8d4aa5bf\">\n",
              "    <div class=\"colab-df-container\">\n",
              "      <div>\n",
              "<style scoped>\n",
              "    .dataframe tbody tr th:only-of-type {\n",
              "        vertical-align: middle;\n",
              "    }\n",
              "\n",
              "    .dataframe tbody tr th {\n",
              "        vertical-align: top;\n",
              "    }\n",
              "\n",
              "    .dataframe thead th {\n",
              "        text-align: right;\n",
              "    }\n",
              "</style>\n",
              "<table border=\"1\" class=\"dataframe\">\n",
              "  <thead>\n",
              "    <tr style=\"text-align: right;\">\n",
              "      <th></th>\n",
              "      <th>listing_id</th>\n",
              "      <th>date</th>\n",
              "      <th>available</th>\n",
              "      <th>price</th>\n",
              "    </tr>\n",
              "  </thead>\n",
              "  <tbody>\n",
              "    <tr>\n",
              "      <th>365</th>\n",
              "      <td>3075044</td>\n",
              "      <td>2017-08-22</td>\n",
              "      <td>1</td>\n",
              "      <td>65.000000000</td>\n",
              "    </tr>\n",
              "    <tr>\n",
              "      <th>366</th>\n",
              "      <td>3075044</td>\n",
              "      <td>2017-08-21</td>\n",
              "      <td>1</td>\n",
              "      <td>65.000000000</td>\n",
              "    </tr>\n",
              "    <tr>\n",
              "      <th>367</th>\n",
              "      <td>3075044</td>\n",
              "      <td>2017-08-20</td>\n",
              "      <td>1</td>\n",
              "      <td>65.000000000</td>\n",
              "    </tr>\n",
              "    <tr>\n",
              "      <th>368</th>\n",
              "      <td>3075044</td>\n",
              "      <td>2017-08-19</td>\n",
              "      <td>1</td>\n",
              "      <td>75.000000000</td>\n",
              "    </tr>\n",
              "    <tr>\n",
              "      <th>369</th>\n",
              "      <td>3075044</td>\n",
              "      <td>2017-08-18</td>\n",
              "      <td>1</td>\n",
              "      <td>75.000000000</td>\n",
              "    </tr>\n",
              "  </tbody>\n",
              "</table>\n",
              "</div>\n",
              "      <button class=\"colab-df-convert\" onclick=\"convertToInteractive('df-a6aa963b-3959-4a28-9820-50ff8d4aa5bf')\"\n",
              "              title=\"Convert this dataframe to an interactive table.\"\n",
              "              style=\"display:none;\">\n",
              "        \n",
              "  <svg xmlns=\"http://www.w3.org/2000/svg\" height=\"24px\"viewBox=\"0 0 24 24\"\n",
              "       width=\"24px\">\n",
              "    <path d=\"M0 0h24v24H0V0z\" fill=\"none\"/>\n",
              "    <path d=\"M18.56 5.44l.94 2.06.94-2.06 2.06-.94-2.06-.94-.94-2.06-.94 2.06-2.06.94zm-11 1L8.5 8.5l.94-2.06 2.06-.94-2.06-.94L8.5 2.5l-.94 2.06-2.06.94zm10 10l.94 2.06.94-2.06 2.06-.94-2.06-.94-.94-2.06-.94 2.06-2.06.94z\"/><path d=\"M17.41 7.96l-1.37-1.37c-.4-.4-.92-.59-1.43-.59-.52 0-1.04.2-1.43.59L10.3 9.45l-7.72 7.72c-.78.78-.78 2.05 0 2.83L4 21.41c.39.39.9.59 1.41.59.51 0 1.02-.2 1.41-.59l7.78-7.78 2.81-2.81c.8-.78.8-2.07 0-2.86zM5.41 20L4 18.59l7.72-7.72 1.47 1.35L5.41 20z\"/>\n",
              "  </svg>\n",
              "      </button>\n",
              "      \n",
              "  <style>\n",
              "    .colab-df-container {\n",
              "      display:flex;\n",
              "      flex-wrap:wrap;\n",
              "      gap: 12px;\n",
              "    }\n",
              "\n",
              "    .colab-df-convert {\n",
              "      background-color: #E8F0FE;\n",
              "      border: none;\n",
              "      border-radius: 50%;\n",
              "      cursor: pointer;\n",
              "      display: none;\n",
              "      fill: #1967D2;\n",
              "      height: 32px;\n",
              "      padding: 0 0 0 0;\n",
              "      width: 32px;\n",
              "    }\n",
              "\n",
              "    .colab-df-convert:hover {\n",
              "      background-color: #E2EBFA;\n",
              "      box-shadow: 0px 1px 2px rgba(60, 64, 67, 0.3), 0px 1px 3px 1px rgba(60, 64, 67, 0.15);\n",
              "      fill: #174EA6;\n",
              "    }\n",
              "\n",
              "    [theme=dark] .colab-df-convert {\n",
              "      background-color: #3B4455;\n",
              "      fill: #D2E3FC;\n",
              "    }\n",
              "\n",
              "    [theme=dark] .colab-df-convert:hover {\n",
              "      background-color: #434B5C;\n",
              "      box-shadow: 0px 1px 3px 1px rgba(0, 0, 0, 0.15);\n",
              "      filter: drop-shadow(0px 1px 2px rgba(0, 0, 0, 0.3));\n",
              "      fill: #FFFFFF;\n",
              "    }\n",
              "  </style>\n",
              "\n",
              "      <script>\n",
              "        const buttonEl =\n",
              "          document.querySelector('#df-a6aa963b-3959-4a28-9820-50ff8d4aa5bf button.colab-df-convert');\n",
              "        buttonEl.style.display =\n",
              "          google.colab.kernel.accessAllowed ? 'block' : 'none';\n",
              "\n",
              "        async function convertToInteractive(key) {\n",
              "          const element = document.querySelector('#df-a6aa963b-3959-4a28-9820-50ff8d4aa5bf');\n",
              "          const dataTable =\n",
              "            await google.colab.kernel.invokeFunction('convertToInteractive',\n",
              "                                                     [key], {});\n",
              "          if (!dataTable) return;\n",
              "\n",
              "          const docLinkHtml = 'Like what you see? Visit the ' +\n",
              "            '<a target=\"_blank\" href=https://colab.research.google.com/notebooks/data_table.ipynb>data table notebook</a>'\n",
              "            + ' to learn more about interactive tables.';\n",
              "          element.innerHTML = '';\n",
              "          dataTable['output_type'] = 'display_data';\n",
              "          await google.colab.output.renderOutput(dataTable, element);\n",
              "          const docLink = document.createElement('div');\n",
              "          docLink.innerHTML = docLinkHtml;\n",
              "          element.appendChild(docLink);\n",
              "        }\n",
              "      </script>\n",
              "    </div>\n",
              "  </div>\n",
              "  "
            ]
          },
          "metadata": {},
          "execution_count": 20
        }
      ]
    },
    {
      "cell_type": "markdown",
      "source": [
        "### Processing Listings Data"
      ],
      "metadata": {
        "id": "uhGEv83mJ05_"
      }
    },
    {
      "cell_type": "code",
      "source": [
        "listings_cleaned = pd.read_csv('listings.csv')"
      ],
      "metadata": {
        "id": "jq6AWHA-JzSP"
      },
      "execution_count": 21,
      "outputs": []
    },
    {
      "cell_type": "code",
      "source": [
        "# Drop extraneous column\n",
        "listings_cleaned = listings_cleaned.drop(\n",
        "    columns = [\n",
        "              \"listing_url\", \"scrape_id\", \"last_scraped\", \"summary\", \n",
        "              \"experiences_offered\", \"thumbnail_url\", \"medium_url\", \n",
        "              \"picture_url\", \"xl_picture_url\", \"host_url\", \n",
        "              \"host_thumbnail_url\", \"host_picture_url\", \n",
        "              \"host_total_listings_count\", \"host_verifications\", \n",
        "              \"host_has_profile_pic\", \"host_identity_verified\", \n",
        "              \"neighbourhood\", \"neighbourhood_group_cleansed\", \n",
        "              \"state\", \"market\", \"country_code\", \"smart_location\", \n",
        "              \"country\", \"latitude\", \"longitude\", \"is_location_exact\", \n",
        "              \"security_deposit\", \"cleaning_fee\", \"minimum_nights\", \n",
        "              \"maximum_nights\", \"calendar_updated\", \"has_availability\", \n",
        "              \"availability_30\", \"availability_60\", \"availability_90\", \n",
        "              \"availability_365\", \"calendar_last_scraped\", \"first_review\", \n",
        "              \"last_review\", \"review_scores_rating\", \"review_scores_accuracy\", \n",
        "              \"review_scores_cleanliness\", \"review_scores_checkin\", \n",
        "              \"review_scores_communication\", \"review_scores_location\", \n",
        "              \"review_scores_value\", \"requires_license\", \"license\", \n",
        "              \"jurisdiction_names\", \"require_guest_profile_picture\", \n",
        "              \"require_guest_phone_verification\", \"calculated_host_listings_count\",\n",
        "               \"number_of_reviews\", \"reviews_per_month\", \"guests_included\", \"host_name\",\n",
        "               \"host_since\", \"host_location\", \"host_response_rate\",\n",
        "               \"host_acceptance_rate\", \"host_is_superhost\",\n",
        "               \"host_neighbourhood\", \"host_id\", \"host_about\",\n",
        "               \"name\", \"amenities\", \"weekly_price\", \"weekly_price\"\n",
        "              ],\n",
        ")"
      ],
      "metadata": {
        "id": "bzs8JkURKnNL"
      },
      "execution_count": 22,
      "outputs": []
    },
    {
      "cell_type": "code",
      "source": [
        "# Convert id in listings from number to string\n",
        "listings_cleaned[\"id\"] = listings_cleaned[\"id\"].apply(str)"
      ],
      "metadata": {
        "id": "4654YubTfAPC"
      },
      "execution_count": 23,
      "outputs": []
    },
    {
      "cell_type": "code",
      "source": [
        "## Remove na from text columns\n",
        "text_cols = [\"space\", \"description\", \"neighborhood_overview\", \"notes\", \"transit\", \"access\", \"house_rules\", \"interaction\"]\n",
        "listings_cleaned[text_cols] = listings_cleaned[text_cols].fillna(\"\")"
      ],
      "metadata": {
        "id": "1fdyGASSfKzy"
      },
      "execution_count": 24,
      "outputs": []
    },
    {
      "cell_type": "code",
      "source": [
        "def combine_cols(df , target_col , cols):\n",
        "  \"\"\"\n",
        "  Combines data in given columns and save it to provided columns\n",
        "  Parameters\n",
        "  ----------\n",
        "  df: dataframe, required\n",
        "  target_col: name of the new column to be created, required\n",
        "  cols: list of columns to be merged with newline (\\\\n) character, required\n",
        "  \"\"\"\n",
        "  df[target_col] = df[cols].apply(lambda x: '\\n'.join(x), axis=1)\n",
        "  df = df.drop(columns= cols)\n",
        "  return df"
      ],
      "metadata": {
        "id": "VzTBMlFpjY09"
      },
      "execution_count": 25,
      "outputs": []
    },
    {
      "cell_type": "code",
      "source": [
        "# Combine space, description, neighborhood_overview, notes -> listing_description\n",
        "listings_cleaned = combine_cols(\n",
        "    df = listings_cleaned,\n",
        "    target_col = \"listing_description\",\n",
        "    cols = [\"space\", \"description\", \"neighborhood_overview\", \"notes\"]\n",
        ")"
      ],
      "metadata": {
        "id": "L3XHUotGiIJn"
      },
      "execution_count": 26,
      "outputs": []
    },
    {
      "cell_type": "code",
      "source": [
        "print(listings_cleaned[\"listing_description\"].iloc[3])"
      ],
      "metadata": {
        "colab": {
          "base_uri": "https://localhost:8080/"
        },
        "id": "fA-HaZH2iH9A",
        "outputId": "12d729ce-cda9-4845-bbe8-181e76fe85e8"
      },
      "execution_count": 27,
      "outputs": [
        {
          "output_type": "stream",
          "name": "stdout",
          "text": [
            "Most places you find in Boston are small however our bedroom suite is large. The bedroom has plush down pillows and a down comforter. The mattress is fitted with a memory foam topper that gives each guest the best sleep. The leather couches are cozy.  The large leather couch can be converted to a bed. The television has been updated to a smart tv therefore you can access most tv programs through there including, HBO, Showtime and Cinemax. If you want to enjoy cable television, there is a tv in the kitchen. The kitchen has a gas burner, dishwasher, garbage disposal, music system, and a space in the fridge to keep your items.\n",
            "Come experience the comforts of home away from home in our fabulous bedroom suite available in Roslindale, a neighborhood in Boston.  Enjoy sleeping on a large king sized bed with plush down bedding, access to a dishwasher, washer dryer and home gym. The house is incredibly accessible to public transportation and the center of Boston. Free street parking is available right in front of the house. Weekend farmers markets, restaurants and grocery stores are a 10 min walk away from the house. Most places you find in Boston are small however our bedroom suite is large. The bedroom has plush down pillows and a down comforter. The mattress is fitted with a memory foam topper that gives each guest the best sleep. The leather couches are cozy.  The large leather couch can be converted to a bed. The television has been updated to a smart tv therefore you can access most tv programs through there including, HBO, Showtime and Cinemax. If you want to enjoy cable television, there is a tv in the kit\n",
            "Roslindale is a lovely little neighborhood located right in the city of Boston.  Though a part of the actual city, once you enter it, you feel as though you have escaped to a suburb with friendly neighbors.  The area is conveniently located with access to the city’s bus and subway system.  The Orange Line and Commuter Rail services connect the area to the heart of Boston and the neighboring towns.  It is situated close to shops, restaurants, grocery stores, parks and neighboring towns.  The farmer’s market held in the neighborhood’s center, Roslindale Village, and goes on all summer on Saturday morning.  Vendors of all different types of arts, crafts, and foods come to the neighborhood.  The Arnold Arboretum is a 265 acre park constructed as part of Frederick Law Olmsted’s Emerald Necklace project to provide Boston a connection through neighborhoods through it’s parks.  Jamaica Pond is also part of the emerald necklace which sits at the confluence of Jamaica Plain (a neighboring neighb\n",
            "Please be mindful of the property as it is old and needs to be treated with the love and care you would give to your own home.  We really hope you enjoy your stay!\n"
          ]
        }
      ]
    },
    {
      "cell_type": "code",
      "source": [
        "# Combine transit, access -> listing_access\n",
        "listings_cleaned = combine_cols(\n",
        "    df = listings_cleaned,\n",
        "    target_col = \"listing_access\",\n",
        "    cols = [\"transit\", \"access\"]\n",
        ")"
      ],
      "metadata": {
        "id": "KC-aVWmBjFmn"
      },
      "execution_count": 28,
      "outputs": []
    },
    {
      "cell_type": "code",
      "source": [
        "print(listings_cleaned[\"listing_access\"].iloc[5])"
      ],
      "metadata": {
        "colab": {
          "base_uri": "https://localhost:8080/"
        },
        "id": "Vcpz4M5gkpaT",
        "outputId": "0bf7cda5-ef99-44eb-9146-5b1444b97da5"
      },
      "execution_count": 29,
      "outputs": [
        {
          "output_type": "stream",
          "name": "stdout",
          "text": [
            "To reach downtown Boston via public transportation takes about 45 minutes. Guests can take the MBTA 51 bus and connect to either the Orange Line at Forest Hills, or the Green Line (D train) at Riverside, depending on where you want to go. In addition, we're a 10-minute walk from the Roslindale Village station on the MBTA Commuter Rail, another option for reaching downtown.\n",
            "Guests are welcome to share our living room and refrigerator space.\n"
          ]
        }
      ]
    },
    {
      "cell_type": "code",
      "source": [
        "# Combine house_rules, interaction -> host_rules\n",
        "listings_cleaned = combine_cols(\n",
        "    df = listings_cleaned,\n",
        "    target_col = \"host_rules\",\n",
        "    cols = [\"house_rules\", \"interaction\"]\n",
        ")"
      ],
      "metadata": {
        "id": "YsToN82QlCLG"
      },
      "execution_count": 30,
      "outputs": []
    },
    {
      "cell_type": "code",
      "source": [
        "print(listings_cleaned[\"host_rules\"].iloc[1])"
      ],
      "metadata": {
        "colab": {
          "base_uri": "https://localhost:8080/"
        },
        "id": "YAnponUNlJuq",
        "outputId": "7bca61d2-14f4-4834-d750-3f1b12843861"
      },
      "execution_count": 31,
      "outputs": [
        {
          "output_type": "stream",
          "name": "stdout",
          "text": [
            "Pet friendly but please confirm with me if the pet you are planning on bringing with you is OK. I have a cute and quiet mixed chihuahua. I could accept more guests (for an extra fee) but this also needs to be confirmed beforehand. Also friends traveling together could sleep in separate beds for an extra fee (the second bed is either a sofa bed or inflatable bed). Smoking is only allowed on the porch.\n",
            "If I am at home, I am likely working in my home office, which is a separate room. I can help you settle in and give you tips and directions on the neighborhood and Boston. \n"
          ]
        }
      ]
    },
    {
      "cell_type": "code",
      "source": [
        "# neighbourhood_cleansed rename to neighbourhood\n",
        "listings_cleaned = listings_cleaned.rename(columns = {'neighbourhood_cleansed':'neighbourhood'})"
      ],
      "metadata": {
        "id": "sX26C2TElX5E"
      },
      "execution_count": 32,
      "outputs": []
    },
    {
      "cell_type": "code",
      "source": [
        "def convert_price_to_float(df , target_col):\n",
        "  df[target_col] = df[target_col].fillna(\"$0\").replace('[\\$,]', '', regex=True).astype(float)\n",
        "  return df\n"
      ],
      "metadata": {
        "id": "ZEGCtJkyBYkf"
      },
      "execution_count": 33,
      "outputs": []
    },
    {
      "cell_type": "code",
      "source": [
        "# extra_people to float value\n",
        "listings_cleaned = convert_price_to_float(\n",
        "      df = listings_cleaned,\n",
        "      target_col = \"extra_people\"\n",
        "    )"
      ],
      "metadata": {
        "id": "JjwtaZbHmAWo"
      },
      "execution_count": 34,
      "outputs": []
    },
    {
      "cell_type": "code",
      "source": [
        "# square_feet replace nan with 0.0\n",
        "listings_cleaned[\"square_feet\"] = listings_cleaned[\"square_feet\"].fillna(0.0)"
      ],
      "metadata": {
        "id": "O3oVdDAZmgan"
      },
      "execution_count": 35,
      "outputs": []
    },
    {
      "cell_type": "code",
      "source": [
        "# price to float float value\n",
        "listings_cleaned = convert_price_to_float(\n",
        "      df = listings_cleaned,\n",
        "      target_col = \"price\"\n",
        "    )"
      ],
      "metadata": {
        "id": "MQV27RBXm8oW"
      },
      "execution_count": 36,
      "outputs": []
    },
    {
      "cell_type": "code",
      "source": [
        "listings_cleaned.info()"
      ],
      "metadata": {
        "colab": {
          "base_uri": "https://localhost:8080/"
        },
        "id": "wyLFjvo6ssgx",
        "outputId": "f27c9fa4-6773-4c3e-87b4-c82804809476"
      },
      "execution_count": 37,
      "outputs": [
        {
          "output_type": "stream",
          "name": "stdout",
          "text": [
            "<class 'pandas.core.frame.DataFrame'>\n",
            "RangeIndex: 3585 entries, 0 to 3584\n",
            "Data columns (total 23 columns):\n",
            " #   Column               Non-Null Count  Dtype  \n",
            "---  ------               --------------  -----  \n",
            " 0   id                   3585 non-null   object \n",
            " 1   host_response_time   3114 non-null   object \n",
            " 2   host_listings_count  3585 non-null   int64  \n",
            " 3   street               3585 non-null   object \n",
            " 4   neighbourhood        3585 non-null   object \n",
            " 5   city                 3583 non-null   object \n",
            " 6   zipcode              3547 non-null   object \n",
            " 7   property_type        3582 non-null   object \n",
            " 8   room_type            3585 non-null   object \n",
            " 9   accommodates         3585 non-null   int64  \n",
            " 10  bathrooms            3571 non-null   float64\n",
            " 11  bedrooms             3575 non-null   float64\n",
            " 12  beds                 3576 non-null   float64\n",
            " 13  bed_type             3585 non-null   object \n",
            " 14  square_feet          3585 non-null   float64\n",
            " 15  price                3585 non-null   float64\n",
            " 16  monthly_price        888 non-null    object \n",
            " 17  extra_people         3585 non-null   float64\n",
            " 18  instant_bookable     3585 non-null   object \n",
            " 19  cancellation_policy  3585 non-null   object \n",
            " 20  listing_description  3585 non-null   object \n",
            " 21  listing_access       3585 non-null   object \n",
            " 22  host_rules           3585 non-null   object \n",
            "dtypes: float64(6), int64(2), object(15)\n",
            "memory usage: 644.3+ KB\n"
          ]
        }
      ]
    },
    {
      "cell_type": "markdown",
      "source": [
        "**Host Response Time**"
      ],
      "metadata": {
        "id": "mi-k6SmV65zq"
      }
    },
    {
      "cell_type": "code",
      "source": [
        "# Convert na to unknown\n",
        "listings_cleaned[\"host_response_time\"] = listings_cleaned[\"host_response_time\"].fillna(\"unknown\")"
      ],
      "metadata": {
        "id": "-umVNovvpB1H"
      },
      "execution_count": 38,
      "outputs": []
    },
    {
      "cell_type": "code",
      "source": [
        "unique_hrt = listings_cleaned[\"host_response_time\"].unique()"
      ],
      "metadata": {
        "id": "AnkyH2kjo3uq"
      },
      "execution_count": 39,
      "outputs": []
    },
    {
      "cell_type": "code",
      "source": [
        "# The values are already in correct order. So, no manual reordering required\n",
        "unique_hrt"
      ],
      "metadata": {
        "colab": {
          "base_uri": "https://localhost:8080/"
        },
        "id": "CyLhwz2qpwhQ",
        "outputId": "b364af8d-1a0a-458c-a2fa-a872f4c1c015"
      },
      "execution_count": 40,
      "outputs": [
        {
          "output_type": "execute_result",
          "data": {
            "text/plain": [
              "array(['unknown', 'within an hour', 'within a few hours', 'within a day',\n",
              "       'a few days or more'], dtype=object)"
            ]
          },
          "metadata": {},
          "execution_count": 40
        }
      ]
    },
    {
      "cell_type": "code",
      "source": [
        "# Convert host_response_time to categorical data\n",
        "listings_cleaned[\"host_response_time\"] = listings_cleaned[\"host_response_time\"].astype(\"category\")\n",
        "listings_cleaned[\"host_response_time\"] = listings_cleaned[\"host_response_time\"].cat.reorder_categories(unique_hrt, ordered=True)"
      ],
      "metadata": {
        "id": "aczOjYHAo1e-"
      },
      "execution_count": 41,
      "outputs": []
    },
    {
      "cell_type": "code",
      "source": [
        "listings_cleaned[\"host_response_time_int\"] = listings_cleaned[\"host_response_time\"].cat.codes"
      ],
      "metadata": {
        "id": "NyJ0p9fg0oHF"
      },
      "execution_count": 42,
      "outputs": []
    },
    {
      "cell_type": "markdown",
      "source": [
        "**Property Type**"
      ],
      "metadata": {
        "id": "PdxHfVnP48Ze"
      }
    },
    {
      "cell_type": "code",
      "source": [
        "listings_cleaned[\"property_type\"] = listings_cleaned[\"property_type\"].fillna(\"unknown\")\n",
        "listings_cleaned[\"property_type\"] = listings_cleaned[\"property_type\"].astype(\"category\")"
      ],
      "metadata": {
        "id": "pmhpEbNX5CzL"
      },
      "execution_count": 43,
      "outputs": []
    },
    {
      "cell_type": "markdown",
      "source": [
        "**Room Type**"
      ],
      "metadata": {
        "id": "l-w3avwW5FpH"
      }
    },
    {
      "cell_type": "code",
      "source": [
        "explore_column(listings_cleaned, \"room_type\", print_unique=True)"
      ],
      "metadata": {
        "colab": {
          "base_uri": "https://localhost:8080/"
        },
        "id": "kJrxaxvU5WKB",
        "outputId": "262bbbdb-bbb7-488b-fc87-230a7e361d10"
      },
      "execution_count": 44,
      "outputs": [
        {
          "output_type": "stream",
          "name": "stdout",
          "text": [
            "There are 0 of na columns.\n",
            "There are 3 unique values\n",
            "Column type:  object\n",
            "Unique values:  ['Entire home/apt' 'Private room' 'Shared room']\n"
          ]
        }
      ]
    },
    {
      "cell_type": "code",
      "source": [
        "listings_cleaned[\"room_type\"] = listings_cleaned[\"room_type\"].fillna(\"unknown\")"
      ],
      "metadata": {
        "id": "F1kYCOIr5KBe"
      },
      "execution_count": 45,
      "outputs": []
    },
    {
      "cell_type": "code",
      "source": [
        "listings_cleaned[\"room_type\"] = listings_cleaned[\"room_type\"].astype(\"category\")\n",
        "rt_order = ['unknown', 'Shared room', 'Private room', 'Entire home/apt']\n",
        "listings_cleaned[\"room_type\"] = listings_cleaned[\"room_type\"].cat.set_categories(rt_order, ordered=True)"
      ],
      "metadata": {
        "id": "lk24GMTr6A8q"
      },
      "execution_count": 46,
      "outputs": []
    },
    {
      "cell_type": "code",
      "source": [
        "listings_cleaned[\"room_type_int\"] = listings_cleaned[\"room_type\"].cat.codes"
      ],
      "metadata": {
        "id": "x9333H3-6KMW"
      },
      "execution_count": 47,
      "outputs": []
    },
    {
      "cell_type": "code",
      "source": [
        "explore_column(listings_cleaned, \"host_response_time_int\", None, True)"
      ],
      "metadata": {
        "colab": {
          "base_uri": "https://localhost:8080/"
        },
        "id": "6IqcW8ilgoTE",
        "outputId": "4df8e48d-239a-4210-b61a-281f08b9b57d"
      },
      "execution_count": 48,
      "outputs": [
        {
          "output_type": "stream",
          "name": "stdout",
          "text": [
            "There are 0 of na columns.\n",
            "There are 5 unique values\n",
            "Column type:  int8\n",
            "Unique values:  [0 1 2 3 4]\n"
          ]
        }
      ]
    },
    {
      "cell_type": "markdown",
      "source": [
        "**Accomodates, Bathrooms, Bedrooms and beds**"
      ],
      "metadata": {
        "id": "ZPP9-GiN7Lox"
      }
    },
    {
      "cell_type": "code",
      "source": [
        "# fillna with \"0\"\n",
        "listings_cleaned[\"accommodates\"] = listings_cleaned[\"accommodates\"].fillna(0)\n",
        "listings_cleaned[\"bathrooms\"] = listings_cleaned[\"bathrooms\"].fillna(0)\n",
        "listings_cleaned[\"bedrooms\"] = listings_cleaned[\"bedrooms\"].fillna(0)\n",
        "listings_cleaned[\"beds\"] = listings_cleaned[\"beds\"].fillna(0)"
      ],
      "metadata": {
        "id": "wotQj1iHvT4r"
      },
      "execution_count": 49,
      "outputs": []
    },
    {
      "cell_type": "code",
      "source": [
        "# Get unique values and sort ascending order\n",
        "# unique_brs = listings_cleaned[\"bedrooms\"].unique()\n",
        "# unique_brs.sort()\n",
        "# unique_brs = unique_brs.astype(str)\n",
        "\n",
        "# to categorical variable\n",
        "# listings_cleaned[\"bedrooms\"] = listings_cleaned[\"bedrooms\"].astype(\"str\").astype(\"category\")\n",
        "# listings_cleaned[\"bedrooms\"] = listings_cleaned[\"bedrooms\"].cat.set_categories(unique_brs, ordered=True)\n",
        "\n",
        "# beds to categorical variable with order\n",
        "\n",
        "# Get unique values and sort ascending order\n",
        "# unique_beds = listings_cleaned[\"beds\"].unique()\n",
        "# unique_beds.sort()\n",
        "# unique_beds = unique_brs.astype(str)\n",
        "\n",
        "# to categorical variable\n",
        "# listings_cleaned[\"beds\"] = listings_cleaned[\"beds\"].astype(\"str\").astype(\"category\")\n",
        "# listings_cleaned[\"beds\"] = listings_cleaned[\"beds\"].cat.set_categories(unique_beds, ordered=True)"
      ],
      "metadata": {
        "id": "_s32LYpQFZnK"
      },
      "execution_count": 50,
      "outputs": []
    },
    {
      "cell_type": "markdown",
      "source": [
        "**Bed Type**"
      ],
      "metadata": {
        "id": "xZpfJVRv6OCp"
      }
    },
    {
      "cell_type": "code",
      "source": [
        "explore_column(listings_cleaned, \"bed_type\", print_samples=None, print_unique=True)"
      ],
      "metadata": {
        "colab": {
          "base_uri": "https://localhost:8080/"
        },
        "id": "j65P7lgTyEIx",
        "outputId": "68bdea99-d990-4de3-a92a-dc1b50dc4792"
      },
      "execution_count": 51,
      "outputs": [
        {
          "output_type": "stream",
          "name": "stdout",
          "text": [
            "There are 0 of na columns.\n",
            "There are 5 unique values\n",
            "Column type:  object\n",
            "Unique values:  ['Real Bed' 'Pull-out Sofa' 'Futon' 'Airbed' 'Couch']\n"
          ]
        }
      ]
    },
    {
      "cell_type": "code",
      "source": [
        "listings_cleaned[\"bed_type\"] = listings_cleaned[\"bed_type\"].fillna(\"unknown\")"
      ],
      "metadata": {
        "id": "QhHNC4od7mj_"
      },
      "execution_count": 52,
      "outputs": []
    },
    {
      "cell_type": "code",
      "source": [
        "listings_cleaned[\"bed_type\"] = listings_cleaned[\"bed_type\"].astype(\"category\")\n",
        "rt_order = ['unknown', 'Couch', 'Pull-out Sofa', 'Futon', 'Airbed', 'Real Bed']\n",
        "listings_cleaned[\"bed_type\"] = listings_cleaned[\"bed_type\"].cat.set_categories(rt_order, ordered=True)"
      ],
      "metadata": {
        "id": "IZ99V2qbyJzD"
      },
      "execution_count": 53,
      "outputs": []
    },
    {
      "cell_type": "code",
      "source": [
        "listings_cleaned[\"bed_type_int\"] = listings_cleaned[\"bed_type\"].cat.codes"
      ],
      "metadata": {
        "id": "nvDuPNC8u5GL"
      },
      "execution_count": 54,
      "outputs": []
    },
    {
      "cell_type": "code",
      "source": [
        "explore_column(listings_cleaned, \"bed_type_int\", print_samples=None, print_unique=True)"
      ],
      "metadata": {
        "colab": {
          "base_uri": "https://localhost:8080/"
        },
        "id": "mWi-aJ-d9Gu_",
        "outputId": "53854769-d479-478a-bb3a-9357c65cf8f8"
      },
      "execution_count": 55,
      "outputs": [
        {
          "output_type": "stream",
          "name": "stdout",
          "text": [
            "There are 0 of na columns.\n",
            "There are 5 unique values\n",
            "Column type:  int8\n",
            "Unique values:  [5 2 3 4 1]\n"
          ]
        }
      ]
    },
    {
      "cell_type": "markdown",
      "source": [
        "**Instant Bookable**"
      ],
      "metadata": {
        "id": "GWeR1BOB8QNz"
      }
    },
    {
      "cell_type": "code",
      "source": [
        "explore_column(listings_cleaned, \"instant_bookable\", print_samples=None, print_unique=True)"
      ],
      "metadata": {
        "colab": {
          "base_uri": "https://localhost:8080/"
        },
        "id": "yX-OCyS88TKT",
        "outputId": "e9e7b790-ed53-44e2-af0e-e56163700bae"
      },
      "execution_count": 56,
      "outputs": [
        {
          "output_type": "stream",
          "name": "stdout",
          "text": [
            "There are 0 of na columns.\n",
            "There are 2 unique values\n",
            "Column type:  object\n",
            "Unique values:  ['f' 't']\n"
          ]
        }
      ]
    },
    {
      "cell_type": "code",
      "source": [
        "# instant_bookable to categorical\n",
        "listings_cleaned[\"instant_bookable\"] = np.where(listings_cleaned[\"instant_bookable\"] == 'f', 0, 1)"
      ],
      "metadata": {
        "id": "WBqRlhb6w8Pk"
      },
      "execution_count": 57,
      "outputs": []
    },
    {
      "cell_type": "markdown",
      "source": [
        "**Cancellation Policy**"
      ],
      "metadata": {
        "id": "BXORy3lM8ave"
      }
    },
    {
      "cell_type": "code",
      "source": [
        "explore_column(listings_cleaned, \"cancellation_policy\", print_samples=None, print_unique=True)"
      ],
      "metadata": {
        "colab": {
          "base_uri": "https://localhost:8080/"
        },
        "id": "FCXAc6Us8Yyg",
        "outputId": "95c376a9-3217-43f0-836c-bed44dd82312"
      },
      "execution_count": 58,
      "outputs": [
        {
          "output_type": "stream",
          "name": "stdout",
          "text": [
            "There are 0 of na columns.\n",
            "There are 4 unique values\n",
            "Column type:  object\n",
            "Unique values:  ['moderate' 'flexible' 'strict' 'super_strict_30']\n"
          ]
        }
      ]
    },
    {
      "cell_type": "code",
      "source": [
        "cancel_uniques = ['flexible', 'moderate', 'strict', 'super_strict_30']"
      ],
      "metadata": {
        "id": "eg3NBEoHHIBI"
      },
      "execution_count": 59,
      "outputs": []
    },
    {
      "cell_type": "code",
      "source": [
        "# cancellation_policy to categorical\n",
        "listings_cleaned[\"cancellation_policy\"] = listings_cleaned[\"cancellation_policy\"].astype(\"category\")\n",
        "listings_cleaned[\"cancellation_policy\"] = listings_cleaned[\"cancellation_policy\"].cat.set_categories(cancel_uniques, ordered=True)\n"
      ],
      "metadata": {
        "id": "q4VKodS75Fxx"
      },
      "execution_count": 60,
      "outputs": []
    },
    {
      "cell_type": "code",
      "source": [
        "listings_cleaned[\"cancellation_policy_int\"] = listings_cleaned[\"cancellation_policy\"].cat.codes"
      ],
      "metadata": {
        "id": "BIvzJQqwHo3Q"
      },
      "execution_count": 61,
      "outputs": []
    },
    {
      "cell_type": "markdown",
      "source": [
        "**Neighbourhood Column**"
      ],
      "metadata": {
        "id": "4VqyCzJH_WC7"
      }
    },
    {
      "cell_type": "code",
      "source": [
        "def fix_neighbourhood(row):\n",
        "  if row[\"neighbourhood\"] is np.nan:\n",
        "    return row[\"street\"].split(',')[0]\n",
        "  else:\n",
        "    return row[\"neighbourhood\"]\n",
        "\n",
        "listings_cleaned[\"neighbourhood\"] = listings_cleaned.apply(fix_neighbourhood, axis=1)"
      ],
      "metadata": {
        "id": "6mCHtUQ2RIm4"
      },
      "execution_count": 62,
      "outputs": []
    },
    {
      "cell_type": "code",
      "source": [
        "listings_cleaned['neighbourhood'].unique()"
      ],
      "metadata": {
        "colab": {
          "base_uri": "https://localhost:8080/"
        },
        "id": "n_fRtMxe_cBT",
        "outputId": "bad8fb1c-3cc3-4936-889e-6ba41955a321"
      },
      "execution_count": 63,
      "outputs": [
        {
          "output_type": "execute_result",
          "data": {
            "text/plain": [
              "array(['Roslindale', 'Jamaica Plain', 'Mission Hill',\n",
              "       'Longwood Medical Area', 'Bay Village', 'Leather District',\n",
              "       'Chinatown', 'North End', 'Roxbury', 'South End', 'Back Bay',\n",
              "       'East Boston', 'Charlestown', 'West End', 'Beacon Hill',\n",
              "       'Downtown', 'Fenway', 'Brighton', 'West Roxbury', 'Hyde Park',\n",
              "       'Mattapan', 'Dorchester', 'South Boston Waterfront',\n",
              "       'South Boston', 'Allston'], dtype=object)"
            ]
          },
          "metadata": {},
          "execution_count": 63
        }
      ]
    },
    {
      "cell_type": "code",
      "source": [
        "listings_cleaned['neighbourhood'].nunique()"
      ],
      "metadata": {
        "colab": {
          "base_uri": "https://localhost:8080/"
        },
        "id": "55krlQkzTpZo",
        "outputId": "9f7ec6be-15bb-4480-ed0f-45fd6a72b053"
      },
      "execution_count": 64,
      "outputs": [
        {
          "output_type": "execute_result",
          "data": {
            "text/plain": [
              "25"
            ]
          },
          "metadata": {},
          "execution_count": 64
        }
      ]
    },
    {
      "cell_type": "code",
      "source": [
        "listings_cleaned['neighbourhood'] = listings_cleaned['neighbourhood'].str.lower()\n",
        "listings_cleaned['neighbourhood'] = listings_cleaned['neighbourhood'].str.strip()\n",
        "# listings['neighbourhood'] = listings['neighbourhood'].str.replace('st', '')\n",
        "# listings['neighbourhood'] = listings['neighbourhood'].str.replace('treet', '')\n",
        "# listings['neighbourhood'] = listings['neighbourhood'].str.strip()"
      ],
      "metadata": {
        "id": "WWfFtjTOUHXc"
      },
      "execution_count": 65,
      "outputs": []
    },
    {
      "cell_type": "code",
      "source": [
        "listings_cleaned['neighbourhood'].value_counts()"
      ],
      "metadata": {
        "colab": {
          "base_uri": "https://localhost:8080/"
        },
        "id": "A4fMwzBw_ea6",
        "outputId": "b74f3291-a9de-469a-c963-67acb12e467c"
      },
      "execution_count": 66,
      "outputs": [
        {
          "output_type": "execute_result",
          "data": {
            "text/plain": [
              "jamaica plain              343\n",
              "south end                  326\n",
              "back bay                   302\n",
              "fenway                     290\n",
              "dorchester                 269\n",
              "allston                    260\n",
              "beacon hill                194\n",
              "brighton                   185\n",
              "south boston               174\n",
              "downtown                   172\n",
              "east boston                150\n",
              "roxbury                    144\n",
              "north end                  143\n",
              "mission hill               124\n",
              "charlestown                111\n",
              "south boston waterfront     83\n",
              "chinatown                   71\n",
              "roslindale                  56\n",
              "west end                    49\n",
              "west roxbury                46\n",
              "hyde park                   31\n",
              "mattapan                    24\n",
              "bay village                 24\n",
              "longwood medical area        9\n",
              "leather district             5\n",
              "Name: neighbourhood, dtype: int64"
            ]
          },
          "metadata": {},
          "execution_count": 66
        }
      ]
    },
    {
      "cell_type": "markdown",
      "source": [
        "### Processing Reviews Data"
      ],
      "metadata": {
        "id": "OoWcMRhSKcR8"
      }
    },
    {
      "cell_type": "code",
      "source": [
        "reviews_cleaned = pd.read_csv('reviews.csv')"
      ],
      "metadata": {
        "id": "kmiQn6-FKcB5"
      },
      "execution_count": 67,
      "outputs": []
    },
    {
      "cell_type": "code",
      "source": [
        "reviews_cleaned.head()"
      ],
      "metadata": {
        "colab": {
          "base_uri": "https://localhost:8080/",
          "height": 337
        },
        "id": "KVTKjtXaHuh-",
        "outputId": "51ba64dd-5130-4e24-96b8-5ffd4bb73b5e"
      },
      "execution_count": 68,
      "outputs": [
        {
          "output_type": "execute_result",
          "data": {
            "text/plain": [
              "   listing_id       id        date  reviewer_id reviewer_name  \\\n",
              "0     1178162  4724140  2013-05-21      4298113       Olivier   \n",
              "1     1178162  4869189  2013-05-29      6452964     Charlotte   \n",
              "2     1178162  5003196  2013-06-06      6449554     Sebastian   \n",
              "3     1178162  5150351  2013-06-15      2215611        Marine   \n",
              "4     1178162  5171140  2013-06-16      6848427        Andrew   \n",
              "\n",
              "                                            comments  \n",
              "0  My stay at islam's place was really cool! Good...  \n",
              "1  Great location for both airport and city - gre...  \n",
              "2  We really enjoyed our stay at Islams house. Fr...  \n",
              "3  The room was nice and clean and so were the co...  \n",
              "4  Great location. Just 5 mins walk from the Airp...  "
            ],
            "text/html": [
              "\n",
              "  <div id=\"df-dcf48acb-326f-4524-9b4f-c0fc57e8681f\">\n",
              "    <div class=\"colab-df-container\">\n",
              "      <div>\n",
              "<style scoped>\n",
              "    .dataframe tbody tr th:only-of-type {\n",
              "        vertical-align: middle;\n",
              "    }\n",
              "\n",
              "    .dataframe tbody tr th {\n",
              "        vertical-align: top;\n",
              "    }\n",
              "\n",
              "    .dataframe thead th {\n",
              "        text-align: right;\n",
              "    }\n",
              "</style>\n",
              "<table border=\"1\" class=\"dataframe\">\n",
              "  <thead>\n",
              "    <tr style=\"text-align: right;\">\n",
              "      <th></th>\n",
              "      <th>listing_id</th>\n",
              "      <th>id</th>\n",
              "      <th>date</th>\n",
              "      <th>reviewer_id</th>\n",
              "      <th>reviewer_name</th>\n",
              "      <th>comments</th>\n",
              "    </tr>\n",
              "  </thead>\n",
              "  <tbody>\n",
              "    <tr>\n",
              "      <th>0</th>\n",
              "      <td>1178162</td>\n",
              "      <td>4724140</td>\n",
              "      <td>2013-05-21</td>\n",
              "      <td>4298113</td>\n",
              "      <td>Olivier</td>\n",
              "      <td>My stay at islam's place was really cool! Good...</td>\n",
              "    </tr>\n",
              "    <tr>\n",
              "      <th>1</th>\n",
              "      <td>1178162</td>\n",
              "      <td>4869189</td>\n",
              "      <td>2013-05-29</td>\n",
              "      <td>6452964</td>\n",
              "      <td>Charlotte</td>\n",
              "      <td>Great location for both airport and city - gre...</td>\n",
              "    </tr>\n",
              "    <tr>\n",
              "      <th>2</th>\n",
              "      <td>1178162</td>\n",
              "      <td>5003196</td>\n",
              "      <td>2013-06-06</td>\n",
              "      <td>6449554</td>\n",
              "      <td>Sebastian</td>\n",
              "      <td>We really enjoyed our stay at Islams house. Fr...</td>\n",
              "    </tr>\n",
              "    <tr>\n",
              "      <th>3</th>\n",
              "      <td>1178162</td>\n",
              "      <td>5150351</td>\n",
              "      <td>2013-06-15</td>\n",
              "      <td>2215611</td>\n",
              "      <td>Marine</td>\n",
              "      <td>The room was nice and clean and so were the co...</td>\n",
              "    </tr>\n",
              "    <tr>\n",
              "      <th>4</th>\n",
              "      <td>1178162</td>\n",
              "      <td>5171140</td>\n",
              "      <td>2013-06-16</td>\n",
              "      <td>6848427</td>\n",
              "      <td>Andrew</td>\n",
              "      <td>Great location. Just 5 mins walk from the Airp...</td>\n",
              "    </tr>\n",
              "  </tbody>\n",
              "</table>\n",
              "</div>\n",
              "      <button class=\"colab-df-convert\" onclick=\"convertToInteractive('df-dcf48acb-326f-4524-9b4f-c0fc57e8681f')\"\n",
              "              title=\"Convert this dataframe to an interactive table.\"\n",
              "              style=\"display:none;\">\n",
              "        \n",
              "  <svg xmlns=\"http://www.w3.org/2000/svg\" height=\"24px\"viewBox=\"0 0 24 24\"\n",
              "       width=\"24px\">\n",
              "    <path d=\"M0 0h24v24H0V0z\" fill=\"none\"/>\n",
              "    <path d=\"M18.56 5.44l.94 2.06.94-2.06 2.06-.94-2.06-.94-.94-2.06-.94 2.06-2.06.94zm-11 1L8.5 8.5l.94-2.06 2.06-.94-2.06-.94L8.5 2.5l-.94 2.06-2.06.94zm10 10l.94 2.06.94-2.06 2.06-.94-2.06-.94-.94-2.06-.94 2.06-2.06.94z\"/><path d=\"M17.41 7.96l-1.37-1.37c-.4-.4-.92-.59-1.43-.59-.52 0-1.04.2-1.43.59L10.3 9.45l-7.72 7.72c-.78.78-.78 2.05 0 2.83L4 21.41c.39.39.9.59 1.41.59.51 0 1.02-.2 1.41-.59l7.78-7.78 2.81-2.81c.8-.78.8-2.07 0-2.86zM5.41 20L4 18.59l7.72-7.72 1.47 1.35L5.41 20z\"/>\n",
              "  </svg>\n",
              "      </button>\n",
              "      \n",
              "  <style>\n",
              "    .colab-df-container {\n",
              "      display:flex;\n",
              "      flex-wrap:wrap;\n",
              "      gap: 12px;\n",
              "    }\n",
              "\n",
              "    .colab-df-convert {\n",
              "      background-color: #E8F0FE;\n",
              "      border: none;\n",
              "      border-radius: 50%;\n",
              "      cursor: pointer;\n",
              "      display: none;\n",
              "      fill: #1967D2;\n",
              "      height: 32px;\n",
              "      padding: 0 0 0 0;\n",
              "      width: 32px;\n",
              "    }\n",
              "\n",
              "    .colab-df-convert:hover {\n",
              "      background-color: #E2EBFA;\n",
              "      box-shadow: 0px 1px 2px rgba(60, 64, 67, 0.3), 0px 1px 3px 1px rgba(60, 64, 67, 0.15);\n",
              "      fill: #174EA6;\n",
              "    }\n",
              "\n",
              "    [theme=dark] .colab-df-convert {\n",
              "      background-color: #3B4455;\n",
              "      fill: #D2E3FC;\n",
              "    }\n",
              "\n",
              "    [theme=dark] .colab-df-convert:hover {\n",
              "      background-color: #434B5C;\n",
              "      box-shadow: 0px 1px 3px 1px rgba(0, 0, 0, 0.15);\n",
              "      filter: drop-shadow(0px 1px 2px rgba(0, 0, 0, 0.3));\n",
              "      fill: #FFFFFF;\n",
              "    }\n",
              "  </style>\n",
              "\n",
              "      <script>\n",
              "        const buttonEl =\n",
              "          document.querySelector('#df-dcf48acb-326f-4524-9b4f-c0fc57e8681f button.colab-df-convert');\n",
              "        buttonEl.style.display =\n",
              "          google.colab.kernel.accessAllowed ? 'block' : 'none';\n",
              "\n",
              "        async function convertToInteractive(key) {\n",
              "          const element = document.querySelector('#df-dcf48acb-326f-4524-9b4f-c0fc57e8681f');\n",
              "          const dataTable =\n",
              "            await google.colab.kernel.invokeFunction('convertToInteractive',\n",
              "                                                     [key], {});\n",
              "          if (!dataTable) return;\n",
              "\n",
              "          const docLinkHtml = 'Like what you see? Visit the ' +\n",
              "            '<a target=\"_blank\" href=https://colab.research.google.com/notebooks/data_table.ipynb>data table notebook</a>'\n",
              "            + ' to learn more about interactive tables.';\n",
              "          element.innerHTML = '';\n",
              "          dataTable['output_type'] = 'display_data';\n",
              "          await google.colab.output.renderOutput(dataTable, element);\n",
              "          const docLink = document.createElement('div');\n",
              "          docLink.innerHTML = docLinkHtml;\n",
              "          element.appendChild(docLink);\n",
              "        }\n",
              "      </script>\n",
              "    </div>\n",
              "  </div>\n",
              "  "
            ]
          },
          "metadata": {},
          "execution_count": 68
        }
      ]
    },
    {
      "cell_type": "code",
      "source": [
        "reviews_cleaned.info()"
      ],
      "metadata": {
        "colab": {
          "base_uri": "https://localhost:8080/"
        },
        "id": "fzl5HcQrIIlB",
        "outputId": "da7f08a3-48da-4132-c645-03808ca904fe"
      },
      "execution_count": 69,
      "outputs": [
        {
          "output_type": "stream",
          "name": "stdout",
          "text": [
            "<class 'pandas.core.frame.DataFrame'>\n",
            "RangeIndex: 68275 entries, 0 to 68274\n",
            "Data columns (total 6 columns):\n",
            " #   Column         Non-Null Count  Dtype \n",
            "---  ------         --------------  ----- \n",
            " 0   listing_id     68275 non-null  int64 \n",
            " 1   id             68275 non-null  int64 \n",
            " 2   date           68275 non-null  object\n",
            " 3   reviewer_id    68275 non-null  int64 \n",
            " 4   reviewer_name  68275 non-null  object\n",
            " 5   comments       68222 non-null  object\n",
            "dtypes: int64(3), object(3)\n",
            "memory usage: 3.1+ MB\n"
          ]
        }
      ]
    },
    {
      "cell_type": "code",
      "source": [
        "reviews_cleaned[[\"listing_id\", \"id\", \"reviewer_id\"]] = reviews_cleaned[[\"listing_id\", \"id\", \"reviewer_id\"]].astype('str')"
      ],
      "metadata": {
        "id": "7ygpf31t5IcS"
      },
      "execution_count": 70,
      "outputs": []
    },
    {
      "cell_type": "code",
      "source": [
        "# drop duplicates \"reviewer_id\", \"listing_id\"and \"comments\"\n",
        "reviews_cleaned = reviews_cleaned.drop_duplicates(subset=[\"reviewer_id\", \"listing_id\", \"comments\"])"
      ],
      "metadata": {
        "id": "rA-fac8SHvxp"
      },
      "execution_count": 71,
      "outputs": []
    },
    {
      "cell_type": "code",
      "source": [
        "# Remove null comments\n",
        "reviews_cleaned = reviews_cleaned.dropna(axis=0, subset=[\"comments\"])"
      ],
      "metadata": {
        "id": "dgYuPol6Ioo8"
      },
      "execution_count": 72,
      "outputs": []
    },
    {
      "cell_type": "code",
      "source": [
        "#convert date to datetime\n",
        "reviews_cleaned ['date'] = reviews_cleaned['date'].astype('datetime64[ns]')"
      ],
      "metadata": {
        "id": "vnpX39f6Jo6q"
      },
      "execution_count": 73,
      "outputs": []
    },
    {
      "cell_type": "code",
      "source": [
        "# reviews_cleaned = reviews_cleaned.drop(columns = [\"reviewer_id\", \"reviewer_name\"])"
      ],
      "metadata": {
        "id": "TEBdp3PEUooc"
      },
      "execution_count": 74,
      "outputs": []
    },
    {
      "cell_type": "code",
      "source": [
        "reviews_cleaned.info()"
      ],
      "metadata": {
        "colab": {
          "base_uri": "https://localhost:8080/"
        },
        "id": "0X3hMmUC5UgU",
        "outputId": "543eef72-7b11-4f8e-86fc-ac7b79572781"
      },
      "execution_count": 75,
      "outputs": [
        {
          "output_type": "stream",
          "name": "stdout",
          "text": [
            "<class 'pandas.core.frame.DataFrame'>\n",
            "Int64Index: 68204 entries, 0 to 68274\n",
            "Data columns (total 6 columns):\n",
            " #   Column         Non-Null Count  Dtype         \n",
            "---  ------         --------------  -----         \n",
            " 0   listing_id     68204 non-null  object        \n",
            " 1   id             68204 non-null  object        \n",
            " 2   date           68204 non-null  datetime64[ns]\n",
            " 3   reviewer_id    68204 non-null  object        \n",
            " 4   reviewer_name  68204 non-null  object        \n",
            " 5   comments       68204 non-null  object        \n",
            "dtypes: datetime64[ns](1), object(5)\n",
            "memory usage: 3.6+ MB\n"
          ]
        }
      ]
    },
    {
      "cell_type": "markdown",
      "source": [
        "### Combining Data"
      ],
      "metadata": {
        "id": "6-w60SFKOKKO"
      }
    },
    {
      "cell_type": "markdown",
      "source": [
        "Combine two datasets for creating a clean dataset by using pd.merge() with a left join on calendar_cleaned. Drop listing_id on merged."
      ],
      "metadata": {
        "id": "ukhOvMp3OPKa"
      }
    },
    {
      "cell_type": "code",
      "source": [
        "cal_list = pd.merge(calendar_cleaned, listings_cleaned, how='left', left_on='listing_id', right_on='id')"
      ],
      "metadata": {
        "id": "uNuZ3u9UPc7Y"
      },
      "execution_count": null,
      "outputs": []
    },
    {
      "cell_type": "code",
      "source": [
        "cal_list.info()"
      ],
      "metadata": {
        "colab": {
          "base_uri": "https://localhost:8080/"
        },
        "id": "SJaB6-rIwvh1",
        "outputId": "f8e8eb6e-7ce4-48e4-a73a-a48c7f58ff38"
      },
      "execution_count": null,
      "outputs": [
        {
          "output_type": "stream",
          "name": "stdout",
          "text": [
            "<class 'pandas.core.frame.DataFrame'>\n",
            "Int64Index: 1308525 entries, 0 to 1308524\n",
            "Data columns (total 27 columns):\n",
            " #   Column               Non-Null Count    Dtype         \n",
            "---  ------               --------------    -----         \n",
            " 0   listing_id           1308525 non-null  object        \n",
            " 1   date                 1308525 non-null  datetime64[ns]\n",
            " 2   available            1308525 non-null  int64         \n",
            " 3   price_x              1308525 non-null  float64       \n",
            " 4   id                   1308525 non-null  object        \n",
            " 5   host_response_time   1308525 non-null  category      \n",
            " 6   host_listings_count  1308525 non-null  int64         \n",
            " 7   street               1308525 non-null  object        \n",
            " 8   neighbourhood        1308525 non-null  object        \n",
            " 9   city                 1307795 non-null  object        \n",
            " 10  zipcode              1294655 non-null  object        \n",
            " 11  property_type        1308525 non-null  category      \n",
            " 12  room_type            1308525 non-null  category      \n",
            " 13  accommodates         1308525 non-null  category      \n",
            " 14  bathrooms            1308525 non-null  category      \n",
            " 15  bedrooms             1308525 non-null  category      \n",
            " 16  beds                 1296480 non-null  category      \n",
            " 17  bed_type             1308525 non-null  category      \n",
            " 18  square_feet          1308525 non-null  float64       \n",
            " 19  price_y              1308525 non-null  float64       \n",
            " 20  monthly_price        324120 non-null   object        \n",
            " 21  extra_people         1308525 non-null  float64       \n",
            " 22  instant_bookable     1308525 non-null  int64         \n",
            " 23  cancellation_policy  1308525 non-null  category      \n",
            " 24  listing_description  1308525 non-null  object        \n",
            " 25  listing_access       1308525 non-null  object        \n",
            " 26  host_rules           1308525 non-null  object        \n",
            "dtypes: category(9), datetime64[ns](1), float64(4), int64(3), object(10)\n",
            "memory usage: 200.9+ MB\n"
          ]
        }
      ]
    },
    {
      "cell_type": "code",
      "source": [
        "# id and listing_id are the same. So id will be dropped as it no longer\n",
        "# represent a unique identifier for the row.\n",
        "cal_list[cal_list[\"id\"] != cal_list[\"listing_id\"]]"
      ],
      "metadata": {
        "colab": {
          "base_uri": "https://localhost:8080/",
          "height": 143
        },
        "id": "kASs18uPwQvT",
        "outputId": "fc29b35a-b112-4f18-c83d-59853f2da30e"
      },
      "execution_count": null,
      "outputs": [
        {
          "output_type": "execute_result",
          "data": {
            "text/plain": [
              "Empty DataFrame\n",
              "Columns: [listing_id, date, available, price_x, id, host_response_time, host_listings_count, street, neighbourhood, city, zipcode, property_type, room_type, accommodates, bathrooms, bedrooms, beds, bed_type, square_feet, price_y, monthly_price, extra_people, instant_bookable, cancellation_policy, listing_description, listing_access, host_rules]\n",
              "Index: []\n",
              "\n",
              "[0 rows x 27 columns]"
            ],
            "text/html": [
              "\n",
              "  <div id=\"df-1fdeace8-f1ce-492c-99b6-62195ed2158f\">\n",
              "    <div class=\"colab-df-container\">\n",
              "      <div>\n",
              "<style scoped>\n",
              "    .dataframe tbody tr th:only-of-type {\n",
              "        vertical-align: middle;\n",
              "    }\n",
              "\n",
              "    .dataframe tbody tr th {\n",
              "        vertical-align: top;\n",
              "    }\n",
              "\n",
              "    .dataframe thead th {\n",
              "        text-align: right;\n",
              "    }\n",
              "</style>\n",
              "<table border=\"1\" class=\"dataframe\">\n",
              "  <thead>\n",
              "    <tr style=\"text-align: right;\">\n",
              "      <th></th>\n",
              "      <th>listing_id</th>\n",
              "      <th>date</th>\n",
              "      <th>available</th>\n",
              "      <th>price_x</th>\n",
              "      <th>id</th>\n",
              "      <th>host_response_time</th>\n",
              "      <th>host_listings_count</th>\n",
              "      <th>street</th>\n",
              "      <th>neighbourhood</th>\n",
              "      <th>city</th>\n",
              "      <th>...</th>\n",
              "      <th>bed_type</th>\n",
              "      <th>square_feet</th>\n",
              "      <th>price_y</th>\n",
              "      <th>monthly_price</th>\n",
              "      <th>extra_people</th>\n",
              "      <th>instant_bookable</th>\n",
              "      <th>cancellation_policy</th>\n",
              "      <th>listing_description</th>\n",
              "      <th>listing_access</th>\n",
              "      <th>host_rules</th>\n",
              "    </tr>\n",
              "  </thead>\n",
              "  <tbody>\n",
              "  </tbody>\n",
              "</table>\n",
              "<p>0 rows × 27 columns</p>\n",
              "</div>\n",
              "      <button class=\"colab-df-convert\" onclick=\"convertToInteractive('df-1fdeace8-f1ce-492c-99b6-62195ed2158f')\"\n",
              "              title=\"Convert this dataframe to an interactive table.\"\n",
              "              style=\"display:none;\">\n",
              "        \n",
              "  <svg xmlns=\"http://www.w3.org/2000/svg\" height=\"24px\"viewBox=\"0 0 24 24\"\n",
              "       width=\"24px\">\n",
              "    <path d=\"M0 0h24v24H0V0z\" fill=\"none\"/>\n",
              "    <path d=\"M18.56 5.44l.94 2.06.94-2.06 2.06-.94-2.06-.94-.94-2.06-.94 2.06-2.06.94zm-11 1L8.5 8.5l.94-2.06 2.06-.94-2.06-.94L8.5 2.5l-.94 2.06-2.06.94zm10 10l.94 2.06.94-2.06 2.06-.94-2.06-.94-.94-2.06-.94 2.06-2.06.94z\"/><path d=\"M17.41 7.96l-1.37-1.37c-.4-.4-.92-.59-1.43-.59-.52 0-1.04.2-1.43.59L10.3 9.45l-7.72 7.72c-.78.78-.78 2.05 0 2.83L4 21.41c.39.39.9.59 1.41.59.51 0 1.02-.2 1.41-.59l7.78-7.78 2.81-2.81c.8-.78.8-2.07 0-2.86zM5.41 20L4 18.59l7.72-7.72 1.47 1.35L5.41 20z\"/>\n",
              "  </svg>\n",
              "      </button>\n",
              "      \n",
              "  <style>\n",
              "    .colab-df-container {\n",
              "      display:flex;\n",
              "      flex-wrap:wrap;\n",
              "      gap: 12px;\n",
              "    }\n",
              "\n",
              "    .colab-df-convert {\n",
              "      background-color: #E8F0FE;\n",
              "      border: none;\n",
              "      border-radius: 50%;\n",
              "      cursor: pointer;\n",
              "      display: none;\n",
              "      fill: #1967D2;\n",
              "      height: 32px;\n",
              "      padding: 0 0 0 0;\n",
              "      width: 32px;\n",
              "    }\n",
              "\n",
              "    .colab-df-convert:hover {\n",
              "      background-color: #E2EBFA;\n",
              "      box-shadow: 0px 1px 2px rgba(60, 64, 67, 0.3), 0px 1px 3px 1px rgba(60, 64, 67, 0.15);\n",
              "      fill: #174EA6;\n",
              "    }\n",
              "\n",
              "    [theme=dark] .colab-df-convert {\n",
              "      background-color: #3B4455;\n",
              "      fill: #D2E3FC;\n",
              "    }\n",
              "\n",
              "    [theme=dark] .colab-df-convert:hover {\n",
              "      background-color: #434B5C;\n",
              "      box-shadow: 0px 1px 3px 1px rgba(0, 0, 0, 0.15);\n",
              "      filter: drop-shadow(0px 1px 2px rgba(0, 0, 0, 0.3));\n",
              "      fill: #FFFFFF;\n",
              "    }\n",
              "  </style>\n",
              "\n",
              "      <script>\n",
              "        const buttonEl =\n",
              "          document.querySelector('#df-1fdeace8-f1ce-492c-99b6-62195ed2158f button.colab-df-convert');\n",
              "        buttonEl.style.display =\n",
              "          google.colab.kernel.accessAllowed ? 'block' : 'none';\n",
              "\n",
              "        async function convertToInteractive(key) {\n",
              "          const element = document.querySelector('#df-1fdeace8-f1ce-492c-99b6-62195ed2158f');\n",
              "          const dataTable =\n",
              "            await google.colab.kernel.invokeFunction('convertToInteractive',\n",
              "                                                     [key], {});\n",
              "          if (!dataTable) return;\n",
              "\n",
              "          const docLinkHtml = 'Like what you see? Visit the ' +\n",
              "            '<a target=\"_blank\" href=https://colab.research.google.com/notebooks/data_table.ipynb>data table notebook</a>'\n",
              "            + ' to learn more about interactive tables.';\n",
              "          element.innerHTML = '';\n",
              "          dataTable['output_type'] = 'display_data';\n",
              "          await google.colab.output.renderOutput(dataTable, element);\n",
              "          const docLink = document.createElement('div');\n",
              "          docLink.innerHTML = docLinkHtml;\n",
              "          element.appendChild(docLink);\n",
              "        }\n",
              "      </script>\n",
              "    </div>\n",
              "  </div>\n",
              "  "
            ]
          },
          "metadata": {},
          "execution_count": 87
        }
      ]
    },
    {
      "cell_type": "code",
      "source": [
        "# To confirm whether columns and rows are correct\n",
        "assert cal_list.shape[1] == ((calendar_cleaned.shape[1] + listings_cleaned.shape[1]) - 2)\n",
        "assert cal_list.shape[0] == calendar_cleaned.shape[0]"
      ],
      "metadata": {
        "id": "o-roEd5MSanG"
      },
      "execution_count": null,
      "outputs": []
    },
    {
      "cell_type": "code",
      "source": [
        "print(sum(cal_list[\"price_x\"] == 0.0))\n",
        "sum(cal_list[\"price_x\"] != 0.0)"
      ],
      "metadata": {
        "colab": {
          "base_uri": "https://localhost:8080/"
        },
        "id": "93BkQC1iIQu4",
        "outputId": "3c9e8b29-3806-4f8d-cdeb-17c98ce46bc0"
      },
      "execution_count": null,
      "outputs": [
        {
          "output_type": "stream",
          "name": "stdout",
          "text": [
            "665568\n"
          ]
        },
        {
          "output_type": "execute_result",
          "data": {
            "text/plain": [
              "642957"
            ]
          },
          "metadata": {},
          "execution_count": 122
        }
      ]
    },
    {
      "cell_type": "code",
      "source": [
        "print(sum(cal_list[\"price_y\"] == 0.0))\n",
        "sum(cal_list[\"price_y\"] != 0.0)"
      ],
      "metadata": {
        "colab": {
          "base_uri": "https://localhost:8080/"
        },
        "id": "qIOv9H6WIbFi",
        "outputId": "192d8ebe-a7cc-4aa8-c4e6-75f00ed41837"
      },
      "execution_count": null,
      "outputs": [
        {
          "output_type": "stream",
          "name": "stdout",
          "text": [
            "0\n"
          ]
        },
        {
          "output_type": "execute_result",
          "data": {
            "text/plain": [
              "1308525"
            ]
          },
          "metadata": {},
          "execution_count": 123
        }
      ]
    },
    {
      "cell_type": "code",
      "source": [
        "# cal_list.drop(columns=[\"price_x\"])"
      ],
      "metadata": {
        "id": "cVPZ49bhuwfM"
      },
      "execution_count": null,
      "outputs": []
    },
    {
      "cell_type": "code",
      "source": [
        "# cal_list = cal_list.rename(columns={\n",
        "#     \"price_y\": \"price\",\n",
        "#     \"price_x\": \"available_price\",\n",
        "# })\n"
      ],
      "metadata": {
        "id": "n_s_eYiE13kR"
      },
      "execution_count": null,
      "outputs": []
    },
    {
      "cell_type": "code",
      "source": [
        "print(sum(cal_list[\"price_y\"] == cal_list[\"price_x\"]))\n",
        "print(sum(cal_list[\"price_y\"] != cal_list[\"price_x\"]))"
      ],
      "metadata": {
        "colab": {
          "base_uri": "https://localhost:8080/"
        },
        "id": "4gj3L1VSJc8_",
        "outputId": "d7197642-76d6-4fb8-fa9b-3f1e78fc957a"
      },
      "execution_count": null,
      "outputs": [
        {
          "output_type": "stream",
          "name": "stdout",
          "text": [
            "409365\n",
            "899160\n"
          ]
        }
      ]
    },
    {
      "cell_type": "code",
      "source": [
        "# Total number of same priced values when listing is available.\n",
        "print(sum( (cal_list[\"price_y\"] == cal_list[\"price_x\"]) & (cal_list[\"available\"] == 1) ))"
      ],
      "metadata": {
        "colab": {
          "base_uri": "https://localhost:8080/"
        },
        "id": "DVIM3TomJuwV",
        "outputId": "fd901161-6f89-4d93-df84-728a9f7fba17"
      },
      "execution_count": null,
      "outputs": [
        {
          "output_type": "stream",
          "name": "stdout",
          "text": [
            "409365\n"
          ]
        }
      ]
    },
    {
      "cell_type": "code",
      "source": [
        "# Total number of same priced values when listing is not available.\n",
        "print(sum( (cal_list[\"price_y\"] == cal_list[\"price_x\"]) & (cal_list[\"available\"] == 0) ))"
      ],
      "metadata": {
        "colab": {
          "base_uri": "https://localhost:8080/"
        },
        "id": "eOqU23TsKIX7",
        "outputId": "2fec3a68-9c69-49d9-b60c-ec34ec6197a7"
      },
      "execution_count": null,
      "outputs": [
        {
          "output_type": "stream",
          "name": "stdout",
          "text": [
            "0\n"
          ]
        }
      ]
    },
    {
      "cell_type": "code",
      "source": [
        "# Total number of not same priced values when listing is available.\n",
        "print(sum( (cal_list[\"price_y\"] != cal_list[\"price_x\"]) & (cal_list[\"available\"] == 1) ))"
      ],
      "metadata": {
        "colab": {
          "base_uri": "https://localhost:8080/"
        },
        "id": "DQWTrmQdKKn7",
        "outputId": "871cf9bf-136b-4b54-f822-dc9ea881ccd8"
      },
      "execution_count": null,
      "outputs": [
        {
          "output_type": "stream",
          "name": "stdout",
          "text": [
            "233592\n"
          ]
        }
      ]
    },
    {
      "cell_type": "code",
      "source": [
        "# Total number of not same priced values when listing is not available.\n",
        "print(sum( (cal_list[\"price_y\"] != cal_list[\"price_x\"]) & (cal_list[\"available\"] == 0) ))"
      ],
      "metadata": {
        "colab": {
          "base_uri": "https://localhost:8080/"
        },
        "id": "nwoOuIzsKNM4",
        "outputId": "3a059b73-f031-4ed7-9461-8e730d2308b4"
      },
      "execution_count": null,
      "outputs": [
        {
          "output_type": "stream",
          "name": "stdout",
          "text": [
            "665568\n"
          ]
        }
      ]
    },
    {
      "cell_type": "code",
      "source": [
        "cal_list['price_x'].plot();\n",
        "cal_list['price_y'].plot();"
      ],
      "metadata": {
        "colab": {
          "base_uri": "https://localhost:8080/",
          "height": 278
        },
        "id": "K2VqscGFDfPP",
        "outputId": "757859dd-790e-4e3f-f073-84e85f812642"
      },
      "execution_count": null,
      "outputs": [
        {
          "output_type": "display_data",
          "data": {
            "text/plain": [
              "<Figure size 432x288 with 1 Axes>"
            ],
            "image/png": "[encoded data removed]"
          },
          "metadata": {
            "needs_background": "light"
          }
        }
      ]
    },
    {
      "cell_type": "code",
      "source": [
        "cal_list.columns"
      ],
      "metadata": {
        "colab": {
          "base_uri": "https://localhost:8080/"
        },
        "id": "ai0K3EsvMqSj",
        "outputId": "a8f35b45-82e3-4f26-cf47-bdc77b7dabee"
      },
      "execution_count": null,
      "outputs": [
        {
          "output_type": "execute_result",
          "data": {
            "text/plain": [
              "Index(['listing_id', 'date', 'available', 'price_x', 'id',\n",
              "       'host_response_time', 'host_listings_count', 'street', 'neighbourhood',\n",
              "       'city', 'zipcode', 'property_type', 'room_type', 'accommodates',\n",
              "       'bathrooms', 'bedrooms', 'beds', 'bed_type', 'square_feet', 'price_y',\n",
              "       'monthly_price', 'extra_people', 'instant_bookable',\n",
              "       'cancellation_policy', 'listing_description', 'listing_access',\n",
              "       'host_rules'],\n",
              "      dtype='object')"
            ]
          },
          "metadata": {},
          "execution_count": 130
        }
      ]
    },
    {
      "cell_type": "code",
      "source": [
        "cal_list.info()"
      ],
      "metadata": {
        "colab": {
          "base_uri": "https://localhost:8080/"
        },
        "id": "QE6wS-gc3cYG",
        "outputId": "f10991ce-4a93-40ab-9e07-7e4e440e5fd0"
      },
      "execution_count": null,
      "outputs": [
        {
          "output_type": "stream",
          "name": "stdout",
          "text": [
            "<class 'pandas.core.frame.DataFrame'>\n",
            "Int64Index: 1308525 entries, 0 to 1308524\n",
            "Data columns (total 27 columns):\n",
            " #   Column               Non-Null Count    Dtype         \n",
            "---  ------               --------------    -----         \n",
            " 0   listing_id           1308525 non-null  object        \n",
            " 1   date                 1308525 non-null  datetime64[ns]\n",
            " 2   available            1308525 non-null  int64         \n",
            " 3   price_x              1308525 non-null  float64       \n",
            " 4   id                   1308525 non-null  object        \n",
            " 5   host_response_time   1308525 non-null  category      \n",
            " 6   host_listings_count  1308525 non-null  int64         \n",
            " 7   street               1308525 non-null  object        \n",
            " 8   neighbourhood        1308525 non-null  object        \n",
            " 9   city                 1307795 non-null  object        \n",
            " 10  zipcode              1294655 non-null  object        \n",
            " 11  property_type        1308525 non-null  category      \n",
            " 12  room_type            1308525 non-null  category      \n",
            " 13  accommodates         1308525 non-null  category      \n",
            " 14  bathrooms            1308525 non-null  category      \n",
            " 15  bedrooms             1308525 non-null  category      \n",
            " 16  beds                 1296480 non-null  category      \n",
            " 17  bed_type             1308525 non-null  category      \n",
            " 18  square_feet          1308525 non-null  float64       \n",
            " 19  price_y              1308525 non-null  float64       \n",
            " 20  monthly_price        324120 non-null   object        \n",
            " 21  extra_people         1308525 non-null  float64       \n",
            " 22  instant_bookable     1308525 non-null  int64         \n",
            " 23  cancellation_policy  1308525 non-null  category      \n",
            " 24  listing_description  1308525 non-null  object        \n",
            " 25  listing_access       1308525 non-null  object        \n",
            " 26  host_rules           1308525 non-null  object        \n",
            "dtypes: category(9), datetime64[ns](1), float64(4), int64(3), object(10)\n",
            "memory usage: 200.9+ MB\n"
          ]
        }
      ]
    },
    {
      "cell_type": "markdown",
      "source": [
        "## Data Modelling"
      ],
      "metadata": {
        "id": "8sht38GN9KfO"
      }
    },
    {
      "cell_type": "markdown",
      "source": [
        "### 1. Which column has the most impact on the price?"
      ],
      "metadata": {
        "id": "i09zrL9L9Wi1"
      }
    },
    {
      "cell_type": "code",
      "source": [
        "price_corr = listings_cleaned.corr()['price'].sort_values(ascending = False).head(15)[1:]\n",
        "price_corr"
      ],
      "metadata": {
        "colab": {
          "base_uri": "https://localhost:8080/"
        },
        "id": "amLjqgnr9Ozo",
        "outputId": "c0138b0e-6492-45ed-a475-468163d5ca1f"
      },
      "execution_count": null,
      "outputs": [
        {
          "output_type": "execute_result",
          "data": {
            "text/plain": [
              "accommodates               0.437756241\n",
              "room_type_int              0.420485570\n",
              "bedrooms                   0.382418260\n",
              "beds                       0.371407364\n",
              "bathrooms                  0.248695284\n",
              "host_listings_count        0.171929964\n",
              "cancellation_policy_int    0.156700886\n",
              "bed_type_int               0.098714689\n",
              "square_feet                0.048228026\n",
              "extra_people               0.028703300\n",
              "host_response_time_int    -0.019557594\n",
              "instant_bookable          -0.057358557\n",
              "Name: price, dtype: float64"
            ]
          },
          "metadata": {},
          "execution_count": 73
        }
      ]
    },
    {
      "cell_type": "code",
      "source": [
        "fig, ax = plt.subplots(figsize=(15,10))         \n",
        "sns.heatmap(listings_cleaned[['price', 'accommodates', 'room_type_int', 'bedrooms', 'beds', 'bathrooms', 'host_listings_count', 'cancellation_policy_int']].corr(), annot=True);"
      ],
      "metadata": {
        "colab": {
          "base_uri": "https://localhost:8080/",
          "height": 559
        },
        "id": "MhlQNrwMPVWJ",
        "outputId": "9439f716-9618-454f-df20-b8e726fd695e"
      },
      "execution_count": null,
      "outputs": [
        {
          "output_type": "display_data",
          "data": {
            "text/plain": [
              "<Figure size 1080x720 with 2 Axes>"
            ],
            "image/png": "[encoded data removed]"
          },
          "metadata": {
            "needs_background": "light"
          }
        }
      ]
    },
    {
      "cell_type": "markdown",
      "source": [
        "#### Result & Explanation\n",
        "From the heatmap it is understood that the;\n",
        "- No. of people a listing's can **accomodates** has the highest affect on the price column.\n",
        "- Room type available is the second biggest influencer.\n",
        "- A scaling system was created in such a way that higher area apts. get higest value.\n",
        "- No. of bedrooms and beds available also contributes to the pricing like in any traditional hotels."
      ],
      "metadata": {
        "id": "HTfw1By9hPg6"
      }
    },
    {
      "cell_type": "markdown",
      "source": [
        "### 2. Which neighbourhood in the listings are most expensive?"
      ],
      "metadata": {
        "id": "cjvbYYq_9xG7"
      }
    },
    {
      "cell_type": "code",
      "source": [
        "import pandas as pd\n",
        "import numpy as np\n",
        "import matplotlib.pyplot as plt\n",
        "import matplotlib as mpl\n",
        "from matplotlib.cm import ScalarMappable\n",
        "import matplotlib.colors as mcolors"
      ],
      "metadata": {
        "id": "k9aNYfISOAOt"
      },
      "execution_count": 117,
      "outputs": []
    },
    {
      "cell_type": "code",
      "source": [
        "exp_neighbourhood = listings_cleaned.groupby(listings_cleaned['neighbourhood'])['price'].mean().sort_values(ascending = False)\n",
        "xvalues = list(exp_neighbourhood.keys())\n",
        "yvalues = list(exp_neighbourhood)\n",
        "colorvalues = list(np.linspace(1, 0, 25))\n",
        "\n",
        "clist = [(0, 'darkblue'), (1, 'darkred')]\n",
        "colors = mcolors.LinearSegmentedColormap.from_list(\"\", clist)\n",
        "\n",
        "barcolors = []\n",
        "for value in colorvalues:\n",
        "    barcolors.append(colors(value))"
      ],
      "metadata": {
        "id": "WLajEKuQoBL0"
      },
      "execution_count": 166,
      "outputs": []
    },
    {
      "cell_type": "code",
      "source": [
        "fig, ax = plt.subplots(figsize = (20,15))\n",
        "\n",
        "cmappable = ScalarMappable(norm=plt.Normalize(0,1), cmap=colors)\n",
        "plt.colorbar(cmappable)\n",
        "plt.xticks(fontsize=18, rotation=90)\n",
        "\n",
        "ax.bar(xvalues, yvalues, color = barcolors)\n",
        "plt.show()"
      ],
      "metadata": {
        "colab": {
          "base_uri": "https://localhost:8080/",
          "height": 716
        },
        "id": "twMnDFJojOVW",
        "outputId": "ecb00da0-46b3-473a-9baf-d7d1141849c4"
      },
      "execution_count": 171,
      "outputs": [
        {
          "output_type": "display_data",
          "data": {
            "text/plain": [
              "<Figure size 1440x1080 with 2 Axes>"
            ],
            "image/png": "[encoded data removed]"
          },
          "metadata": {}
        }
      ]
    },
    {
      "cell_type": "code",
      "source": [
        "\"Highest amount is ${} and lowest amount is ${}\".format(\n",
        "    np.round(exp_neighbourhood.max(), 2),\n",
        "    np.round(exp_neighbourhood.min(), 2)\n",
        ")"
      ],
      "metadata": {
        "colab": {
          "base_uri": "https://localhost:8080/",
          "height": 35
        },
        "id": "nRPKSVoouIBL",
        "outputId": "94a807f6-2e73-4bcb-ac12-01fbf48d4a1b"
      },
      "execution_count": 200,
      "outputs": [
        {
          "output_type": "execute_result",
          "data": {
            "text/plain": [
              "'Highest amount is $306.06 and lowest amount is $75.12'"
            ],
            "application/vnd.google.colaboratory.intrinsic+json": {
              "type": "string"
            }
          },
          "metadata": {},
          "execution_count": 200
        }
      ]
    },
    {
      "cell_type": "markdown",
      "source": [
        "#### Result & Explanation\n",
        "From the barplot of all the neighbourhoods, it is evident that **South Boston** is the most expensive neighbourhood in the listings with the price of **$306.06**.\n",
        "\n",
        "On the other hand **Mattapan** is the least expensive neighbourhood with the price of **$75.12**."
      ],
      "metadata": {
        "id": "hI6Z3HegWhXV"
      }
    },
    {
      "cell_type": "markdown",
      "source": [
        "### 3a. What are the least busy times of the year to visit Boston?"
      ],
      "metadata": {
        "id": "1aju6DHhlyvt"
      }
    },
    {
      "cell_type": "code",
      "source": [
        "calendar_cleaned['month'] = pd.DatetimeIndex(calendar_cleaned['date']).month"
      ],
      "metadata": {
        "id": "PxA-sepPl5_I"
      },
      "execution_count": 186,
      "outputs": []
    },
    {
      "cell_type": "code",
      "source": [
        "aob = calendar_cleaned.groupby('month')['available'].mean().plot(\n",
        "    kind=\"line\",\n",
        "    title='Availabilty of Boston',\n",
        "    figsize=(20,15),\n",
        "    linewidth=3\n",
        ")\n",
        "aob.set_ylabel(\"availability rate\")\n",
        "\n",
        "\n",
        "plt.show()"
      ],
      "metadata": {
        "colab": {
          "base_uri": "https://localhost:8080/",
          "height": 553
        },
        "id": "qspzzMaOmPQC",
        "outputId": "f7cad5a9-8a0b-4637-fc55-d6ae3d4a4420"
      },
      "execution_count": 187,
      "outputs": [
        {
          "output_type": "display_data",
          "data": {
            "text/plain": [
              "<Figure size 1440x1080 with 1 Axes>"
            ],
            "image/png": "[encoded data removed]"
          },
          "metadata": {}
        }
      ]
    },
    {
      "cell_type": "markdown",
      "source": [
        "### 3b. By how low do the pices get?"
      ],
      "metadata": {
        "id": "FPoqkmJgq2YN"
      }
    },
    {
      "cell_type": "code",
      "source": [
        "from matplotlib.pyplot import figure"
      ],
      "metadata": {
        "id": "1Md4pDXbG33L"
      },
      "execution_count": 189,
      "outputs": []
    },
    {
      "cell_type": "code",
      "source": [
        "calendar_cleaned_available = calendar_cleaned[calendar_cleaned[\"available\"] == 1]"
      ],
      "metadata": {
        "id": "03NGOArWwkcX"
      },
      "execution_count": 188,
      "outputs": []
    },
    {
      "cell_type": "code",
      "source": [
        "calendar_cleaned_available.groupby('month')['price'].mean()"
      ],
      "metadata": {
        "colab": {
          "base_uri": "https://localhost:8080/"
        },
        "id": "vmmNfwr7J3ZK",
        "outputId": "f0316f4e-1df3-432a-e2be-06a4270af0b2"
      },
      "execution_count": 190,
      "outputs": [
        {
          "output_type": "execute_result",
          "data": {
            "text/plain": [
              "month\n",
              "1    182.799670787\n",
              "2    180.961027988\n",
              "3    181.818741958\n",
              "4    197.252890117\n",
              "5    193.712294776\n",
              "6    196.535301815\n",
              "7    202.486308971\n",
              "8    203.330141646\n",
              "9    237.055387473\n",
              "10   233.425227793\n",
              "11   202.915712393\n",
              "12   192.600118046\n",
              "Name: price, dtype: float64"
            ]
          },
          "metadata": {},
          "execution_count": 190
        }
      ]
    },
    {
      "cell_type": "code",
      "source": [
        "paob = calendar_cleaned_available.groupby('month')['price'].mean().plot(\n",
        "    kind=\"bar\",\n",
        "    figsize=(10,8),\n",
        "    color = ['red', 'orange', 'green', 'blue', 'goldenrod', 'purple', 'cyan', 'magenta', 'brown', 'salmon', 'lime', 'gold'],\n",
        "    title='Price of Availabilty of Boston Airbnb',\n",
        ")\n",
        "\n",
        "plt.yticks(np.arange(0, 250+1, 25))\n",
        "paob.set_ylabel(\"price\")\n",
        "plt.show()"
      ],
      "metadata": {
        "id": "K2B1Af9vmuS1",
        "colab": {
          "base_uri": "https://localhost:8080/",
          "height": 546
        },
        "outputId": "f4e254ab-4f46-41a2-ba46-e81c3e02462f"
      },
      "execution_count": 192,
      "outputs": [
        {
          "output_type": "display_data",
          "data": {
            "text/plain": [
              "<Figure size 720x576 with 1 Axes>"
            ],
            "image/png": "[encoded data removed]"
          },
          "metadata": {}
        }
      ]
    },
    {
      "cell_type": "markdown",
      "source": [
        "#### Result & Explanation\n",
        "From the above two plots it is indicated that **January** and **February** have the highest availability rate which suggests these are the least busy time of the year to visit Boston.\n",
        "Similarly the prices for the same months is as low as **$185**. \n"
      ],
      "metadata": {
        "id": "I665Ddrfl8Tp"
      }
    },
    {
      "cell_type": "code",
      "source": [
        ""
      ],
      "metadata": {
        "id": "4guRnwhDxxLu"
      },
      "execution_count": null,
      "outputs": []
    }
  ]
}