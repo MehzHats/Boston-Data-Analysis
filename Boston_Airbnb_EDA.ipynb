{
  "nbformat": 4,
  "nbformat_minor": 0,
  "metadata": {
    "colab": {
      "name": "Boston Airbnb EDA.ipynb",
      "provenance": [],
      "collapsed_sections": [],
      "toc_visible": true,
      "authorship_tag": "ABX9TyN5wo89NS9DqdfHKBBR9CqK",
      "include_colab_link": true
    },
    "kernelspec": {
      "name": "python3",
      "display_name": "Python 3"
    },
    "language_info": {
      "name": "python"
    }
  },
  "cells": [
    {
      "cell_type": "markdown",
      "metadata": {
        "id": "view-in-github",
        "colab_type": "text"
      },
      "source": [
        "<a href=\"https://colab.research.google.com/github/MehzHats/Boston-Data-Analysis/blob/main/Boston_Airbnb_EDA.ipynb\" target=\"_parent\"><img src=\"https://colab.research.google.com/assets/colab-badge.svg\" alt=\"Open In Colab\"/></a>"
      ]
    },
    {
      "cell_type": "markdown",
      "source": [
        "# Boston Airbnb Data Analysis\n",
        "\n",
        "The dataset used in this notebook was choosen from the Boston Airbnb Open Data hosted on Kaggle. This dataset contains bookings, listings and reviews of homestay activity from 2008 till 2016.\n",
        "\n",
        "This dataset is analysed based on the  the Cross-Industry Standard Process for Data Mining (CRISP-DM) incorporated as a part of the \"Write a Data Science Blog Post\" project for Udacity's Data Scientist Nanodegree. \n",
        "\n",
        "The CRoss Industry Standard Process for Data Mining (CRISP-DM) is a process model that serves as the base for a data science process. It has six sequential phases:\n",
        "\n",
        "1. **Business understanding** – What are the needs of the business?\n",
        "2. **Data understanding** – What data do we have / need? Is it clean?\n",
        "3. **Data preparation** – How the data is organised for modeling?\n",
        "4. **Modeling** – What are the modeling techniques applied?\n",
        "5. **Evaluation** – Which model best meets the objectives of business?\n",
        "6. **Deployment** – How do stakeholders access the results?\n",
        "\n",
        "\n"
      ],
      "metadata": {
        "id": "LtCIbhDDWnlU"
      }
    },
    {
      "cell_type": "markdown",
      "source": [
        "## About Data\n",
        "\n",
        "The following Airbnb activity is included in this Boston dataset:\n",
        "\n",
        "1.   Listings, including full descriptions and average review score.\n",
        "2.   Reviews, including unique id for each reviewer and detailed comments\n",
        "3. Calendar, including listing id and the price and availability for that day"
      ],
      "metadata": {
        "id": "7l1CUDSbaAzd"
      }
    },
    {
      "cell_type": "markdown",
      "source": [
        "## Get Data"
      ],
      "metadata": {
        "id": "3MDrBBkhd57V"
      }
    },
    {
      "cell_type": "code",
      "source": [
        "!pip install --user -q kaggle"
      ],
      "metadata": {
        "id": "FHemqzcTgFIi"
      },
      "execution_count": null,
      "outputs": []
    },
    {
      "cell_type": "code",
      "source": [
        "!mkdir ~/.kaggle\n",
        "!touch ~/.kaggle/kaggle.json\n",
        "# Add your kaggle key and username below.\n",
        "!cd ~/.kaggle/ && echo '{\"username\":\"\",\"key\":\"\"}' > \"./kaggle.json\"\n",
        "!chmod 600 ~/.kaggle/kaggle.json"
      ],
      "metadata": {
        "id": "AAq77sucgJNK"
      },
      "execution_count": null,
      "outputs": []
    },
    {
      "cell_type": "code",
      "source": [
        "!kaggle datasets download airbnb/boston\n",
        "!unzip boston.zip\n",
        "!rm boston.zip"
      ],
      "metadata": {
        "id": "0qrAvyJsfBX_",
        "colab": {
          "base_uri": "https://localhost:8080/"
        },
        "outputId": "ffe5ba0b-ef4e-4004-ae8f-6aae50f7f455"
      },
      "execution_count": null,
      "outputs": [
        {
          "output_type": "stream",
          "name": "stdout",
          "text": [
            "Downloading boston.zip to /content\n",
            "\r  0% 0.00/16.1M [00:00<?, ?B/s]\r 56% 9.00M/16.1M [00:00<00:00, 93.1MB/s]\n",
            "\r100% 16.1M/16.1M [00:00<00:00, 136MB/s] \n",
            "Archive:  boston.zip\n",
            "  inflating: calendar.csv            \n",
            "  inflating: listings.csv            \n",
            "  inflating: reviews.csv             \n"
          ]
        }
      ]
    },
    {
      "cell_type": "markdown",
      "source": [
        "## Imports"
      ],
      "metadata": {
        "id": "i13JdSFI944_"
      }
    },
    {
      "cell_type": "code",
      "source": [
        "%matplotlib inline"
      ],
      "metadata": {
        "id": "p4qMS0vFspxT"
      },
      "execution_count": null,
      "outputs": []
    },
    {
      "cell_type": "code",
      "execution_count": null,
      "metadata": {
        "id": "p5VK1O2gWSpC"
      },
      "outputs": [],
      "source": [
        "import pandas as pd\n",
        "import numpy as np\n",
        "import matplotlib\n",
        "import matplotlib.pyplot as plt\n",
        "import seaborn as sns"
      ]
    },
    {
      "cell_type": "markdown",
      "source": [
        "### Settings"
      ],
      "metadata": {
        "id": "FiaCef2q7eR7"
      }
    },
    {
      "cell_type": "code",
      "source": [
        "pd.set_option('display.max_rows', None)\n",
        "pd.set_option('display.float_format', lambda x: '%.9f' % x)"
      ],
      "metadata": {
        "id": "jkhOFqUV7hO_"
      },
      "execution_count": null,
      "outputs": []
    },
    {
      "cell_type": "markdown",
      "source": [
        "## Section 1: Business Understanding\n",
        "The listing of AirBnB's rental homes in and near the neighbourhood of Boston, Massachusetts, as well as the guest evaluations and the dates that the homes were available, were made public. We'll examine this information in this blog to learn more about the cities and the areas , the impacts of the various columns on the data sets , how the positive and negative reviews affect the listings by the host, the number of other factors that contribute to the choice of the guests and price factor based on the time of the booking.\n",
        "\n",
        "We will make an effort to comprehend the types of homes that are offered, their costs, the distribution of these listings, the number of reviews, and, finally, how visitors described the properties after their stay.\n",
        "\n",
        "\n",
        " **We aspire to answer following questions from the dataset.**\n",
        "1. Which column has the most impact on the data?\n",
        "2. Which cities are the most expensive?\n",
        "3. How reviews affect listings?\n",
        "4. What factors affect the listings booked by customers?\n",
        "5. Price difference between the peak period and off season?"
      ],
      "metadata": {
        "id": "DsJ0M0o8Tp9k"
      }
    },
    {
      "cell_type": "markdown",
      "source": [
        "## Section 2: Data Understanding\n",
        "\n",
        "AirBnB has made the listing of its rental properties in and around Boston, MA neighborhoods public, along with the reviews left by guests, and the dates when properties were available. In this blog, we will review this data to learn about the neighborhood and attempt to understand which types of properties are available, their prices, the concentration of these listings, the number of reviews and lastly, how guests described the properties after their stay."
      ],
      "metadata": {
        "id": "dS78M0_aSqRJ"
      }
    },
    {
      "cell_type": "markdown",
      "source": [
        "### Utility Function For Exploration"
      ],
      "metadata": {
        "id": "itBxgu9IktC1"
      }
    },
    {
      "cell_type": "code",
      "source": [
        "def explore_column(df, column, print_samples=None, print_unique=False):\n",
        "  \"\"\"\n",
        "  Prints information about a column from the given dataset.\n",
        "  Parameters\n",
        "  ----------\n",
        "  df: pandas dataframe, required\n",
        "    default is None\n",
        "  column: string, required\n",
        "    default is None\n",
        "  print_samples: slice, optional\n",
        "    default is None\n",
        "  print_unique: bool, optional\n",
        "    default is False\n",
        "  \"\"\" \n",
        "\n",
        "  print(\"There are {} of na columns.\".format(df[column].isna().sum()))\n",
        "  print(\"There are {} unique values\".format(df[column].nunique()))\n",
        "  print(\"Column type: \", df[column].dtype)\n",
        "\n",
        "  if print_unique:\n",
        "    print(\"Unique values: \", df[column].unique())\n",
        "\n",
        "  if not print_samples == None:\n",
        "    print(\"Sample Values: \", df[column].iloc[print_samples])"
      ],
      "metadata": {
        "id": "VcukqCrzkszD"
      },
      "execution_count": null,
      "outputs": []
    },
    {
      "cell_type": "markdown",
      "source": [
        "### Exploration of dataset"
      ],
      "metadata": {
        "id": "2yNZZ4-ohp8D"
      }
    },
    {
      "cell_type": "code",
      "source": [
        "calendar = pd.read_csv('calendar.csv')\n",
        "listings = pd.read_csv('listings.csv')\n",
        "reviews = pd.read_csv('reviews.csv')\n"
      ],
      "metadata": {
        "id": "xB0jYOpuh6Tl"
      },
      "execution_count": null,
      "outputs": []
    },
    {
      "cell_type": "markdown",
      "source": [
        "#### Calendar Data"
      ],
      "metadata": {
        "id": "0yu0zKbRyuZW"
      }
    },
    {
      "cell_type": "code",
      "source": [
        "#print the head of calendar\n",
        "calendar.head()"
      ],
      "metadata": {
        "id": "WplsQio5jKqA",
        "colab": {
          "base_uri": "https://localhost:8080/",
          "height": 206
        },
        "outputId": "44ab3030-7c2c-4d85-ff82-48f2af5fa969"
      },
      "execution_count": null,
      "outputs": [
        {
          "output_type": "execute_result",
          "data": {
            "text/plain": [
              "   listing_id        date available price\n",
              "0    12147973  2017-09-05         f   NaN\n",
              "1    12147973  2017-09-04         f   NaN\n",
              "2    12147973  2017-09-03         f   NaN\n",
              "3    12147973  2017-09-02         f   NaN\n",
              "4    12147973  2017-09-01         f   NaN"
            ],
            "text/html": [
              "\n",
              "  <div id=\"df-e2e0a2d2-babf-4200-a3fa-13fc71025375\">\n",
              "    <div class=\"colab-df-container\">\n",
              "      <div>\n",
              "<style scoped>\n",
              "    .dataframe tbody tr th:only-of-type {\n",
              "        vertical-align: middle;\n",
              "    }\n",
              "\n",
              "    .dataframe tbody tr th {\n",
              "        vertical-align: top;\n",
              "    }\n",
              "\n",
              "    .dataframe thead th {\n",
              "        text-align: right;\n",
              "    }\n",
              "</style>\n",
              "<table border=\"1\" class=\"dataframe\">\n",
              "  <thead>\n",
              "    <tr style=\"text-align: right;\">\n",
              "      <th></th>\n",
              "      <th>listing_id</th>\n",
              "      <th>date</th>\n",
              "      <th>available</th>\n",
              "      <th>price</th>\n",
              "    </tr>\n",
              "  </thead>\n",
              "  <tbody>\n",
              "    <tr>\n",
              "      <th>0</th>\n",
              "      <td>12147973</td>\n",
              "      <td>2017-09-05</td>\n",
              "      <td>f</td>\n",
              "      <td>NaN</td>\n",
              "    </tr>\n",
              "    <tr>\n",
              "      <th>1</th>\n",
              "      <td>12147973</td>\n",
              "      <td>2017-09-04</td>\n",
              "      <td>f</td>\n",
              "      <td>NaN</td>\n",
              "    </tr>\n",
              "    <tr>\n",
              "      <th>2</th>\n",
              "      <td>12147973</td>\n",
              "      <td>2017-09-03</td>\n",
              "      <td>f</td>\n",
              "      <td>NaN</td>\n",
              "    </tr>\n",
              "    <tr>\n",
              "      <th>3</th>\n",
              "      <td>12147973</td>\n",
              "      <td>2017-09-02</td>\n",
              "      <td>f</td>\n",
              "      <td>NaN</td>\n",
              "    </tr>\n",
              "    <tr>\n",
              "      <th>4</th>\n",
              "      <td>12147973</td>\n",
              "      <td>2017-09-01</td>\n",
              "      <td>f</td>\n",
              "      <td>NaN</td>\n",
              "    </tr>\n",
              "  </tbody>\n",
              "</table>\n",
              "</div>\n",
              "      <button class=\"colab-df-convert\" onclick=\"convertToInteractive('df-e2e0a2d2-babf-4200-a3fa-13fc71025375')\"\n",
              "              title=\"Convert this dataframe to an interactive table.\"\n",
              "              style=\"display:none;\">\n",
              "        \n",
              "  <svg xmlns=\"http://www.w3.org/2000/svg\" height=\"24px\"viewBox=\"0 0 24 24\"\n",
              "       width=\"24px\">\n",
              "    <path d=\"M0 0h24v24H0V0z\" fill=\"none\"/>\n",
              "    <path d=\"M18.56 5.44l.94 2.06.94-2.06 2.06-.94-2.06-.94-.94-2.06-.94 2.06-2.06.94zm-11 1L8.5 8.5l.94-2.06 2.06-.94-2.06-.94L8.5 2.5l-.94 2.06-2.06.94zm10 10l.94 2.06.94-2.06 2.06-.94-2.06-.94-.94-2.06-.94 2.06-2.06.94z\"/><path d=\"M17.41 7.96l-1.37-1.37c-.4-.4-.92-.59-1.43-.59-.52 0-1.04.2-1.43.59L10.3 9.45l-7.72 7.72c-.78.78-.78 2.05 0 2.83L4 21.41c.39.39.9.59 1.41.59.51 0 1.02-.2 1.41-.59l7.78-7.78 2.81-2.81c.8-.78.8-2.07 0-2.86zM5.41 20L4 18.59l7.72-7.72 1.47 1.35L5.41 20z\"/>\n",
              "  </svg>\n",
              "      </button>\n",
              "      \n",
              "  <style>\n",
              "    .colab-df-container {\n",
              "      display:flex;\n",
              "      flex-wrap:wrap;\n",
              "      gap: 12px;\n",
              "    }\n",
              "\n",
              "    .colab-df-convert {\n",
              "      background-color: #E8F0FE;\n",
              "      border: none;\n",
              "      border-radius: 50%;\n",
              "      cursor: pointer;\n",
              "      display: none;\n",
              "      fill: #1967D2;\n",
              "      height: 32px;\n",
              "      padding: 0 0 0 0;\n",
              "      width: 32px;\n",
              "    }\n",
              "\n",
              "    .colab-df-convert:hover {\n",
              "      background-color: #E2EBFA;\n",
              "      box-shadow: 0px 1px 2px rgba(60, 64, 67, 0.3), 0px 1px 3px 1px rgba(60, 64, 67, 0.15);\n",
              "      fill: #174EA6;\n",
              "    }\n",
              "\n",
              "    [theme=dark] .colab-df-convert {\n",
              "      background-color: #3B4455;\n",
              "      fill: #D2E3FC;\n",
              "    }\n",
              "\n",
              "    [theme=dark] .colab-df-convert:hover {\n",
              "      background-color: #434B5C;\n",
              "      box-shadow: 0px 1px 3px 1px rgba(0, 0, 0, 0.15);\n",
              "      filter: drop-shadow(0px 1px 2px rgba(0, 0, 0, 0.3));\n",
              "      fill: #FFFFFF;\n",
              "    }\n",
              "  </style>\n",
              "\n",
              "      <script>\n",
              "        const buttonEl =\n",
              "          document.querySelector('#df-e2e0a2d2-babf-4200-a3fa-13fc71025375 button.colab-df-convert');\n",
              "        buttonEl.style.display =\n",
              "          google.colab.kernel.accessAllowed ? 'block' : 'none';\n",
              "\n",
              "        async function convertToInteractive(key) {\n",
              "          const element = document.querySelector('#df-e2e0a2d2-babf-4200-a3fa-13fc71025375');\n",
              "          const dataTable =\n",
              "            await google.colab.kernel.invokeFunction('convertToInteractive',\n",
              "                                                     [key], {});\n",
              "          if (!dataTable) return;\n",
              "\n",
              "          const docLinkHtml = 'Like what you see? Visit the ' +\n",
              "            '<a target=\"_blank\" href=https://colab.research.google.com/notebooks/data_table.ipynb>data table notebook</a>'\n",
              "            + ' to learn more about interactive tables.';\n",
              "          element.innerHTML = '';\n",
              "          dataTable['output_type'] = 'display_data';\n",
              "          await google.colab.output.renderOutput(dataTable, element);\n",
              "          const docLink = document.createElement('div');\n",
              "          docLink.innerHTML = docLinkHtml;\n",
              "          element.appendChild(docLink);\n",
              "        }\n",
              "      </script>\n",
              "    </div>\n",
              "  </div>\n",
              "  "
            ]
          },
          "metadata": {},
          "execution_count": 9
        }
      ]
    },
    {
      "cell_type": "markdown",
      "source": [
        "price columns has missing values but it is possible that this is the case when listing is unavailable\n",
        "\n",
        "price to be converted to float and $ and , to be removed. To be used for data cleaning"
      ],
      "metadata": {
        "id": "yiRE7YjcyiT_"
      }
    },
    {
      "cell_type": "code",
      "source": [
        "#calendar data types\n",
        "calendar.dtypes"
      ],
      "metadata": {
        "id": "3FBP67ekkflf",
        "colab": {
          "base_uri": "https://localhost:8080/"
        },
        "outputId": "9a597068-6eac-4b3e-f89c-b93c5f20ad23"
      },
      "execution_count": null,
      "outputs": [
        {
          "output_type": "execute_result",
          "data": {
            "text/plain": [
              "listing_id     int64\n",
              "date          object\n",
              "available     object\n",
              "price         object\n",
              "dtype: object"
            ]
          },
          "metadata": {},
          "execution_count": 10
        }
      ]
    },
    {
      "cell_type": "markdown",
      "source": [
        "1. date is an object(string) to be converted to datetime while cleaning.\n",
        "2. listing_id is an integer convert to string"
      ],
      "metadata": {
        "id": "9OC5ndmsyld9"
      }
    },
    {
      "cell_type": "code",
      "source": [
        "explore_column(calendar, \"price\")"
      ],
      "metadata": {
        "colab": {
          "base_uri": "https://localhost:8080/"
        },
        "id": "n5XqJWmulNVT",
        "outputId": "65986dde-dc4b-4c81-dc53-3a6927b6b7dd"
      },
      "execution_count": null,
      "outputs": [
        {
          "output_type": "stream",
          "name": "stdout",
          "text": [
            "There are 665853 of na columns.\n",
            "There are 1246 unique values\n",
            "Column type:  object\n"
          ]
        }
      ]
    },
    {
      "cell_type": "code",
      "source": [
        "calendar[(calendar[\"price\"].isna()) & (calendar[\"available\"] == \"t\")]"
      ],
      "metadata": {
        "id": "N-tYO_kWFLDi",
        "colab": {
          "base_uri": "https://localhost:8080/",
          "height": 49
        },
        "outputId": "12431a1e-e3d3-4f04-c4b7-65d29c7bf50d"
      },
      "execution_count": null,
      "outputs": [
        {
          "output_type": "execute_result",
          "data": {
            "text/plain": [
              "Empty DataFrame\n",
              "Columns: [listing_id, date, available, price]\n",
              "Index: []"
            ],
            "text/html": [
              "\n",
              "  <div id=\"df-a9fd45c4-185a-4222-acee-918ced20155c\">\n",
              "    <div class=\"colab-df-container\">\n",
              "      <div>\n",
              "<style scoped>\n",
              "    .dataframe tbody tr th:only-of-type {\n",
              "        vertical-align: middle;\n",
              "    }\n",
              "\n",
              "    .dataframe tbody tr th {\n",
              "        vertical-align: top;\n",
              "    }\n",
              "\n",
              "    .dataframe thead th {\n",
              "        text-align: right;\n",
              "    }\n",
              "</style>\n",
              "<table border=\"1\" class=\"dataframe\">\n",
              "  <thead>\n",
              "    <tr style=\"text-align: right;\">\n",
              "      <th></th>\n",
              "      <th>listing_id</th>\n",
              "      <th>date</th>\n",
              "      <th>available</th>\n",
              "      <th>price</th>\n",
              "    </tr>\n",
              "  </thead>\n",
              "  <tbody>\n",
              "  </tbody>\n",
              "</table>\n",
              "</div>\n",
              "      <button class=\"colab-df-convert\" onclick=\"convertToInteractive('df-a9fd45c4-185a-4222-acee-918ced20155c')\"\n",
              "              title=\"Convert this dataframe to an interactive table.\"\n",
              "              style=\"display:none;\">\n",
              "        \n",
              "  <svg xmlns=\"http://www.w3.org/2000/svg\" height=\"24px\"viewBox=\"0 0 24 24\"\n",
              "       width=\"24px\">\n",
              "    <path d=\"M0 0h24v24H0V0z\" fill=\"none\"/>\n",
              "    <path d=\"M18.56 5.44l.94 2.06.94-2.06 2.06-.94-2.06-.94-.94-2.06-.94 2.06-2.06.94zm-11 1L8.5 8.5l.94-2.06 2.06-.94-2.06-.94L8.5 2.5l-.94 2.06-2.06.94zm10 10l.94 2.06.94-2.06 2.06-.94-2.06-.94-.94-2.06-.94 2.06-2.06.94z\"/><path d=\"M17.41 7.96l-1.37-1.37c-.4-.4-.92-.59-1.43-.59-.52 0-1.04.2-1.43.59L10.3 9.45l-7.72 7.72c-.78.78-.78 2.05 0 2.83L4 21.41c.39.39.9.59 1.41.59.51 0 1.02-.2 1.41-.59l7.78-7.78 2.81-2.81c.8-.78.8-2.07 0-2.86zM5.41 20L4 18.59l7.72-7.72 1.47 1.35L5.41 20z\"/>\n",
              "  </svg>\n",
              "      </button>\n",
              "      \n",
              "  <style>\n",
              "    .colab-df-container {\n",
              "      display:flex;\n",
              "      flex-wrap:wrap;\n",
              "      gap: 12px;\n",
              "    }\n",
              "\n",
              "    .colab-df-convert {\n",
              "      background-color: #E8F0FE;\n",
              "      border: none;\n",
              "      border-radius: 50%;\n",
              "      cursor: pointer;\n",
              "      display: none;\n",
              "      fill: #1967D2;\n",
              "      height: 32px;\n",
              "      padding: 0 0 0 0;\n",
              "      width: 32px;\n",
              "    }\n",
              "\n",
              "    .colab-df-convert:hover {\n",
              "      background-color: #E2EBFA;\n",
              "      box-shadow: 0px 1px 2px rgba(60, 64, 67, 0.3), 0px 1px 3px 1px rgba(60, 64, 67, 0.15);\n",
              "      fill: #174EA6;\n",
              "    }\n",
              "\n",
              "    [theme=dark] .colab-df-convert {\n",
              "      background-color: #3B4455;\n",
              "      fill: #D2E3FC;\n",
              "    }\n",
              "\n",
              "    [theme=dark] .colab-df-convert:hover {\n",
              "      background-color: #434B5C;\n",
              "      box-shadow: 0px 1px 3px 1px rgba(0, 0, 0, 0.15);\n",
              "      filter: drop-shadow(0px 1px 2px rgba(0, 0, 0, 0.3));\n",
              "      fill: #FFFFFF;\n",
              "    }\n",
              "  </style>\n",
              "\n",
              "      <script>\n",
              "        const buttonEl =\n",
              "          document.querySelector('#df-a9fd45c4-185a-4222-acee-918ced20155c button.colab-df-convert');\n",
              "        buttonEl.style.display =\n",
              "          google.colab.kernel.accessAllowed ? 'block' : 'none';\n",
              "\n",
              "        async function convertToInteractive(key) {\n",
              "          const element = document.querySelector('#df-a9fd45c4-185a-4222-acee-918ced20155c');\n",
              "          const dataTable =\n",
              "            await google.colab.kernel.invokeFunction('convertToInteractive',\n",
              "                                                     [key], {});\n",
              "          if (!dataTable) return;\n",
              "\n",
              "          const docLinkHtml = 'Like what you see? Visit the ' +\n",
              "            '<a target=\"_blank\" href=https://colab.research.google.com/notebooks/data_table.ipynb>data table notebook</a>'\n",
              "            + ' to learn more about interactive tables.';\n",
              "          element.innerHTML = '';\n",
              "          dataTable['output_type'] = 'display_data';\n",
              "          await google.colab.output.renderOutput(dataTable, element);\n",
              "          const docLink = document.createElement('div');\n",
              "          docLink.innerHTML = docLinkHtml;\n",
              "          element.appendChild(docLink);\n",
              "        }\n",
              "      </script>\n",
              "    </div>\n",
              "  </div>\n",
              "  "
            ]
          },
          "metadata": {},
          "execution_count": 12
        }
      ]
    },
    {
      "cell_type": "code",
      "source": [
        "calendar[(calendar[\"price\"].notna()) & (calendar[\"available\"] == \"f\")]"
      ],
      "metadata": {
        "id": "OdKAA24oGBA3",
        "colab": {
          "base_uri": "https://localhost:8080/",
          "height": 49
        },
        "outputId": "14805368-36f8-4f2f-cd87-c69cf3566472"
      },
      "execution_count": null,
      "outputs": [
        {
          "output_type": "execute_result",
          "data": {
            "text/plain": [
              "Empty DataFrame\n",
              "Columns: [listing_id, date, available, price]\n",
              "Index: []"
            ],
            "text/html": [
              "\n",
              "  <div id=\"df-9faf022e-4629-4d79-838e-637023f37f8d\">\n",
              "    <div class=\"colab-df-container\">\n",
              "      <div>\n",
              "<style scoped>\n",
              "    .dataframe tbody tr th:only-of-type {\n",
              "        vertical-align: middle;\n",
              "    }\n",
              "\n",
              "    .dataframe tbody tr th {\n",
              "        vertical-align: top;\n",
              "    }\n",
              "\n",
              "    .dataframe thead th {\n",
              "        text-align: right;\n",
              "    }\n",
              "</style>\n",
              "<table border=\"1\" class=\"dataframe\">\n",
              "  <thead>\n",
              "    <tr style=\"text-align: right;\">\n",
              "      <th></th>\n",
              "      <th>listing_id</th>\n",
              "      <th>date</th>\n",
              "      <th>available</th>\n",
              "      <th>price</th>\n",
              "    </tr>\n",
              "  </thead>\n",
              "  <tbody>\n",
              "  </tbody>\n",
              "</table>\n",
              "</div>\n",
              "      <button class=\"colab-df-convert\" onclick=\"convertToInteractive('df-9faf022e-4629-4d79-838e-637023f37f8d')\"\n",
              "              title=\"Convert this dataframe to an interactive table.\"\n",
              "              style=\"display:none;\">\n",
              "        \n",
              "  <svg xmlns=\"http://www.w3.org/2000/svg\" height=\"24px\"viewBox=\"0 0 24 24\"\n",
              "       width=\"24px\">\n",
              "    <path d=\"M0 0h24v24H0V0z\" fill=\"none\"/>\n",
              "    <path d=\"M18.56 5.44l.94 2.06.94-2.06 2.06-.94-2.06-.94-.94-2.06-.94 2.06-2.06.94zm-11 1L8.5 8.5l.94-2.06 2.06-.94-2.06-.94L8.5 2.5l-.94 2.06-2.06.94zm10 10l.94 2.06.94-2.06 2.06-.94-2.06-.94-.94-2.06-.94 2.06-2.06.94z\"/><path d=\"M17.41 7.96l-1.37-1.37c-.4-.4-.92-.59-1.43-.59-.52 0-1.04.2-1.43.59L10.3 9.45l-7.72 7.72c-.78.78-.78 2.05 0 2.83L4 21.41c.39.39.9.59 1.41.59.51 0 1.02-.2 1.41-.59l7.78-7.78 2.81-2.81c.8-.78.8-2.07 0-2.86zM5.41 20L4 18.59l7.72-7.72 1.47 1.35L5.41 20z\"/>\n",
              "  </svg>\n",
              "      </button>\n",
              "      \n",
              "  <style>\n",
              "    .colab-df-container {\n",
              "      display:flex;\n",
              "      flex-wrap:wrap;\n",
              "      gap: 12px;\n",
              "    }\n",
              "\n",
              "    .colab-df-convert {\n",
              "      background-color: #E8F0FE;\n",
              "      border: none;\n",
              "      border-radius: 50%;\n",
              "      cursor: pointer;\n",
              "      display: none;\n",
              "      fill: #1967D2;\n",
              "      height: 32px;\n",
              "      padding: 0 0 0 0;\n",
              "      width: 32px;\n",
              "    }\n",
              "\n",
              "    .colab-df-convert:hover {\n",
              "      background-color: #E2EBFA;\n",
              "      box-shadow: 0px 1px 2px rgba(60, 64, 67, 0.3), 0px 1px 3px 1px rgba(60, 64, 67, 0.15);\n",
              "      fill: #174EA6;\n",
              "    }\n",
              "\n",
              "    [theme=dark] .colab-df-convert {\n",
              "      background-color: #3B4455;\n",
              "      fill: #D2E3FC;\n",
              "    }\n",
              "\n",
              "    [theme=dark] .colab-df-convert:hover {\n",
              "      background-color: #434B5C;\n",
              "      box-shadow: 0px 1px 3px 1px rgba(0, 0, 0, 0.15);\n",
              "      filter: drop-shadow(0px 1px 2px rgba(0, 0, 0, 0.3));\n",
              "      fill: #FFFFFF;\n",
              "    }\n",
              "  </style>\n",
              "\n",
              "      <script>\n",
              "        const buttonEl =\n",
              "          document.querySelector('#df-9faf022e-4629-4d79-838e-637023f37f8d button.colab-df-convert');\n",
              "        buttonEl.style.display =\n",
              "          google.colab.kernel.accessAllowed ? 'block' : 'none';\n",
              "\n",
              "        async function convertToInteractive(key) {\n",
              "          const element = document.querySelector('#df-9faf022e-4629-4d79-838e-637023f37f8d');\n",
              "          const dataTable =\n",
              "            await google.colab.kernel.invokeFunction('convertToInteractive',\n",
              "                                                     [key], {});\n",
              "          if (!dataTable) return;\n",
              "\n",
              "          const docLinkHtml = 'Like what you see? Visit the ' +\n",
              "            '<a target=\"_blank\" href=https://colab.research.google.com/notebooks/data_table.ipynb>data table notebook</a>'\n",
              "            + ' to learn more about interactive tables.';\n",
              "          element.innerHTML = '';\n",
              "          dataTable['output_type'] = 'display_data';\n",
              "          await google.colab.output.renderOutput(dataTable, element);\n",
              "          const docLink = document.createElement('div');\n",
              "          docLink.innerHTML = docLinkHtml;\n",
              "          element.appendChild(docLink);\n",
              "        }\n",
              "      </script>\n",
              "    </div>\n",
              "  </div>\n",
              "  "
            ]
          },
          "metadata": {},
          "execution_count": 13
        }
      ]
    },
    {
      "cell_type": "code",
      "source": [
        "calendar[(calendar[\"price\"].isna()) & (calendar[\"available\"] == \"f\")]"
      ],
      "metadata": {
        "id": "T_vGEDEdhZ1A"
      },
      "execution_count": null,
      "outputs": []
    },
    {
      "cell_type": "code",
      "source": [
        "calendar[(calendar[\"price\"].notna()) & (calendar[\"available\"] == \"t\")]"
      ],
      "metadata": {
        "id": "tWUhx1Y4F-sL"
      },
      "execution_count": null,
      "outputs": []
    },
    {
      "cell_type": "code",
      "source": [
        "#Calendar[calendar.columns[0]].count()\n",
        "#len(calendar.index)\n",
        "calendar.shape"
      ],
      "metadata": {
        "id": "9_VH6ah-lZqU"
      },
      "execution_count": null,
      "outputs": []
    },
    {
      "cell_type": "markdown",
      "source": [
        "calendar data contains 1308890 rows and 4 columns."
      ],
      "metadata": {
        "id": "WJpvn2sAy8GL"
      }
    },
    {
      "cell_type": "code",
      "source": [
        "#print description of data\n",
        "calendar.describe()"
      ],
      "metadata": {
        "id": "AH3xJrnxy_9i",
        "colab": {
          "base_uri": "https://localhost:8080/",
          "height": 300
        },
        "outputId": "15bb4915-a41f-42f9-b4bb-6c4e351cd382"
      },
      "execution_count": null,
      "outputs": [
        {
          "output_type": "execute_result",
          "data": {
            "text/plain": [
              "              listing_id\n",
              "count  1308890.000000000\n",
              "mean   8442117.776352482\n",
              "std    4500148.919018810\n",
              "min       3353.000000000\n",
              "25%    4679319.000000000\n",
              "50%    8578709.500000000\n",
              "75%   12796034.000000000\n",
              "max   14933461.000000000"
            ],
            "text/html": [
              "\n",
              "  <div id=\"df-947b4e18-e10c-42d8-8302-0df4a1f9be87\">\n",
              "    <div class=\"colab-df-container\">\n",
              "      <div>\n",
              "<style scoped>\n",
              "    .dataframe tbody tr th:only-of-type {\n",
              "        vertical-align: middle;\n",
              "    }\n",
              "\n",
              "    .dataframe tbody tr th {\n",
              "        vertical-align: top;\n",
              "    }\n",
              "\n",
              "    .dataframe thead th {\n",
              "        text-align: right;\n",
              "    }\n",
              "</style>\n",
              "<table border=\"1\" class=\"dataframe\">\n",
              "  <thead>\n",
              "    <tr style=\"text-align: right;\">\n",
              "      <th></th>\n",
              "      <th>listing_id</th>\n",
              "    </tr>\n",
              "  </thead>\n",
              "  <tbody>\n",
              "    <tr>\n",
              "      <th>count</th>\n",
              "      <td>1308890.000000000</td>\n",
              "    </tr>\n",
              "    <tr>\n",
              "      <th>mean</th>\n",
              "      <td>8442117.776352482</td>\n",
              "    </tr>\n",
              "    <tr>\n",
              "      <th>std</th>\n",
              "      <td>4500148.919018810</td>\n",
              "    </tr>\n",
              "    <tr>\n",
              "      <th>min</th>\n",
              "      <td>3353.000000000</td>\n",
              "    </tr>\n",
              "    <tr>\n",
              "      <th>25%</th>\n",
              "      <td>4679319.000000000</td>\n",
              "    </tr>\n",
              "    <tr>\n",
              "      <th>50%</th>\n",
              "      <td>8578709.500000000</td>\n",
              "    </tr>\n",
              "    <tr>\n",
              "      <th>75%</th>\n",
              "      <td>12796034.000000000</td>\n",
              "    </tr>\n",
              "    <tr>\n",
              "      <th>max</th>\n",
              "      <td>14933461.000000000</td>\n",
              "    </tr>\n",
              "  </tbody>\n",
              "</table>\n",
              "</div>\n",
              "      <button class=\"colab-df-convert\" onclick=\"convertToInteractive('df-947b4e18-e10c-42d8-8302-0df4a1f9be87')\"\n",
              "              title=\"Convert this dataframe to an interactive table.\"\n",
              "              style=\"display:none;\">\n",
              "        \n",
              "  <svg xmlns=\"http://www.w3.org/2000/svg\" height=\"24px\"viewBox=\"0 0 24 24\"\n",
              "       width=\"24px\">\n",
              "    <path d=\"M0 0h24v24H0V0z\" fill=\"none\"/>\n",
              "    <path d=\"M18.56 5.44l.94 2.06.94-2.06 2.06-.94-2.06-.94-.94-2.06-.94 2.06-2.06.94zm-11 1L8.5 8.5l.94-2.06 2.06-.94-2.06-.94L8.5 2.5l-.94 2.06-2.06.94zm10 10l.94 2.06.94-2.06 2.06-.94-2.06-.94-.94-2.06-.94 2.06-2.06.94z\"/><path d=\"M17.41 7.96l-1.37-1.37c-.4-.4-.92-.59-1.43-.59-.52 0-1.04.2-1.43.59L10.3 9.45l-7.72 7.72c-.78.78-.78 2.05 0 2.83L4 21.41c.39.39.9.59 1.41.59.51 0 1.02-.2 1.41-.59l7.78-7.78 2.81-2.81c.8-.78.8-2.07 0-2.86zM5.41 20L4 18.59l7.72-7.72 1.47 1.35L5.41 20z\"/>\n",
              "  </svg>\n",
              "      </button>\n",
              "      \n",
              "  <style>\n",
              "    .colab-df-container {\n",
              "      display:flex;\n",
              "      flex-wrap:wrap;\n",
              "      gap: 12px;\n",
              "    }\n",
              "\n",
              "    .colab-df-convert {\n",
              "      background-color: #E8F0FE;\n",
              "      border: none;\n",
              "      border-radius: 50%;\n",
              "      cursor: pointer;\n",
              "      display: none;\n",
              "      fill: #1967D2;\n",
              "      height: 32px;\n",
              "      padding: 0 0 0 0;\n",
              "      width: 32px;\n",
              "    }\n",
              "\n",
              "    .colab-df-convert:hover {\n",
              "      background-color: #E2EBFA;\n",
              "      box-shadow: 0px 1px 2px rgba(60, 64, 67, 0.3), 0px 1px 3px 1px rgba(60, 64, 67, 0.15);\n",
              "      fill: #174EA6;\n",
              "    }\n",
              "\n",
              "    [theme=dark] .colab-df-convert {\n",
              "      background-color: #3B4455;\n",
              "      fill: #D2E3FC;\n",
              "    }\n",
              "\n",
              "    [theme=dark] .colab-df-convert:hover {\n",
              "      background-color: #434B5C;\n",
              "      box-shadow: 0px 1px 3px 1px rgba(0, 0, 0, 0.15);\n",
              "      filter: drop-shadow(0px 1px 2px rgba(0, 0, 0, 0.3));\n",
              "      fill: #FFFFFF;\n",
              "    }\n",
              "  </style>\n",
              "\n",
              "      <script>\n",
              "        const buttonEl =\n",
              "          document.querySelector('#df-947b4e18-e10c-42d8-8302-0df4a1f9be87 button.colab-df-convert');\n",
              "        buttonEl.style.display =\n",
              "          google.colab.kernel.accessAllowed ? 'block' : 'none';\n",
              "\n",
              "        async function convertToInteractive(key) {\n",
              "          const element = document.querySelector('#df-947b4e18-e10c-42d8-8302-0df4a1f9be87');\n",
              "          const dataTable =\n",
              "            await google.colab.kernel.invokeFunction('convertToInteractive',\n",
              "                                                     [key], {});\n",
              "          if (!dataTable) return;\n",
              "\n",
              "          const docLinkHtml = 'Like what you see? Visit the ' +\n",
              "            '<a target=\"_blank\" href=https://colab.research.google.com/notebooks/data_table.ipynb>data table notebook</a>'\n",
              "            + ' to learn more about interactive tables.';\n",
              "          element.innerHTML = '';\n",
              "          dataTable['output_type'] = 'display_data';\n",
              "          await google.colab.output.renderOutput(dataTable, element);\n",
              "          const docLink = document.createElement('div');\n",
              "          docLink.innerHTML = docLinkHtml;\n",
              "          element.appendChild(docLink);\n",
              "        }\n",
              "      </script>\n",
              "    </div>\n",
              "  </div>\n",
              "  "
            ]
          },
          "metadata": {},
          "execution_count": 17
        }
      ]
    },
    {
      "cell_type": "code",
      "source": [
        "#print concise summary of data\n",
        "calendar.info()"
      ],
      "metadata": {
        "id": "hcJo4-sJeLT6",
        "colab": {
          "base_uri": "https://localhost:8080/"
        },
        "outputId": "357e55e4-4fbd-4a3e-8182-a3f59c314769"
      },
      "execution_count": null,
      "outputs": [
        {
          "output_type": "stream",
          "name": "stdout",
          "text": [
            "<class 'pandas.core.frame.DataFrame'>\n",
            "RangeIndex: 1308890 entries, 0 to 1308889\n",
            "Data columns (total 4 columns):\n",
            " #   Column      Non-Null Count    Dtype \n",
            "---  ------      --------------    ----- \n",
            " 0   listing_id  1308890 non-null  int64 \n",
            " 1   date        1308890 non-null  object\n",
            " 2   available   1308890 non-null  object\n",
            " 3   price       643037 non-null   object\n",
            "dtypes: int64(1), object(3)\n",
            "memory usage: 39.9+ MB\n"
          ]
        }
      ]
    },
    {
      "cell_type": "markdown",
      "source": [
        "Calendar data has total of 1308890 rows of data with half of the prices are null(1308890-643037= 665853)"
      ],
      "metadata": {
        "id": "axFsPSySzAX7"
      }
    },
    {
      "cell_type": "code",
      "source": [
        "# Check if number of missing values is the same as number of 'f' availability\n",
        "calendar.price.isna().sum() "
      ],
      "metadata": {
        "id": "OrDCwaBA5_NG",
        "colab": {
          "base_uri": "https://localhost:8080/"
        },
        "outputId": "d6c0d699-f67e-41ec-9e8f-5be42d476022"
      },
      "execution_count": null,
      "outputs": [
        {
          "output_type": "execute_result",
          "data": {
            "text/plain": [
              "665853"
            ]
          },
          "metadata": {},
          "execution_count": 19
        }
      ]
    },
    {
      "cell_type": "code",
      "source": [
        "calendar.duplicated().sum()"
      ],
      "metadata": {
        "id": "-kErlYhUJXdk",
        "colab": {
          "base_uri": "https://localhost:8080/"
        },
        "outputId": "74aa7408-c3e2-4340-d65b-9559d7efb186"
      },
      "execution_count": null,
      "outputs": [
        {
          "output_type": "execute_result",
          "data": {
            "text/plain": [
              "365"
            ]
          },
          "metadata": {},
          "execution_count": 20
        }
      ]
    },
    {
      "cell_type": "code",
      "source": [
        "# calendar[(calendar[\"listing_id\"] == 12898806) & (calendar[\"date\"] == \"2017-06-15\")]\n",
        "calendar[calendar.duplicated()].head()"
      ],
      "metadata": {
        "id": "1-Hm09BM90mo",
        "colab": {
          "base_uri": "https://localhost:8080/",
          "height": 206
        },
        "outputId": "45b46964-d9f8-4f87-b68c-83360b2864fa"
      },
      "execution_count": null,
      "outputs": [
        {
          "output_type": "execute_result",
          "data": {
            "text/plain": [
              "        listing_id        date available price\n",
              "748468    12898806  2017-06-15         f   NaN\n",
              "748469    12898806  2017-06-14         f   NaN\n",
              "748470    12898806  2017-06-13         f   NaN\n",
              "748471    12898806  2017-06-12         f   NaN\n",
              "748472    12898806  2017-06-11         f   NaN"
            ],
            "text/html": [
              "\n",
              "  <div id=\"df-96d18ddc-20ee-43de-8600-edd4a08cc61c\">\n",
              "    <div class=\"colab-df-container\">\n",
              "      <div>\n",
              "<style scoped>\n",
              "    .dataframe tbody tr th:only-of-type {\n",
              "        vertical-align: middle;\n",
              "    }\n",
              "\n",
              "    .dataframe tbody tr th {\n",
              "        vertical-align: top;\n",
              "    }\n",
              "\n",
              "    .dataframe thead th {\n",
              "        text-align: right;\n",
              "    }\n",
              "</style>\n",
              "<table border=\"1\" class=\"dataframe\">\n",
              "  <thead>\n",
              "    <tr style=\"text-align: right;\">\n",
              "      <th></th>\n",
              "      <th>listing_id</th>\n",
              "      <th>date</th>\n",
              "      <th>available</th>\n",
              "      <th>price</th>\n",
              "    </tr>\n",
              "  </thead>\n",
              "  <tbody>\n",
              "    <tr>\n",
              "      <th>748468</th>\n",
              "      <td>12898806</td>\n",
              "      <td>2017-06-15</td>\n",
              "      <td>f</td>\n",
              "      <td>NaN</td>\n",
              "    </tr>\n",
              "    <tr>\n",
              "      <th>748469</th>\n",
              "      <td>12898806</td>\n",
              "      <td>2017-06-14</td>\n",
              "      <td>f</td>\n",
              "      <td>NaN</td>\n",
              "    </tr>\n",
              "    <tr>\n",
              "      <th>748470</th>\n",
              "      <td>12898806</td>\n",
              "      <td>2017-06-13</td>\n",
              "      <td>f</td>\n",
              "      <td>NaN</td>\n",
              "    </tr>\n",
              "    <tr>\n",
              "      <th>748471</th>\n",
              "      <td>12898806</td>\n",
              "      <td>2017-06-12</td>\n",
              "      <td>f</td>\n",
              "      <td>NaN</td>\n",
              "    </tr>\n",
              "    <tr>\n",
              "      <th>748472</th>\n",
              "      <td>12898806</td>\n",
              "      <td>2017-06-11</td>\n",
              "      <td>f</td>\n",
              "      <td>NaN</td>\n",
              "    </tr>\n",
              "  </tbody>\n",
              "</table>\n",
              "</div>\n",
              "      <button class=\"colab-df-convert\" onclick=\"convertToInteractive('df-96d18ddc-20ee-43de-8600-edd4a08cc61c')\"\n",
              "              title=\"Convert this dataframe to an interactive table.\"\n",
              "              style=\"display:none;\">\n",
              "        \n",
              "  <svg xmlns=\"http://www.w3.org/2000/svg\" height=\"24px\"viewBox=\"0 0 24 24\"\n",
              "       width=\"24px\">\n",
              "    <path d=\"M0 0h24v24H0V0z\" fill=\"none\"/>\n",
              "    <path d=\"M18.56 5.44l.94 2.06.94-2.06 2.06-.94-2.06-.94-.94-2.06-.94 2.06-2.06.94zm-11 1L8.5 8.5l.94-2.06 2.06-.94-2.06-.94L8.5 2.5l-.94 2.06-2.06.94zm10 10l.94 2.06.94-2.06 2.06-.94-2.06-.94-.94-2.06-.94 2.06-2.06.94z\"/><path d=\"M17.41 7.96l-1.37-1.37c-.4-.4-.92-.59-1.43-.59-.52 0-1.04.2-1.43.59L10.3 9.45l-7.72 7.72c-.78.78-.78 2.05 0 2.83L4 21.41c.39.39.9.59 1.41.59.51 0 1.02-.2 1.41-.59l7.78-7.78 2.81-2.81c.8-.78.8-2.07 0-2.86zM5.41 20L4 18.59l7.72-7.72 1.47 1.35L5.41 20z\"/>\n",
              "  </svg>\n",
              "      </button>\n",
              "      \n",
              "  <style>\n",
              "    .colab-df-container {\n",
              "      display:flex;\n",
              "      flex-wrap:wrap;\n",
              "      gap: 12px;\n",
              "    }\n",
              "\n",
              "    .colab-df-convert {\n",
              "      background-color: #E8F0FE;\n",
              "      border: none;\n",
              "      border-radius: 50%;\n",
              "      cursor: pointer;\n",
              "      display: none;\n",
              "      fill: #1967D2;\n",
              "      height: 32px;\n",
              "      padding: 0 0 0 0;\n",
              "      width: 32px;\n",
              "    }\n",
              "\n",
              "    .colab-df-convert:hover {\n",
              "      background-color: #E2EBFA;\n",
              "      box-shadow: 0px 1px 2px rgba(60, 64, 67, 0.3), 0px 1px 3px 1px rgba(60, 64, 67, 0.15);\n",
              "      fill: #174EA6;\n",
              "    }\n",
              "\n",
              "    [theme=dark] .colab-df-convert {\n",
              "      background-color: #3B4455;\n",
              "      fill: #D2E3FC;\n",
              "    }\n",
              "\n",
              "    [theme=dark] .colab-df-convert:hover {\n",
              "      background-color: #434B5C;\n",
              "      box-shadow: 0px 1px 3px 1px rgba(0, 0, 0, 0.15);\n",
              "      filter: drop-shadow(0px 1px 2px rgba(0, 0, 0, 0.3));\n",
              "      fill: #FFFFFF;\n",
              "    }\n",
              "  </style>\n",
              "\n",
              "      <script>\n",
              "        const buttonEl =\n",
              "          document.querySelector('#df-96d18ddc-20ee-43de-8600-edd4a08cc61c button.colab-df-convert');\n",
              "        buttonEl.style.display =\n",
              "          google.colab.kernel.accessAllowed ? 'block' : 'none';\n",
              "\n",
              "        async function convertToInteractive(key) {\n",
              "          const element = document.querySelector('#df-96d18ddc-20ee-43de-8600-edd4a08cc61c');\n",
              "          const dataTable =\n",
              "            await google.colab.kernel.invokeFunction('convertToInteractive',\n",
              "                                                     [key], {});\n",
              "          if (!dataTable) return;\n",
              "\n",
              "          const docLinkHtml = 'Like what you see? Visit the ' +\n",
              "            '<a target=\"_blank\" href=https://colab.research.google.com/notebooks/data_table.ipynb>data table notebook</a>'\n",
              "            + ' to learn more about interactive tables.';\n",
              "          element.innerHTML = '';\n",
              "          dataTable['output_type'] = 'display_data';\n",
              "          await google.colab.output.renderOutput(dataTable, element);\n",
              "          const docLink = document.createElement('div');\n",
              "          docLink.innerHTML = docLinkHtml;\n",
              "          element.appendChild(docLink);\n",
              "        }\n",
              "      </script>\n",
              "    </div>\n",
              "  </div>\n",
              "  "
            ]
          },
          "metadata": {},
          "execution_count": 22
        }
      ]
    },
    {
      "cell_type": "markdown",
      "source": [
        "**Calendar Data Issues Identified**\n",
        "\n",
        "- listing_id: convert to `str`\n",
        "- date: convert to `datetime`\n",
        "- available: convert to dummy variable\n",
        "- price: drop $ and comma and convert to float/int\n",
        "\n",
        "\n"
      ],
      "metadata": {
        "id": "LLJn-_HpxrGB"
      }
    },
    {
      "cell_type": "markdown",
      "source": [
        "#### Listings Data"
      ],
      "metadata": {
        "id": "KVmnaGqFi9g8"
      }
    },
    {
      "cell_type": "code",
      "source": [
        "#print the head of listings\n",
        "listings.head()"
      ],
      "metadata": {
        "id": "FmzmG85mi_xU",
        "colab": {
          "base_uri": "https://localhost:8080/",
          "height": 768
        },
        "outputId": "4435213e-f3ff-42e7-dccd-448d3501bde6"
      },
      "execution_count": 194,
      "outputs": [
        {
          "output_type": "execute_result",
          "data": {
            "text/plain": [
              "         id                            listing_url       scrape_id  \\\n",
              "0  12147973  https://www.airbnb.com/rooms/12147973  20160906204935   \n",
              "1   3075044   https://www.airbnb.com/rooms/3075044  20160906204935   \n",
              "2      6976      https://www.airbnb.com/rooms/6976  20160906204935   \n",
              "3   1436513   https://www.airbnb.com/rooms/1436513  20160906204935   \n",
              "4   7651065   https://www.airbnb.com/rooms/7651065  20160906204935   \n",
              "\n",
              "  last_scraped                                           name  \\\n",
              "0   2016-09-07                     Sunny Bungalow in the City   \n",
              "1   2016-09-07              Charming room in pet friendly apt   \n",
              "2   2016-09-07               Mexican Folk Art Haven in Boston   \n",
              "3   2016-09-07  Spacious Sunny Bedroom Suite in Historic Home   \n",
              "4   2016-09-07                            Come Home to Boston   \n",
              "\n",
              "                                             summary  \\\n",
              "0  Cozy, sunny, family home.  Master bedroom high...   \n",
              "1  Charming and quiet room in a second floor 1910...   \n",
              "2  Come stay with a friendly, middle-aged guy in ...   \n",
              "3  Come experience the comforts of home away from...   \n",
              "4  My comfy, clean and relaxing home is one block...   \n",
              "\n",
              "                                               space  \\\n",
              "0  The house has an open and cozy feel at the sam...   \n",
              "1  Small but cozy and quite room with a full size...   \n",
              "2  Come stay with a friendly, middle-aged guy in ...   \n",
              "3  Most places you find in Boston are small howev...   \n",
              "4  Clean, attractive, private room, one block fro...   \n",
              "\n",
              "                                         description experiences_offered  \\\n",
              "0  Cozy, sunny, family home.  Master bedroom high...                none   \n",
              "1  Charming and quiet room in a second floor 1910...                none   \n",
              "2  Come stay with a friendly, middle-aged guy in ...                none   \n",
              "3  Come experience the comforts of home away from...                none   \n",
              "4  My comfy, clean and relaxing home is one block...                none   \n",
              "\n",
              "                               neighborhood_overview  ... review_scores_value  \\\n",
              "0  Roslindale is quiet, convenient and friendly. ...  ...                 NaN   \n",
              "1  The room is in Roslindale, a diverse and prima...  ...         9.000000000   \n",
              "2  The LOCATION: Roslindale is a safe and diverse...  ...        10.000000000   \n",
              "3  Roslindale is a lovely little neighborhood loc...  ...        10.000000000   \n",
              "4  I love the proximity to downtown, the neighbor...  ...        10.000000000   \n",
              "\n",
              "  requires_license license jurisdiction_names instant_bookable  \\\n",
              "0                f     NaN                NaN                f   \n",
              "1                f     NaN                NaN                t   \n",
              "2                f     NaN                NaN                f   \n",
              "3                f     NaN                NaN                f   \n",
              "4                f     NaN                NaN                f   \n",
              "\n",
              "  cancellation_policy require_guest_profile_picture  \\\n",
              "0            moderate                             f   \n",
              "1            moderate                             f   \n",
              "2            moderate                             t   \n",
              "3            moderate                             f   \n",
              "4            flexible                             f   \n",
              "\n",
              "  require_guest_phone_verification calculated_host_listings_count  \\\n",
              "0                                f                              1   \n",
              "1                                f                              1   \n",
              "2                                f                              1   \n",
              "3                                f                              1   \n",
              "4                                f                              1   \n",
              "\n",
              "   reviews_per_month  \n",
              "0                NaN  \n",
              "1        1.300000000  \n",
              "2        0.470000000  \n",
              "3        1.000000000  \n",
              "4        2.250000000  \n",
              "\n",
              "[5 rows x 95 columns]"
            ],
            "text/html": [
              "\n",
              "  <div id=\"df-8d5786d2-db83-4fc2-8174-16509b39c0bc\">\n",
              "    <div class=\"colab-df-container\">\n",
              "      <div>\n",
              "<style scoped>\n",
              "    .dataframe tbody tr th:only-of-type {\n",
              "        vertical-align: middle;\n",
              "    }\n",
              "\n",
              "    .dataframe tbody tr th {\n",
              "        vertical-align: top;\n",
              "    }\n",
              "\n",
              "    .dataframe thead th {\n",
              "        text-align: right;\n",
              "    }\n",
              "</style>\n",
              "<table border=\"1\" class=\"dataframe\">\n",
              "  <thead>\n",
              "    <tr style=\"text-align: right;\">\n",
              "      <th></th>\n",
              "      <th>id</th>\n",
              "      <th>listing_url</th>\n",
              "      <th>scrape_id</th>\n",
              "      <th>last_scraped</th>\n",
              "      <th>name</th>\n",
              "      <th>summary</th>\n",
              "      <th>space</th>\n",
              "      <th>description</th>\n",
              "      <th>experiences_offered</th>\n",
              "      <th>neighborhood_overview</th>\n",
              "      <th>...</th>\n",
              "      <th>review_scores_value</th>\n",
              "      <th>requires_license</th>\n",
              "      <th>license</th>\n",
              "      <th>jurisdiction_names</th>\n",
              "      <th>instant_bookable</th>\n",
              "      <th>cancellation_policy</th>\n",
              "      <th>require_guest_profile_picture</th>\n",
              "      <th>require_guest_phone_verification</th>\n",
              "      <th>calculated_host_listings_count</th>\n",
              "      <th>reviews_per_month</th>\n",
              "    </tr>\n",
              "  </thead>\n",
              "  <tbody>\n",
              "    <tr>\n",
              "      <th>0</th>\n",
              "      <td>12147973</td>\n",
              "      <td>https://www.airbnb.com/rooms/12147973</td>\n",
              "      <td>20160906204935</td>\n",
              "      <td>2016-09-07</td>\n",
              "      <td>Sunny Bungalow in the City</td>\n",
              "      <td>Cozy, sunny, family home.  Master bedroom high...</td>\n",
              "      <td>The house has an open and cozy feel at the sam...</td>\n",
              "      <td>Cozy, sunny, family home.  Master bedroom high...</td>\n",
              "      <td>none</td>\n",
              "      <td>Roslindale is quiet, convenient and friendly. ...</td>\n",
              "      <td>...</td>\n",
              "      <td>NaN</td>\n",
              "      <td>f</td>\n",
              "      <td>NaN</td>\n",
              "      <td>NaN</td>\n",
              "      <td>f</td>\n",
              "      <td>moderate</td>\n",
              "      <td>f</td>\n",
              "      <td>f</td>\n",
              "      <td>1</td>\n",
              "      <td>NaN</td>\n",
              "    </tr>\n",
              "    <tr>\n",
              "      <th>1</th>\n",
              "      <td>3075044</td>\n",
              "      <td>https://www.airbnb.com/rooms/3075044</td>\n",
              "      <td>20160906204935</td>\n",
              "      <td>2016-09-07</td>\n",
              "      <td>Charming room in pet friendly apt</td>\n",
              "      <td>Charming and quiet room in a second floor 1910...</td>\n",
              "      <td>Small but cozy and quite room with a full size...</td>\n",
              "      <td>Charming and quiet room in a second floor 1910...</td>\n",
              "      <td>none</td>\n",
              "      <td>The room is in Roslindale, a diverse and prima...</td>\n",
              "      <td>...</td>\n",
              "      <td>9.000000000</td>\n",
              "      <td>f</td>\n",
              "      <td>NaN</td>\n",
              "      <td>NaN</td>\n",
              "      <td>t</td>\n",
              "      <td>moderate</td>\n",
              "      <td>f</td>\n",
              "      <td>f</td>\n",
              "      <td>1</td>\n",
              "      <td>1.300000000</td>\n",
              "    </tr>\n",
              "    <tr>\n",
              "      <th>2</th>\n",
              "      <td>6976</td>\n",
              "      <td>https://www.airbnb.com/rooms/6976</td>\n",
              "      <td>20160906204935</td>\n",
              "      <td>2016-09-07</td>\n",
              "      <td>Mexican Folk Art Haven in Boston</td>\n",
              "      <td>Come stay with a friendly, middle-aged guy in ...</td>\n",
              "      <td>Come stay with a friendly, middle-aged guy in ...</td>\n",
              "      <td>Come stay with a friendly, middle-aged guy in ...</td>\n",
              "      <td>none</td>\n",
              "      <td>The LOCATION: Roslindale is a safe and diverse...</td>\n",
              "      <td>...</td>\n",
              "      <td>10.000000000</td>\n",
              "      <td>f</td>\n",
              "      <td>NaN</td>\n",
              "      <td>NaN</td>\n",
              "      <td>f</td>\n",
              "      <td>moderate</td>\n",
              "      <td>t</td>\n",
              "      <td>f</td>\n",
              "      <td>1</td>\n",
              "      <td>0.470000000</td>\n",
              "    </tr>\n",
              "    <tr>\n",
              "      <th>3</th>\n",
              "      <td>1436513</td>\n",
              "      <td>https://www.airbnb.com/rooms/1436513</td>\n",
              "      <td>20160906204935</td>\n",
              "      <td>2016-09-07</td>\n",
              "      <td>Spacious Sunny Bedroom Suite in Historic Home</td>\n",
              "      <td>Come experience the comforts of home away from...</td>\n",
              "      <td>Most places you find in Boston are small howev...</td>\n",
              "      <td>Come experience the comforts of home away from...</td>\n",
              "      <td>none</td>\n",
              "      <td>Roslindale is a lovely little neighborhood loc...</td>\n",
              "      <td>...</td>\n",
              "      <td>10.000000000</td>\n",
              "      <td>f</td>\n",
              "      <td>NaN</td>\n",
              "      <td>NaN</td>\n",
              "      <td>f</td>\n",
              "      <td>moderate</td>\n",
              "      <td>f</td>\n",
              "      <td>f</td>\n",
              "      <td>1</td>\n",
              "      <td>1.000000000</td>\n",
              "    </tr>\n",
              "    <tr>\n",
              "      <th>4</th>\n",
              "      <td>7651065</td>\n",
              "      <td>https://www.airbnb.com/rooms/7651065</td>\n",
              "      <td>20160906204935</td>\n",
              "      <td>2016-09-07</td>\n",
              "      <td>Come Home to Boston</td>\n",
              "      <td>My comfy, clean and relaxing home is one block...</td>\n",
              "      <td>Clean, attractive, private room, one block fro...</td>\n",
              "      <td>My comfy, clean and relaxing home is one block...</td>\n",
              "      <td>none</td>\n",
              "      <td>I love the proximity to downtown, the neighbor...</td>\n",
              "      <td>...</td>\n",
              "      <td>10.000000000</td>\n",
              "      <td>f</td>\n",
              "      <td>NaN</td>\n",
              "      <td>NaN</td>\n",
              "      <td>f</td>\n",
              "      <td>flexible</td>\n",
              "      <td>f</td>\n",
              "      <td>f</td>\n",
              "      <td>1</td>\n",
              "      <td>2.250000000</td>\n",
              "    </tr>\n",
              "  </tbody>\n",
              "</table>\n",
              "<p>5 rows × 95 columns</p>\n",
              "</div>\n",
              "      <button class=\"colab-df-convert\" onclick=\"convertToInteractive('df-8d5786d2-db83-4fc2-8174-16509b39c0bc')\"\n",
              "              title=\"Convert this dataframe to an interactive table.\"\n",
              "              style=\"display:none;\">\n",
              "        \n",
              "  <svg xmlns=\"http://www.w3.org/2000/svg\" height=\"24px\"viewBox=\"0 0 24 24\"\n",
              "       width=\"24px\">\n",
              "    <path d=\"M0 0h24v24H0V0z\" fill=\"none\"/>\n",
              "    <path d=\"M18.56 5.44l.94 2.06.94-2.06 2.06-.94-2.06-.94-.94-2.06-.94 2.06-2.06.94zm-11 1L8.5 8.5l.94-2.06 2.06-.94-2.06-.94L8.5 2.5l-.94 2.06-2.06.94zm10 10l.94 2.06.94-2.06 2.06-.94-2.06-.94-.94-2.06-.94 2.06-2.06.94z\"/><path d=\"M17.41 7.96l-1.37-1.37c-.4-.4-.92-.59-1.43-.59-.52 0-1.04.2-1.43.59L10.3 9.45l-7.72 7.72c-.78.78-.78 2.05 0 2.83L4 21.41c.39.39.9.59 1.41.59.51 0 1.02-.2 1.41-.59l7.78-7.78 2.81-2.81c.8-.78.8-2.07 0-2.86zM5.41 20L4 18.59l7.72-7.72 1.47 1.35L5.41 20z\"/>\n",
              "  </svg>\n",
              "      </button>\n",
              "      \n",
              "  <style>\n",
              "    .colab-df-container {\n",
              "      display:flex;\n",
              "      flex-wrap:wrap;\n",
              "      gap: 12px;\n",
              "    }\n",
              "\n",
              "    .colab-df-convert {\n",
              "      background-color: #E8F0FE;\n",
              "      border: none;\n",
              "      border-radius: 50%;\n",
              "      cursor: pointer;\n",
              "      display: none;\n",
              "      fill: #1967D2;\n",
              "      height: 32px;\n",
              "      padding: 0 0 0 0;\n",
              "      width: 32px;\n",
              "    }\n",
              "\n",
              "    .colab-df-convert:hover {\n",
              "      background-color: #E2EBFA;\n",
              "      box-shadow: 0px 1px 2px rgba(60, 64, 67, 0.3), 0px 1px 3px 1px rgba(60, 64, 67, 0.15);\n",
              "      fill: #174EA6;\n",
              "    }\n",
              "\n",
              "    [theme=dark] .colab-df-convert {\n",
              "      background-color: #3B4455;\n",
              "      fill: #D2E3FC;\n",
              "    }\n",
              "\n",
              "    [theme=dark] .colab-df-convert:hover {\n",
              "      background-color: #434B5C;\n",
              "      box-shadow: 0px 1px 3px 1px rgba(0, 0, 0, 0.15);\n",
              "      filter: drop-shadow(0px 1px 2px rgba(0, 0, 0, 0.3));\n",
              "      fill: #FFFFFF;\n",
              "    }\n",
              "  </style>\n",
              "\n",
              "      <script>\n",
              "        const buttonEl =\n",
              "          document.querySelector('#df-8d5786d2-db83-4fc2-8174-16509b39c0bc button.colab-df-convert');\n",
              "        buttonEl.style.display =\n",
              "          google.colab.kernel.accessAllowed ? 'block' : 'none';\n",
              "\n",
              "        async function convertToInteractive(key) {\n",
              "          const element = document.querySelector('#df-8d5786d2-db83-4fc2-8174-16509b39c0bc');\n",
              "          const dataTable =\n",
              "            await google.colab.kernel.invokeFunction('convertToInteractive',\n",
              "                                                     [key], {});\n",
              "          if (!dataTable) return;\n",
              "\n",
              "          const docLinkHtml = 'Like what you see? Visit the ' +\n",
              "            '<a target=\"_blank\" href=https://colab.research.google.com/notebooks/data_table.ipynb>data table notebook</a>'\n",
              "            + ' to learn more about interactive tables.';\n",
              "          element.innerHTML = '';\n",
              "          dataTable['output_type'] = 'display_data';\n",
              "          await google.colab.output.renderOutput(dataTable, element);\n",
              "          const docLink = document.createElement('div');\n",
              "          docLink.innerHTML = docLinkHtml;\n",
              "          element.appendChild(docLink);\n",
              "        }\n",
              "      </script>\n",
              "    </div>\n",
              "  </div>\n",
              "  "
            ]
          },
          "metadata": {},
          "execution_count": 194
        }
      ]
    },
    {
      "cell_type": "code",
      "source": [
        "listings.shape"
      ],
      "metadata": {
        "id": "W03f8xbWjGe6",
        "colab": {
          "base_uri": "https://localhost:8080/"
        },
        "outputId": "9683ce6f-ffb3-4369-9904-1356fe5368e2"
      },
      "execution_count": 195,
      "outputs": [
        {
          "output_type": "execute_result",
          "data": {
            "text/plain": [
              "(3585, 95)"
            ]
          },
          "metadata": {},
          "execution_count": 195
        }
      ]
    },
    {
      "cell_type": "code",
      "source": [
        "#print description of data\n",
        "listings.describe()"
      ],
      "metadata": {
        "id": "ECrgXSItktld",
        "colab": {
          "base_uri": "https://localhost:8080/",
          "height": 394
        },
        "outputId": "c173506f-916f-4e42-e278-d0acd369d705"
      },
      "execution_count": 196,
      "outputs": [
        {
          "output_type": "execute_result",
          "data": {
            "text/plain": [
              "                      id                scrape_id            host_id  \\\n",
              "count     3585.000000000           3585.000000000     3585.000000000   \n",
              "mean   8440874.627615063 20160906204935.000000000 24923107.451046024   \n",
              "std    4500786.860724617              0.000000000 22927809.873800945   \n",
              "min       3353.000000000 20160906204935.000000000     4240.000000000   \n",
              "25%    4679319.000000000 20160906204935.000000000  6103425.000000000   \n",
              "50%    8577620.000000000 20160906204935.000000000 19280995.000000000   \n",
              "75%   12789527.000000000 20160906204935.000000000 36221474.000000000   \n",
              "max   14933461.000000000 20160906204935.000000000 93854106.000000000   \n",
              "\n",
              "       host_listings_count  host_total_listings_count  \\\n",
              "count       3585.000000000             3585.000000000   \n",
              "mean          58.902370990               58.902370990   \n",
              "std          171.119663179              171.119663179   \n",
              "min            0.000000000                0.000000000   \n",
              "25%            1.000000000                1.000000000   \n",
              "50%            2.000000000                2.000000000   \n",
              "75%            7.000000000                7.000000000   \n",
              "max          749.000000000              749.000000000   \n",
              "\n",
              "       neighbourhood_group_cleansed       latitude      longitude  \\\n",
              "count                   0.000000000 3585.000000000 3585.000000000   \n",
              "mean                            NaN   42.340031726  -71.084817552   \n",
              "std                             NaN    0.024402552    0.031564645   \n",
              "min                             NaN   42.235941808  -71.171788821   \n",
              "25%                             NaN   42.329994586  -71.105082825   \n",
              "50%                             NaN   42.345200653  -71.078428552   \n",
              "75%                             NaN   42.354685457  -71.062154952   \n",
              "max                             NaN   42.389981679  -71.000099920   \n",
              "\n",
              "        accommodates      bathrooms  ...  review_scores_accuracy  \\\n",
              "count 3585.000000000 3571.000000000  ...          2762.000000000   \n",
              "mean     3.041283124    1.221646598  ...             9.431571325   \n",
              "std      1.778929417    0.501487065  ...             0.931863221   \n",
              "min      1.000000000    0.000000000  ...             2.000000000   \n",
              "25%      2.000000000    1.000000000  ...             9.000000000   \n",
              "50%      2.000000000    1.000000000  ...            10.000000000   \n",
              "75%      4.000000000    1.000000000  ...            10.000000000   \n",
              "max     16.000000000    6.000000000  ...            10.000000000   \n",
              "\n",
              "       review_scores_cleanliness  review_scores_checkin  \\\n",
              "count             2767.000000000         2765.000000000   \n",
              "mean                 9.258041200            9.646292948   \n",
              "std                  1.168976937            0.762753244   \n",
              "min                  2.000000000            2.000000000   \n",
              "25%                  9.000000000            9.000000000   \n",
              "50%                 10.000000000           10.000000000   \n",
              "75%                 10.000000000           10.000000000   \n",
              "max                 10.000000000           10.000000000   \n",
              "\n",
              "       review_scores_communication  review_scores_location  \\\n",
              "count               2767.000000000          2763.000000000   \n",
              "mean                   9.646548609             9.414042707   \n",
              "std                    0.735507001             0.903436023   \n",
              "min                    4.000000000             2.000000000   \n",
              "25%                    9.000000000             9.000000000   \n",
              "50%                   10.000000000            10.000000000   \n",
              "75%                   10.000000000            10.000000000   \n",
              "max                   10.000000000            10.000000000   \n",
              "\n",
              "       review_scores_value     license  jurisdiction_names  \\\n",
              "count       2764.000000000 0.000000000         0.000000000   \n",
              "mean           9.168234443         NaN                 NaN   \n",
              "std            1.011116458         NaN                 NaN   \n",
              "min            2.000000000         NaN                 NaN   \n",
              "25%            9.000000000         NaN                 NaN   \n",
              "50%            9.000000000         NaN                 NaN   \n",
              "75%           10.000000000         NaN                 NaN   \n",
              "max           10.000000000         NaN                 NaN   \n",
              "\n",
              "       calculated_host_listings_count  reviews_per_month  \n",
              "count                  3585.000000000     2829.000000000  \n",
              "mean                     12.733891213        1.970908448  \n",
              "std                      29.415075874        2.120561457  \n",
              "min                       1.000000000        0.010000000  \n",
              "25%                       1.000000000        0.480000000  \n",
              "50%                       2.000000000        1.170000000  \n",
              "75%                       6.000000000        2.720000000  \n",
              "max                     136.000000000       19.150000000  \n",
              "\n",
              "[8 rows x 33 columns]"
            ],
            "text/html": [
              "\n",
              "  <div id=\"df-320aa6ba-b75d-43d7-a981-071790c055be\">\n",
              "    <div class=\"colab-df-container\">\n",
              "      <div>\n",
              "<style scoped>\n",
              "    .dataframe tbody tr th:only-of-type {\n",
              "        vertical-align: middle;\n",
              "    }\n",
              "\n",
              "    .dataframe tbody tr th {\n",
              "        vertical-align: top;\n",
              "    }\n",
              "\n",
              "    .dataframe thead th {\n",
              "        text-align: right;\n",
              "    }\n",
              "</style>\n",
              "<table border=\"1\" class=\"dataframe\">\n",
              "  <thead>\n",
              "    <tr style=\"text-align: right;\">\n",
              "      <th></th>\n",
              "      <th>id</th>\n",
              "      <th>scrape_id</th>\n",
              "      <th>host_id</th>\n",
              "      <th>host_listings_count</th>\n",
              "      <th>host_total_listings_count</th>\n",
              "      <th>neighbourhood_group_cleansed</th>\n",
              "      <th>latitude</th>\n",
              "      <th>longitude</th>\n",
              "      <th>accommodates</th>\n",
              "      <th>bathrooms</th>\n",
              "      <th>...</th>\n",
              "      <th>review_scores_accuracy</th>\n",
              "      <th>review_scores_cleanliness</th>\n",
              "      <th>review_scores_checkin</th>\n",
              "      <th>review_scores_communication</th>\n",
              "      <th>review_scores_location</th>\n",
              "      <th>review_scores_value</th>\n",
              "      <th>license</th>\n",
              "      <th>jurisdiction_names</th>\n",
              "      <th>calculated_host_listings_count</th>\n",
              "      <th>reviews_per_month</th>\n",
              "    </tr>\n",
              "  </thead>\n",
              "  <tbody>\n",
              "    <tr>\n",
              "      <th>count</th>\n",
              "      <td>3585.000000000</td>\n",
              "      <td>3585.000000000</td>\n",
              "      <td>3585.000000000</td>\n",
              "      <td>3585.000000000</td>\n",
              "      <td>3585.000000000</td>\n",
              "      <td>0.000000000</td>\n",
              "      <td>3585.000000000</td>\n",
              "      <td>3585.000000000</td>\n",
              "      <td>3585.000000000</td>\n",
              "      <td>3571.000000000</td>\n",
              "      <td>...</td>\n",
              "      <td>2762.000000000</td>\n",
              "      <td>2767.000000000</td>\n",
              "      <td>2765.000000000</td>\n",
              "      <td>2767.000000000</td>\n",
              "      <td>2763.000000000</td>\n",
              "      <td>2764.000000000</td>\n",
              "      <td>0.000000000</td>\n",
              "      <td>0.000000000</td>\n",
              "      <td>3585.000000000</td>\n",
              "      <td>2829.000000000</td>\n",
              "    </tr>\n",
              "    <tr>\n",
              "      <th>mean</th>\n",
              "      <td>8440874.627615063</td>\n",
              "      <td>20160906204935.000000000</td>\n",
              "      <td>24923107.451046024</td>\n",
              "      <td>58.902370990</td>\n",
              "      <td>58.902370990</td>\n",
              "      <td>NaN</td>\n",
              "      <td>42.340031726</td>\n",
              "      <td>-71.084817552</td>\n",
              "      <td>3.041283124</td>\n",
              "      <td>1.221646598</td>\n",
              "      <td>...</td>\n",
              "      <td>9.431571325</td>\n",
              "      <td>9.258041200</td>\n",
              "      <td>9.646292948</td>\n",
              "      <td>9.646548609</td>\n",
              "      <td>9.414042707</td>\n",
              "      <td>9.168234443</td>\n",
              "      <td>NaN</td>\n",
              "      <td>NaN</td>\n",
              "      <td>12.733891213</td>\n",
              "      <td>1.970908448</td>\n",
              "    </tr>\n",
              "    <tr>\n",
              "      <th>std</th>\n",
              "      <td>4500786.860724617</td>\n",
              "      <td>0.000000000</td>\n",
              "      <td>22927809.873800945</td>\n",
              "      <td>171.119663179</td>\n",
              "      <td>171.119663179</td>\n",
              "      <td>NaN</td>\n",
              "      <td>0.024402552</td>\n",
              "      <td>0.031564645</td>\n",
              "      <td>1.778929417</td>\n",
              "      <td>0.501487065</td>\n",
              "      <td>...</td>\n",
              "      <td>0.931863221</td>\n",
              "      <td>1.168976937</td>\n",
              "      <td>0.762753244</td>\n",
              "      <td>0.735507001</td>\n",
              "      <td>0.903436023</td>\n",
              "      <td>1.011116458</td>\n",
              "      <td>NaN</td>\n",
              "      <td>NaN</td>\n",
              "      <td>29.415075874</td>\n",
              "      <td>2.120561457</td>\n",
              "    </tr>\n",
              "    <tr>\n",
              "      <th>min</th>\n",
              "      <td>3353.000000000</td>\n",
              "      <td>20160906204935.000000000</td>\n",
              "      <td>4240.000000000</td>\n",
              "      <td>0.000000000</td>\n",
              "      <td>0.000000000</td>\n",
              "      <td>NaN</td>\n",
              "      <td>42.235941808</td>\n",
              "      <td>-71.171788821</td>\n",
              "      <td>1.000000000</td>\n",
              "      <td>0.000000000</td>\n",
              "      <td>...</td>\n",
              "      <td>2.000000000</td>\n",
              "      <td>2.000000000</td>\n",
              "      <td>2.000000000</td>\n",
              "      <td>4.000000000</td>\n",
              "      <td>2.000000000</td>\n",
              "      <td>2.000000000</td>\n",
              "      <td>NaN</td>\n",
              "      <td>NaN</td>\n",
              "      <td>1.000000000</td>\n",
              "      <td>0.010000000</td>\n",
              "    </tr>\n",
              "    <tr>\n",
              "      <th>25%</th>\n",
              "      <td>4679319.000000000</td>\n",
              "      <td>20160906204935.000000000</td>\n",
              "      <td>6103425.000000000</td>\n",
              "      <td>1.000000000</td>\n",
              "      <td>1.000000000</td>\n",
              "      <td>NaN</td>\n",
              "      <td>42.329994586</td>\n",
              "      <td>-71.105082825</td>\n",
              "      <td>2.000000000</td>\n",
              "      <td>1.000000000</td>\n",
              "      <td>...</td>\n",
              "      <td>9.000000000</td>\n",
              "      <td>9.000000000</td>\n",
              "      <td>9.000000000</td>\n",
              "      <td>9.000000000</td>\n",
              "      <td>9.000000000</td>\n",
              "      <td>9.000000000</td>\n",
              "      <td>NaN</td>\n",
              "      <td>NaN</td>\n",
              "      <td>1.000000000</td>\n",
              "      <td>0.480000000</td>\n",
              "    </tr>\n",
              "    <tr>\n",
              "      <th>50%</th>\n",
              "      <td>8577620.000000000</td>\n",
              "      <td>20160906204935.000000000</td>\n",
              "      <td>19280995.000000000</td>\n",
              "      <td>2.000000000</td>\n",
              "      <td>2.000000000</td>\n",
              "      <td>NaN</td>\n",
              "      <td>42.345200653</td>\n",
              "      <td>-71.078428552</td>\n",
              "      <td>2.000000000</td>\n",
              "      <td>1.000000000</td>\n",
              "      <td>...</td>\n",
              "      <td>10.000000000</td>\n",
              "      <td>10.000000000</td>\n",
              "      <td>10.000000000</td>\n",
              "      <td>10.000000000</td>\n",
              "      <td>10.000000000</td>\n",
              "      <td>9.000000000</td>\n",
              "      <td>NaN</td>\n",
              "      <td>NaN</td>\n",
              "      <td>2.000000000</td>\n",
              "      <td>1.170000000</td>\n",
              "    </tr>\n",
              "    <tr>\n",
              "      <th>75%</th>\n",
              "      <td>12789527.000000000</td>\n",
              "      <td>20160906204935.000000000</td>\n",
              "      <td>36221474.000000000</td>\n",
              "      <td>7.000000000</td>\n",
              "      <td>7.000000000</td>\n",
              "      <td>NaN</td>\n",
              "      <td>42.354685457</td>\n",
              "      <td>-71.062154952</td>\n",
              "      <td>4.000000000</td>\n",
              "      <td>1.000000000</td>\n",
              "      <td>...</td>\n",
              "      <td>10.000000000</td>\n",
              "      <td>10.000000000</td>\n",
              "      <td>10.000000000</td>\n",
              "      <td>10.000000000</td>\n",
              "      <td>10.000000000</td>\n",
              "      <td>10.000000000</td>\n",
              "      <td>NaN</td>\n",
              "      <td>NaN</td>\n",
              "      <td>6.000000000</td>\n",
              "      <td>2.720000000</td>\n",
              "    </tr>\n",
              "    <tr>\n",
              "      <th>max</th>\n",
              "      <td>14933461.000000000</td>\n",
              "      <td>20160906204935.000000000</td>\n",
              "      <td>93854106.000000000</td>\n",
              "      <td>749.000000000</td>\n",
              "      <td>749.000000000</td>\n",
              "      <td>NaN</td>\n",
              "      <td>42.389981679</td>\n",
              "      <td>-71.000099920</td>\n",
              "      <td>16.000000000</td>\n",
              "      <td>6.000000000</td>\n",
              "      <td>...</td>\n",
              "      <td>10.000000000</td>\n",
              "      <td>10.000000000</td>\n",
              "      <td>10.000000000</td>\n",
              "      <td>10.000000000</td>\n",
              "      <td>10.000000000</td>\n",
              "      <td>10.000000000</td>\n",
              "      <td>NaN</td>\n",
              "      <td>NaN</td>\n",
              "      <td>136.000000000</td>\n",
              "      <td>19.150000000</td>\n",
              "    </tr>\n",
              "  </tbody>\n",
              "</table>\n",
              "<p>8 rows × 33 columns</p>\n",
              "</div>\n",
              "      <button class=\"colab-df-convert\" onclick=\"convertToInteractive('df-320aa6ba-b75d-43d7-a981-071790c055be')\"\n",
              "              title=\"Convert this dataframe to an interactive table.\"\n",
              "              style=\"display:none;\">\n",
              "        \n",
              "  <svg xmlns=\"http://www.w3.org/2000/svg\" height=\"24px\"viewBox=\"0 0 24 24\"\n",
              "       width=\"24px\">\n",
              "    <path d=\"M0 0h24v24H0V0z\" fill=\"none\"/>\n",
              "    <path d=\"M18.56 5.44l.94 2.06.94-2.06 2.06-.94-2.06-.94-.94-2.06-.94 2.06-2.06.94zm-11 1L8.5 8.5l.94-2.06 2.06-.94-2.06-.94L8.5 2.5l-.94 2.06-2.06.94zm10 10l.94 2.06.94-2.06 2.06-.94-2.06-.94-.94-2.06-.94 2.06-2.06.94z\"/><path d=\"M17.41 7.96l-1.37-1.37c-.4-.4-.92-.59-1.43-.59-.52 0-1.04.2-1.43.59L10.3 9.45l-7.72 7.72c-.78.78-.78 2.05 0 2.83L4 21.41c.39.39.9.59 1.41.59.51 0 1.02-.2 1.41-.59l7.78-7.78 2.81-2.81c.8-.78.8-2.07 0-2.86zM5.41 20L4 18.59l7.72-7.72 1.47 1.35L5.41 20z\"/>\n",
              "  </svg>\n",
              "      </button>\n",
              "      \n",
              "  <style>\n",
              "    .colab-df-container {\n",
              "      display:flex;\n",
              "      flex-wrap:wrap;\n",
              "      gap: 12px;\n",
              "    }\n",
              "\n",
              "    .colab-df-convert {\n",
              "      background-color: #E8F0FE;\n",
              "      border: none;\n",
              "      border-radius: 50%;\n",
              "      cursor: pointer;\n",
              "      display: none;\n",
              "      fill: #1967D2;\n",
              "      height: 32px;\n",
              "      padding: 0 0 0 0;\n",
              "      width: 32px;\n",
              "    }\n",
              "\n",
              "    .colab-df-convert:hover {\n",
              "      background-color: #E2EBFA;\n",
              "      box-shadow: 0px 1px 2px rgba(60, 64, 67, 0.3), 0px 1px 3px 1px rgba(60, 64, 67, 0.15);\n",
              "      fill: #174EA6;\n",
              "    }\n",
              "\n",
              "    [theme=dark] .colab-df-convert {\n",
              "      background-color: #3B4455;\n",
              "      fill: #D2E3FC;\n",
              "    }\n",
              "\n",
              "    [theme=dark] .colab-df-convert:hover {\n",
              "      background-color: #434B5C;\n",
              "      box-shadow: 0px 1px 3px 1px rgba(0, 0, 0, 0.15);\n",
              "      filter: drop-shadow(0px 1px 2px rgba(0, 0, 0, 0.3));\n",
              "      fill: #FFFFFF;\n",
              "    }\n",
              "  </style>\n",
              "\n",
              "      <script>\n",
              "        const buttonEl =\n",
              "          document.querySelector('#df-320aa6ba-b75d-43d7-a981-071790c055be button.colab-df-convert');\n",
              "        buttonEl.style.display =\n",
              "          google.colab.kernel.accessAllowed ? 'block' : 'none';\n",
              "\n",
              "        async function convertToInteractive(key) {\n",
              "          const element = document.querySelector('#df-320aa6ba-b75d-43d7-a981-071790c055be');\n",
              "          const dataTable =\n",
              "            await google.colab.kernel.invokeFunction('convertToInteractive',\n",
              "                                                     [key], {});\n",
              "          if (!dataTable) return;\n",
              "\n",
              "          const docLinkHtml = 'Like what you see? Visit the ' +\n",
              "            '<a target=\"_blank\" href=https://colab.research.google.com/notebooks/data_table.ipynb>data table notebook</a>'\n",
              "            + ' to learn more about interactive tables.';\n",
              "          element.innerHTML = '';\n",
              "          dataTable['output_type'] = 'display_data';\n",
              "          await google.colab.output.renderOutput(dataTable, element);\n",
              "          const docLink = document.createElement('div');\n",
              "          docLink.innerHTML = docLinkHtml;\n",
              "          element.appendChild(docLink);\n",
              "        }\n",
              "      </script>\n",
              "    </div>\n",
              "  </div>\n",
              "  "
            ]
          },
          "metadata": {},
          "execution_count": 196
        }
      ]
    },
    {
      "cell_type": "code",
      "source": [
        "#print concise summary of data\n",
        "listings.info()"
      ],
      "metadata": {
        "id": "etE2J5zkoAc8",
        "colab": {
          "base_uri": "https://localhost:8080/"
        },
        "outputId": "46fe38ac-1e5e-4579-d2e7-aed52c012ade"
      },
      "execution_count": 197,
      "outputs": [
        {
          "output_type": "stream",
          "name": "stdout",
          "text": [
            "<class 'pandas.core.frame.DataFrame'>\n",
            "RangeIndex: 3585 entries, 0 to 3584\n",
            "Data columns (total 95 columns):\n",
            " #   Column                            Non-Null Count  Dtype  \n",
            "---  ------                            --------------  -----  \n",
            " 0   id                                3585 non-null   int64  \n",
            " 1   listing_url                       3585 non-null   object \n",
            " 2   scrape_id                         3585 non-null   int64  \n",
            " 3   last_scraped                      3585 non-null   object \n",
            " 4   name                              3585 non-null   object \n",
            " 5   summary                           3442 non-null   object \n",
            " 6   space                             2528 non-null   object \n",
            " 7   description                       3585 non-null   object \n",
            " 8   experiences_offered               3585 non-null   object \n",
            " 9   neighborhood_overview             2170 non-null   object \n",
            " 10  notes                             1610 non-null   object \n",
            " 11  transit                           2295 non-null   object \n",
            " 12  access                            2096 non-null   object \n",
            " 13  interaction                       2031 non-null   object \n",
            " 14  house_rules                       2393 non-null   object \n",
            " 15  thumbnail_url                     2986 non-null   object \n",
            " 16  medium_url                        2986 non-null   object \n",
            " 17  picture_url                       3585 non-null   object \n",
            " 18  xl_picture_url                    2986 non-null   object \n",
            " 19  host_id                           3585 non-null   int64  \n",
            " 20  host_url                          3585 non-null   object \n",
            " 21  host_name                         3585 non-null   object \n",
            " 22  host_since                        3585 non-null   object \n",
            " 23  host_location                     3574 non-null   object \n",
            " 24  host_about                        2276 non-null   object \n",
            " 25  host_response_time                3114 non-null   object \n",
            " 26  host_response_rate                3114 non-null   object \n",
            " 27  host_acceptance_rate              3114 non-null   object \n",
            " 28  host_is_superhost                 3585 non-null   object \n",
            " 29  host_thumbnail_url                3585 non-null   object \n",
            " 30  host_picture_url                  3585 non-null   object \n",
            " 31  host_neighbourhood                3246 non-null   object \n",
            " 32  host_listings_count               3585 non-null   int64  \n",
            " 33  host_total_listings_count         3585 non-null   int64  \n",
            " 34  host_verifications                3585 non-null   object \n",
            " 35  host_has_profile_pic              3585 non-null   object \n",
            " 36  host_identity_verified            3585 non-null   object \n",
            " 37  street                            3585 non-null   object \n",
            " 38  neighbourhood                     3042 non-null   object \n",
            " 39  neighbourhood_cleansed            3585 non-null   object \n",
            " 40  neighbourhood_group_cleansed      0 non-null      float64\n",
            " 41  city                              3583 non-null   object \n",
            " 42  state                             3585 non-null   object \n",
            " 43  zipcode                           3547 non-null   object \n",
            " 44  market                            3571 non-null   object \n",
            " 45  smart_location                    3585 non-null   object \n",
            " 46  country_code                      3585 non-null   object \n",
            " 47  country                           3585 non-null   object \n",
            " 48  latitude                          3585 non-null   float64\n",
            " 49  longitude                         3585 non-null   float64\n",
            " 50  is_location_exact                 3585 non-null   object \n",
            " 51  property_type                     3582 non-null   object \n",
            " 52  room_type                         3585 non-null   object \n",
            " 53  accommodates                      3585 non-null   int64  \n",
            " 54  bathrooms                         3571 non-null   float64\n",
            " 55  bedrooms                          3575 non-null   float64\n",
            " 56  beds                              3576 non-null   float64\n",
            " 57  bed_type                          3585 non-null   object \n",
            " 58  amenities                         3585 non-null   object \n",
            " 59  square_feet                       56 non-null     float64\n",
            " 60  price                             3585 non-null   object \n",
            " 61  weekly_price                      892 non-null    object \n",
            " 62  monthly_price                     888 non-null    object \n",
            " 63  security_deposit                  1342 non-null   object \n",
            " 64  cleaning_fee                      2478 non-null   object \n",
            " 65  guests_included                   3585 non-null   int64  \n",
            " 66  extra_people                      3585 non-null   object \n",
            " 67  minimum_nights                    3585 non-null   int64  \n",
            " 68  maximum_nights                    3585 non-null   int64  \n",
            " 69  calendar_updated                  3585 non-null   object \n",
            " 70  has_availability                  0 non-null      float64\n",
            " 71  availability_30                   3585 non-null   int64  \n",
            " 72  availability_60                   3585 non-null   int64  \n",
            " 73  availability_90                   3585 non-null   int64  \n",
            " 74  availability_365                  3585 non-null   int64  \n",
            " 75  calendar_last_scraped             3585 non-null   object \n",
            " 76  number_of_reviews                 3585 non-null   int64  \n",
            " 77  first_review                      2829 non-null   object \n",
            " 78  last_review                       2829 non-null   object \n",
            " 79  review_scores_rating              2772 non-null   float64\n",
            " 80  review_scores_accuracy            2762 non-null   float64\n",
            " 81  review_scores_cleanliness         2767 non-null   float64\n",
            " 82  review_scores_checkin             2765 non-null   float64\n",
            " 83  review_scores_communication       2767 non-null   float64\n",
            " 84  review_scores_location            2763 non-null   float64\n",
            " 85  review_scores_value               2764 non-null   float64\n",
            " 86  requires_license                  3585 non-null   object \n",
            " 87  license                           0 non-null      float64\n",
            " 88  jurisdiction_names                0 non-null      float64\n",
            " 89  instant_bookable                  3585 non-null   object \n",
            " 90  cancellation_policy               3585 non-null   object \n",
            " 91  require_guest_profile_picture     3585 non-null   object \n",
            " 92  require_guest_phone_verification  3585 non-null   object \n",
            " 93  calculated_host_listings_count    3585 non-null   int64  \n",
            " 94  reviews_per_month                 2829 non-null   float64\n",
            "dtypes: float64(18), int64(15), object(62)\n",
            "memory usage: 2.6+ MB\n"
          ]
        }
      ]
    },
    {
      "cell_type": "code",
      "source": [
        "# Inspecting the difference between summary & description\n",
        "print(listings[\"summary\"][1])\n",
        "print(listings[\"description\"][1])"
      ],
      "metadata": {
        "id": "uE9C7vrAtFHX",
        "colab": {
          "base_uri": "https://localhost:8080/"
        },
        "outputId": "2ccac8db-f757-4344-987d-7515d8316e29"
      },
      "execution_count": 198,
      "outputs": [
        {
          "output_type": "stream",
          "name": "stdout",
          "text": [
            "Charming and quiet room in a second floor 1910 condo building. The room has a full size bed, darkening curtains, window A/C unit. It's quiet because it's in the back of the house. Shared bathroom. Guests can use kitchen, living room. Pet friendly.\n",
            "Charming and quiet room in a second floor 1910 condo building. The room has a full size bed, darkening curtains, window A/C unit. It's quiet because it's in the back of the house. Shared bathroom. Guests can use kitchen, living room. Pet friendly. Small but cozy and quite room with a full size bed. Ample street parking. Apt has one more bedroom (which I use) and large living space and kitchen that you can use.  Possibility to do laundry. Two porches. If I am at home, I am likely working in my home office, which is a separate room. I can help you settle in and give you tips and directions on the neighborhood and Boston.  The room is in Roslindale, a diverse and primarily residential neighborhood of Boston. It's well connected via public transportation to other neighborhoods and easy to access by car. Roslindale Square is a nice business district with supermarkets. banks, a bakery, etc. (See my Guidebook for some recommendations). The Arnold Arboretum is just steps away. Plenty of safe s\n"
          ]
        }
      ]
    },
    {
      "cell_type": "markdown",
      "source": [
        "convert price of listing id to float or int"
      ],
      "metadata": {
        "id": "fxIEt61CzXPi"
      }
    },
    {
      "cell_type": "code",
      "source": [
        "# Inspecting space column\n",
        "explore_column(listings, \"space\", print_samples=slice(10,14))"
      ],
      "metadata": {
        "id": "TfKYczXYttAh",
        "cellView": "code",
        "colab": {
          "base_uri": "https://localhost:8080/"
        },
        "outputId": "9845a674-8fd9-4f9e-a665-3c9670820be4"
      },
      "execution_count": 199,
      "outputs": [
        {
          "output_type": "stream",
          "name": "stdout",
          "text": [
            "There are 1057 of na columns.\n",
            "There are 2268 unique values\n",
            "Column type:  object\n",
            "Sample Values:  10    NaN\n",
            "11    NaN\n",
            "12    NaN\n",
            "13    NaN\n",
            "Name: space, dtype: object\n"
          ]
        }
      ]
    },
    {
      "cell_type": "code",
      "source": [
        "# Inspecting experiences_offered column\n",
        "explore_column(listings, \"experiences_offered\", print_unique=True, print_samples=slice(5))"
      ],
      "metadata": {
        "id": "HM-B-07que_d",
        "colab": {
          "base_uri": "https://localhost:8080/"
        },
        "outputId": "f170d227-4faf-421d-f972-ec3d4c54fa3b"
      },
      "execution_count": 200,
      "outputs": [
        {
          "output_type": "stream",
          "name": "stdout",
          "text": [
            "There are 0 of na columns.\n",
            "There are 1 unique values\n",
            "Column type:  object\n",
            "Unique values:  ['none']\n",
            "Sample Values:  0    none\n",
            "1    none\n",
            "2    none\n",
            "3    none\n",
            "4    none\n",
            "Name: experiences_offered, dtype: object\n"
          ]
        }
      ]
    },
    {
      "cell_type": "code",
      "source": [
        "# Inspecting neighborhood_overview column\n",
        "print(listings[\"neighborhood_overview\"][124])\n",
        "print(listings[\"neighborhood_overview\"][130])"
      ],
      "metadata": {
        "id": "uh2kIPiQt5uz",
        "colab": {
          "base_uri": "https://localhost:8080/"
        },
        "outputId": "4ef5ae62-8633-4e12-869f-f18fce28e167"
      },
      "execution_count": 201,
      "outputs": [
        {
          "output_type": "stream",
          "name": "stdout",
          "text": [
            "The neighborhood is very safe, super convenient and extremely popular, especially with the younger crowd!  Jamaica Plain is the new hot spot with a ton of amazing new restaurants, bars, parks and festivals. There is enough to do just in the neighborhood sometimes people don't even make it to the city. There are tons of stores, boutiques, restaurants, bars, coffee houses,  all within walking distance.  The Harvard Arboretum is just a 10 min walk away and Franklin Park is 5 mins away, both extremely gorgeous places perfect for a walk, picnic or jogging! Part of Boston's sightseeing tour:  Beer lovers!: Just around the block you have the famous Doyle' which because of being very close to the Samuel Adams Brewery it has the unique opportunity to serve new or experimental Samuel Adams beers, actually it has even been used in several Hollywood movies and television series because of its unique Irish atmosphere! There is also Ten Tables and Tres Gatos -an awesome spot for a romantic dinner an\n",
            "Many universities located nearby, such as Boston College, Boston University, Northeastern University, Simmons and more. All are within 15 minutes of driving.  Also, for nature-lovers, we are located a 5 minute drive away from Harvard University’s Arnold Arboretum, a huge botanical garden for the public. The 39 bus can also take you there.  Multiple highly-rated restaurants nearby, such as Tres Gatos, Ten Tables, Canary Square Restaurant and more. \n"
          ]
        }
      ]
    },
    {
      "cell_type": "code",
      "source": [
        "# inspecting some of the URL columns\n",
        "listings[[\"medium_url\", \"thumbnail_url\"]].iloc[0]"
      ],
      "metadata": {
        "id": "myCi2u9BvDjf",
        "colab": {
          "base_uri": "https://localhost:8080/"
        },
        "outputId": "a20b7f02-d38b-46aa-db88-3f3b496313dd"
      },
      "execution_count": 202,
      "outputs": [
        {
          "output_type": "execute_result",
          "data": {
            "text/plain": [
              "medium_url       https://a2.muscache.com/im/pictures/c0842db1-e...\n",
              "thumbnail_url    https://a2.muscache.com/im/pictures/c0842db1-e...\n",
              "Name: 0, dtype: object"
            ]
          },
          "metadata": {},
          "execution_count": 202
        }
      ]
    },
    {
      "cell_type": "markdown",
      "source": [
        "All URL columns can be dropped as they offer little value."
      ],
      "metadata": {
        "id": "iKhCqOLOzd-M"
      }
    },
    {
      "cell_type": "code",
      "source": [
        "print(listings[\"host_id\"][0])\n",
        "listings[\"host_id\"].nunique()"
      ],
      "metadata": {
        "id": "D5b3H1eZvmfs",
        "colab": {
          "base_uri": "https://localhost:8080/"
        },
        "outputId": "5df54a12-8404-4988-eb7b-e6868cd10d9c"
      },
      "execution_count": 203,
      "outputs": [
        {
          "output_type": "stream",
          "name": "stdout",
          "text": [
            "31303940\n"
          ]
        },
        {
          "output_type": "execute_result",
          "data": {
            "text/plain": [
              "2181"
            ]
          },
          "metadata": {},
          "execution_count": 203
        }
      ]
    },
    {
      "cell_type": "code",
      "source": [
        "\n",
        "listings[listings[\"host_response_time\"].notna()][\"host_response_time\"][0:15]"
      ],
      "metadata": {
        "id": "lERqobE0v-N7",
        "colab": {
          "base_uri": "https://localhost:8080/"
        },
        "outputId": "1307f13a-240a-4f15-b556-9c2e478ff5f4"
      },
      "execution_count": 204,
      "outputs": [
        {
          "output_type": "execute_result",
          "data": {
            "text/plain": [
              "1         within an hour\n",
              "2     within a few hours\n",
              "3     within a few hours\n",
              "4         within an hour\n",
              "5     within a few hours\n",
              "6         within an hour\n",
              "7     within a few hours\n",
              "8         within an hour\n",
              "9         within an hour\n",
              "10          within a day\n",
              "11        within an hour\n",
              "12    within a few hours\n",
              "13        within an hour\n",
              "14          within a day\n",
              "15        within an hour\n",
              "Name: host_response_time, dtype: object"
            ]
          },
          "metadata": {},
          "execution_count": 204
        }
      ]
    },
    {
      "cell_type": "markdown",
      "source": [
        "host_response_time is a categorical variable. Should be treated accordingly.\n",
        "create a categorical count plot"
      ],
      "metadata": {
        "id": "DFDgj79-zjU7"
      }
    },
    {
      "cell_type": "code",
      "source": [
        "listings[\"experiences_offered\"].unique()"
      ],
      "metadata": {
        "id": "lbMYVoxHsw31",
        "colab": {
          "base_uri": "https://localhost:8080/"
        },
        "outputId": "b515b339-397f-401f-aa42-bfdd4d1dfeef"
      },
      "execution_count": 205,
      "outputs": [
        {
          "output_type": "execute_result",
          "data": {
            "text/plain": [
              "array(['none'], dtype=object)"
            ]
          },
          "metadata": {},
          "execution_count": 205
        }
      ]
    },
    {
      "cell_type": "markdown",
      "source": [
        "\"experiences_offered\" can be dropped because there are no different values"
      ],
      "metadata": {
        "id": "VEYYZU1_zqd2"
      }
    },
    {
      "cell_type": "code",
      "source": [
        "listings[\"host_name\"][0], listings[\"host_since\"][0], listings[\"host_location\"][0], listings[\"host_about\"][0]"
      ],
      "metadata": {
        "id": "XmwlC5gnwoaQ",
        "colab": {
          "base_uri": "https://localhost:8080/"
        },
        "outputId": "e283761c-33a4-4b81-a617-6e932852c758"
      },
      "execution_count": null,
      "outputs": [
        {
          "output_type": "execute_result",
          "data": {
            "text/plain": [
              "('Virginia',\n",
              " '2015-04-15',\n",
              " 'Boston, Massachusetts, United States',\n",
              " 'We are country and city connecting in our deck and garden. Enjoy our music room, books and flat screen TV with the pastoral backyard of hens, bees, rabbits and an organic garden.  ')"
            ]
          },
          "metadata": {},
          "execution_count": 35
        }
      ]
    },
    {
      "cell_type": "code",
      "source": [
        "listings[\"host_response_rate\"].unique()"
      ],
      "metadata": {
        "id": "9LRW0pKwxprk",
        "colab": {
          "base_uri": "https://localhost:8080/"
        },
        "outputId": "92fb8e78-b81a-4a30-fe96-e764e5c44dbe"
      },
      "execution_count": null,
      "outputs": [
        {
          "output_type": "execute_result",
          "data": {
            "text/plain": [
              "array([nan, '100%', '98%', '83%', '75%', '60%', '95%', '77%', '90%',\n",
              "       '50%', '93%', '70%', '71%', '36%', '73%', '67%', '33%', '78%',\n",
              "       '86%', '80%', '96%', '40%', '0%', '94%', '92%', '97%', '89%',\n",
              "       '88%', '31%', '91%', '81%', '99%', '85%', '69%', '56%', '30%',\n",
              "       '68%', '82%', '17%', '14%', '38%', '63%', '43%', '64%', '19%',\n",
              "       '79%', '61%', '57%', '84%', '25%', '20%', '6%', '10%'],\n",
              "      dtype=object)"
            ]
          },
          "metadata": {},
          "execution_count": 36
        }
      ]
    },
    {
      "cell_type": "code",
      "source": [
        "listings[\"host_acceptance_rate\"].unique()"
      ],
      "metadata": {
        "id": "1_8ElGP0x5As",
        "colab": {
          "base_uri": "https://localhost:8080/"
        },
        "outputId": "380a5ee1-e4b7-4c07-bcb2-18a331deec5c"
      },
      "execution_count": null,
      "outputs": [
        {
          "output_type": "execute_result",
          "data": {
            "text/plain": [
              "array([nan, '100%', '88%', '50%', '95%', '96%', '89%', '97%', '79%',\n",
              "       '94%', '63%', '92%', '71%', '83%', '91%', '67%', '73%', '85%',\n",
              "       '93%', '60%', '25%', '75%', '56%', '0%', '76%', '57%', '74%',\n",
              "       '82%', '62%', '90%', '69%', '77%', '33%', '58%', '78%', '81%',\n",
              "       '17%', '86%', '20%', '70%', '80%', '72%', '98%', '45%', '55%',\n",
              "       '68%', '42%', '30%', '99%', '36%', '84%', '19%', '61%', '29%',\n",
              "       '87%', '66%', '54%', '65%', '64%', '51%', '43%', '23%', '40%',\n",
              "       '48%', '47%', '52%', '28%', '18%', '46%', '59%', '44%', '38%',\n",
              "       '53%'], dtype=object)"
            ]
          },
          "metadata": {},
          "execution_count": 37
        }
      ]
    },
    {
      "cell_type": "code",
      "source": [
        "listings[listings[\"host_is_superhost\"].isna()]"
      ],
      "metadata": {
        "id": "ftCll0kAyczo",
        "colab": {
          "base_uri": "https://localhost:8080/",
          "height": 143
        },
        "outputId": "8eb041b2-77e9-437b-9b25-0cb8e85435de"
      },
      "execution_count": null,
      "outputs": [
        {
          "output_type": "execute_result",
          "data": {
            "text/plain": [
              "Empty DataFrame\n",
              "Columns: [id, listing_url, scrape_id, last_scraped, name, summary, space, description, experiences_offered, neighborhood_overview, notes, transit, access, interaction, house_rules, thumbnail_url, medium_url, picture_url, xl_picture_url, host_id, host_url, host_name, host_since, host_location, host_about, host_response_time, host_response_rate, host_acceptance_rate, host_is_superhost, host_thumbnail_url, host_picture_url, host_neighbourhood, host_listings_count, host_total_listings_count, host_verifications, host_has_profile_pic, host_identity_verified, street, neighbourhood, neighbourhood_cleansed, neighbourhood_group_cleansed, city, state, zipcode, market, smart_location, country_code, country, latitude, longitude, is_location_exact, property_type, room_type, accommodates, bathrooms, bedrooms, beds, bed_type, amenities, square_feet, price, weekly_price, monthly_price, security_deposit, cleaning_fee, guests_included, extra_people, minimum_nights, maximum_nights, calendar_updated, has_availability, availability_30, availability_60, availability_90, availability_365, calendar_last_scraped, number_of_reviews, first_review, last_review, review_scores_rating, review_scores_accuracy, review_scores_cleanliness, review_scores_checkin, review_scores_communication, review_scores_location, review_scores_value, requires_license, license, jurisdiction_names, instant_bookable, cancellation_policy, require_guest_profile_picture, require_guest_phone_verification, calculated_host_listings_count, reviews_per_month]\n",
              "Index: []\n",
              "\n",
              "[0 rows x 95 columns]"
            ],
            "text/html": [
              "\n",
              "  <div id=\"df-1c70bf24-9262-4cb3-8d37-200248d40a53\">\n",
              "    <div class=\"colab-df-container\">\n",
              "      <div>\n",
              "<style scoped>\n",
              "    .dataframe tbody tr th:only-of-type {\n",
              "        vertical-align: middle;\n",
              "    }\n",
              "\n",
              "    .dataframe tbody tr th {\n",
              "        vertical-align: top;\n",
              "    }\n",
              "\n",
              "    .dataframe thead th {\n",
              "        text-align: right;\n",
              "    }\n",
              "</style>\n",
              "<table border=\"1\" class=\"dataframe\">\n",
              "  <thead>\n",
              "    <tr style=\"text-align: right;\">\n",
              "      <th></th>\n",
              "      <th>id</th>\n",
              "      <th>listing_url</th>\n",
              "      <th>scrape_id</th>\n",
              "      <th>last_scraped</th>\n",
              "      <th>name</th>\n",
              "      <th>summary</th>\n",
              "      <th>space</th>\n",
              "      <th>description</th>\n",
              "      <th>experiences_offered</th>\n",
              "      <th>neighborhood_overview</th>\n",
              "      <th>...</th>\n",
              "      <th>review_scores_value</th>\n",
              "      <th>requires_license</th>\n",
              "      <th>license</th>\n",
              "      <th>jurisdiction_names</th>\n",
              "      <th>instant_bookable</th>\n",
              "      <th>cancellation_policy</th>\n",
              "      <th>require_guest_profile_picture</th>\n",
              "      <th>require_guest_phone_verification</th>\n",
              "      <th>calculated_host_listings_count</th>\n",
              "      <th>reviews_per_month</th>\n",
              "    </tr>\n",
              "  </thead>\n",
              "  <tbody>\n",
              "  </tbody>\n",
              "</table>\n",
              "<p>0 rows × 95 columns</p>\n",
              "</div>\n",
              "      <button class=\"colab-df-convert\" onclick=\"convertToInteractive('df-1c70bf24-9262-4cb3-8d37-200248d40a53')\"\n",
              "              title=\"Convert this dataframe to an interactive table.\"\n",
              "              style=\"display:none;\">\n",
              "        \n",
              "  <svg xmlns=\"http://www.w3.org/2000/svg\" height=\"24px\"viewBox=\"0 0 24 24\"\n",
              "       width=\"24px\">\n",
              "    <path d=\"M0 0h24v24H0V0z\" fill=\"none\"/>\n",
              "    <path d=\"M18.56 5.44l.94 2.06.94-2.06 2.06-.94-2.06-.94-.94-2.06-.94 2.06-2.06.94zm-11 1L8.5 8.5l.94-2.06 2.06-.94-2.06-.94L8.5 2.5l-.94 2.06-2.06.94zm10 10l.94 2.06.94-2.06 2.06-.94-2.06-.94-.94-2.06-.94 2.06-2.06.94z\"/><path d=\"M17.41 7.96l-1.37-1.37c-.4-.4-.92-.59-1.43-.59-.52 0-1.04.2-1.43.59L10.3 9.45l-7.72 7.72c-.78.78-.78 2.05 0 2.83L4 21.41c.39.39.9.59 1.41.59.51 0 1.02-.2 1.41-.59l7.78-7.78 2.81-2.81c.8-.78.8-2.07 0-2.86zM5.41 20L4 18.59l7.72-7.72 1.47 1.35L5.41 20z\"/>\n",
              "  </svg>\n",
              "      </button>\n",
              "      \n",
              "  <style>\n",
              "    .colab-df-container {\n",
              "      display:flex;\n",
              "      flex-wrap:wrap;\n",
              "      gap: 12px;\n",
              "    }\n",
              "\n",
              "    .colab-df-convert {\n",
              "      background-color: #E8F0FE;\n",
              "      border: none;\n",
              "      border-radius: 50%;\n",
              "      cursor: pointer;\n",
              "      display: none;\n",
              "      fill: #1967D2;\n",
              "      height: 32px;\n",
              "      padding: 0 0 0 0;\n",
              "      width: 32px;\n",
              "    }\n",
              "\n",
              "    .colab-df-convert:hover {\n",
              "      background-color: #E2EBFA;\n",
              "      box-shadow: 0px 1px 2px rgba(60, 64, 67, 0.3), 0px 1px 3px 1px rgba(60, 64, 67, 0.15);\n",
              "      fill: #174EA6;\n",
              "    }\n",
              "\n",
              "    [theme=dark] .colab-df-convert {\n",
              "      background-color: #3B4455;\n",
              "      fill: #D2E3FC;\n",
              "    }\n",
              "\n",
              "    [theme=dark] .colab-df-convert:hover {\n",
              "      background-color: #434B5C;\n",
              "      box-shadow: 0px 1px 3px 1px rgba(0, 0, 0, 0.15);\n",
              "      filter: drop-shadow(0px 1px 2px rgba(0, 0, 0, 0.3));\n",
              "      fill: #FFFFFF;\n",
              "    }\n",
              "  </style>\n",
              "\n",
              "      <script>\n",
              "        const buttonEl =\n",
              "          document.querySelector('#df-1c70bf24-9262-4cb3-8d37-200248d40a53 button.colab-df-convert');\n",
              "        buttonEl.style.display =\n",
              "          google.colab.kernel.accessAllowed ? 'block' : 'none';\n",
              "\n",
              "        async function convertToInteractive(key) {\n",
              "          const element = document.querySelector('#df-1c70bf24-9262-4cb3-8d37-200248d40a53');\n",
              "          const dataTable =\n",
              "            await google.colab.kernel.invokeFunction('convertToInteractive',\n",
              "                                                     [key], {});\n",
              "          if (!dataTable) return;\n",
              "\n",
              "          const docLinkHtml = 'Like what you see? Visit the ' +\n",
              "            '<a target=\"_blank\" href=https://colab.research.google.com/notebooks/data_table.ipynb>data table notebook</a>'\n",
              "            + ' to learn more about interactive tables.';\n",
              "          element.innerHTML = '';\n",
              "          dataTable['output_type'] = 'display_data';\n",
              "          await google.colab.output.renderOutput(dataTable, element);\n",
              "          const docLink = document.createElement('div');\n",
              "          docLink.innerHTML = docLinkHtml;\n",
              "          element.appendChild(docLink);\n",
              "        }\n",
              "      </script>\n",
              "    </div>\n",
              "  </div>\n",
              "  "
            ]
          },
          "metadata": {},
          "execution_count": 38
        }
      ]
    },
    {
      "cell_type": "code",
      "source": [
        "(print(listings[\"host_listings_count\"].unique()))\n",
        "listings[\"host_listings_count\"].isna().sum()"
      ],
      "metadata": {
        "id": "jbMQXTMqy7Wh",
        "colab": {
          "base_uri": "https://localhost:8080/"
        },
        "outputId": "2d4180bd-d734-4b79-97f4-ea7ca38d6e95"
      },
      "execution_count": null,
      "outputs": [
        {
          "output_type": "stream",
          "name": "stdout",
          "text": [
            "[  1   2   5   3   4   6   8   0 558  21   7 749  12 313  11  17 122  13\n",
            " 363 307  16  15  30  37  18  24  52  22   9  20  14  10  45  71  28]\n"
          ]
        },
        {
          "output_type": "execute_result",
          "data": {
            "text/plain": [
              "0"
            ]
          },
          "metadata": {},
          "execution_count": 39
        }
      ]
    },
    {
      "cell_type": "code",
      "source": [
        "print(listings[\"host_total_listings_count\"].unique())\n",
        "listings[\"host_total_listings_count\"].isna().sum()"
      ],
      "metadata": {
        "id": "oBsGEX3EzeUF",
        "colab": {
          "base_uri": "https://localhost:8080/"
        },
        "outputId": "5f7a94a2-3bd5-4e9d-b10f-a016756e4281"
      },
      "execution_count": null,
      "outputs": [
        {
          "output_type": "stream",
          "name": "stdout",
          "text": [
            "[  1   2   5   3   4   6   8   0 558  21   7 749  12 313  11  17 122  13\n",
            " 363 307  16  15  30  37  18  24  52  22   9  20  14  10  45  71  28]\n"
          ]
        },
        {
          "output_type": "execute_result",
          "data": {
            "text/plain": [
              "0"
            ]
          },
          "metadata": {},
          "execution_count": 40
        }
      ]
    },
    {
      "cell_type": "code",
      "source": [
        "listings[listings[\"host_listings_count\"] != listings[\"host_total_listings_count\"]]"
      ],
      "metadata": {
        "id": "stUuPo2KzjdD",
        "colab": {
          "base_uri": "https://localhost:8080/",
          "height": 143
        },
        "outputId": "da91836d-bb46-473f-c809-f734a011767c"
      },
      "execution_count": null,
      "outputs": [
        {
          "output_type": "execute_result",
          "data": {
            "text/plain": [
              "Empty DataFrame\n",
              "Columns: [id, listing_url, scrape_id, last_scraped, name, summary, space, description, experiences_offered, neighborhood_overview, notes, transit, access, interaction, house_rules, thumbnail_url, medium_url, picture_url, xl_picture_url, host_id, host_url, host_name, host_since, host_location, host_about, host_response_time, host_response_rate, host_acceptance_rate, host_is_superhost, host_thumbnail_url, host_picture_url, host_neighbourhood, host_listings_count, host_total_listings_count, host_verifications, host_has_profile_pic, host_identity_verified, street, neighbourhood, neighbourhood_cleansed, neighbourhood_group_cleansed, city, state, zipcode, market, smart_location, country_code, country, latitude, longitude, is_location_exact, property_type, room_type, accommodates, bathrooms, bedrooms, beds, bed_type, amenities, square_feet, price, weekly_price, monthly_price, security_deposit, cleaning_fee, guests_included, extra_people, minimum_nights, maximum_nights, calendar_updated, has_availability, availability_30, availability_60, availability_90, availability_365, calendar_last_scraped, number_of_reviews, first_review, last_review, review_scores_rating, review_scores_accuracy, review_scores_cleanliness, review_scores_checkin, review_scores_communication, review_scores_location, review_scores_value, requires_license, license, jurisdiction_names, instant_bookable, cancellation_policy, require_guest_profile_picture, require_guest_phone_verification, calculated_host_listings_count, reviews_per_month]\n",
              "Index: []\n",
              "\n",
              "[0 rows x 95 columns]"
            ],
            "text/html": [
              "\n",
              "  <div id=\"df-8b4ed5ad-eb46-40c1-91d7-247ef1e5a54d\">\n",
              "    <div class=\"colab-df-container\">\n",
              "      <div>\n",
              "<style scoped>\n",
              "    .dataframe tbody tr th:only-of-type {\n",
              "        vertical-align: middle;\n",
              "    }\n",
              "\n",
              "    .dataframe tbody tr th {\n",
              "        vertical-align: top;\n",
              "    }\n",
              "\n",
              "    .dataframe thead th {\n",
              "        text-align: right;\n",
              "    }\n",
              "</style>\n",
              "<table border=\"1\" class=\"dataframe\">\n",
              "  <thead>\n",
              "    <tr style=\"text-align: right;\">\n",
              "      <th></th>\n",
              "      <th>id</th>\n",
              "      <th>listing_url</th>\n",
              "      <th>scrape_id</th>\n",
              "      <th>last_scraped</th>\n",
              "      <th>name</th>\n",
              "      <th>summary</th>\n",
              "      <th>space</th>\n",
              "      <th>description</th>\n",
              "      <th>experiences_offered</th>\n",
              "      <th>neighborhood_overview</th>\n",
              "      <th>...</th>\n",
              "      <th>review_scores_value</th>\n",
              "      <th>requires_license</th>\n",
              "      <th>license</th>\n",
              "      <th>jurisdiction_names</th>\n",
              "      <th>instant_bookable</th>\n",
              "      <th>cancellation_policy</th>\n",
              "      <th>require_guest_profile_picture</th>\n",
              "      <th>require_guest_phone_verification</th>\n",
              "      <th>calculated_host_listings_count</th>\n",
              "      <th>reviews_per_month</th>\n",
              "    </tr>\n",
              "  </thead>\n",
              "  <tbody>\n",
              "  </tbody>\n",
              "</table>\n",
              "<p>0 rows × 95 columns</p>\n",
              "</div>\n",
              "      <button class=\"colab-df-convert\" onclick=\"convertToInteractive('df-8b4ed5ad-eb46-40c1-91d7-247ef1e5a54d')\"\n",
              "              title=\"Convert this dataframe to an interactive table.\"\n",
              "              style=\"display:none;\">\n",
              "        \n",
              "  <svg xmlns=\"http://www.w3.org/2000/svg\" height=\"24px\"viewBox=\"0 0 24 24\"\n",
              "       width=\"24px\">\n",
              "    <path d=\"M0 0h24v24H0V0z\" fill=\"none\"/>\n",
              "    <path d=\"M18.56 5.44l.94 2.06.94-2.06 2.06-.94-2.06-.94-.94-2.06-.94 2.06-2.06.94zm-11 1L8.5 8.5l.94-2.06 2.06-.94-2.06-.94L8.5 2.5l-.94 2.06-2.06.94zm10 10l.94 2.06.94-2.06 2.06-.94-2.06-.94-.94-2.06-.94 2.06-2.06.94z\"/><path d=\"M17.41 7.96l-1.37-1.37c-.4-.4-.92-.59-1.43-.59-.52 0-1.04.2-1.43.59L10.3 9.45l-7.72 7.72c-.78.78-.78 2.05 0 2.83L4 21.41c.39.39.9.59 1.41.59.51 0 1.02-.2 1.41-.59l7.78-7.78 2.81-2.81c.8-.78.8-2.07 0-2.86zM5.41 20L4 18.59l7.72-7.72 1.47 1.35L5.41 20z\"/>\n",
              "  </svg>\n",
              "      </button>\n",
              "      \n",
              "  <style>\n",
              "    .colab-df-container {\n",
              "      display:flex;\n",
              "      flex-wrap:wrap;\n",
              "      gap: 12px;\n",
              "    }\n",
              "\n",
              "    .colab-df-convert {\n",
              "      background-color: #E8F0FE;\n",
              "      border: none;\n",
              "      border-radius: 50%;\n",
              "      cursor: pointer;\n",
              "      display: none;\n",
              "      fill: #1967D2;\n",
              "      height: 32px;\n",
              "      padding: 0 0 0 0;\n",
              "      width: 32px;\n",
              "    }\n",
              "\n",
              "    .colab-df-convert:hover {\n",
              "      background-color: #E2EBFA;\n",
              "      box-shadow: 0px 1px 2px rgba(60, 64, 67, 0.3), 0px 1px 3px 1px rgba(60, 64, 67, 0.15);\n",
              "      fill: #174EA6;\n",
              "    }\n",
              "\n",
              "    [theme=dark] .colab-df-convert {\n",
              "      background-color: #3B4455;\n",
              "      fill: #D2E3FC;\n",
              "    }\n",
              "\n",
              "    [theme=dark] .colab-df-convert:hover {\n",
              "      background-color: #434B5C;\n",
              "      box-shadow: 0px 1px 3px 1px rgba(0, 0, 0, 0.15);\n",
              "      filter: drop-shadow(0px 1px 2px rgba(0, 0, 0, 0.3));\n",
              "      fill: #FFFFFF;\n",
              "    }\n",
              "  </style>\n",
              "\n",
              "      <script>\n",
              "        const buttonEl =\n",
              "          document.querySelector('#df-8b4ed5ad-eb46-40c1-91d7-247ef1e5a54d button.colab-df-convert');\n",
              "        buttonEl.style.display =\n",
              "          google.colab.kernel.accessAllowed ? 'block' : 'none';\n",
              "\n",
              "        async function convertToInteractive(key) {\n",
              "          const element = document.querySelector('#df-8b4ed5ad-eb46-40c1-91d7-247ef1e5a54d');\n",
              "          const dataTable =\n",
              "            await google.colab.kernel.invokeFunction('convertToInteractive',\n",
              "                                                     [key], {});\n",
              "          if (!dataTable) return;\n",
              "\n",
              "          const docLinkHtml = 'Like what you see? Visit the ' +\n",
              "            '<a target=\"_blank\" href=https://colab.research.google.com/notebooks/data_table.ipynb>data table notebook</a>'\n",
              "            + ' to learn more about interactive tables.';\n",
              "          element.innerHTML = '';\n",
              "          dataTable['output_type'] = 'display_data';\n",
              "          await google.colab.output.renderOutput(dataTable, element);\n",
              "          const docLink = document.createElement('div');\n",
              "          docLink.innerHTML = docLinkHtml;\n",
              "          element.appendChild(docLink);\n",
              "        }\n",
              "      </script>\n",
              "    </div>\n",
              "  </div>\n",
              "  "
            ]
          },
          "metadata": {},
          "execution_count": 41
        }
      ]
    },
    {
      "cell_type": "code",
      "source": [
        "print(listings[\"host_verifications\"].isna().sum())\n",
        "listings[\"host_verifications\"].unique()[0:10]"
      ],
      "metadata": {
        "id": "i5xwHHIt0gBW",
        "colab": {
          "base_uri": "https://localhost:8080/"
        },
        "outputId": "c868715a-7b03-4dc2-abdc-07f05b12f90c"
      },
      "execution_count": 207,
      "outputs": [
        {
          "output_type": "stream",
          "name": "stdout",
          "text": [
            "0\n"
          ]
        },
        {
          "output_type": "execute_result",
          "data": {
            "text/plain": [
              "array([\"['email', 'phone', 'facebook', 'reviews']\",\n",
              "       \"['email', 'phone', 'facebook', 'linkedin', 'amex', 'reviews', 'jumio']\",\n",
              "       \"['email', 'phone', 'reviews', 'jumio']\",\n",
              "       \"['email', 'phone', 'reviews']\",\n",
              "       \"['email', 'phone', 'reviews', 'kba']\",\n",
              "       \"['email', 'phone', 'reviews', 'jumio', 'kba']\",\n",
              "       \"['email', 'phone', 'facebook', 'reviews', 'kba']\",\n",
              "       \"['email', 'phone', 'linkedin', 'reviews', 'kba']\",\n",
              "       \"['email', 'reviews']\",\n",
              "       \"['email', 'phone', 'linkedin', 'reviews', 'jumio', 'kba']\"],\n",
              "      dtype=object)"
            ]
          },
          "metadata": {},
          "execution_count": 207
        }
      ]
    },
    {
      "cell_type": "code",
      "source": [
        "listings[\"host_identity_verified\"].value_counts()"
      ],
      "metadata": {
        "id": "8qYhmX_41ZxU",
        "colab": {
          "base_uri": "https://localhost:8080/"
        },
        "outputId": "c6f0994a-36a1-4e99-85b2-2d325f6cb06e"
      },
      "execution_count": null,
      "outputs": [
        {
          "output_type": "execute_result",
          "data": {
            "text/plain": [
              "t    2603\n",
              "f     982\n",
              "Name: host_identity_verified, dtype: int64"
            ]
          },
          "metadata": {},
          "execution_count": 44
        }
      ]
    },
    {
      "cell_type": "code",
      "source": [
        "listings[listings[\"neighbourhood\"].isna()][[\"neighbourhood\", \"neighbourhood_cleansed\"]].head()"
      ],
      "metadata": {
        "id": "0i7bvCwo2bVM",
        "colab": {
          "base_uri": "https://localhost:8080/",
          "height": 206
        },
        "outputId": "c351c348-ab86-49e2-c7e2-6ef3532b64bb"
      },
      "execution_count": 208,
      "outputs": [
        {
          "output_type": "execute_result",
          "data": {
            "text/plain": [
              "   neighbourhood neighbourhood_cleansed\n",
              "3            NaN             Roslindale\n",
              "6            NaN             Roslindale\n",
              "19           NaN             Roslindale\n",
              "23           NaN             Roslindale\n",
              "36           NaN             Roslindale"
            ],
            "text/html": [
              "\n",
              "  <div id=\"df-c4898b9a-1cc0-48df-a586-f39c41e78638\">\n",
              "    <div class=\"colab-df-container\">\n",
              "      <div>\n",
              "<style scoped>\n",
              "    .dataframe tbody tr th:only-of-type {\n",
              "        vertical-align: middle;\n",
              "    }\n",
              "\n",
              "    .dataframe tbody tr th {\n",
              "        vertical-align: top;\n",
              "    }\n",
              "\n",
              "    .dataframe thead th {\n",
              "        text-align: right;\n",
              "    }\n",
              "</style>\n",
              "<table border=\"1\" class=\"dataframe\">\n",
              "  <thead>\n",
              "    <tr style=\"text-align: right;\">\n",
              "      <th></th>\n",
              "      <th>neighbourhood</th>\n",
              "      <th>neighbourhood_cleansed</th>\n",
              "    </tr>\n",
              "  </thead>\n",
              "  <tbody>\n",
              "    <tr>\n",
              "      <th>3</th>\n",
              "      <td>NaN</td>\n",
              "      <td>Roslindale</td>\n",
              "    </tr>\n",
              "    <tr>\n",
              "      <th>6</th>\n",
              "      <td>NaN</td>\n",
              "      <td>Roslindale</td>\n",
              "    </tr>\n",
              "    <tr>\n",
              "      <th>19</th>\n",
              "      <td>NaN</td>\n",
              "      <td>Roslindale</td>\n",
              "    </tr>\n",
              "    <tr>\n",
              "      <th>23</th>\n",
              "      <td>NaN</td>\n",
              "      <td>Roslindale</td>\n",
              "    </tr>\n",
              "    <tr>\n",
              "      <th>36</th>\n",
              "      <td>NaN</td>\n",
              "      <td>Roslindale</td>\n",
              "    </tr>\n",
              "  </tbody>\n",
              "</table>\n",
              "</div>\n",
              "      <button class=\"colab-df-convert\" onclick=\"convertToInteractive('df-c4898b9a-1cc0-48df-a586-f39c41e78638')\"\n",
              "              title=\"Convert this dataframe to an interactive table.\"\n",
              "              style=\"display:none;\">\n",
              "        \n",
              "  <svg xmlns=\"http://www.w3.org/2000/svg\" height=\"24px\"viewBox=\"0 0 24 24\"\n",
              "       width=\"24px\">\n",
              "    <path d=\"M0 0h24v24H0V0z\" fill=\"none\"/>\n",
              "    <path d=\"M18.56 5.44l.94 2.06.94-2.06 2.06-.94-2.06-.94-.94-2.06-.94 2.06-2.06.94zm-11 1L8.5 8.5l.94-2.06 2.06-.94-2.06-.94L8.5 2.5l-.94 2.06-2.06.94zm10 10l.94 2.06.94-2.06 2.06-.94-2.06-.94-.94-2.06-.94 2.06-2.06.94z\"/><path d=\"M17.41 7.96l-1.37-1.37c-.4-.4-.92-.59-1.43-.59-.52 0-1.04.2-1.43.59L10.3 9.45l-7.72 7.72c-.78.78-.78 2.05 0 2.83L4 21.41c.39.39.9.59 1.41.59.51 0 1.02-.2 1.41-.59l7.78-7.78 2.81-2.81c.8-.78.8-2.07 0-2.86zM5.41 20L4 18.59l7.72-7.72 1.47 1.35L5.41 20z\"/>\n",
              "  </svg>\n",
              "      </button>\n",
              "      \n",
              "  <style>\n",
              "    .colab-df-container {\n",
              "      display:flex;\n",
              "      flex-wrap:wrap;\n",
              "      gap: 12px;\n",
              "    }\n",
              "\n",
              "    .colab-df-convert {\n",
              "      background-color: #E8F0FE;\n",
              "      border: none;\n",
              "      border-radius: 50%;\n",
              "      cursor: pointer;\n",
              "      display: none;\n",
              "      fill: #1967D2;\n",
              "      height: 32px;\n",
              "      padding: 0 0 0 0;\n",
              "      width: 32px;\n",
              "    }\n",
              "\n",
              "    .colab-df-convert:hover {\n",
              "      background-color: #E2EBFA;\n",
              "      box-shadow: 0px 1px 2px rgba(60, 64, 67, 0.3), 0px 1px 3px 1px rgba(60, 64, 67, 0.15);\n",
              "      fill: #174EA6;\n",
              "    }\n",
              "\n",
              "    [theme=dark] .colab-df-convert {\n",
              "      background-color: #3B4455;\n",
              "      fill: #D2E3FC;\n",
              "    }\n",
              "\n",
              "    [theme=dark] .colab-df-convert:hover {\n",
              "      background-color: #434B5C;\n",
              "      box-shadow: 0px 1px 3px 1px rgba(0, 0, 0, 0.15);\n",
              "      filter: drop-shadow(0px 1px 2px rgba(0, 0, 0, 0.3));\n",
              "      fill: #FFFFFF;\n",
              "    }\n",
              "  </style>\n",
              "\n",
              "      <script>\n",
              "        const buttonEl =\n",
              "          document.querySelector('#df-c4898b9a-1cc0-48df-a586-f39c41e78638 button.colab-df-convert');\n",
              "        buttonEl.style.display =\n",
              "          google.colab.kernel.accessAllowed ? 'block' : 'none';\n",
              "\n",
              "        async function convertToInteractive(key) {\n",
              "          const element = document.querySelector('#df-c4898b9a-1cc0-48df-a586-f39c41e78638');\n",
              "          const dataTable =\n",
              "            await google.colab.kernel.invokeFunction('convertToInteractive',\n",
              "                                                     [key], {});\n",
              "          if (!dataTable) return;\n",
              "\n",
              "          const docLinkHtml = 'Like what you see? Visit the ' +\n",
              "            '<a target=\"_blank\" href=https://colab.research.google.com/notebooks/data_table.ipynb>data table notebook</a>'\n",
              "            + ' to learn more about interactive tables.';\n",
              "          element.innerHTML = '';\n",
              "          dataTable['output_type'] = 'display_data';\n",
              "          await google.colab.output.renderOutput(dataTable, element);\n",
              "          const docLink = document.createElement('div');\n",
              "          docLink.innerHTML = docLinkHtml;\n",
              "          element.appendChild(docLink);\n",
              "        }\n",
              "      </script>\n",
              "    </div>\n",
              "  </div>\n",
              "  "
            ]
          },
          "metadata": {},
          "execution_count": 208
        }
      ]
    },
    {
      "cell_type": "code",
      "source": [
        "listings[\"neighbourhood_group_cleansed\"].unique()"
      ],
      "metadata": {
        "id": "wJ21jzsR2YTR",
        "colab": {
          "base_uri": "https://localhost:8080/"
        },
        "outputId": "32296029-3e2b-4341-c180-f740db1e1f98"
      },
      "execution_count": null,
      "outputs": [
        {
          "output_type": "execute_result",
          "data": {
            "text/plain": [
              "array([nan])"
            ]
          },
          "metadata": {},
          "execution_count": 46
        }
      ]
    },
    {
      "cell_type": "markdown",
      "source": [
        "neighbourhood can be dropped and neighbourhood_cleansed should be renamed as neighbourhood."
      ],
      "metadata": {
        "id": "Qt_s6aujz75B"
      }
    },
    {
      "cell_type": "code",
      "source": [
        "listings[listings[\"city\"] != listings[\"neighbourhood_cleansed\"]][[\"city\", \"neighbourhood_cleansed\"]].head()"
      ],
      "metadata": {
        "id": "EHetV-0v3BLG",
        "colab": {
          "base_uri": "https://localhost:8080/",
          "height": 206
        },
        "outputId": "8b9d3630-1e0c-469c-9368-49906676045a"
      },
      "execution_count": 209,
      "outputs": [
        {
          "output_type": "execute_result",
          "data": {
            "text/plain": [
              "     city neighbourhood_cleansed\n",
              "0  Boston             Roslindale\n",
              "1  Boston             Roslindale\n",
              "2  Boston             Roslindale\n",
              "3  Boston             Roslindale\n",
              "4  Boston             Roslindale"
            ],
            "text/html": [
              "\n",
              "  <div id=\"df-7ad4aefc-d678-491b-bca9-778153c3dd49\">\n",
              "    <div class=\"colab-df-container\">\n",
              "      <div>\n",
              "<style scoped>\n",
              "    .dataframe tbody tr th:only-of-type {\n",
              "        vertical-align: middle;\n",
              "    }\n",
              "\n",
              "    .dataframe tbody tr th {\n",
              "        vertical-align: top;\n",
              "    }\n",
              "\n",
              "    .dataframe thead th {\n",
              "        text-align: right;\n",
              "    }\n",
              "</style>\n",
              "<table border=\"1\" class=\"dataframe\">\n",
              "  <thead>\n",
              "    <tr style=\"text-align: right;\">\n",
              "      <th></th>\n",
              "      <th>city</th>\n",
              "      <th>neighbourhood_cleansed</th>\n",
              "    </tr>\n",
              "  </thead>\n",
              "  <tbody>\n",
              "    <tr>\n",
              "      <th>0</th>\n",
              "      <td>Boston</td>\n",
              "      <td>Roslindale</td>\n",
              "    </tr>\n",
              "    <tr>\n",
              "      <th>1</th>\n",
              "      <td>Boston</td>\n",
              "      <td>Roslindale</td>\n",
              "    </tr>\n",
              "    <tr>\n",
              "      <th>2</th>\n",
              "      <td>Boston</td>\n",
              "      <td>Roslindale</td>\n",
              "    </tr>\n",
              "    <tr>\n",
              "      <th>3</th>\n",
              "      <td>Boston</td>\n",
              "      <td>Roslindale</td>\n",
              "    </tr>\n",
              "    <tr>\n",
              "      <th>4</th>\n",
              "      <td>Boston</td>\n",
              "      <td>Roslindale</td>\n",
              "    </tr>\n",
              "  </tbody>\n",
              "</table>\n",
              "</div>\n",
              "      <button class=\"colab-df-convert\" onclick=\"convertToInteractive('df-7ad4aefc-d678-491b-bca9-778153c3dd49')\"\n",
              "              title=\"Convert this dataframe to an interactive table.\"\n",
              "              style=\"display:none;\">\n",
              "        \n",
              "  <svg xmlns=\"http://www.w3.org/2000/svg\" height=\"24px\"viewBox=\"0 0 24 24\"\n",
              "       width=\"24px\">\n",
              "    <path d=\"M0 0h24v24H0V0z\" fill=\"none\"/>\n",
              "    <path d=\"M18.56 5.44l.94 2.06.94-2.06 2.06-.94-2.06-.94-.94-2.06-.94 2.06-2.06.94zm-11 1L8.5 8.5l.94-2.06 2.06-.94-2.06-.94L8.5 2.5l-.94 2.06-2.06.94zm10 10l.94 2.06.94-2.06 2.06-.94-2.06-.94-.94-2.06-.94 2.06-2.06.94z\"/><path d=\"M17.41 7.96l-1.37-1.37c-.4-.4-.92-.59-1.43-.59-.52 0-1.04.2-1.43.59L10.3 9.45l-7.72 7.72c-.78.78-.78 2.05 0 2.83L4 21.41c.39.39.9.59 1.41.59.51 0 1.02-.2 1.41-.59l7.78-7.78 2.81-2.81c.8-.78.8-2.07 0-2.86zM5.41 20L4 18.59l7.72-7.72 1.47 1.35L5.41 20z\"/>\n",
              "  </svg>\n",
              "      </button>\n",
              "      \n",
              "  <style>\n",
              "    .colab-df-container {\n",
              "      display:flex;\n",
              "      flex-wrap:wrap;\n",
              "      gap: 12px;\n",
              "    }\n",
              "\n",
              "    .colab-df-convert {\n",
              "      background-color: #E8F0FE;\n",
              "      border: none;\n",
              "      border-radius: 50%;\n",
              "      cursor: pointer;\n",
              "      display: none;\n",
              "      fill: #1967D2;\n",
              "      height: 32px;\n",
              "      padding: 0 0 0 0;\n",
              "      width: 32px;\n",
              "    }\n",
              "\n",
              "    .colab-df-convert:hover {\n",
              "      background-color: #E2EBFA;\n",
              "      box-shadow: 0px 1px 2px rgba(60, 64, 67, 0.3), 0px 1px 3px 1px rgba(60, 64, 67, 0.15);\n",
              "      fill: #174EA6;\n",
              "    }\n",
              "\n",
              "    [theme=dark] .colab-df-convert {\n",
              "      background-color: #3B4455;\n",
              "      fill: #D2E3FC;\n",
              "    }\n",
              "\n",
              "    [theme=dark] .colab-df-convert:hover {\n",
              "      background-color: #434B5C;\n",
              "      box-shadow: 0px 1px 3px 1px rgba(0, 0, 0, 0.15);\n",
              "      filter: drop-shadow(0px 1px 2px rgba(0, 0, 0, 0.3));\n",
              "      fill: #FFFFFF;\n",
              "    }\n",
              "  </style>\n",
              "\n",
              "      <script>\n",
              "        const buttonEl =\n",
              "          document.querySelector('#df-7ad4aefc-d678-491b-bca9-778153c3dd49 button.colab-df-convert');\n",
              "        buttonEl.style.display =\n",
              "          google.colab.kernel.accessAllowed ? 'block' : 'none';\n",
              "\n",
              "        async function convertToInteractive(key) {\n",
              "          const element = document.querySelector('#df-7ad4aefc-d678-491b-bca9-778153c3dd49');\n",
              "          const dataTable =\n",
              "            await google.colab.kernel.invokeFunction('convertToInteractive',\n",
              "                                                     [key], {});\n",
              "          if (!dataTable) return;\n",
              "\n",
              "          const docLinkHtml = 'Like what you see? Visit the ' +\n",
              "            '<a target=\"_blank\" href=https://colab.research.google.com/notebooks/data_table.ipynb>data table notebook</a>'\n",
              "            + ' to learn more about interactive tables.';\n",
              "          element.innerHTML = '';\n",
              "          dataTable['output_type'] = 'display_data';\n",
              "          await google.colab.output.renderOutput(dataTable, element);\n",
              "          const docLink = document.createElement('div');\n",
              "          docLink.innerHTML = docLinkHtml;\n",
              "          element.appendChild(docLink);\n",
              "        }\n",
              "      </script>\n",
              "    </div>\n",
              "  </div>\n",
              "  "
            ]
          },
          "metadata": {},
          "execution_count": 209
        }
      ]
    },
    {
      "cell_type": "code",
      "source": [
        "listings[\"state\"].unique()"
      ],
      "metadata": {
        "id": "jdwmVN7A3ZN-",
        "colab": {
          "base_uri": "https://localhost:8080/"
        },
        "outputId": "baeee2b8-64ae-48b1-ae75-9feac4cd5d38"
      },
      "execution_count": null,
      "outputs": [
        {
          "output_type": "execute_result",
          "data": {
            "text/plain": [
              "array(['MA'], dtype=object)"
            ]
          },
          "metadata": {},
          "execution_count": 48
        }
      ]
    },
    {
      "cell_type": "markdown",
      "source": [
        "Only one value. Can be dropped."
      ],
      "metadata": {
        "id": "1EJD6x27z_gE"
      }
    },
    {
      "cell_type": "code",
      "source": [
        "print(listings[\"zipcode\"].isna().sum())\n",
        "listings[\"zipcode\"].unique()"
      ],
      "metadata": {
        "id": "P8XpESDn3q86",
        "colab": {
          "base_uri": "https://localhost:8080/"
        },
        "outputId": "06d579fe-6a58-46bd-ecb3-495374743d5e"
      },
      "execution_count": null,
      "outputs": [
        {
          "output_type": "stream",
          "name": "stdout",
          "text": [
            "38\n"
          ]
        },
        {
          "output_type": "execute_result",
          "data": {
            "text/plain": [
              "array(['02131', nan, '02130', '02119', '02120', '02115', '02215', '02116',\n",
              "       '02111', '02109', '02113', '02110', '02114', '02108', '02121',\n",
              "       '02118', '02125', '02124', '02210', '02218', '02142', '02128',\n",
              "       '02129', '02145', '02126', '02108 02111', '02472', '02122',\n",
              "       '02446', '02135', '02134', '02445', '02132', '02467', '02136',\n",
              "       '02186', '02169', '02127', '02134-1704', '02163', '02138', '02139',\n",
              "       '02141', '02143'], dtype=object)"
            ]
          },
          "metadata": {},
          "execution_count": 49
        }
      ]
    },
    {
      "cell_type": "code",
      "source": [
        "listings[\"market\"].unique()"
      ],
      "metadata": {
        "id": "ZVNrvMee3wko",
        "colab": {
          "base_uri": "https://localhost:8080/"
        },
        "outputId": "2f90c867-d95b-49a0-e9dc-c6931e0dbcf0"
      },
      "execution_count": null,
      "outputs": [
        {
          "output_type": "execute_result",
          "data": {
            "text/plain": [
              "array(['Boston', 'San Francisco', nan, 'Other (Domestic)',\n",
              "       'Other (International)'], dtype=object)"
            ]
          },
          "metadata": {},
          "execution_count": 50
        }
      ]
    },
    {
      "cell_type": "code",
      "source": [
        "listings[\"smart_location\"].unique()"
      ],
      "metadata": {
        "id": "-N61tzrX4Bpi",
        "colab": {
          "base_uri": "https://localhost:8080/"
        },
        "outputId": "f308d756-53a0-42f1-e047-24be74ca735c"
      },
      "execution_count": null,
      "outputs": [
        {
          "output_type": "execute_result",
          "data": {
            "text/plain": [
              "array(['Boston, MA', 'Roslindale, MA', 'Roslindale, Boston, MA',\n",
              "       'Jamaica Plain, MA', 'Brookline, MA', 'Jamaica Plain, Boston, MA',\n",
              "       'Jamaica Plain (Boston), MA', 'Roxbury Crossing, MA',\n",
              "       'Jamaica Plain , MA', 'Jamaica Plain, MA, MA',\n",
              "       'Boston (Jamaica Plain), MA', 'Jamaica plain , MA',\n",
              "       'ROXBURY CROSSING, MA', 'Mission Hill, Boston, MA', 'boston, MA',\n",
              "       '波士顿, MA', 'Boston, Massachusetts, US, MA',\n",
              "       'South End, Boston, MA', 'Cambridge, MA', 'East Boston, MA',\n",
              "       'east Boston , MA', 'Charlestown, MA', 'Boston (Charlestown), MA',\n",
              "       'Somerville, MA', 'Watertown, MA', 'Brighton, MA', 'Brighton , MA',\n",
              "       'Boston , MA', 'MA', 'West Roxbury, MA', 'Newton, MA',\n",
              "       'Hyde Park, MA', 'Mattapan, MA', 'Milton, MA', 'Dorchester, MA',\n",
              "       'dorchester, boston , MA', 'South Boston, MA', 'Allston, MA',\n",
              "       'ALLSTON, MA'], dtype=object)"
            ]
          },
          "metadata": {},
          "execution_count": 51
        }
      ]
    },
    {
      "cell_type": "code",
      "source": [
        "print(listings[\"security_deposit\"].isna().sum())\n",
        "listings[\"security_deposit\"].unique()"
      ],
      "metadata": {
        "id": "4Z9XWE3f49d2",
        "colab": {
          "base_uri": "https://localhost:8080/"
        },
        "outputId": "d6e5b737-fb97-48c1-8c41-89e8c681fcd6"
      },
      "execution_count": null,
      "outputs": [
        {
          "output_type": "stream",
          "name": "stdout",
          "text": [
            "2243\n"
          ]
        },
        {
          "output_type": "execute_result",
          "data": {
            "text/plain": [
              "array([nan, '$95.00', '$100.00', '$200.00', '$500.00', '$150.00',\n",
              "       '$250.00', '$446.00', '$223.00', '$300.00', '$400.00', '$800.00',\n",
              "       '$298.00', '$450.00', '$650.00', '$2,000.00', '$240.00',\n",
              "       '$1,000.00', '$350.00', '$1,500.00', '$4,500.00', '$600.00',\n",
              "       '$301.00', '$2,500.00', '$99.00', '$275.00', '$375.00', '$199.00',\n",
              "       '$1,200.00', '$180.00', '$220.00', '$160.00', '$299.00', '$750.00',\n",
              "       '$325.00', '$1,250.00', '$125.00', '$900.00', '$475.00',\n",
              "       '$4,000.00', '$185.00', '$3,000.00', '$330.00', '$147.00',\n",
              "       '$425.00', '$399.00', '$120.00', '$307.00', '$1,900.00', '$950.00',\n",
              "       '$175.00', '$179.00', '$128.00', '$700.00', '$118.00'],\n",
              "      dtype=object)"
            ]
          },
          "metadata": {},
          "execution_count": 52
        }
      ]
    },
    {
      "cell_type": "code",
      "source": [
        "print(listings[\"cleaning_fee\"].isna().sum())\n",
        "listings[\"cleaning_fee\"].unique()"
      ],
      "metadata": {
        "id": "lhIAFH3g5Fo7",
        "colab": {
          "base_uri": "https://localhost:8080/"
        },
        "outputId": "290555f4-875d-48e0-9754-b05c4f27c4bc"
      },
      "execution_count": null,
      "outputs": [
        {
          "output_type": "stream",
          "name": "stdout",
          "text": [
            "1107\n"
          ]
        },
        {
          "output_type": "execute_result",
          "data": {
            "text/plain": [
              "array(['$35.00', '$10.00', nan, '$50.00', '$15.00', '$30.00', '$40.00',\n",
              "       '$150.00', '$20.00', '$100.00', '$85.00', '$25.00', '$56.00',\n",
              "       '$45.00', '$125.00', '$80.00', '$5.00', '$120.00', '$18.00',\n",
              "       '$90.00', '$200.00', '$140.00', '$95.00', '$60.00', '$75.00',\n",
              "       '$7.00', '$64.00', '$12.00', '$135.00', '$250.00', '$70.00',\n",
              "       '$9.00', '$8.00', '$55.00', '$175.00', '$65.00', '$69.00',\n",
              "       '$130.00', '$6.00', '$84.00', '$13.00', '$29.00', '$160.00',\n",
              "       '$49.00', '$119.00', '$197.00', '$155.00', '$158.00', '$166.00',\n",
              "       '$199.00', '$99.00', '$225.00', '$39.00', '$54.00', '$24.00',\n",
              "       '$110.00', '$136.00', '$115.00', '$83.00', '$42.00', '$139.00',\n",
              "       '$79.00', '$37.00', '$28.00', '$82.00', '$19.00', '$57.00',\n",
              "       '$72.00', '$58.00', '$66.00', '$180.00', '$300.00', '$14.00',\n",
              "       '$129.00', '$105.00', '$149.00', '$52.00', '$34.00', '$59.00',\n",
              "       '$230.00'], dtype=object)"
            ]
          },
          "metadata": {},
          "execution_count": 53
        }
      ]
    },
    {
      "cell_type": "code",
      "source": [
        "print(listings[\"accommodates\"].unique())\n",
        "listings[\"accommodates\"].isna().sum()"
      ],
      "metadata": {
        "id": "bpc1zBuDU7Xu",
        "colab": {
          "base_uri": "https://localhost:8080/"
        },
        "outputId": "aff86543-ef83-4d3c-ba00-7cadd56902e8"
      },
      "execution_count": null,
      "outputs": [
        {
          "output_type": "stream",
          "name": "stdout",
          "text": [
            "[ 4  2  3  5  1  8  6 16  7  9 10 12 11 14]\n"
          ]
        },
        {
          "output_type": "execute_result",
          "data": {
            "text/plain": [
              "0"
            ]
          },
          "metadata": {},
          "execution_count": 54
        }
      ]
    },
    {
      "cell_type": "code",
      "source": [
        "print(listings[\"guests_included\"].isna().sum())\n",
        "listings[\"guests_included\"].unique()"
      ],
      "metadata": {
        "id": "Bp5iR3Ar5Tjv",
        "colab": {
          "base_uri": "https://localhost:8080/"
        },
        "outputId": "f918cefc-bbdf-43a2-8753-c76855026e95"
      },
      "execution_count": null,
      "outputs": [
        {
          "output_type": "stream",
          "name": "stdout",
          "text": [
            "0\n"
          ]
        },
        {
          "output_type": "execute_result",
          "data": {
            "text/plain": [
              "array([ 1,  0,  2,  4,  5,  3,  6,  9,  8, 12,  7, 14, 10])"
            ]
          },
          "metadata": {},
          "execution_count": 55
        }
      ]
    },
    {
      "cell_type": "code",
      "source": [
        "listings[listings[\"accommodates\"] != listings[\"guests_included\"]][[\"accommodates\", \"guests_included\"]].head()"
      ],
      "metadata": {
        "id": "xyjOa4pSVDqa",
        "colab": {
          "base_uri": "https://localhost:8080/",
          "height": 206
        },
        "outputId": "3a878239-9767-413d-e662-662273b1af32"
      },
      "execution_count": 210,
      "outputs": [
        {
          "output_type": "execute_result",
          "data": {
            "text/plain": [
              "   accommodates  guests_included\n",
              "0             4                1\n",
              "1             2                0\n",
              "2             2                1\n",
              "3             4                2\n",
              "4             2                1"
            ],
            "text/html": [
              "\n",
              "  <div id=\"df-699c9a4c-1897-4d9e-98b1-873c101fedcb\">\n",
              "    <div class=\"colab-df-container\">\n",
              "      <div>\n",
              "<style scoped>\n",
              "    .dataframe tbody tr th:only-of-type {\n",
              "        vertical-align: middle;\n",
              "    }\n",
              "\n",
              "    .dataframe tbody tr th {\n",
              "        vertical-align: top;\n",
              "    }\n",
              "\n",
              "    .dataframe thead th {\n",
              "        text-align: right;\n",
              "    }\n",
              "</style>\n",
              "<table border=\"1\" class=\"dataframe\">\n",
              "  <thead>\n",
              "    <tr style=\"text-align: right;\">\n",
              "      <th></th>\n",
              "      <th>accommodates</th>\n",
              "      <th>guests_included</th>\n",
              "    </tr>\n",
              "  </thead>\n",
              "  <tbody>\n",
              "    <tr>\n",
              "      <th>0</th>\n",
              "      <td>4</td>\n",
              "      <td>1</td>\n",
              "    </tr>\n",
              "    <tr>\n",
              "      <th>1</th>\n",
              "      <td>2</td>\n",
              "      <td>0</td>\n",
              "    </tr>\n",
              "    <tr>\n",
              "      <th>2</th>\n",
              "      <td>2</td>\n",
              "      <td>1</td>\n",
              "    </tr>\n",
              "    <tr>\n",
              "      <th>3</th>\n",
              "      <td>4</td>\n",
              "      <td>2</td>\n",
              "    </tr>\n",
              "    <tr>\n",
              "      <th>4</th>\n",
              "      <td>2</td>\n",
              "      <td>1</td>\n",
              "    </tr>\n",
              "  </tbody>\n",
              "</table>\n",
              "</div>\n",
              "      <button class=\"colab-df-convert\" onclick=\"convertToInteractive('df-699c9a4c-1897-4d9e-98b1-873c101fedcb')\"\n",
              "              title=\"Convert this dataframe to an interactive table.\"\n",
              "              style=\"display:none;\">\n",
              "        \n",
              "  <svg xmlns=\"http://www.w3.org/2000/svg\" height=\"24px\"viewBox=\"0 0 24 24\"\n",
              "       width=\"24px\">\n",
              "    <path d=\"M0 0h24v24H0V0z\" fill=\"none\"/>\n",
              "    <path d=\"M18.56 5.44l.94 2.06.94-2.06 2.06-.94-2.06-.94-.94-2.06-.94 2.06-2.06.94zm-11 1L8.5 8.5l.94-2.06 2.06-.94-2.06-.94L8.5 2.5l-.94 2.06-2.06.94zm10 10l.94 2.06.94-2.06 2.06-.94-2.06-.94-.94-2.06-.94 2.06-2.06.94z\"/><path d=\"M17.41 7.96l-1.37-1.37c-.4-.4-.92-.59-1.43-.59-.52 0-1.04.2-1.43.59L10.3 9.45l-7.72 7.72c-.78.78-.78 2.05 0 2.83L4 21.41c.39.39.9.59 1.41.59.51 0 1.02-.2 1.41-.59l7.78-7.78 2.81-2.81c.8-.78.8-2.07 0-2.86zM5.41 20L4 18.59l7.72-7.72 1.47 1.35L5.41 20z\"/>\n",
              "  </svg>\n",
              "      </button>\n",
              "      \n",
              "  <style>\n",
              "    .colab-df-container {\n",
              "      display:flex;\n",
              "      flex-wrap:wrap;\n",
              "      gap: 12px;\n",
              "    }\n",
              "\n",
              "    .colab-df-convert {\n",
              "      background-color: #E8F0FE;\n",
              "      border: none;\n",
              "      border-radius: 50%;\n",
              "      cursor: pointer;\n",
              "      display: none;\n",
              "      fill: #1967D2;\n",
              "      height: 32px;\n",
              "      padding: 0 0 0 0;\n",
              "      width: 32px;\n",
              "    }\n",
              "\n",
              "    .colab-df-convert:hover {\n",
              "      background-color: #E2EBFA;\n",
              "      box-shadow: 0px 1px 2px rgba(60, 64, 67, 0.3), 0px 1px 3px 1px rgba(60, 64, 67, 0.15);\n",
              "      fill: #174EA6;\n",
              "    }\n",
              "\n",
              "    [theme=dark] .colab-df-convert {\n",
              "      background-color: #3B4455;\n",
              "      fill: #D2E3FC;\n",
              "    }\n",
              "\n",
              "    [theme=dark] .colab-df-convert:hover {\n",
              "      background-color: #434B5C;\n",
              "      box-shadow: 0px 1px 3px 1px rgba(0, 0, 0, 0.15);\n",
              "      filter: drop-shadow(0px 1px 2px rgba(0, 0, 0, 0.3));\n",
              "      fill: #FFFFFF;\n",
              "    }\n",
              "  </style>\n",
              "\n",
              "      <script>\n",
              "        const buttonEl =\n",
              "          document.querySelector('#df-699c9a4c-1897-4d9e-98b1-873c101fedcb button.colab-df-convert');\n",
              "        buttonEl.style.display =\n",
              "          google.colab.kernel.accessAllowed ? 'block' : 'none';\n",
              "\n",
              "        async function convertToInteractive(key) {\n",
              "          const element = document.querySelector('#df-699c9a4c-1897-4d9e-98b1-873c101fedcb');\n",
              "          const dataTable =\n",
              "            await google.colab.kernel.invokeFunction('convertToInteractive',\n",
              "                                                     [key], {});\n",
              "          if (!dataTable) return;\n",
              "\n",
              "          const docLinkHtml = 'Like what you see? Visit the ' +\n",
              "            '<a target=\"_blank\" href=https://colab.research.google.com/notebooks/data_table.ipynb>data table notebook</a>'\n",
              "            + ' to learn more about interactive tables.';\n",
              "          element.innerHTML = '';\n",
              "          dataTable['output_type'] = 'display_data';\n",
              "          await google.colab.output.renderOutput(dataTable, element);\n",
              "          const docLink = document.createElement('div');\n",
              "          docLink.innerHTML = docLinkHtml;\n",
              "          element.appendChild(docLink);\n",
              "        }\n",
              "      </script>\n",
              "    </div>\n",
              "  </div>\n",
              "  "
            ]
          },
          "metadata": {},
          "execution_count": 210
        }
      ]
    },
    {
      "cell_type": "code",
      "source": [
        "print(listings[\"extra_people\"].isna().sum())\n",
        "listings[\"extra_people\"].unique()"
      ],
      "metadata": {
        "id": "PhfgFqae5fjq",
        "colab": {
          "base_uri": "https://localhost:8080/"
        },
        "outputId": "21a0ace4-4e9f-487e-bde6-bcc39e698784"
      },
      "execution_count": null,
      "outputs": [
        {
          "output_type": "stream",
          "name": "stdout",
          "text": [
            "0\n"
          ]
        },
        {
          "output_type": "execute_result",
          "data": {
            "text/plain": [
              "array(['$0.00', '$20.00', '$25.00', '$15.00', '$10.00', '$30.00',\n",
              "       '$35.00', '$100.00', '$5.00', '$33.00', '$50.00', '$39.00',\n",
              "       '$12.00', '$7.00', '$40.00', '$36.00', '$9.00', '$34.00', '$45.00',\n",
              "       '$19.00', '$22.00', '$60.00', '$59.00', '$49.00', '$18.00',\n",
              "       '$120.00', '$17.00', '$62.00', '$150.00', '$37.00', '$200.00',\n",
              "       '$80.00', '$44.00', '$8.00', '$42.00', '$70.00', '$65.00',\n",
              "       '$77.00', '$69.00', '$27.00', '$75.00', '$29.00', '$16.00',\n",
              "       '$58.00', '$125.00', '$89.00', '$6.00', '$85.00', '$55.00',\n",
              "       '$88.00', '$24.00'], dtype=object)"
            ]
          },
          "metadata": {},
          "execution_count": 57
        }
      ]
    },
    {
      "cell_type": "code",
      "source": [
        "print(listings[\"calendar_updated\"].isna().sum())\n",
        "listings[\"calendar_updated\"].unique()"
      ],
      "metadata": {
        "id": "KxL9BSfz5m8k",
        "colab": {
          "base_uri": "https://localhost:8080/"
        },
        "outputId": "1d87c245-a7e5-4019-da3e-45f26a682fa6"
      },
      "execution_count": null,
      "outputs": [
        {
          "output_type": "stream",
          "name": "stdout",
          "text": [
            "0\n"
          ]
        },
        {
          "output_type": "execute_result",
          "data": {
            "text/plain": [
              "array(['2 weeks ago', 'a week ago', '5 days ago', '3 days ago',\n",
              "       'yesterday', 'today', '6 weeks ago', '3 months ago', '2 days ago',\n",
              "       '2 months ago', '5 months ago', '3 weeks ago', '10 months ago',\n",
              "       '4 weeks ago', '1 week ago', '6 days ago', '4 days ago',\n",
              "       '12 months ago', '6 months ago', '8 months ago', '4 months ago',\n",
              "       '5 weeks ago', '15 months ago', '7 weeks ago', '7 months ago',\n",
              "       '9 months ago', '16 months ago', '11 months ago', '14 months ago',\n",
              "       '13 months ago', '22 months ago', 'never', '17 months ago',\n",
              "       '25 months ago', '30 months ago', '18 months ago', '23 months ago',\n",
              "       '20 months ago'], dtype=object)"
            ]
          },
          "metadata": {},
          "execution_count": 58
        }
      ]
    },
    {
      "cell_type": "code",
      "source": [
        "print(listings[\"has_availability\"].isna().sum())\n",
        "listings[\"has_availability\"].unique()"
      ],
      "metadata": {
        "id": "Rd1-2Luq6MWf",
        "colab": {
          "base_uri": "https://localhost:8080/"
        },
        "outputId": "74fafeb0-38f0-4fa7-e544-a59b8ff817be"
      },
      "execution_count": null,
      "outputs": [
        {
          "output_type": "stream",
          "name": "stdout",
          "text": [
            "3585\n"
          ]
        },
        {
          "output_type": "execute_result",
          "data": {
            "text/plain": [
              "array([nan])"
            ]
          },
          "metadata": {},
          "execution_count": 59
        }
      ]
    },
    {
      "cell_type": "code",
      "source": [
        "print(listings[\"availability_30\"].isna().sum())\n",
        "listings[\"availability_30\"].unique()\n"
      ],
      "metadata": {
        "id": "v-QcV8W16dx2",
        "colab": {
          "base_uri": "https://localhost:8080/"
        },
        "outputId": "fc01f7c8-0814-4711-9011-5cf3efca7f65"
      },
      "execution_count": null,
      "outputs": [
        {
          "output_type": "stream",
          "name": "stdout",
          "text": [
            "0\n"
          ]
        },
        {
          "output_type": "execute_result",
          "data": {
            "text/plain": [
              "array([ 0, 26, 19,  6, 13,  5, 22, 30, 12, 20, 16,  8, 11,  4, 21, 27,  7,\n",
              "       18,  2, 17,  3,  1, 28, 14,  9, 29, 15, 23, 25, 10, 24])"
            ]
          },
          "metadata": {},
          "execution_count": 60
        }
      ]
    },
    {
      "cell_type": "code",
      "source": [
        "print(listings[\"availability_60\"].isna().sum())\n",
        "listings[\"availability_60\"].unique()"
      ],
      "metadata": {
        "id": "f-ANz5t-6igQ",
        "colab": {
          "base_uri": "https://localhost:8080/"
        },
        "outputId": "150e56f5-122b-4e8f-d926-147949ff9bf9"
      },
      "execution_count": null,
      "outputs": [
        {
          "output_type": "stream",
          "name": "stdout",
          "text": [
            "0\n"
          ]
        },
        {
          "output_type": "execute_result",
          "data": {
            "text/plain": [
              "array([ 0, 54, 46, 16, 34, 28, 39, 60, 42, 50, 38, 36, 17, 14, 27,  7, 51,\n",
              "        5, 48, 20, 57, 56,  6,  8, 41, 43, 40, 10, 24, 23,  3, 13, 35, 32,\n",
              "       12,  1, 58, 37, 11, 53,  4, 29, 26, 59,  2, 25, 33, 44, 31,  9, 21,\n",
              "       15, 18, 22, 19, 47, 45, 55, 52, 30, 49])"
            ]
          },
          "metadata": {},
          "execution_count": 61
        }
      ]
    },
    {
      "cell_type": "code",
      "source": [
        "print(listings.iloc[0])"
      ],
      "metadata": {
        "id": "m_evUjcq6rhE",
        "colab": {
          "base_uri": "https://localhost:8080/"
        },
        "outputId": "95571252-24db-4ed5-d781-966d4cf5dc95"
      },
      "execution_count": null,
      "outputs": [
        {
          "output_type": "stream",
          "name": "stdout",
          "text": [
            "id                                                                           12147973\n",
            "listing_url                                     https://www.airbnb.com/rooms/12147973\n",
            "scrape_id                                                              20160906204935\n",
            "last_scraped                                                               2016-09-07\n",
            "name                                                       Sunny Bungalow in the City\n",
            "summary                             Cozy, sunny, family home.  Master bedroom high...\n",
            "space                               The house has an open and cozy feel at the sam...\n",
            "description                         Cozy, sunny, family home.  Master bedroom high...\n",
            "experiences_offered                                                              none\n",
            "neighborhood_overview               Roslindale is quiet, convenient and friendly. ...\n",
            "notes                                                                             NaN\n",
            "transit                             The bus stop is 2 blocks away, and frequent. B...\n",
            "access                              You will have access to 2 bedrooms, a living r...\n",
            "interaction                                                                       NaN\n",
            "house_rules                         Clean up and treat the home the way you'd like...\n",
            "thumbnail_url                       https://a2.muscache.com/im/pictures/c0842db1-e...\n",
            "medium_url                          https://a2.muscache.com/im/pictures/c0842db1-e...\n",
            "picture_url                         https://a2.muscache.com/im/pictures/c0842db1-e...\n",
            "xl_picture_url                      https://a2.muscache.com/im/pictures/c0842db1-e...\n",
            "host_id                                                                      31303940\n",
            "host_url                                   https://www.airbnb.com/users/show/31303940\n",
            "host_name                                                                    Virginia\n",
            "host_since                                                                 2015-04-15\n",
            "host_location                                    Boston, Massachusetts, United States\n",
            "host_about                          We are country and city connecting in our deck...\n",
            "host_response_time                                                                NaN\n",
            "host_response_rate                                                                NaN\n",
            "host_acceptance_rate                                                              NaN\n",
            "host_is_superhost                                                                   f\n",
            "host_thumbnail_url                  https://a2.muscache.com/im/pictures/5936fef0-b...\n",
            "host_picture_url                    https://a2.muscache.com/im/pictures/5936fef0-b...\n",
            "host_neighbourhood                                                         Roslindale\n",
            "host_listings_count                                                                 1\n",
            "host_total_listings_count                                                           1\n",
            "host_verifications                          ['email', 'phone', 'facebook', 'reviews']\n",
            "host_has_profile_pic                                                                t\n",
            "host_identity_verified                                                              f\n",
            "street                                  Birch Street, Boston, MA 02131, United States\n",
            "neighbourhood                                                              Roslindale\n",
            "neighbourhood_cleansed                                                     Roslindale\n",
            "neighbourhood_group_cleansed                                                      NaN\n",
            "city                                                                           Boston\n",
            "state                                                                              MA\n",
            "zipcode                                                                         02131\n",
            "market                                                                         Boston\n",
            "smart_location                                                             Boston, MA\n",
            "country_code                                                                       US\n",
            "country                                                                 United States\n",
            "latitude                                                                 42.282618796\n",
            "longitude                                                               -71.133067929\n",
            "is_location_exact                                                                   t\n",
            "property_type                                                                   House\n",
            "room_type                                                             Entire home/apt\n",
            "accommodates                                                                        4\n",
            "bathrooms                                                                 1.500000000\n",
            "bedrooms                                                                  2.000000000\n",
            "beds                                                                      3.000000000\n",
            "bed_type                                                                     Real Bed\n",
            "amenities                           {TV,\"Wireless Internet\",Kitchen,\"Free Parking ...\n",
            "square_feet                                                                       NaN\n",
            "price                                                                         $250.00\n",
            "weekly_price                                                                      NaN\n",
            "monthly_price                                                                     NaN\n",
            "security_deposit                                                                  NaN\n",
            "cleaning_fee                                                                   $35.00\n",
            "guests_included                                                                     1\n",
            "extra_people                                                                    $0.00\n",
            "minimum_nights                                                                      2\n",
            "maximum_nights                                                                   1125\n",
            "calendar_updated                                                          2 weeks ago\n",
            "has_availability                                                                  NaN\n",
            "availability_30                                                                     0\n",
            "availability_60                                                                     0\n",
            "availability_90                                                                     0\n",
            "availability_365                                                                    0\n",
            "calendar_last_scraped                                                      2016-09-06\n",
            "number_of_reviews                                                                   0\n",
            "first_review                                                                      NaN\n",
            "last_review                                                                       NaN\n",
            "review_scores_rating                                                              NaN\n",
            "review_scores_accuracy                                                            NaN\n",
            "review_scores_cleanliness                                                         NaN\n",
            "review_scores_checkin                                                             NaN\n",
            "review_scores_communication                                                       NaN\n",
            "review_scores_location                                                            NaN\n",
            "review_scores_value                                                               NaN\n",
            "requires_license                                                                    f\n",
            "license                                                                           NaN\n",
            "jurisdiction_names                                                                NaN\n",
            "instant_bookable                                                                    f\n",
            "cancellation_policy                                                          moderate\n",
            "require_guest_profile_picture                                                       f\n",
            "require_guest_phone_verification                                                    f\n",
            "calculated_host_listings_count                                                      1\n",
            "reviews_per_month                                                                 NaN\n",
            "Name: 0, dtype: object\n"
          ]
        }
      ]
    },
    {
      "cell_type": "code",
      "source": [
        "print(listings[\"first_review\"].isna().sum())\n",
        "listings[\"first_review\"].unique()[0:15]"
      ],
      "metadata": {
        "id": "pPAGZ6MX81G7",
        "colab": {
          "base_uri": "https://localhost:8080/"
        },
        "outputId": "4d5f4dd8-926a-4361-e744-d86418caaeaa"
      },
      "execution_count": 211,
      "outputs": [
        {
          "output_type": "stream",
          "name": "stdout",
          "text": [
            "756\n"
          ]
        },
        {
          "output_type": "execute_result",
          "data": {
            "text/plain": [
              "array([nan, '2014-06-01', '2009-07-19', '2016-08-28', '2015-08-18',\n",
              "       '2016-04-20', '2015-07-08', '2014-05-18', '2015-09-10',\n",
              "       '2014-01-02', '2016-06-17', '2013-10-21', '2016-07-23',\n",
              "       '2016-06-27', '2015-09-01'], dtype=object)"
            ]
          },
          "metadata": {},
          "execution_count": 211
        }
      ]
    },
    {
      "cell_type": "code",
      "source": [
        "# Check if all rows have unique IDs\n",
        "listings.id.nunique()"
      ],
      "metadata": {
        "id": "Ic0Wl1c-AHfG",
        "colab": {
          "base_uri": "https://localhost:8080/"
        },
        "outputId": "3de0769e-7fb0-43f1-9da6-7439ca831a16"
      },
      "execution_count": null,
      "outputs": [
        {
          "output_type": "execute_result",
          "data": {
            "text/plain": [
              "3585"
            ]
          },
          "metadata": {},
          "execution_count": 64
        }
      ]
    },
    {
      "cell_type": "code",
      "source": [
        "# Are there less host ids?\n",
        "listings.host_id.nunique()"
      ],
      "metadata": {
        "id": "o0gUf_MeApGC",
        "colab": {
          "base_uri": "https://localhost:8080/"
        },
        "outputId": "1a8b9050-6663-44c8-b10f-34e2c25c09b8"
      },
      "execution_count": null,
      "outputs": [
        {
          "output_type": "execute_result",
          "data": {
            "text/plain": [
              "2181"
            ]
          },
          "metadata": {},
          "execution_count": 65
        }
      ]
    },
    {
      "cell_type": "code",
      "source": [
        "# Check response times\n",
        "listings.host_response_time.nunique()\n",
        "print(listings.host_response_time.nunique())"
      ],
      "metadata": {
        "id": "FAGWXCExKmfe",
        "colab": {
          "base_uri": "https://localhost:8080/"
        },
        "outputId": "27a75d1a-4aaa-4db8-fac5-a6dfd646e1b5"
      },
      "execution_count": null,
      "outputs": [
        {
          "output_type": "stream",
          "name": "stdout",
          "text": [
            "4\n"
          ]
        }
      ]
    },
    {
      "cell_type": "code",
      "source": [
        "listings.host_neighbourhood.nunique()"
      ],
      "metadata": {
        "id": "bwNtesFtLYvQ",
        "colab": {
          "base_uri": "https://localhost:8080/"
        },
        "outputId": "d3026449-20db-4f96-c53c-48760eb536da"
      },
      "execution_count": null,
      "outputs": [
        {
          "output_type": "execute_result",
          "data": {
            "text/plain": [
              "53"
            ]
          },
          "metadata": {},
          "execution_count": 67
        }
      ]
    },
    {
      "cell_type": "code",
      "source": [
        "# Check values for city\n",
        "listings.city.value_counts()"
      ],
      "metadata": {
        "id": "7IEZ50M0OR2d",
        "colab": {
          "base_uri": "https://localhost:8080/"
        },
        "outputId": "be6df916-9a65-4b85-d46b-af3807714040"
      },
      "execution_count": null,
      "outputs": [
        {
          "output_type": "execute_result",
          "data": {
            "text/plain": [
              "Boston                       3381\n",
              "Roxbury Crossing               24\n",
              "Somerville                     19\n",
              "Jamaica Plain                  18\n",
              "Brookline                      18\n",
              "Cambridge                      16\n",
              "Dorchester                     15\n",
              "Brighton                       15\n",
              "Charlestown                    15\n",
              "Allston                        12\n",
              "Roslindale                      6\n",
              "West Roxbury                    5\n",
              "ROXBURY CROSSING                4\n",
              "Mattapan                        3\n",
              "East Boston                     3\n",
              "ALLSTON                         2\n",
              "South Boston                    2\n",
              "Jamaica Plain, Boston           2\n",
              "Hyde Park                       2\n",
              "Jamaica Plain                   2\n",
              "Boston, Massachusetts, US       2\n",
              "Boston                          1\n",
              "Roslindale, Boston              1\n",
              "dorchester, boston              1\n",
              "Milton                          1\n",
              "Jamaica Plain (Boston)          1\n",
              "Newton                          1\n",
              "波士顿                             1\n",
              "Jamaica Plain, MA               1\n",
              "Watertown                       1\n",
              "Boston (Jamaica Plain)          1\n",
              "Boston (Charlestown)            1\n",
              "Jamaica plain                   1\n",
              "east Boston                     1\n",
              "Mission Hill, Boston            1\n",
              "boston                          1\n",
              "South End, Boston               1\n",
              "Brighton                        1\n",
              "Name: city, dtype: int64"
            ]
          },
          "metadata": {},
          "execution_count": 68
        }
      ]
    },
    {
      "cell_type": "code",
      "source": [
        "listings[\"instant_bookable\"].value_counts()"
      ],
      "metadata": {
        "id": "eImJmEGdA7pi",
        "colab": {
          "base_uri": "https://localhost:8080/"
        },
        "outputId": "0b703112-ad84-4743-9d08-38b93c67e653"
      },
      "execution_count": null,
      "outputs": [
        {
          "output_type": "execute_result",
          "data": {
            "text/plain": [
              "f    2991\n",
              "t     594\n",
              "Name: instant_bookable, dtype: int64"
            ]
          },
          "metadata": {},
          "execution_count": 69
        }
      ]
    },
    {
      "cell_type": "code",
      "source": [
        "print(listings[\"cancellation_policy\"].unique())\n",
        "print(listings[\"cancellation_policy\"].value_counts())"
      ],
      "metadata": {
        "id": "z7PKyyakBUJM",
        "colab": {
          "base_uri": "https://localhost:8080/"
        },
        "outputId": "11697f91-d2f1-47e1-b165-e4e03713ed55"
      },
      "execution_count": null,
      "outputs": [
        {
          "output_type": "stream",
          "name": "stdout",
          "text": [
            "['moderate' 'flexible' 'strict' 'super_strict_30']\n",
            "strict             1582\n",
            "flexible            999\n",
            "moderate            919\n",
            "super_strict_30      85\n",
            "Name: cancellation_policy, dtype: int64\n"
          ]
        }
      ]
    },
    {
      "cell_type": "code",
      "source": [
        "print(listings[\"calculated_host_listings_count\"].unique())\n",
        "print(listings[\"calculated_host_listings_count\"].value_counts())"
      ],
      "metadata": {
        "id": "E6NV5AfKBpfI",
        "colab": {
          "base_uri": "https://localhost:8080/"
        },
        "outputId": "ea04b633-bfa1-43a2-9a11-43dfc2fbc423"
      },
      "execution_count": null,
      "outputs": [
        {
          "output_type": "stream",
          "name": "stdout",
          "text": [
            "[  1   3   2   4   6  79  17   7 136  10  61  11   5  13  58  25  15  24\n",
            "  20  50  12  19  14   8   9]\n",
            "1      1768\n",
            "2       466\n",
            "3       213\n",
            "4       148\n",
            "136     136\n",
            "5        85\n",
            "6        84\n",
            "79       79\n",
            "24       72\n",
            "7        70\n",
            "61       61\n",
            "58       58\n",
            "10       50\n",
            "50       50\n",
            "20       40\n",
            "11       33\n",
            "15       30\n",
            "25       25\n",
            "8        24\n",
            "19       19\n",
            "9        18\n",
            "17       17\n",
            "14       14\n",
            "13       13\n",
            "12       12\n",
            "Name: calculated_host_listings_count, dtype: int64\n"
          ]
        }
      ]
    },
    {
      "cell_type": "code",
      "source": [
        "listings[\"house_rules\"].iloc[0]"
      ],
      "metadata": {
        "id": "yvsli6ykPd0r",
        "colab": {
          "base_uri": "https://localhost:8080/",
          "height": 53
        },
        "outputId": "b6f372a3-f0da-4306-c37a-07225228b730"
      },
      "execution_count": null,
      "outputs": [
        {
          "output_type": "execute_result",
          "data": {
            "text/plain": [
              "\"Clean up and treat the home the way you'd like your home to be treated.  No smoking.\""
            ],
            "application/vnd.google.colaboratory.intrinsic+json": {
              "type": "string"
            }
          },
          "metadata": {},
          "execution_count": 72
        }
      ]
    },
    {
      "cell_type": "code",
      "source": [
        "print(listings[\"property_type\"].unique())\n",
        "listings[\"property_type\"].isna().sum()"
      ],
      "metadata": {
        "id": "0DWfe1S1Pz4f",
        "colab": {
          "base_uri": "https://localhost:8080/"
        },
        "outputId": "f40c892f-a8f9-4c6a-de4e-d29fd42a5511"
      },
      "execution_count": null,
      "outputs": [
        {
          "output_type": "stream",
          "name": "stdout",
          "text": [
            "['House' 'Apartment' 'Condominium' 'Villa' 'Bed & Breakfast' 'Townhouse'\n",
            " 'Entire Floor' 'Loft' 'Guesthouse' 'Boat' 'Dorm' 'Other' nan 'Camper/RV']\n"
          ]
        },
        {
          "output_type": "execute_result",
          "data": {
            "text/plain": [
              "3"
            ]
          },
          "metadata": {},
          "execution_count": 73
        }
      ]
    },
    {
      "cell_type": "code",
      "source": [
        "print(listings[\"room_type\"].unique())\n",
        "listings[\"room_type\"].isna().sum()"
      ],
      "metadata": {
        "id": "uzVgdemkP3n5",
        "colab": {
          "base_uri": "https://localhost:8080/"
        },
        "outputId": "93f683e1-d495-4647-f17f-7bad66f523e4"
      },
      "execution_count": null,
      "outputs": [
        {
          "output_type": "stream",
          "name": "stdout",
          "text": [
            "['Entire home/apt' 'Private room' 'Shared room']\n"
          ]
        },
        {
          "output_type": "execute_result",
          "data": {
            "text/plain": [
              "0"
            ]
          },
          "metadata": {},
          "execution_count": 74
        }
      ]
    },
    {
      "cell_type": "code",
      "source": [
        "print(listings[\"accommodates\"].unique())\n",
        "listings[\"accommodates\"].isna().sum()"
      ],
      "metadata": {
        "id": "A1_xjkkPP4u2",
        "colab": {
          "base_uri": "https://localhost:8080/"
        },
        "outputId": "c28b7284-46d4-42ed-f32f-f63febfa92ab"
      },
      "execution_count": null,
      "outputs": [
        {
          "output_type": "stream",
          "name": "stdout",
          "text": [
            "[ 4  2  3  5  1  8  6 16  7  9 10 12 11 14]\n"
          ]
        },
        {
          "output_type": "execute_result",
          "data": {
            "text/plain": [
              "0"
            ]
          },
          "metadata": {},
          "execution_count": 75
        }
      ]
    },
    {
      "cell_type": "code",
      "source": [
        "print(listings[\"bathrooms\"].unique())\n",
        "listings[\"bathrooms\"].isna().sum()"
      ],
      "metadata": {
        "id": "6M1skGkSP6V_",
        "colab": {
          "base_uri": "https://localhost:8080/"
        },
        "outputId": "52e5edc3-933e-4080-83b6-ab4ecf234078"
      },
      "execution_count": null,
      "outputs": [
        {
          "output_type": "stream",
          "name": "stdout",
          "text": [
            "[1.5 1.  2.  0.  2.5 3.5 nan 3.  0.5 4.5 4.  5.  6. ]\n"
          ]
        },
        {
          "output_type": "execute_result",
          "data": {
            "text/plain": [
              "14"
            ]
          },
          "metadata": {},
          "execution_count": 76
        }
      ]
    },
    {
      "cell_type": "code",
      "source": [
        "print(listings[\"bedrooms\"].unique())\n",
        "listings[\"bedrooms\"].isna().sum()"
      ],
      "metadata": {
        "id": "wVOhnopeUAAN",
        "colab": {
          "base_uri": "https://localhost:8080/"
        },
        "outputId": "fb8306ef-24e9-4498-b284-61a6dcf5fbb6"
      },
      "execution_count": null,
      "outputs": [
        {
          "output_type": "stream",
          "name": "stdout",
          "text": [
            "[ 2.  1.  0.  3.  4.  5. nan]\n"
          ]
        },
        {
          "output_type": "execute_result",
          "data": {
            "text/plain": [
              "10"
            ]
          },
          "metadata": {},
          "execution_count": 77
        }
      ]
    },
    {
      "cell_type": "code",
      "source": [
        "print(listings[\"beds\"].unique())\n",
        "listings[\"beds\"].isna().sum()"
      ],
      "metadata": {
        "id": "bSWGctyuacKs",
        "colab": {
          "base_uri": "https://localhost:8080/"
        },
        "outputId": "60f59152-e1b5-477f-85fd-fae971624e13"
      },
      "execution_count": null,
      "outputs": [
        {
          "output_type": "stream",
          "name": "stdout",
          "text": [
            "[ 3.  1.  2.  5.  7.  4.  6. nan  9.  8.  0. 16.]\n"
          ]
        },
        {
          "output_type": "execute_result",
          "data": {
            "text/plain": [
              "9"
            ]
          },
          "metadata": {},
          "execution_count": 78
        }
      ]
    },
    {
      "cell_type": "code",
      "source": [
        "print(listings[\"bed_type\"].unique())\n",
        "listings[\"bed_type\"].isna().sum()"
      ],
      "metadata": {
        "id": "cEZ7-EcZab7V",
        "colab": {
          "base_uri": "https://localhost:8080/"
        },
        "outputId": "9b43207b-2654-4fca-aad1-507f69d9c093"
      },
      "execution_count": null,
      "outputs": [
        {
          "output_type": "stream",
          "name": "stdout",
          "text": [
            "['Real Bed' 'Pull-out Sofa' 'Futon' 'Airbed' 'Couch']\n"
          ]
        },
        {
          "output_type": "execute_result",
          "data": {
            "text/plain": [
              "0"
            ]
          },
          "metadata": {},
          "execution_count": 79
        }
      ]
    },
    {
      "cell_type": "code",
      "source": [
        "listings[listings[\"beds\"] == 9].iloc[0]"
      ],
      "metadata": {
        "id": "fc4hy0rga79f",
        "colab": {
          "base_uri": "https://localhost:8080/"
        },
        "outputId": "6adfa2ec-9ea9-45c3-c669-8411653cb2dd"
      },
      "execution_count": null,
      "outputs": [
        {
          "output_type": "execute_result",
          "data": {
            "text/plain": [
              "id                                                                           14813006\n",
              "listing_url                                     https://www.airbnb.com/rooms/14813006\n",
              "scrape_id                                                              20160906204935\n",
              "last_scraped                                                               2016-09-07\n",
              "name                                             MODERN 3BR/2B apartment near Fenway!\n",
              "summary                             Hey there! =) Looking for an awesome place to ...\n",
              "space                               No parties thank you. Our 2 floor home is loca...\n",
              "description                         Hey there! =) Looking for an awesome place to ...\n",
              "experiences_offered                                                              none\n",
              "neighborhood_overview               No parties thank you. The neighborhood is tota...\n",
              "notes                                                              No parties please!\n",
              "transit                             No parties thank you. The subway (we call it T...\n",
              "access                              We have a nice electronic lock that will let y...\n",
              "interaction                         No parties thank you. We all live in Boston bu...\n",
              "house_rules                                                                       NaN\n",
              "thumbnail_url                       https://a2.muscache.com/im/pictures/29779d64-7...\n",
              "medium_url                          https://a2.muscache.com/im/pictures/29779d64-7...\n",
              "picture_url                         https://a2.muscache.com/im/pictures/29779d64-7...\n",
              "xl_picture_url                      https://a2.muscache.com/im/pictures/29779d64-7...\n",
              "host_id                                                                      19966591\n",
              "host_url                                   https://www.airbnb.com/users/show/19966591\n",
              "host_name                                                          Mari, Fer, & Diego\n",
              "host_since                                                                 2014-08-13\n",
              "host_location                                 Cambridge, Massachusetts, United States\n",
              "host_about                          We are two brothers and one good friend! We ca...\n",
              "host_response_time                                                     within an hour\n",
              "host_response_rate                                                               100%\n",
              "host_acceptance_rate                                                             100%\n",
              "host_is_superhost                                                                   t\n",
              "host_thumbnail_url                  https://a2.muscache.com/im/pictures/5e3c43f7-b...\n",
              "host_picture_url                    https://a2.muscache.com/im/pictures/5e3c43f7-b...\n",
              "host_neighbourhood                                                          Cambridge\n",
              "host_listings_count                                                                 6\n",
              "host_total_listings_count                                                           6\n",
              "host_verifications                   ['email', 'phone', 'facebook', 'reviews', 'kba']\n",
              "host_has_profile_pic                                                                t\n",
              "host_identity_verified                                                              t\n",
              "street                              Beech Glen Street, Boston, MA 02119, United St...\n",
              "neighbourhood                                                                 Roxbury\n",
              "neighbourhood_cleansed                                                        Roxbury\n",
              "neighbourhood_group_cleansed                                                      NaN\n",
              "city                                                                           Boston\n",
              "state                                                                              MA\n",
              "zipcode                                                                         02119\n",
              "market                                                                         Boston\n",
              "smart_location                                                             Boston, MA\n",
              "country_code                                                                       US\n",
              "country                                                                 United States\n",
              "latitude                                                                 42.325527664\n",
              "longitude                                                               -71.094041385\n",
              "is_location_exact                                                                   t\n",
              "property_type                                                               Apartment\n",
              "room_type                                                             Entire home/apt\n",
              "accommodates                                                                       14\n",
              "bathrooms                                                                 2.000000000\n",
              "bedrooms                                                                  3.000000000\n",
              "beds                                                                      9.000000000\n",
              "bed_type                                                                     Real Bed\n",
              "amenities                           {\"Wireless Internet\",\"Air Conditioning\",Kitche...\n",
              "square_feet                                                                       NaN\n",
              "price                                                                         $536.00\n",
              "weekly_price                                                                      NaN\n",
              "monthly_price                                                                     NaN\n",
              "security_deposit                                                                  NaN\n",
              "cleaning_fee                                                                  $125.00\n",
              "guests_included                                                                    12\n",
              "extra_people                                                                   $15.00\n",
              "minimum_nights                                                                      1\n",
              "maximum_nights                                                                   1125\n",
              "calendar_updated                                                                today\n",
              "has_availability                                                                  NaN\n",
              "availability_30                                                                    13\n",
              "availability_60                                                                    32\n",
              "availability_90                                                                    62\n",
              "availability_365                                                                  337\n",
              "calendar_last_scraped                                                      2016-09-06\n",
              "number_of_reviews                                                                   1\n",
              "first_review                                                               2016-09-05\n",
              "last_review                                                                2016-09-05\n",
              "review_scores_rating                                                    100.000000000\n",
              "review_scores_accuracy                                                   10.000000000\n",
              "review_scores_cleanliness                                                10.000000000\n",
              "review_scores_checkin                                                    10.000000000\n",
              "review_scores_communication                                              10.000000000\n",
              "review_scores_location                                                   10.000000000\n",
              "review_scores_value                                                      10.000000000\n",
              "requires_license                                                                    f\n",
              "license                                                                           NaN\n",
              "jurisdiction_names                                                                NaN\n",
              "instant_bookable                                                                    t\n",
              "cancellation_policy                                                          flexible\n",
              "require_guest_profile_picture                                                       f\n",
              "require_guest_phone_verification                                                    f\n",
              "calculated_host_listings_count                                                      1\n",
              "reviews_per_month                                                         1.000000000\n",
              "Name: 811, dtype: object"
            ]
          },
          "metadata": {},
          "execution_count": 80
        }
      ]
    },
    {
      "cell_type": "code",
      "source": [
        "print(listings[\"amenities\"].unique())\n",
        "listings[\"amenities\"].isna().sum()"
      ],
      "metadata": {
        "id": "V95dWzKhbww6",
        "colab": {
          "base_uri": "https://localhost:8080/"
        },
        "outputId": "e90ce169-2cf6-4059-fd92-d2edd316405a"
      },
      "execution_count": null,
      "outputs": [
        {
          "output_type": "stream",
          "name": "stdout",
          "text": [
            "['{TV,\"Wireless Internet\",Kitchen,\"Free Parking on Premises\",\"Pets live on this property\",Dog(s),Heating,\"Family/Kid Friendly\",Washer,Dryer,\"Smoke Detector\",\"Fire Extinguisher\",Essentials,Shampoo,\"Laptop Friendly Workspace\"}'\n",
            " '{TV,Internet,\"Wireless Internet\",\"Air Conditioning\",Kitchen,\"Pets Allowed\",\"Pets live on this property\",Dog(s),Heating,\"Family/Kid Friendly\",Washer,Dryer,\"Smoke Detector\",\"Carbon Monoxide Detector\",\"Fire Extinguisher\",Essentials,Shampoo,\"Lock on Bedroom Door\",Hangers,\"Hair Dryer\",Iron}'\n",
            " '{TV,\"Cable TV\",\"Wireless Internet\",\"Air Conditioning\",Kitchen,\"Free Parking on Premises\",Heating,Washer,Dryer,\"Smoke Detector\",\"Carbon Monoxide Detector\",\"First Aid Kit\",\"Safety Card\",Essentials,Shampoo,\"Lock on Bedroom Door\",\"translation missing: en.hosting_amenity_49\",\"translation missing: en.hosting_amenity_50\"}'\n",
            " ...\n",
            " '{Internet,\"Wireless Internet\",\"Air Conditioning\",Kitchen,\"Free Parking on Premises\",Heating,\"Family/Kid Friendly\",\"Smoke Detector\",\"Carbon Monoxide Detector\",\"Fire Extinguisher\",Essentials,Shampoo,\"Lock on Bedroom Door\",\"24-Hour Check-in\",Hangers,\"Hair Dryer\",Iron,\"Laptop Friendly Workspace\"}'\n",
            " '{TV,Internet,\"Wireless Internet\",\"Air Conditioning\",Kitchen,\"Free Parking on Premises\",\"Smoking Allowed\",\"Pets Allowed\",Gym,\"Pets live on this property\",\"Elevator in Building\",Heating,\"Family/Kid Friendly\",Washer,Dryer,\"Smoke Detector\",\"Carbon Monoxide Detector\",\"Fire Extinguisher\",Essentials,Shampoo,\"24-Hour Check-in\",Hangers,\"Hair Dryer\",\"Laptop Friendly Workspace\"}'\n",
            " '{Kitchen,Gym,\"Family/Kid Friendly\",Washer,Dryer,Essentials,Hangers,\"translation missing: en.hosting_amenity_50\"}']\n"
          ]
        },
        {
          "output_type": "execute_result",
          "data": {
            "text/plain": [
              "0"
            ]
          },
          "metadata": {},
          "execution_count": 81
        }
      ]
    },
    {
      "cell_type": "code",
      "source": [
        "print(listings[\"square_feet\"].unique())\n",
        "print(listings[\"square_feet\"].isna().sum())\n",
        "listings[\"square_feet\"][50]"
      ],
      "metadata": {
        "id": "PUMPJTt8cNi2",
        "colab": {
          "base_uri": "https://localhost:8080/"
        },
        "outputId": "ba0a92e0-e4b6-4908-8ef1-af0bac700457"
      },
      "execution_count": null,
      "outputs": [
        {
          "output_type": "stream",
          "name": "stdout",
          "text": [
            "[     nan 1.20e+01 2.00e+02 9.00e+01 1.00e+03 1.70e+03 2.20e+03 1.50e+03\n",
            " 2.30e+03 2.00e+03 1.20e+03 0.00e+00 2.25e+02 6.50e+02 7.50e+02 4.50e+02\n",
            " 3.40e+02 9.20e+02 6.30e+02 8.50e+02 7.00e+02 9.00e+02 5.00e+02 1.10e+03\n",
            " 1.30e+03 8.00e+02 8.75e+02 9.25e+02 5.80e+02 4.00e+02 1.05e+03 2.00e+00\n",
            " 6.75e+02 1.20e+02 1.90e+02 2.40e+03 1.60e+03 4.20e+02]\n",
            "3529\n"
          ]
        },
        {
          "output_type": "execute_result",
          "data": {
            "text/plain": [
              "90.0"
            ]
          },
          "metadata": {},
          "execution_count": 82
        }
      ]
    },
    {
      "cell_type": "code",
      "source": [
        "print(listings[\"price\"].unique()[0:15])\n",
        "listings[\"price\"].isna().sum()"
      ],
      "metadata": {
        "id": "bgJ7eyc1czCR",
        "colab": {
          "base_uri": "https://localhost:8080/"
        },
        "outputId": "1fe084e2-5fd9-49dc-ec1d-f03b2c85cce0"
      },
      "execution_count": 214,
      "outputs": [
        {
          "output_type": "stream",
          "name": "stdout",
          "text": [
            "['$250.00' '$65.00' '$75.00' '$79.00' '$100.00' '$58.00' '$229.00'\n",
            " '$60.00' '$57.00' '$93.00' '$150.00' '$145.00' '$165.00' '$49.00'\n",
            " '$40.00']\n"
          ]
        },
        {
          "output_type": "execute_result",
          "data": {
            "text/plain": [
              "0"
            ]
          },
          "metadata": {},
          "execution_count": 214
        }
      ]
    },
    {
      "cell_type": "code",
      "source": [
        "print(listings[\"weekly_price\"].unique()[0:15])\n",
        "listings[\"weekly_price\"].isna().sum()"
      ],
      "metadata": {
        "id": "hK3-SKCZc-ZE",
        "colab": {
          "base_uri": "https://localhost:8080/"
        },
        "outputId": "55d974cc-6fae-4ce9-bb61-6cb1be9f5f04"
      },
      "execution_count": 215,
      "outputs": [
        {
          "output_type": "stream",
          "name": "stdout",
          "text": [
            "[nan '$400.00' '$395.00' '$350.00' '$950.00' '$750.00' '$280.00' '$250.00'\n",
            " '$420.00' '$700.00' '$625.00' '$500.00' '$490.00' '$680.00' '$510.00']\n"
          ]
        },
        {
          "output_type": "execute_result",
          "data": {
            "text/plain": [
              "2693"
            ]
          },
          "metadata": {},
          "execution_count": 215
        }
      ]
    },
    {
      "cell_type": "code",
      "source": [
        "listings[\"monthly_price\"].isna().sum()"
      ],
      "metadata": {
        "id": "AFUq3WuIdAfg",
        "colab": {
          "base_uri": "https://localhost:8080/"
        },
        "outputId": "f6dc210b-edf3-433e-ad2b-bc69ecda2fa0"
      },
      "execution_count": null,
      "outputs": [
        {
          "output_type": "execute_result",
          "data": {
            "text/plain": [
              "2697"
            ]
          },
          "metadata": {},
          "execution_count": 85
        }
      ]
    },
    {
      "cell_type": "code",
      "source": [
        "print(listings[\"extra_people\"].unique())\n",
        "listings[\"extra_people\"].isna().sum()"
      ],
      "metadata": {
        "id": "YbvMArJ-dSam",
        "colab": {
          "base_uri": "https://localhost:8080/"
        },
        "outputId": "2e30e570-41e3-4401-8e7c-38f1b11d23c8"
      },
      "execution_count": null,
      "outputs": [
        {
          "output_type": "stream",
          "name": "stdout",
          "text": [
            "['$0.00' '$20.00' '$25.00' '$15.00' '$10.00' '$30.00' '$35.00' '$100.00'\n",
            " '$5.00' '$33.00' '$50.00' '$39.00' '$12.00' '$7.00' '$40.00' '$36.00'\n",
            " '$9.00' '$34.00' '$45.00' '$19.00' '$22.00' '$60.00' '$59.00' '$49.00'\n",
            " '$18.00' '$120.00' '$17.00' '$62.00' '$150.00' '$37.00' '$200.00'\n",
            " '$80.00' '$44.00' '$8.00' '$42.00' '$70.00' '$65.00' '$77.00' '$69.00'\n",
            " '$27.00' '$75.00' '$29.00' '$16.00' '$58.00' '$125.00' '$89.00' '$6.00'\n",
            " '$85.00' '$55.00' '$88.00' '$24.00']\n"
          ]
        },
        {
          "output_type": "execute_result",
          "data": {
            "text/plain": [
              "0"
            ]
          },
          "metadata": {},
          "execution_count": 86
        }
      ]
    },
    {
      "cell_type": "code",
      "source": [
        "listings[\"extra_people\"].value_counts()[0:15]"
      ],
      "metadata": {
        "id": "8xDLG5CsdkqA",
        "colab": {
          "base_uri": "https://localhost:8080/"
        },
        "outputId": "0b0d304b-c1fd-47cb-e412-aa4194edc75c"
      },
      "execution_count": 216,
      "outputs": [
        {
          "output_type": "execute_result",
          "data": {
            "text/plain": [
              "$0.00      2211\n",
              "$25.00      277\n",
              "$20.00      237\n",
              "$10.00      212\n",
              "$50.00      145\n",
              "$15.00      136\n",
              "$30.00       79\n",
              "$35.00       48\n",
              "$40.00       42\n",
              "$100.00      33\n",
              "$5.00        27\n",
              "$45.00       19\n",
              "$75.00        9\n",
              "$12.00        8\n",
              "$70.00        7\n",
              "Name: extra_people, dtype: int64"
            ]
          },
          "metadata": {},
          "execution_count": 216
        }
      ]
    },
    {
      "cell_type": "code",
      "source": [
        "print(listings['city'].nunique())\n",
        "listings['city'].unique()"
      ],
      "metadata": {
        "id": "rmO-IDAmduD6",
        "colab": {
          "base_uri": "https://localhost:8080/"
        },
        "outputId": "b6c48005-1f8f-4964-e416-faba64990cf4"
      },
      "execution_count": null,
      "outputs": [
        {
          "output_type": "stream",
          "name": "stdout",
          "text": [
            "38\n"
          ]
        },
        {
          "output_type": "execute_result",
          "data": {
            "text/plain": [
              "array(['Boston', 'Roslindale', 'Roslindale, Boston', 'Jamaica Plain',\n",
              "       'Brookline', 'Jamaica Plain, Boston', 'Jamaica Plain (Boston)',\n",
              "       'Roxbury Crossing', 'Jamaica Plain ', 'Jamaica Plain, MA',\n",
              "       'Boston (Jamaica Plain)', 'Jamaica plain ', 'ROXBURY CROSSING',\n",
              "       'Mission Hill, Boston', 'boston', '波士顿',\n",
              "       'Boston, Massachusetts, US', 'South End, Boston', 'Cambridge',\n",
              "       'East Boston', 'east Boston ', 'Charlestown',\n",
              "       'Boston (Charlestown)', 'Somerville', 'Watertown', 'Brighton',\n",
              "       'Brighton ', 'Boston ', nan, 'West Roxbury', 'Newton', 'Hyde Park',\n",
              "       'Mattapan', 'Milton', 'Dorchester', 'dorchester, boston ',\n",
              "       'South Boston', 'Allston', 'ALLSTON'], dtype=object)"
            ]
          },
          "metadata": {},
          "execution_count": 88
        }
      ]
    },
    {
      "cell_type": "code",
      "source": [
        "# this needs to be dropped as needed in the processing of listings data\n",
        "\"\"\"\n",
        "\"listing_url\", \"scrape_id\", \"last_scraped\", \"summary\", \n",
        "\"experiences_offered\", \"thumbnail_url\", \"medium_url\", \n",
        "\"picture_url\", \"xl_picture_url\", \"host_url\", \n",
        "\"host_thumbnail_url\", \"host_picture_url\", \n",
        "\"host_total_listings_count\", \"host_verifications\", \n",
        "\"host_has_profile_pic\", \"host_identity_verified\", \n",
        "\"neighbourhood\", \"neighbourhood_group_cleansed\", \n",
        "\"state\", \"market\", \"country_code\", \"smart_location\", \n",
        "\"country\", \"latitude\", \"longitude\", \"is_location_exact\", \n",
        "\"security_deposit\", \"cleaning_fee\", \"minimum_nights\", \n",
        "\"maximum_nights\", \"calendar_updated\", \"has_availability\", \n",
        "\"availability_30\", \"availability_60\", \"availability_90\", \n",
        "\"availability_365\", \"calendar_last_scraped\", \"first_review\", \n",
        "\"last_review\", \"review_scores_rating\", \"review_scores_accuracy\", \n",
        "\"review_scores_cleanliness\", \"review_scores_checkin\", \n",
        "\"review_scores_communication\", \"review_scores_location\", \n",
        "\"review_scores_value\", \"requires_license\", \"license\", \n",
        "\"jurisdiction_names\", \"require_guest_profile_picture\", \n",
        "\"require_guest_phone_verification\", \"calculated_host_listings_count\",\n",
        "\"number_of_reviews\", \"reviews_per_month\", \"guests_included\", \"host_name\",\n",
        "\"host_since\", \"host_location\", \"host_response_rate\", \n",
        "\"host_acceptance_rate\", \"host_is_superhost\", \n",
        "\"host_neighbourhood\", \"host_id\", \"host_about\"\n",
        "\"\"\""
      ],
      "metadata": {
        "id": "NYcHA6qakAVl"
      },
      "execution_count": null,
      "outputs": []
    },
    {
      "cell_type": "markdown",
      "source": [
        "#### Reviews Data "
      ],
      "metadata": {
        "id": "trla-Za4qlUc"
      }
    },
    {
      "cell_type": "code",
      "source": [
        "#print the head of listings\n",
        "reviews.head()"
      ],
      "metadata": {
        "id": "t7LhXjPKqwUf",
        "colab": {
          "base_uri": "https://localhost:8080/",
          "height": 337
        },
        "outputId": "836afb8f-e43a-4018-b3c6-d9ae3c814c07"
      },
      "execution_count": null,
      "outputs": [
        {
          "output_type": "execute_result",
          "data": {
            "text/plain": [
              "   listing_id       id        date  reviewer_id reviewer_name  \\\n",
              "0     1178162  4724140  2013-05-21      4298113       Olivier   \n",
              "1     1178162  4869189  2013-05-29      6452964     Charlotte   \n",
              "2     1178162  5003196  2013-06-06      6449554     Sebastian   \n",
              "3     1178162  5150351  2013-06-15      2215611        Marine   \n",
              "4     1178162  5171140  2013-06-16      6848427        Andrew   \n",
              "\n",
              "                                            comments  \n",
              "0  My stay at islam's place was really cool! Good...  \n",
              "1  Great location for both airport and city - gre...  \n",
              "2  We really enjoyed our stay at Islams house. Fr...  \n",
              "3  The room was nice and clean and so were the co...  \n",
              "4  Great location. Just 5 mins walk from the Airp...  "
            ],
            "text/html": [
              "\n",
              "  <div id=\"df-e768a6a9-8c62-4abb-b86c-1bf45062207d\">\n",
              "    <div class=\"colab-df-container\">\n",
              "      <div>\n",
              "<style scoped>\n",
              "    .dataframe tbody tr th:only-of-type {\n",
              "        vertical-align: middle;\n",
              "    }\n",
              "\n",
              "    .dataframe tbody tr th {\n",
              "        vertical-align: top;\n",
              "    }\n",
              "\n",
              "    .dataframe thead th {\n",
              "        text-align: right;\n",
              "    }\n",
              "</style>\n",
              "<table border=\"1\" class=\"dataframe\">\n",
              "  <thead>\n",
              "    <tr style=\"text-align: right;\">\n",
              "      <th></th>\n",
              "      <th>listing_id</th>\n",
              "      <th>id</th>\n",
              "      <th>date</th>\n",
              "      <th>reviewer_id</th>\n",
              "      <th>reviewer_name</th>\n",
              "      <th>comments</th>\n",
              "    </tr>\n",
              "  </thead>\n",
              "  <tbody>\n",
              "    <tr>\n",
              "      <th>0</th>\n",
              "      <td>1178162</td>\n",
              "      <td>4724140</td>\n",
              "      <td>2013-05-21</td>\n",
              "      <td>4298113</td>\n",
              "      <td>Olivier</td>\n",
              "      <td>My stay at islam's place was really cool! Good...</td>\n",
              "    </tr>\n",
              "    <tr>\n",
              "      <th>1</th>\n",
              "      <td>1178162</td>\n",
              "      <td>4869189</td>\n",
              "      <td>2013-05-29</td>\n",
              "      <td>6452964</td>\n",
              "      <td>Charlotte</td>\n",
              "      <td>Great location for both airport and city - gre...</td>\n",
              "    </tr>\n",
              "    <tr>\n",
              "      <th>2</th>\n",
              "      <td>1178162</td>\n",
              "      <td>5003196</td>\n",
              "      <td>2013-06-06</td>\n",
              "      <td>6449554</td>\n",
              "      <td>Sebastian</td>\n",
              "      <td>We really enjoyed our stay at Islams house. Fr...</td>\n",
              "    </tr>\n",
              "    <tr>\n",
              "      <th>3</th>\n",
              "      <td>1178162</td>\n",
              "      <td>5150351</td>\n",
              "      <td>2013-06-15</td>\n",
              "      <td>2215611</td>\n",
              "      <td>Marine</td>\n",
              "      <td>The room was nice and clean and so were the co...</td>\n",
              "    </tr>\n",
              "    <tr>\n",
              "      <th>4</th>\n",
              "      <td>1178162</td>\n",
              "      <td>5171140</td>\n",
              "      <td>2013-06-16</td>\n",
              "      <td>6848427</td>\n",
              "      <td>Andrew</td>\n",
              "      <td>Great location. Just 5 mins walk from the Airp...</td>\n",
              "    </tr>\n",
              "  </tbody>\n",
              "</table>\n",
              "</div>\n",
              "      <button class=\"colab-df-convert\" onclick=\"convertToInteractive('df-e768a6a9-8c62-4abb-b86c-1bf45062207d')\"\n",
              "              title=\"Convert this dataframe to an interactive table.\"\n",
              "              style=\"display:none;\">\n",
              "        \n",
              "  <svg xmlns=\"http://www.w3.org/2000/svg\" height=\"24px\"viewBox=\"0 0 24 24\"\n",
              "       width=\"24px\">\n",
              "    <path d=\"M0 0h24v24H0V0z\" fill=\"none\"/>\n",
              "    <path d=\"M18.56 5.44l.94 2.06.94-2.06 2.06-.94-2.06-.94-.94-2.06-.94 2.06-2.06.94zm-11 1L8.5 8.5l.94-2.06 2.06-.94-2.06-.94L8.5 2.5l-.94 2.06-2.06.94zm10 10l.94 2.06.94-2.06 2.06-.94-2.06-.94-.94-2.06-.94 2.06-2.06.94z\"/><path d=\"M17.41 7.96l-1.37-1.37c-.4-.4-.92-.59-1.43-.59-.52 0-1.04.2-1.43.59L10.3 9.45l-7.72 7.72c-.78.78-.78 2.05 0 2.83L4 21.41c.39.39.9.59 1.41.59.51 0 1.02-.2 1.41-.59l7.78-7.78 2.81-2.81c.8-.78.8-2.07 0-2.86zM5.41 20L4 18.59l7.72-7.72 1.47 1.35L5.41 20z\"/>\n",
              "  </svg>\n",
              "      </button>\n",
              "      \n",
              "  <style>\n",
              "    .colab-df-container {\n",
              "      display:flex;\n",
              "      flex-wrap:wrap;\n",
              "      gap: 12px;\n",
              "    }\n",
              "\n",
              "    .colab-df-convert {\n",
              "      background-color: #E8F0FE;\n",
              "      border: none;\n",
              "      border-radius: 50%;\n",
              "      cursor: pointer;\n",
              "      display: none;\n",
              "      fill: #1967D2;\n",
              "      height: 32px;\n",
              "      padding: 0 0 0 0;\n",
              "      width: 32px;\n",
              "    }\n",
              "\n",
              "    .colab-df-convert:hover {\n",
              "      background-color: #E2EBFA;\n",
              "      box-shadow: 0px 1px 2px rgba(60, 64, 67, 0.3), 0px 1px 3px 1px rgba(60, 64, 67, 0.15);\n",
              "      fill: #174EA6;\n",
              "    }\n",
              "\n",
              "    [theme=dark] .colab-df-convert {\n",
              "      background-color: #3B4455;\n",
              "      fill: #D2E3FC;\n",
              "    }\n",
              "\n",
              "    [theme=dark] .colab-df-convert:hover {\n",
              "      background-color: #434B5C;\n",
              "      box-shadow: 0px 1px 3px 1px rgba(0, 0, 0, 0.15);\n",
              "      filter: drop-shadow(0px 1px 2px rgba(0, 0, 0, 0.3));\n",
              "      fill: #FFFFFF;\n",
              "    }\n",
              "  </style>\n",
              "\n",
              "      <script>\n",
              "        const buttonEl =\n",
              "          document.querySelector('#df-e768a6a9-8c62-4abb-b86c-1bf45062207d button.colab-df-convert');\n",
              "        buttonEl.style.display =\n",
              "          google.colab.kernel.accessAllowed ? 'block' : 'none';\n",
              "\n",
              "        async function convertToInteractive(key) {\n",
              "          const element = document.querySelector('#df-e768a6a9-8c62-4abb-b86c-1bf45062207d');\n",
              "          const dataTable =\n",
              "            await google.colab.kernel.invokeFunction('convertToInteractive',\n",
              "                                                     [key], {});\n",
              "          if (!dataTable) return;\n",
              "\n",
              "          const docLinkHtml = 'Like what you see? Visit the ' +\n",
              "            '<a target=\"_blank\" href=https://colab.research.google.com/notebooks/data_table.ipynb>data table notebook</a>'\n",
              "            + ' to learn more about interactive tables.';\n",
              "          element.innerHTML = '';\n",
              "          dataTable['output_type'] = 'display_data';\n",
              "          await google.colab.output.renderOutput(dataTable, element);\n",
              "          const docLink = document.createElement('div');\n",
              "          docLink.innerHTML = docLinkHtml;\n",
              "          element.appendChild(docLink);\n",
              "        }\n",
              "      </script>\n",
              "    </div>\n",
              "  </div>\n",
              "  "
            ]
          },
          "metadata": {},
          "execution_count": 90
        }
      ]
    },
    {
      "cell_type": "code",
      "source": [
        "#reviews[reviews.columns[0]].count()\n",
        "#len(reviews.index)\n",
        "reviews.shape"
      ],
      "metadata": {
        "id": "qDVU4Odpq5bo",
        "colab": {
          "base_uri": "https://localhost:8080/"
        },
        "outputId": "e97b2386-ed03-43ac-f334-2125bb021f90"
      },
      "execution_count": null,
      "outputs": [
        {
          "output_type": "execute_result",
          "data": {
            "text/plain": [
              "(68275, 6)"
            ]
          },
          "metadata": {},
          "execution_count": 91
        }
      ]
    },
    {
      "cell_type": "code",
      "source": [
        "#print description of data\n",
        "reviews.describe()"
      ],
      "metadata": {
        "id": "Hz1iRofErKRd",
        "colab": {
          "base_uri": "https://localhost:8080/",
          "height": 300
        },
        "outputId": "6f03389c-82a8-4b64-9555-7d696a70abfe"
      },
      "execution_count": null,
      "outputs": [
        {
          "output_type": "execute_result",
          "data": {
            "text/plain": [
              "              listing_id                 id        reviewer_id\n",
              "count    68275.000000000    68275.000000000    68275.000000000\n",
              "mean   4759910.337898206 52465163.763310142 28023891.427975100\n",
              "std    3788990.144213637 27909908.424560778 22340967.132921383\n",
              "min       3353.000000000     1021.000000000      143.000000000\n",
              "25%    1458081.000000000 30104202.500000000  9001346.000000000\n",
              "50%    4080000.000000000 52231212.000000000 23051786.000000000\n",
              "75%    7377034.000000000 76632476.000000000 42134545.000000000\n",
              "max   14843783.000000000 99990454.000000000 93350341.000000000"
            ],
            "text/html": [
              "\n",
              "  <div id=\"df-076e6e21-101a-48ca-b39f-fe215daf64dd\">\n",
              "    <div class=\"colab-df-container\">\n",
              "      <div>\n",
              "<style scoped>\n",
              "    .dataframe tbody tr th:only-of-type {\n",
              "        vertical-align: middle;\n",
              "    }\n",
              "\n",
              "    .dataframe tbody tr th {\n",
              "        vertical-align: top;\n",
              "    }\n",
              "\n",
              "    .dataframe thead th {\n",
              "        text-align: right;\n",
              "    }\n",
              "</style>\n",
              "<table border=\"1\" class=\"dataframe\">\n",
              "  <thead>\n",
              "    <tr style=\"text-align: right;\">\n",
              "      <th></th>\n",
              "      <th>listing_id</th>\n",
              "      <th>id</th>\n",
              "      <th>reviewer_id</th>\n",
              "    </tr>\n",
              "  </thead>\n",
              "  <tbody>\n",
              "    <tr>\n",
              "      <th>count</th>\n",
              "      <td>68275.000000000</td>\n",
              "      <td>68275.000000000</td>\n",
              "      <td>68275.000000000</td>\n",
              "    </tr>\n",
              "    <tr>\n",
              "      <th>mean</th>\n",
              "      <td>4759910.337898206</td>\n",
              "      <td>52465163.763310142</td>\n",
              "      <td>28023891.427975100</td>\n",
              "    </tr>\n",
              "    <tr>\n",
              "      <th>std</th>\n",
              "      <td>3788990.144213637</td>\n",
              "      <td>27909908.424560778</td>\n",
              "      <td>22340967.132921383</td>\n",
              "    </tr>\n",
              "    <tr>\n",
              "      <th>min</th>\n",
              "      <td>3353.000000000</td>\n",
              "      <td>1021.000000000</td>\n",
              "      <td>143.000000000</td>\n",
              "    </tr>\n",
              "    <tr>\n",
              "      <th>25%</th>\n",
              "      <td>1458081.000000000</td>\n",
              "      <td>30104202.500000000</td>\n",
              "      <td>9001346.000000000</td>\n",
              "    </tr>\n",
              "    <tr>\n",
              "      <th>50%</th>\n",
              "      <td>4080000.000000000</td>\n",
              "      <td>52231212.000000000</td>\n",
              "      <td>23051786.000000000</td>\n",
              "    </tr>\n",
              "    <tr>\n",
              "      <th>75%</th>\n",
              "      <td>7377034.000000000</td>\n",
              "      <td>76632476.000000000</td>\n",
              "      <td>42134545.000000000</td>\n",
              "    </tr>\n",
              "    <tr>\n",
              "      <th>max</th>\n",
              "      <td>14843783.000000000</td>\n",
              "      <td>99990454.000000000</td>\n",
              "      <td>93350341.000000000</td>\n",
              "    </tr>\n",
              "  </tbody>\n",
              "</table>\n",
              "</div>\n",
              "      <button class=\"colab-df-convert\" onclick=\"convertToInteractive('df-076e6e21-101a-48ca-b39f-fe215daf64dd')\"\n",
              "              title=\"Convert this dataframe to an interactive table.\"\n",
              "              style=\"display:none;\">\n",
              "        \n",
              "  <svg xmlns=\"http://www.w3.org/2000/svg\" height=\"24px\"viewBox=\"0 0 24 24\"\n",
              "       width=\"24px\">\n",
              "    <path d=\"M0 0h24v24H0V0z\" fill=\"none\"/>\n",
              "    <path d=\"M18.56 5.44l.94 2.06.94-2.06 2.06-.94-2.06-.94-.94-2.06-.94 2.06-2.06.94zm-11 1L8.5 8.5l.94-2.06 2.06-.94-2.06-.94L8.5 2.5l-.94 2.06-2.06.94zm10 10l.94 2.06.94-2.06 2.06-.94-2.06-.94-.94-2.06-.94 2.06-2.06.94z\"/><path d=\"M17.41 7.96l-1.37-1.37c-.4-.4-.92-.59-1.43-.59-.52 0-1.04.2-1.43.59L10.3 9.45l-7.72 7.72c-.78.78-.78 2.05 0 2.83L4 21.41c.39.39.9.59 1.41.59.51 0 1.02-.2 1.41-.59l7.78-7.78 2.81-2.81c.8-.78.8-2.07 0-2.86zM5.41 20L4 18.59l7.72-7.72 1.47 1.35L5.41 20z\"/>\n",
              "  </svg>\n",
              "      </button>\n",
              "      \n",
              "  <style>\n",
              "    .colab-df-container {\n",
              "      display:flex;\n",
              "      flex-wrap:wrap;\n",
              "      gap: 12px;\n",
              "    }\n",
              "\n",
              "    .colab-df-convert {\n",
              "      background-color: #E8F0FE;\n",
              "      border: none;\n",
              "      border-radius: 50%;\n",
              "      cursor: pointer;\n",
              "      display: none;\n",
              "      fill: #1967D2;\n",
              "      height: 32px;\n",
              "      padding: 0 0 0 0;\n",
              "      width: 32px;\n",
              "    }\n",
              "\n",
              "    .colab-df-convert:hover {\n",
              "      background-color: #E2EBFA;\n",
              "      box-shadow: 0px 1px 2px rgba(60, 64, 67, 0.3), 0px 1px 3px 1px rgba(60, 64, 67, 0.15);\n",
              "      fill: #174EA6;\n",
              "    }\n",
              "\n",
              "    [theme=dark] .colab-df-convert {\n",
              "      background-color: #3B4455;\n",
              "      fill: #D2E3FC;\n",
              "    }\n",
              "\n",
              "    [theme=dark] .colab-df-convert:hover {\n",
              "      background-color: #434B5C;\n",
              "      box-shadow: 0px 1px 3px 1px rgba(0, 0, 0, 0.15);\n",
              "      filter: drop-shadow(0px 1px 2px rgba(0, 0, 0, 0.3));\n",
              "      fill: #FFFFFF;\n",
              "    }\n",
              "  </style>\n",
              "\n",
              "      <script>\n",
              "        const buttonEl =\n",
              "          document.querySelector('#df-076e6e21-101a-48ca-b39f-fe215daf64dd button.colab-df-convert');\n",
              "        buttonEl.style.display =\n",
              "          google.colab.kernel.accessAllowed ? 'block' : 'none';\n",
              "\n",
              "        async function convertToInteractive(key) {\n",
              "          const element = document.querySelector('#df-076e6e21-101a-48ca-b39f-fe215daf64dd');\n",
              "          const dataTable =\n",
              "            await google.colab.kernel.invokeFunction('convertToInteractive',\n",
              "                                                     [key], {});\n",
              "          if (!dataTable) return;\n",
              "\n",
              "          const docLinkHtml = 'Like what you see? Visit the ' +\n",
              "            '<a target=\"_blank\" href=https://colab.research.google.com/notebooks/data_table.ipynb>data table notebook</a>'\n",
              "            + ' to learn more about interactive tables.';\n",
              "          element.innerHTML = '';\n",
              "          dataTable['output_type'] = 'display_data';\n",
              "          await google.colab.output.renderOutput(dataTable, element);\n",
              "          const docLink = document.createElement('div');\n",
              "          docLink.innerHTML = docLinkHtml;\n",
              "          element.appendChild(docLink);\n",
              "        }\n",
              "      </script>\n",
              "    </div>\n",
              "  </div>\n",
              "  "
            ]
          },
          "metadata": {},
          "execution_count": 92
        }
      ]
    },
    {
      "cell_type": "code",
      "source": [
        "#print concise summary of data\n",
        "reviews.info()"
      ],
      "metadata": {
        "id": "IRNNcS42rPny",
        "colab": {
          "base_uri": "https://localhost:8080/"
        },
        "outputId": "b37358d5-68e3-4839-9b2e-b7965606487c"
      },
      "execution_count": null,
      "outputs": [
        {
          "output_type": "stream",
          "name": "stdout",
          "text": [
            "<class 'pandas.core.frame.DataFrame'>\n",
            "RangeIndex: 68275 entries, 0 to 68274\n",
            "Data columns (total 6 columns):\n",
            " #   Column         Non-Null Count  Dtype \n",
            "---  ------         --------------  ----- \n",
            " 0   listing_id     68275 non-null  int64 \n",
            " 1   id             68275 non-null  int64 \n",
            " 2   date           68275 non-null  object\n",
            " 3   reviewer_id    68275 non-null  int64 \n",
            " 4   reviewer_name  68275 non-null  object\n",
            " 5   comments       68222 non-null  object\n",
            "dtypes: int64(3), object(3)\n",
            "memory usage: 3.1+ MB\n"
          ]
        }
      ]
    },
    {
      "cell_type": "code",
      "source": [
        "reviews[\"comments\"].isna().sum()"
      ],
      "metadata": {
        "id": "4heWzdVyFU0J",
        "colab": {
          "base_uri": "https://localhost:8080/"
        },
        "outputId": "19f117c8-f5d1-475a-8d48-f12020e81e54"
      },
      "execution_count": null,
      "outputs": [
        {
          "output_type": "execute_result",
          "data": {
            "text/plain": [
              "53"
            ]
          },
          "metadata": {},
          "execution_count": 94
        }
      ]
    },
    {
      "cell_type": "code",
      "source": [
        "reviews.reviewer_id.nunique()"
      ],
      "metadata": {
        "id": "R8X_4w0Gra5A",
        "colab": {
          "base_uri": "https://localhost:8080/"
        },
        "outputId": "e3832234-230a-46bc-df20-5a6cc8ad2468"
      },
      "execution_count": null,
      "outputs": [
        {
          "output_type": "execute_result",
          "data": {
            "text/plain": [
              "63789"
            ]
          },
          "metadata": {},
          "execution_count": 95
        }
      ]
    },
    {
      "cell_type": "code",
      "source": [
        "reviews.duplicated(\"reviewer_id\").sum()"
      ],
      "metadata": {
        "id": "OPZd76p5NohK",
        "colab": {
          "base_uri": "https://localhost:8080/"
        },
        "outputId": "ba7b631a-1764-4a1e-abba-0776512e41d0"
      },
      "execution_count": null,
      "outputs": [
        {
          "output_type": "execute_result",
          "data": {
            "text/plain": [
              "4486"
            ]
          },
          "metadata": {},
          "execution_count": 96
        }
      ]
    },
    {
      "cell_type": "code",
      "source": [
        "reviews.duplicated(subset=[\"reviewer_id\", \"listing_id\"]).sum()"
      ],
      "metadata": {
        "id": "DfVPxBTxRE3C",
        "colab": {
          "base_uri": "https://localhost:8080/"
        },
        "outputId": "96e232ab-034f-4f73-9ef5-4dcad8dd9701"
      },
      "execution_count": null,
      "outputs": [
        {
          "output_type": "execute_result",
          "data": {
            "text/plain": [
              "947"
            ]
          },
          "metadata": {},
          "execution_count": 97
        }
      ]
    },
    {
      "cell_type": "code",
      "source": [
        "print(reviews.duplicated(subset=[\"reviewer_id\", \"listing_id\", \"date\"]).sum())\n",
        "reviews[reviews.duplicated(subset=[\"reviewer_id\", \"listing_id\", \"date\"], keep=False)].head()"
      ],
      "metadata": {
        "id": "qh549LKMVFFK",
        "colab": {
          "base_uri": "https://localhost:8080/",
          "height": 390
        },
        "outputId": "75c5cfdd-a34a-486d-cc44-c7a34d5530aa"
      },
      "execution_count": 221,
      "outputs": [
        {
          "output_type": "stream",
          "name": "stdout",
          "text": [
            "10\n"
          ]
        },
        {
          "output_type": "execute_result",
          "data": {
            "text/plain": [
              "       listing_id        id        date  reviewer_id reviewer_name  \\\n",
              "6558      1529321  32216803  2015-05-15     30877683      Jonathan   \n",
              "6559      1529321  32223055  2015-05-15     30877683      Jonathan   \n",
              "29370      568234  19256952  2014-09-08     16199611           Lyn   \n",
              "29371      568234  19256954  2014-09-08     16199611           Lyn   \n",
              "30826     4402209  66858887  2016-03-25     63239764       Sandiya   \n",
              "\n",
              "                                                comments  \n",
              "6558   Nice neighborhood with a lot of local life and...  \n",
              "6559   A+ treatment all the way, you are an adult in ...  \n",
              "29370  The reservation was canceled 23 days before ar...  \n",
              "29371  The reservation was canceled 24 days before ar...  \n",
              "30826  My night at Aris house was perfect yet again! ...  "
            ],
            "text/html": [
              "\n",
              "  <div id=\"df-b0013594-1e7e-4d09-8b73-ba8e7950d83d\">\n",
              "    <div class=\"colab-df-container\">\n",
              "      <div>\n",
              "<style scoped>\n",
              "    .dataframe tbody tr th:only-of-type {\n",
              "        vertical-align: middle;\n",
              "    }\n",
              "\n",
              "    .dataframe tbody tr th {\n",
              "        vertical-align: top;\n",
              "    }\n",
              "\n",
              "    .dataframe thead th {\n",
              "        text-align: right;\n",
              "    }\n",
              "</style>\n",
              "<table border=\"1\" class=\"dataframe\">\n",
              "  <thead>\n",
              "    <tr style=\"text-align: right;\">\n",
              "      <th></th>\n",
              "      <th>listing_id</th>\n",
              "      <th>id</th>\n",
              "      <th>date</th>\n",
              "      <th>reviewer_id</th>\n",
              "      <th>reviewer_name</th>\n",
              "      <th>comments</th>\n",
              "    </tr>\n",
              "  </thead>\n",
              "  <tbody>\n",
              "    <tr>\n",
              "      <th>6558</th>\n",
              "      <td>1529321</td>\n",
              "      <td>32216803</td>\n",
              "      <td>2015-05-15</td>\n",
              "      <td>30877683</td>\n",
              "      <td>Jonathan</td>\n",
              "      <td>Nice neighborhood with a lot of local life and...</td>\n",
              "    </tr>\n",
              "    <tr>\n",
              "      <th>6559</th>\n",
              "      <td>1529321</td>\n",
              "      <td>32223055</td>\n",
              "      <td>2015-05-15</td>\n",
              "      <td>30877683</td>\n",
              "      <td>Jonathan</td>\n",
              "      <td>A+ treatment all the way, you are an adult in ...</td>\n",
              "    </tr>\n",
              "    <tr>\n",
              "      <th>29370</th>\n",
              "      <td>568234</td>\n",
              "      <td>19256952</td>\n",
              "      <td>2014-09-08</td>\n",
              "      <td>16199611</td>\n",
              "      <td>Lyn</td>\n",
              "      <td>The reservation was canceled 23 days before ar...</td>\n",
              "    </tr>\n",
              "    <tr>\n",
              "      <th>29371</th>\n",
              "      <td>568234</td>\n",
              "      <td>19256954</td>\n",
              "      <td>2014-09-08</td>\n",
              "      <td>16199611</td>\n",
              "      <td>Lyn</td>\n",
              "      <td>The reservation was canceled 24 days before ar...</td>\n",
              "    </tr>\n",
              "    <tr>\n",
              "      <th>30826</th>\n",
              "      <td>4402209</td>\n",
              "      <td>66858887</td>\n",
              "      <td>2016-03-25</td>\n",
              "      <td>63239764</td>\n",
              "      <td>Sandiya</td>\n",
              "      <td>My night at Aris house was perfect yet again! ...</td>\n",
              "    </tr>\n",
              "  </tbody>\n",
              "</table>\n",
              "</div>\n",
              "      <button class=\"colab-df-convert\" onclick=\"convertToInteractive('df-b0013594-1e7e-4d09-8b73-ba8e7950d83d')\"\n",
              "              title=\"Convert this dataframe to an interactive table.\"\n",
              "              style=\"display:none;\">\n",
              "        \n",
              "  <svg xmlns=\"http://www.w3.org/2000/svg\" height=\"24px\"viewBox=\"0 0 24 24\"\n",
              "       width=\"24px\">\n",
              "    <path d=\"M0 0h24v24H0V0z\" fill=\"none\"/>\n",
              "    <path d=\"M18.56 5.44l.94 2.06.94-2.06 2.06-.94-2.06-.94-.94-2.06-.94 2.06-2.06.94zm-11 1L8.5 8.5l.94-2.06 2.06-.94-2.06-.94L8.5 2.5l-.94 2.06-2.06.94zm10 10l.94 2.06.94-2.06 2.06-.94-2.06-.94-.94-2.06-.94 2.06-2.06.94z\"/><path d=\"M17.41 7.96l-1.37-1.37c-.4-.4-.92-.59-1.43-.59-.52 0-1.04.2-1.43.59L10.3 9.45l-7.72 7.72c-.78.78-.78 2.05 0 2.83L4 21.41c.39.39.9.59 1.41.59.51 0 1.02-.2 1.41-.59l7.78-7.78 2.81-2.81c.8-.78.8-2.07 0-2.86zM5.41 20L4 18.59l7.72-7.72 1.47 1.35L5.41 20z\"/>\n",
              "  </svg>\n",
              "      </button>\n",
              "      \n",
              "  <style>\n",
              "    .colab-df-container {\n",
              "      display:flex;\n",
              "      flex-wrap:wrap;\n",
              "      gap: 12px;\n",
              "    }\n",
              "\n",
              "    .colab-df-convert {\n",
              "      background-color: #E8F0FE;\n",
              "      border: none;\n",
              "      border-radius: 50%;\n",
              "      cursor: pointer;\n",
              "      display: none;\n",
              "      fill: #1967D2;\n",
              "      height: 32px;\n",
              "      padding: 0 0 0 0;\n",
              "      width: 32px;\n",
              "    }\n",
              "\n",
              "    .colab-df-convert:hover {\n",
              "      background-color: #E2EBFA;\n",
              "      box-shadow: 0px 1px 2px rgba(60, 64, 67, 0.3), 0px 1px 3px 1px rgba(60, 64, 67, 0.15);\n",
              "      fill: #174EA6;\n",
              "    }\n",
              "\n",
              "    [theme=dark] .colab-df-convert {\n",
              "      background-color: #3B4455;\n",
              "      fill: #D2E3FC;\n",
              "    }\n",
              "\n",
              "    [theme=dark] .colab-df-convert:hover {\n",
              "      background-color: #434B5C;\n",
              "      box-shadow: 0px 1px 3px 1px rgba(0, 0, 0, 0.15);\n",
              "      filter: drop-shadow(0px 1px 2px rgba(0, 0, 0, 0.3));\n",
              "      fill: #FFFFFF;\n",
              "    }\n",
              "  </style>\n",
              "\n",
              "      <script>\n",
              "        const buttonEl =\n",
              "          document.querySelector('#df-b0013594-1e7e-4d09-8b73-ba8e7950d83d button.colab-df-convert');\n",
              "        buttonEl.style.display =\n",
              "          google.colab.kernel.accessAllowed ? 'block' : 'none';\n",
              "\n",
              "        async function convertToInteractive(key) {\n",
              "          const element = document.querySelector('#df-b0013594-1e7e-4d09-8b73-ba8e7950d83d');\n",
              "          const dataTable =\n",
              "            await google.colab.kernel.invokeFunction('convertToInteractive',\n",
              "                                                     [key], {});\n",
              "          if (!dataTable) return;\n",
              "\n",
              "          const docLinkHtml = 'Like what you see? Visit the ' +\n",
              "            '<a target=\"_blank\" href=https://colab.research.google.com/notebooks/data_table.ipynb>data table notebook</a>'\n",
              "            + ' to learn more about interactive tables.';\n",
              "          element.innerHTML = '';\n",
              "          dataTable['output_type'] = 'display_data';\n",
              "          await google.colab.output.renderOutput(dataTable, element);\n",
              "          const docLink = document.createElement('div');\n",
              "          docLink.innerHTML = docLinkHtml;\n",
              "          element.appendChild(docLink);\n",
              "        }\n",
              "      </script>\n",
              "    </div>\n",
              "  </div>\n",
              "  "
            ]
          },
          "metadata": {},
          "execution_count": 221
        }
      ]
    },
    {
      "cell_type": "code",
      "source": [
        "print(reviews.duplicated(subset=[\"reviewer_id\", \"listing_id\", \"comments\"]).sum())\n",
        "reviews[reviews.duplicated(subset=[\"reviewer_id\", \"listing_id\", \"comments\"], keep=False)].head()"
      ],
      "metadata": {
        "id": "YgP4BVpyVSdn",
        "colab": {
          "base_uri": "https://localhost:8080/",
          "height": 355
        },
        "outputId": "b5760d7f-7db9-4baf-d0d7-2604879710f9"
      },
      "execution_count": 220,
      "outputs": [
        {
          "output_type": "stream",
          "name": "stdout",
          "text": [
            "18\n"
          ]
        },
        {
          "output_type": "execute_result",
          "data": {
            "text/plain": [
              "      listing_id        id        date  reviewer_id reviewer_name  \\\n",
              "130      1178162  36990201  2015-07-03     35957819        Austin   \n",
              "132      1178162  37500401  2015-07-07     35957819        Austin   \n",
              "3493     3415033  34129761  2015-06-05     29861162       Matthew   \n",
              "3494     3415033  34531976  2015-06-09     29861162       Matthew   \n",
              "4067     6500646  85351737  2016-07-11      8387157           Ion   \n",
              "\n",
              "                                               comments  \n",
              "130   Great space. Cozy and right off the airport, v...  \n",
              "132   Great space. Cozy and right off the airport, v...  \n",
              "3493  Donny and Chris were extremely welcoming. I ha...  \n",
              "3494  Donny and Chris were extremely welcoming. I ha...  \n",
              "4067  Staying here was a great experience, the host ...  "
            ],
            "text/html": [
              "\n",
              "  <div id=\"df-c2332f49-7706-4f78-b409-5d606c06f98d\">\n",
              "    <div class=\"colab-df-container\">\n",
              "      <div>\n",
              "<style scoped>\n",
              "    .dataframe tbody tr th:only-of-type {\n",
              "        vertical-align: middle;\n",
              "    }\n",
              "\n",
              "    .dataframe tbody tr th {\n",
              "        vertical-align: top;\n",
              "    }\n",
              "\n",
              "    .dataframe thead th {\n",
              "        text-align: right;\n",
              "    }\n",
              "</style>\n",
              "<table border=\"1\" class=\"dataframe\">\n",
              "  <thead>\n",
              "    <tr style=\"text-align: right;\">\n",
              "      <th></th>\n",
              "      <th>listing_id</th>\n",
              "      <th>id</th>\n",
              "      <th>date</th>\n",
              "      <th>reviewer_id</th>\n",
              "      <th>reviewer_name</th>\n",
              "      <th>comments</th>\n",
              "    </tr>\n",
              "  </thead>\n",
              "  <tbody>\n",
              "    <tr>\n",
              "      <th>130</th>\n",
              "      <td>1178162</td>\n",
              "      <td>36990201</td>\n",
              "      <td>2015-07-03</td>\n",
              "      <td>35957819</td>\n",
              "      <td>Austin</td>\n",
              "      <td>Great space. Cozy and right off the airport, v...</td>\n",
              "    </tr>\n",
              "    <tr>\n",
              "      <th>132</th>\n",
              "      <td>1178162</td>\n",
              "      <td>37500401</td>\n",
              "      <td>2015-07-07</td>\n",
              "      <td>35957819</td>\n",
              "      <td>Austin</td>\n",
              "      <td>Great space. Cozy and right off the airport, v...</td>\n",
              "    </tr>\n",
              "    <tr>\n",
              "      <th>3493</th>\n",
              "      <td>3415033</td>\n",
              "      <td>34129761</td>\n",
              "      <td>2015-06-05</td>\n",
              "      <td>29861162</td>\n",
              "      <td>Matthew</td>\n",
              "      <td>Donny and Chris were extremely welcoming. I ha...</td>\n",
              "    </tr>\n",
              "    <tr>\n",
              "      <th>3494</th>\n",
              "      <td>3415033</td>\n",
              "      <td>34531976</td>\n",
              "      <td>2015-06-09</td>\n",
              "      <td>29861162</td>\n",
              "      <td>Matthew</td>\n",
              "      <td>Donny and Chris were extremely welcoming. I ha...</td>\n",
              "    </tr>\n",
              "    <tr>\n",
              "      <th>4067</th>\n",
              "      <td>6500646</td>\n",
              "      <td>85351737</td>\n",
              "      <td>2016-07-11</td>\n",
              "      <td>8387157</td>\n",
              "      <td>Ion</td>\n",
              "      <td>Staying here was a great experience, the host ...</td>\n",
              "    </tr>\n",
              "  </tbody>\n",
              "</table>\n",
              "</div>\n",
              "      <button class=\"colab-df-convert\" onclick=\"convertToInteractive('df-c2332f49-7706-4f78-b409-5d606c06f98d')\"\n",
              "              title=\"Convert this dataframe to an interactive table.\"\n",
              "              style=\"display:none;\">\n",
              "        \n",
              "  <svg xmlns=\"http://www.w3.org/2000/svg\" height=\"24px\"viewBox=\"0 0 24 24\"\n",
              "       width=\"24px\">\n",
              "    <path d=\"M0 0h24v24H0V0z\" fill=\"none\"/>\n",
              "    <path d=\"M18.56 5.44l.94 2.06.94-2.06 2.06-.94-2.06-.94-.94-2.06-.94 2.06-2.06.94zm-11 1L8.5 8.5l.94-2.06 2.06-.94-2.06-.94L8.5 2.5l-.94 2.06-2.06.94zm10 10l.94 2.06.94-2.06 2.06-.94-2.06-.94-.94-2.06-.94 2.06-2.06.94z\"/><path d=\"M17.41 7.96l-1.37-1.37c-.4-.4-.92-.59-1.43-.59-.52 0-1.04.2-1.43.59L10.3 9.45l-7.72 7.72c-.78.78-.78 2.05 0 2.83L4 21.41c.39.39.9.59 1.41.59.51 0 1.02-.2 1.41-.59l7.78-7.78 2.81-2.81c.8-.78.8-2.07 0-2.86zM5.41 20L4 18.59l7.72-7.72 1.47 1.35L5.41 20z\"/>\n",
              "  </svg>\n",
              "      </button>\n",
              "      \n",
              "  <style>\n",
              "    .colab-df-container {\n",
              "      display:flex;\n",
              "      flex-wrap:wrap;\n",
              "      gap: 12px;\n",
              "    }\n",
              "\n",
              "    .colab-df-convert {\n",
              "      background-color: #E8F0FE;\n",
              "      border: none;\n",
              "      border-radius: 50%;\n",
              "      cursor: pointer;\n",
              "      display: none;\n",
              "      fill: #1967D2;\n",
              "      height: 32px;\n",
              "      padding: 0 0 0 0;\n",
              "      width: 32px;\n",
              "    }\n",
              "\n",
              "    .colab-df-convert:hover {\n",
              "      background-color: #E2EBFA;\n",
              "      box-shadow: 0px 1px 2px rgba(60, 64, 67, 0.3), 0px 1px 3px 1px rgba(60, 64, 67, 0.15);\n",
              "      fill: #174EA6;\n",
              "    }\n",
              "\n",
              "    [theme=dark] .colab-df-convert {\n",
              "      background-color: #3B4455;\n",
              "      fill: #D2E3FC;\n",
              "    }\n",
              "\n",
              "    [theme=dark] .colab-df-convert:hover {\n",
              "      background-color: #434B5C;\n",
              "      box-shadow: 0px 1px 3px 1px rgba(0, 0, 0, 0.15);\n",
              "      filter: drop-shadow(0px 1px 2px rgba(0, 0, 0, 0.3));\n",
              "      fill: #FFFFFF;\n",
              "    }\n",
              "  </style>\n",
              "\n",
              "      <script>\n",
              "        const buttonEl =\n",
              "          document.querySelector('#df-c2332f49-7706-4f78-b409-5d606c06f98d button.colab-df-convert');\n",
              "        buttonEl.style.display =\n",
              "          google.colab.kernel.accessAllowed ? 'block' : 'none';\n",
              "\n",
              "        async function convertToInteractive(key) {\n",
              "          const element = document.querySelector('#df-c2332f49-7706-4f78-b409-5d606c06f98d');\n",
              "          const dataTable =\n",
              "            await google.colab.kernel.invokeFunction('convertToInteractive',\n",
              "                                                     [key], {});\n",
              "          if (!dataTable) return;\n",
              "\n",
              "          const docLinkHtml = 'Like what you see? Visit the ' +\n",
              "            '<a target=\"_blank\" href=https://colab.research.google.com/notebooks/data_table.ipynb>data table notebook</a>'\n",
              "            + ' to learn more about interactive tables.';\n",
              "          element.innerHTML = '';\n",
              "          dataTable['output_type'] = 'display_data';\n",
              "          await google.colab.output.renderOutput(dataTable, element);\n",
              "          const docLink = document.createElement('div');\n",
              "          docLink.innerHTML = docLinkHtml;\n",
              "          element.appendChild(docLink);\n",
              "        }\n",
              "      </script>\n",
              "    </div>\n",
              "  </div>\n",
              "  "
            ]
          },
          "metadata": {},
          "execution_count": 220
        }
      ]
    },
    {
      "cell_type": "markdown",
      "source": [
        "Several users have commented on same listing multiple times. This could be because they stayed in the same place more than once."
      ],
      "metadata": {
        "id": "XnNxZOXE0UhD"
      }
    },
    {
      "cell_type": "markdown",
      "source": [
        "**Review Data Issues Identified**\n",
        "\n",
        "- reviewer_id: convert to `str`\n",
        "- date: convert to `datetime`\n",
        "- reviewer_id: convert to dummy\n",
        "- comment: ? missing value and duplication \n",
        "\n"
      ],
      "metadata": {
        "id": "Vf4RgzlJTzCi"
      }
    },
    {
      "cell_type": "markdown",
      "source": [
        "## Section 3: Data Preparation\n",
        "In order for the results to be reliable, data preparation makes sure that the raw data being prepared for analysis and processing is accurate and consistent. Data preparation efforts may involve resolving data issues, confirming data quality, and consolidating data collections.\n",
        "\n",
        "Finding pertinent data is another step in the data preparation process that enables analytics programmes to provide useful information and practical insights. By combining internal and external data sets, developing new data fields, removing outlier values, and resolving imbalanced data sets that can skew analytics results, the data is frequently enriched and optimised to make it much more relevant and usable.\n",
        "\n",
        "The data preparation pipeline consists of the following steps.\n",
        "\n",
        "1. Access the data.\n",
        "2. Fetch the data.\n",
        "3. Cleanse the data.\n",
        "4. Format the data.\n",
        "5. Combine the data.\n",
        "6. Analyze the data."
      ],
      "metadata": {
        "id": "yRQP8nivUcRf"
      }
    },
    {
      "cell_type": "markdown",
      "source": [
        "### Processing Calendar Data"
      ],
      "metadata": {
        "id": "zuTV0cn3H1bO"
      }
    },
    {
      "cell_type": "code",
      "source": [
        "calendar_cleaned = pd.read_csv('calendar.csv')"
      ],
      "metadata": {
        "id": "T88ea6DmUhaD"
      },
      "execution_count": null,
      "outputs": []
    },
    {
      "cell_type": "code",
      "source": [
        "# convert calendar listing_id to string method 1= \n",
        "calendar_cleaned[\"listing_id\"] = calendar_cleaned[\"listing_id\"].apply(str)"
      ],
      "metadata": {
        "id": "E5zY0A5cH08L"
      },
      "execution_count": null,
      "outputs": []
    },
    {
      "cell_type": "code",
      "source": [
        "# convert date(string) to datetime fastest method\n",
        "# calendar['date'] = pd.to_datetime(calendar['date']) o/p dtype('<M8[ns]')\n",
        "calendar_cleaned['date'] = calendar_cleaned['date'].astype('datetime64[ns]')"
      ],
      "metadata": {
        "id": "nLlkVPYOIZIE"
      },
      "execution_count": null,
      "outputs": []
    },
    {
      "cell_type": "code",
      "source": [
        "# to check dtype of datetime is equal to endianess\n",
        "np.dtype('datetime64[ns]') == np.dtype('<M8[ns]')"
      ],
      "metadata": {
        "id": "YyG0OoBsIeMa",
        "colab": {
          "base_uri": "https://localhost:8080/"
        },
        "outputId": "33be3e1e-d9ce-40b4-d630-7b166090df4d"
      },
      "execution_count": null,
      "outputs": [
        {
          "output_type": "execute_result",
          "data": {
            "text/plain": [
              "True"
            ]
          },
          "metadata": {},
          "execution_count": 103
        }
      ]
    },
    {
      "cell_type": "code",
      "source": [
        "#apply for listings and calendar column both\n",
        "calendar_cleaned[\"price\"] = calendar_cleaned[\"price\"].fillna(\"$0\")"
      ],
      "metadata": {
        "id": "i8S8oJAPIyYB"
      },
      "execution_count": null,
      "outputs": []
    },
    {
      "cell_type": "code",
      "source": [
        "# price fill nans to 0 and convert price to float and remove $ / ,\n",
        "calendar_cleaned[\"price\"] = calendar_cleaned[\"price\"].replace('[\\$,]', '', regex=True).astype(float)"
      ],
      "metadata": {
        "id": "fLy_fCK3nPX1"
      },
      "execution_count": null,
      "outputs": []
    },
    {
      "cell_type": "code",
      "source": [
        "calendar_cleaned.shape"
      ],
      "metadata": {
        "colab": {
          "base_uri": "https://localhost:8080/"
        },
        "id": "tDGPpJArndBS",
        "outputId": "a728f35b-f682-4992-f992-c246e0d84490"
      },
      "execution_count": null,
      "outputs": [
        {
          "output_type": "execute_result",
          "data": {
            "text/plain": [
              "(1308890, 4)"
            ]
          },
          "metadata": {},
          "execution_count": 106
        }
      ]
    },
    {
      "cell_type": "code",
      "source": [
        "# drop duplicated rows in calendar\n",
        "calendar_cleaned = calendar_cleaned.drop_duplicates()"
      ],
      "metadata": {
        "id": "r_lSwUfoI-Eu"
      },
      "execution_count": null,
      "outputs": []
    },
    {
      "cell_type": "code",
      "source": [
        "calendar_cleaned.shape"
      ],
      "metadata": {
        "colab": {
          "base_uri": "https://localhost:8080/"
        },
        "id": "btVyNJJ-nfHb",
        "outputId": "a1a77ea5-2922-46a3-932d-6e2fb8404f28"
      },
      "execution_count": null,
      "outputs": [
        {
          "output_type": "execute_result",
          "data": {
            "text/plain": [
              "(1308525, 4)"
            ]
          },
          "metadata": {},
          "execution_count": 108
        }
      ]
    },
    {
      "cell_type": "code",
      "source": [
        "calendar_cleaned['available'] = np.where(calendar_cleaned['available'] == 'f', 0, 1)"
      ],
      "metadata": {
        "id": "8JmknR_xJN3V",
        "colab": {
          "base_uri": "https://localhost:8080/"
        },
        "outputId": "6e616552-55b0-452f-903f-f8eaaac2cf13"
      },
      "execution_count": null,
      "outputs": [
        {
          "output_type": "stream",
          "name": "stderr",
          "text": [
            "/usr/local/lib/python3.7/dist-packages/ipykernel_launcher.py:1: SettingWithCopyWarning: \n",
            "A value is trying to be set on a copy of a slice from a DataFrame.\n",
            "Try using .loc[row_indexer,col_indexer] = value instead\n",
            "\n",
            "See the caveats in the documentation: https://pandas.pydata.org/pandas-docs/stable/user_guide/indexing.html#returning-a-view-versus-a-copy\n",
            "  \"\"\"Entry point for launching an IPython kernel.\n"
          ]
        }
      ]
    },
    {
      "cell_type": "code",
      "source": [
        "calendar_cleaned.dtypes"
      ],
      "metadata": {
        "colab": {
          "base_uri": "https://localhost:8080/"
        },
        "id": "4SRW9cRfJdbC",
        "outputId": "329430d3-7e64-4cdf-e14e-5df30e49e821"
      },
      "execution_count": null,
      "outputs": [
        {
          "output_type": "execute_result",
          "data": {
            "text/plain": [
              "listing_id            object\n",
              "date          datetime64[ns]\n",
              "available              int64\n",
              "price                float64\n",
              "dtype: object"
            ]
          },
          "metadata": {},
          "execution_count": 110
        }
      ]
    },
    {
      "cell_type": "code",
      "source": [
        "calendar_cleaned[calendar_cleaned[\"available\"] == 1].head()"
      ],
      "metadata": {
        "colab": {
          "base_uri": "https://localhost:8080/",
          "height": 206
        },
        "id": "aEFYs4iwnCO2",
        "outputId": "0d528414-c04a-4956-bce5-f05de17d4872"
      },
      "execution_count": null,
      "outputs": [
        {
          "output_type": "execute_result",
          "data": {
            "text/plain": [
              "    listing_id       date  available        price\n",
              "365    3075044 2017-08-22          1 65.000000000\n",
              "366    3075044 2017-08-21          1 65.000000000\n",
              "367    3075044 2017-08-20          1 65.000000000\n",
              "368    3075044 2017-08-19          1 75.000000000\n",
              "369    3075044 2017-08-18          1 75.000000000"
            ],
            "text/html": [
              "\n",
              "  <div id=\"df-655f8cbd-133a-4e2b-aeee-cde08ae9eaec\">\n",
              "    <div class=\"colab-df-container\">\n",
              "      <div>\n",
              "<style scoped>\n",
              "    .dataframe tbody tr th:only-of-type {\n",
              "        vertical-align: middle;\n",
              "    }\n",
              "\n",
              "    .dataframe tbody tr th {\n",
              "        vertical-align: top;\n",
              "    }\n",
              "\n",
              "    .dataframe thead th {\n",
              "        text-align: right;\n",
              "    }\n",
              "</style>\n",
              "<table border=\"1\" class=\"dataframe\">\n",
              "  <thead>\n",
              "    <tr style=\"text-align: right;\">\n",
              "      <th></th>\n",
              "      <th>listing_id</th>\n",
              "      <th>date</th>\n",
              "      <th>available</th>\n",
              "      <th>price</th>\n",
              "    </tr>\n",
              "  </thead>\n",
              "  <tbody>\n",
              "    <tr>\n",
              "      <th>365</th>\n",
              "      <td>3075044</td>\n",
              "      <td>2017-08-22</td>\n",
              "      <td>1</td>\n",
              "      <td>65.000000000</td>\n",
              "    </tr>\n",
              "    <tr>\n",
              "      <th>366</th>\n",
              "      <td>3075044</td>\n",
              "      <td>2017-08-21</td>\n",
              "      <td>1</td>\n",
              "      <td>65.000000000</td>\n",
              "    </tr>\n",
              "    <tr>\n",
              "      <th>367</th>\n",
              "      <td>3075044</td>\n",
              "      <td>2017-08-20</td>\n",
              "      <td>1</td>\n",
              "      <td>65.000000000</td>\n",
              "    </tr>\n",
              "    <tr>\n",
              "      <th>368</th>\n",
              "      <td>3075044</td>\n",
              "      <td>2017-08-19</td>\n",
              "      <td>1</td>\n",
              "      <td>75.000000000</td>\n",
              "    </tr>\n",
              "    <tr>\n",
              "      <th>369</th>\n",
              "      <td>3075044</td>\n",
              "      <td>2017-08-18</td>\n",
              "      <td>1</td>\n",
              "      <td>75.000000000</td>\n",
              "    </tr>\n",
              "  </tbody>\n",
              "</table>\n",
              "</div>\n",
              "      <button class=\"colab-df-convert\" onclick=\"convertToInteractive('df-655f8cbd-133a-4e2b-aeee-cde08ae9eaec')\"\n",
              "              title=\"Convert this dataframe to an interactive table.\"\n",
              "              style=\"display:none;\">\n",
              "        \n",
              "  <svg xmlns=\"http://www.w3.org/2000/svg\" height=\"24px\"viewBox=\"0 0 24 24\"\n",
              "       width=\"24px\">\n",
              "    <path d=\"M0 0h24v24H0V0z\" fill=\"none\"/>\n",
              "    <path d=\"M18.56 5.44l.94 2.06.94-2.06 2.06-.94-2.06-.94-.94-2.06-.94 2.06-2.06.94zm-11 1L8.5 8.5l.94-2.06 2.06-.94-2.06-.94L8.5 2.5l-.94 2.06-2.06.94zm10 10l.94 2.06.94-2.06 2.06-.94-2.06-.94-.94-2.06-.94 2.06-2.06.94z\"/><path d=\"M17.41 7.96l-1.37-1.37c-.4-.4-.92-.59-1.43-.59-.52 0-1.04.2-1.43.59L10.3 9.45l-7.72 7.72c-.78.78-.78 2.05 0 2.83L4 21.41c.39.39.9.59 1.41.59.51 0 1.02-.2 1.41-.59l7.78-7.78 2.81-2.81c.8-.78.8-2.07 0-2.86zM5.41 20L4 18.59l7.72-7.72 1.47 1.35L5.41 20z\"/>\n",
              "  </svg>\n",
              "      </button>\n",
              "      \n",
              "  <style>\n",
              "    .colab-df-container {\n",
              "      display:flex;\n",
              "      flex-wrap:wrap;\n",
              "      gap: 12px;\n",
              "    }\n",
              "\n",
              "    .colab-df-convert {\n",
              "      background-color: #E8F0FE;\n",
              "      border: none;\n",
              "      border-radius: 50%;\n",
              "      cursor: pointer;\n",
              "      display: none;\n",
              "      fill: #1967D2;\n",
              "      height: 32px;\n",
              "      padding: 0 0 0 0;\n",
              "      width: 32px;\n",
              "    }\n",
              "\n",
              "    .colab-df-convert:hover {\n",
              "      background-color: #E2EBFA;\n",
              "      box-shadow: 0px 1px 2px rgba(60, 64, 67, 0.3), 0px 1px 3px 1px rgba(60, 64, 67, 0.15);\n",
              "      fill: #174EA6;\n",
              "    }\n",
              "\n",
              "    [theme=dark] .colab-df-convert {\n",
              "      background-color: #3B4455;\n",
              "      fill: #D2E3FC;\n",
              "    }\n",
              "\n",
              "    [theme=dark] .colab-df-convert:hover {\n",
              "      background-color: #434B5C;\n",
              "      box-shadow: 0px 1px 3px 1px rgba(0, 0, 0, 0.15);\n",
              "      filter: drop-shadow(0px 1px 2px rgba(0, 0, 0, 0.3));\n",
              "      fill: #FFFFFF;\n",
              "    }\n",
              "  </style>\n",
              "\n",
              "      <script>\n",
              "        const buttonEl =\n",
              "          document.querySelector('#df-655f8cbd-133a-4e2b-aeee-cde08ae9eaec button.colab-df-convert');\n",
              "        buttonEl.style.display =\n",
              "          google.colab.kernel.accessAllowed ? 'block' : 'none';\n",
              "\n",
              "        async function convertToInteractive(key) {\n",
              "          const element = document.querySelector('#df-655f8cbd-133a-4e2b-aeee-cde08ae9eaec');\n",
              "          const dataTable =\n",
              "            await google.colab.kernel.invokeFunction('convertToInteractive',\n",
              "                                                     [key], {});\n",
              "          if (!dataTable) return;\n",
              "\n",
              "          const docLinkHtml = 'Like what you see? Visit the ' +\n",
              "            '<a target=\"_blank\" href=https://colab.research.google.com/notebooks/data_table.ipynb>data table notebook</a>'\n",
              "            + ' to learn more about interactive tables.';\n",
              "          element.innerHTML = '';\n",
              "          dataTable['output_type'] = 'display_data';\n",
              "          await google.colab.output.renderOutput(dataTable, element);\n",
              "          const docLink = document.createElement('div');\n",
              "          docLink.innerHTML = docLinkHtml;\n",
              "          element.appendChild(docLink);\n",
              "        }\n",
              "      </script>\n",
              "    </div>\n",
              "  </div>\n",
              "  "
            ]
          },
          "metadata": {},
          "execution_count": 111
        }
      ]
    },
    {
      "cell_type": "markdown",
      "source": [
        "### Processing Listings Data"
      ],
      "metadata": {
        "id": "uhGEv83mJ05_"
      }
    },
    {
      "cell_type": "code",
      "source": [
        "listings_cleaned = pd.read_csv('listings.csv')"
      ],
      "metadata": {
        "id": "jq6AWHA-JzSP"
      },
      "execution_count": null,
      "outputs": []
    },
    {
      "cell_type": "code",
      "source": [
        "# Drop extraneous column\n",
        "listings_cleaned = listings_cleaned.drop(\n",
        "    columns = [\n",
        "              \"listing_url\", \"scrape_id\", \"last_scraped\", \"summary\", \n",
        "              \"experiences_offered\", \"thumbnail_url\", \"medium_url\", \n",
        "              \"picture_url\", \"xl_picture_url\", \"host_url\", \n",
        "              \"host_thumbnail_url\", \"host_picture_url\", \n",
        "              \"host_total_listings_count\", \"host_verifications\", \n",
        "              \"host_has_profile_pic\", \"host_identity_verified\", \n",
        "              \"neighbourhood\", \"neighbourhood_group_cleansed\", \n",
        "              \"state\", \"market\", \"country_code\", \"smart_location\", \n",
        "              \"country\", \"latitude\", \"longitude\", \"is_location_exact\", \n",
        "              \"security_deposit\", \"cleaning_fee\", \"minimum_nights\", \n",
        "              \"maximum_nights\", \"calendar_updated\", \"has_availability\", \n",
        "              \"availability_30\", \"availability_60\", \"availability_90\", \n",
        "              \"availability_365\", \"calendar_last_scraped\", \"first_review\", \n",
        "              \"last_review\", \"review_scores_rating\", \"review_scores_accuracy\", \n",
        "              \"review_scores_cleanliness\", \"review_scores_checkin\", \n",
        "              \"review_scores_communication\", \"review_scores_location\", \n",
        "              \"review_scores_value\", \"requires_license\", \"license\", \n",
        "              \"jurisdiction_names\", \"require_guest_profile_picture\", \n",
        "              \"require_guest_phone_verification\", \"calculated_host_listings_count\",\n",
        "               \"number_of_reviews\", \"reviews_per_month\", \"guests_included\", \"host_name\",\n",
        "               \"host_since\", \"host_location\", \"host_response_rate\",\n",
        "               \"host_acceptance_rate\", \"host_is_superhost\",\n",
        "               \"host_neighbourhood\", \"host_id\", \"host_about\",\n",
        "               \"name\", \"amenities\", \"weekly_price\", \"weekly_price\"\n",
        "              ],\n",
        ")"
      ],
      "metadata": {
        "id": "bzs8JkURKnNL"
      },
      "execution_count": null,
      "outputs": []
    },
    {
      "cell_type": "code",
      "source": [
        "# Convert id in listings from number to string\n",
        "listings_cleaned[\"id\"] = listings_cleaned[\"id\"].apply(str)"
      ],
      "metadata": {
        "id": "4654YubTfAPC"
      },
      "execution_count": null,
      "outputs": []
    },
    {
      "cell_type": "code",
      "source": [
        "## Remove na from text columns\n",
        "text_cols = [\"space\", \"description\", \"neighborhood_overview\", \"notes\", \"transit\", \"access\", \"house_rules\", \"interaction\"]\n",
        "listings_cleaned[text_cols] = listings_cleaned[text_cols].fillna(\"\")"
      ],
      "metadata": {
        "id": "1fdyGASSfKzy"
      },
      "execution_count": null,
      "outputs": []
    },
    {
      "cell_type": "code",
      "source": [
        "def combine_cols(df , target_col , cols):\n",
        "  \"\"\"\n",
        "  Combines data in given columns and save it to provided columns\n",
        "  Parameters\n",
        "  ----------\n",
        "  df: dataframe, required\n",
        "  target_col: name of the new column to be created, required\n",
        "  cols: list of columns to be merged with newline (\\\\n) character, required\n",
        "  \"\"\"\n",
        "  df[target_col] = df[cols].apply(lambda x: '\\n'.join(x), axis=1)\n",
        "  df = df.drop(columns= cols)\n",
        "  return df"
      ],
      "metadata": {
        "id": "VzTBMlFpjY09"
      },
      "execution_count": null,
      "outputs": []
    },
    {
      "cell_type": "code",
      "source": [
        "# Combine space, description, neighborhood_overview, notes -> listing_description\n",
        "listings_cleaned = combine_cols(\n",
        "    df = listings_cleaned,\n",
        "    target_col = \"listing_description\",\n",
        "    cols = [\"space\", \"description\", \"neighborhood_overview\", \"notes\"]\n",
        ")"
      ],
      "metadata": {
        "id": "L3XHUotGiIJn"
      },
      "execution_count": null,
      "outputs": []
    },
    {
      "cell_type": "code",
      "source": [
        "print(listings_cleaned[\"listing_description\"].iloc[3])"
      ],
      "metadata": {
        "colab": {
          "base_uri": "https://localhost:8080/"
        },
        "id": "fA-HaZH2iH9A",
        "outputId": "e1afedb9-ca4d-41ba-b993-bc3a95cd97c7"
      },
      "execution_count": null,
      "outputs": [
        {
          "output_type": "stream",
          "name": "stdout",
          "text": [
            "Most places you find in Boston are small however our bedroom suite is large. The bedroom has plush down pillows and a down comforter. The mattress is fitted with a memory foam topper that gives each guest the best sleep. The leather couches are cozy.  The large leather couch can be converted to a bed. The television has been updated to a smart tv therefore you can access most tv programs through there including, HBO, Showtime and Cinemax. If you want to enjoy cable television, there is a tv in the kitchen. The kitchen has a gas burner, dishwasher, garbage disposal, music system, and a space in the fridge to keep your items.\n",
            "Come experience the comforts of home away from home in our fabulous bedroom suite available in Roslindale, a neighborhood in Boston.  Enjoy sleeping on a large king sized bed with plush down bedding, access to a dishwasher, washer dryer and home gym. The house is incredibly accessible to public transportation and the center of Boston. Free street parking is available right in front of the house. Weekend farmers markets, restaurants and grocery stores are a 10 min walk away from the house. Most places you find in Boston are small however our bedroom suite is large. The bedroom has plush down pillows and a down comforter. The mattress is fitted with a memory foam topper that gives each guest the best sleep. The leather couches are cozy.  The large leather couch can be converted to a bed. The television has been updated to a smart tv therefore you can access most tv programs through there including, HBO, Showtime and Cinemax. If you want to enjoy cable television, there is a tv in the kit\n",
            "Roslindale is a lovely little neighborhood located right in the city of Boston.  Though a part of the actual city, once you enter it, you feel as though you have escaped to a suburb with friendly neighbors.  The area is conveniently located with access to the city’s bus and subway system.  The Orange Line and Commuter Rail services connect the area to the heart of Boston and the neighboring towns.  It is situated close to shops, restaurants, grocery stores, parks and neighboring towns.  The farmer’s market held in the neighborhood’s center, Roslindale Village, and goes on all summer on Saturday morning.  Vendors of all different types of arts, crafts, and foods come to the neighborhood.  The Arnold Arboretum is a 265 acre park constructed as part of Frederick Law Olmsted’s Emerald Necklace project to provide Boston a connection through neighborhoods through it’s parks.  Jamaica Pond is also part of the emerald necklace which sits at the confluence of Jamaica Plain (a neighboring neighb\n",
            "Please be mindful of the property as it is old and needs to be treated with the love and care you would give to your own home.  We really hope you enjoy your stay!\n"
          ]
        }
      ]
    },
    {
      "cell_type": "code",
      "source": [
        "# Combine transit, access -> listing_access\n",
        "listings_cleaned = combine_cols(\n",
        "    df = listings_cleaned,\n",
        "    target_col = \"listing_access\",\n",
        "    cols = [\"transit\", \"access\"]\n",
        ")"
      ],
      "metadata": {
        "id": "KC-aVWmBjFmn"
      },
      "execution_count": null,
      "outputs": []
    },
    {
      "cell_type": "code",
      "source": [
        "print(listings_cleaned[\"listing_access\"].iloc[5])"
      ],
      "metadata": {
        "colab": {
          "base_uri": "https://localhost:8080/"
        },
        "id": "Vcpz4M5gkpaT",
        "outputId": "a2c206d5-b1f8-480c-cd40-3bcc6969ecf4"
      },
      "execution_count": null,
      "outputs": [
        {
          "output_type": "stream",
          "name": "stdout",
          "text": [
            "To reach downtown Boston via public transportation takes about 45 minutes. Guests can take the MBTA 51 bus and connect to either the Orange Line at Forest Hills, or the Green Line (D train) at Riverside, depending on where you want to go. In addition, we're a 10-minute walk from the Roslindale Village station on the MBTA Commuter Rail, another option for reaching downtown.\n",
            "Guests are welcome to share our living room and refrigerator space.\n"
          ]
        }
      ]
    },
    {
      "cell_type": "code",
      "source": [
        "# Combine house_rules, interaction -> host_rules\n",
        "listings_cleaned = combine_cols(\n",
        "    df = listings_cleaned,\n",
        "    target_col = \"host_rules\",\n",
        "    cols = [\"house_rules\", \"interaction\"]\n",
        ")"
      ],
      "metadata": {
        "id": "YsToN82QlCLG"
      },
      "execution_count": null,
      "outputs": []
    },
    {
      "cell_type": "code",
      "source": [
        "print(listings_cleaned[\"host_rules\"].iloc[1])"
      ],
      "metadata": {
        "colab": {
          "base_uri": "https://localhost:8080/"
        },
        "id": "YAnponUNlJuq",
        "outputId": "c11587cf-1b28-411d-ede4-03c73dc0ea87"
      },
      "execution_count": null,
      "outputs": [
        {
          "output_type": "stream",
          "name": "stdout",
          "text": [
            "Pet friendly but please confirm with me if the pet you are planning on bringing with you is OK. I have a cute and quiet mixed chihuahua. I could accept more guests (for an extra fee) but this also needs to be confirmed beforehand. Also friends traveling together could sleep in separate beds for an extra fee (the second bed is either a sofa bed or inflatable bed). Smoking is only allowed on the porch.\n",
            "If I am at home, I am likely working in my home office, which is a separate room. I can help you settle in and give you tips and directions on the neighborhood and Boston. \n"
          ]
        }
      ]
    },
    {
      "cell_type": "code",
      "source": [
        "# neighbourhood_cleansed rename to neighbourhood\n",
        "listings_cleaned = listings_cleaned.rename(columns = {'neighbourhood_cleansed':'neighbourhood'})"
      ],
      "metadata": {
        "id": "sX26C2TElX5E"
      },
      "execution_count": null,
      "outputs": []
    },
    {
      "cell_type": "code",
      "source": [
        "def convert_price_to_float(df , target_col):\n",
        "  \"\"\"\n",
        "  Converts column with string as numbers to numbers. Removes $ and , if they are present\n",
        "  Parameters\n",
        "  ----------\n",
        "  df: dataframe, required\n",
        "  target_col: name of the new column to be processed.\n",
        "  \"\"\"\n",
        "  df[target_col] = df[target_col].fillna(\"$0\").replace('[\\$,]', '', regex=True).astype(float)\n",
        "  return df\n"
      ],
      "metadata": {
        "id": "ZEGCtJkyBYkf"
      },
      "execution_count": 224,
      "outputs": []
    },
    {
      "cell_type": "code",
      "source": [
        "# extra_people to float value\n",
        "listings_cleaned = convert_price_to_float(\n",
        "      df = listings_cleaned,\n",
        "      target_col = \"extra_people\"\n",
        "    )"
      ],
      "metadata": {
        "id": "JjwtaZbHmAWo"
      },
      "execution_count": null,
      "outputs": []
    },
    {
      "cell_type": "code",
      "source": [
        "# square_feet replace nan with 0.0\n",
        "listings_cleaned[\"square_feet\"] = listings_cleaned[\"square_feet\"].fillna(0.0)"
      ],
      "metadata": {
        "id": "O3oVdDAZmgan"
      },
      "execution_count": null,
      "outputs": []
    },
    {
      "cell_type": "code",
      "source": [
        "# price to float float value\n",
        "listings_cleaned = convert_price_to_float(\n",
        "      df = listings_cleaned,\n",
        "      target_col = \"price\"\n",
        "    )"
      ],
      "metadata": {
        "id": "MQV27RBXm8oW"
      },
      "execution_count": null,
      "outputs": []
    },
    {
      "cell_type": "code",
      "source": [
        "listings_cleaned.info()"
      ],
      "metadata": {
        "colab": {
          "base_uri": "https://localhost:8080/"
        },
        "id": "wyLFjvo6ssgx",
        "outputId": "1e8dfb28-b76d-480d-95d1-42a3045c327f"
      },
      "execution_count": null,
      "outputs": [
        {
          "output_type": "stream",
          "name": "stdout",
          "text": [
            "<class 'pandas.core.frame.DataFrame'>\n",
            "RangeIndex: 3585 entries, 0 to 3584\n",
            "Data columns (total 23 columns):\n",
            " #   Column               Non-Null Count  Dtype  \n",
            "---  ------               --------------  -----  \n",
            " 0   id                   3585 non-null   object \n",
            " 1   host_response_time   3114 non-null   object \n",
            " 2   host_listings_count  3585 non-null   int64  \n",
            " 3   street               3585 non-null   object \n",
            " 4   neighbourhood        3585 non-null   object \n",
            " 5   city                 3583 non-null   object \n",
            " 6   zipcode              3547 non-null   object \n",
            " 7   property_type        3582 non-null   object \n",
            " 8   room_type            3585 non-null   object \n",
            " 9   accommodates         3585 non-null   int64  \n",
            " 10  bathrooms            3571 non-null   float64\n",
            " 11  bedrooms             3575 non-null   float64\n",
            " 12  beds                 3576 non-null   float64\n",
            " 13  bed_type             3585 non-null   object \n",
            " 14  square_feet          3585 non-null   float64\n",
            " 15  price                3585 non-null   float64\n",
            " 16  monthly_price        888 non-null    object \n",
            " 17  extra_people         3585 non-null   float64\n",
            " 18  instant_bookable     3585 non-null   object \n",
            " 19  cancellation_policy  3585 non-null   object \n",
            " 20  listing_description  3585 non-null   object \n",
            " 21  listing_access       3585 non-null   object \n",
            " 22  host_rules           3585 non-null   object \n",
            "dtypes: float64(6), int64(2), object(15)\n",
            "memory usage: 644.3+ KB\n"
          ]
        }
      ]
    },
    {
      "cell_type": "markdown",
      "source": [
        "**Host Response Time**"
      ],
      "metadata": {
        "id": "mi-k6SmV65zq"
      }
    },
    {
      "cell_type": "code",
      "source": [
        "# Convert na to unknown\n",
        "listings_cleaned[\"host_response_time\"] = listings_cleaned[\"host_response_time\"].fillna(\"unknown\")"
      ],
      "metadata": {
        "id": "-umVNovvpB1H"
      },
      "execution_count": null,
      "outputs": []
    },
    {
      "cell_type": "code",
      "source": [
        "unique_hrt = listings_cleaned[\"host_response_time\"].unique()"
      ],
      "metadata": {
        "id": "AnkyH2kjo3uq"
      },
      "execution_count": null,
      "outputs": []
    },
    {
      "cell_type": "code",
      "source": [
        "# The values are already in correct order. So, no manual reordering required\n",
        "unique_hrt"
      ],
      "metadata": {
        "colab": {
          "base_uri": "https://localhost:8080/"
        },
        "id": "CyLhwz2qpwhQ",
        "outputId": "cc78463f-cab9-40be-f1d6-6ca303033182"
      },
      "execution_count": null,
      "outputs": [
        {
          "output_type": "execute_result",
          "data": {
            "text/plain": [
              "array(['unknown', 'within an hour', 'within a few hours', 'within a day',\n",
              "       'a few days or more'], dtype=object)"
            ]
          },
          "metadata": {},
          "execution_count": 131
        }
      ]
    },
    {
      "cell_type": "code",
      "source": [
        "# Convert host_response_time to categorical data\n",
        "listings_cleaned[\"host_response_time\"] = listings_cleaned[\"host_response_time\"].astype(\"category\")\n",
        "listings_cleaned[\"host_response_time\"] = listings_cleaned[\"host_response_time\"].cat.reorder_categories(unique_hrt, ordered=True)"
      ],
      "metadata": {
        "id": "aczOjYHAo1e-"
      },
      "execution_count": null,
      "outputs": []
    },
    {
      "cell_type": "code",
      "source": [
        "listings_cleaned[\"host_response_time_int\"] = listings_cleaned[\"host_response_time\"].cat.codes"
      ],
      "metadata": {
        "id": "NyJ0p9fg0oHF"
      },
      "execution_count": null,
      "outputs": []
    },
    {
      "cell_type": "markdown",
      "source": [
        "**Property Type**"
      ],
      "metadata": {
        "id": "PdxHfVnP48Ze"
      }
    },
    {
      "cell_type": "code",
      "source": [
        "# Filling the nans with \"unknown\" and converting them to categorical data to clean \n",
        "listings_cleaned[\"property_type\"] = listings_cleaned[\"property_type\"].fillna(\"unknown\")\n",
        "listings_cleaned[\"property_type\"] = listings_cleaned[\"property_type\"].astype(\"category\")"
      ],
      "metadata": {
        "id": "pmhpEbNX5CzL"
      },
      "execution_count": null,
      "outputs": []
    },
    {
      "cell_type": "markdown",
      "source": [
        "**Room Type**"
      ],
      "metadata": {
        "id": "l-w3avwW5FpH"
      }
    },
    {
      "cell_type": "code",
      "source": [
        "#to know the unique value of room types\n",
        "explore_column(listings_cleaned, \"room_type\", print_unique=True)"
      ],
      "metadata": {
        "colab": {
          "base_uri": "https://localhost:8080/"
        },
        "id": "kJrxaxvU5WKB",
        "outputId": "5650d3a4-39a1-4f53-e632-3e3494016e4c"
      },
      "execution_count": null,
      "outputs": [
        {
          "output_type": "stream",
          "name": "stdout",
          "text": [
            "There are 0 of na columns.\n",
            "There are 3 unique values\n",
            "Column type:  object\n",
            "Unique values:  ['Entire home/apt' 'Private room' 'Shared room']\n"
          ]
        }
      ]
    },
    {
      "cell_type": "code",
      "source": [
        "listings_cleaned[\"room_type\"] = listings_cleaned[\"room_type\"].fillna(\"unknown\")"
      ],
      "metadata": {
        "id": "F1kYCOIr5KBe"
      },
      "execution_count": null,
      "outputs": []
    },
    {
      "cell_type": "code",
      "source": [
        "# Adding unknown for missing data and converting it to categorical in a way that lowest value is assigned to shared room followed by private room and the highest value is assigned to entire home/apt\n",
        "listings_cleaned[\"room_type\"] = listings_cleaned[\"room_type\"].astype(\"category\")\n",
        "rt_order = ['unknown', 'Shared room', 'Private room', 'Entire home/apt']\n",
        "listings_cleaned[\"room_type\"] = listings_cleaned[\"room_type\"].cat.set_categories(rt_order, ordered=True)"
      ],
      "metadata": {
        "id": "lk24GMTr6A8q"
      },
      "execution_count": null,
      "outputs": []
    },
    {
      "cell_type": "code",
      "source": [
        "listings_cleaned[\"room_type_int\"] = listings_cleaned[\"room_type\"].cat.codes"
      ],
      "metadata": {
        "id": "x9333H3-6KMW"
      },
      "execution_count": null,
      "outputs": []
    },
    {
      "cell_type": "code",
      "source": [
        "explore_column(listings_cleaned, \"host_response_time_int\", None, True)"
      ],
      "metadata": {
        "colab": {
          "base_uri": "https://localhost:8080/"
        },
        "id": "6IqcW8ilgoTE",
        "outputId": "4b0fbb85-6351-431d-81f2-cf3fd5a1c825"
      },
      "execution_count": null,
      "outputs": [
        {
          "output_type": "stream",
          "name": "stdout",
          "text": [
            "There are 0 of na columns.\n",
            "There are 5 unique values\n",
            "Column type:  int8\n",
            "Unique values:  [0 1 2 3 4]\n"
          ]
        }
      ]
    },
    {
      "cell_type": "markdown",
      "source": [
        "**Accomodates, Bathrooms, Bedrooms and beds**"
      ],
      "metadata": {
        "id": "ZPP9-GiN7Lox"
      }
    },
    {
      "cell_type": "code",
      "source": [
        "# fillna with \"0\"\n",
        "listings_cleaned[\"accommodates\"] = listings_cleaned[\"accommodates\"].fillna(0)\n",
        "listings_cleaned[\"bathrooms\"] = listings_cleaned[\"bathrooms\"].fillna(0)\n",
        "listings_cleaned[\"bedrooms\"] = listings_cleaned[\"bedrooms\"].fillna(0)\n",
        "listings_cleaned[\"beds\"] = listings_cleaned[\"beds\"].fillna(0)"
      ],
      "metadata": {
        "id": "wotQj1iHvT4r"
      },
      "execution_count": null,
      "outputs": []
    },
    {
      "cell_type": "code",
      "source": [
        "# Get unique values and sort ascending order\n",
        "# unique_brs = listings_cleaned[\"bedrooms\"].unique()\n",
        "# unique_brs.sort()\n",
        "# unique_brs = unique_brs.astype(str)\n",
        "\n",
        "# to categorical variable\n",
        "# listings_cleaned[\"bedrooms\"] = listings_cleaned[\"bedrooms\"].astype(\"str\").astype(\"category\")\n",
        "# listings_cleaned[\"bedrooms\"] = listings_cleaned[\"bedrooms\"].cat.set_categories(unique_brs, ordered=True)\n",
        "\n",
        "# beds to categorical variable with order\n",
        "\n",
        "# Get unique values and sort ascending order\n",
        "# unique_beds = listings_cleaned[\"beds\"].unique()\n",
        "# unique_beds.sort()\n",
        "# unique_beds = unique_brs.astype(str)\n",
        "\n",
        "# to categorical variable\n",
        "# listings_cleaned[\"beds\"] = listings_cleaned[\"beds\"].astype(\"str\").astype(\"category\")\n",
        "# listings_cleaned[\"beds\"] = listings_cleaned[\"beds\"].cat.set_categories(unique_beds, ordered=True)"
      ],
      "metadata": {
        "id": "_s32LYpQFZnK"
      },
      "execution_count": null,
      "outputs": []
    },
    {
      "cell_type": "markdown",
      "source": [
        "**Bed Type**"
      ],
      "metadata": {
        "id": "xZpfJVRv6OCp"
      }
    },
    {
      "cell_type": "code",
      "source": [
        "#exploring bed types\n",
        "explore_column(listings_cleaned, \"bed_type\", print_samples=None, print_unique=True)"
      ],
      "metadata": {
        "colab": {
          "base_uri": "https://localhost:8080/"
        },
        "id": "j65P7lgTyEIx",
        "outputId": "218ab42e-0778-4c24-d806-c8432ff425df"
      },
      "execution_count": null,
      "outputs": [
        {
          "output_type": "stream",
          "name": "stdout",
          "text": [
            "There are 0 of na columns.\n",
            "There are 5 unique values\n",
            "Column type:  object\n",
            "Unique values:  ['Real Bed' 'Pull-out Sofa' 'Futon' 'Airbed' 'Couch']\n"
          ]
        }
      ]
    },
    {
      "cell_type": "code",
      "source": [
        "#filling in the nans with \"unknown\"\n",
        "listings_cleaned[\"bed_type\"] = listings_cleaned[\"bed_type\"].fillna(\"unknown\")"
      ],
      "metadata": {
        "id": "QhHNC4od7mj_"
      },
      "execution_count": null,
      "outputs": []
    },
    {
      "cell_type": "code",
      "source": [
        "# Adding unknown for missing data and converting it to categorical in a way that lowest value is assigned to unknown bed in room followed by couch and the highest value is assigned to real bed\n",
        "listings_cleaned[\"bed_type\"] = listings_cleaned[\"bed_type\"].astype(\"category\")\n",
        "rt_order = ['unknown', 'Couch', 'Pull-out Sofa', 'Futon', 'Airbed', 'Real Bed']\n",
        "listings_cleaned[\"bed_type\"] = listings_cleaned[\"bed_type\"].cat.set_categories(rt_order, ordered=True)"
      ],
      "metadata": {
        "id": "IZ99V2qbyJzD"
      },
      "execution_count": null,
      "outputs": []
    },
    {
      "cell_type": "code",
      "source": [
        "listings_cleaned[\"bed_type_int\"] = listings_cleaned[\"bed_type\"].cat.codes"
      ],
      "metadata": {
        "id": "nvDuPNC8u5GL"
      },
      "execution_count": null,
      "outputs": []
    },
    {
      "cell_type": "code",
      "source": [
        "explore_column(listings_cleaned, \"bed_type_int\", print_samples=None, print_unique=True)"
      ],
      "metadata": {
        "colab": {
          "base_uri": "https://localhost:8080/"
        },
        "id": "mWi-aJ-d9Gu_",
        "outputId": "a98c1bfc-aaca-47fc-ec86-eeabbb1dd154"
      },
      "execution_count": null,
      "outputs": [
        {
          "output_type": "stream",
          "name": "stdout",
          "text": [
            "There are 0 of na columns.\n",
            "There are 5 unique values\n",
            "Column type:  int8\n",
            "Unique values:  [5 2 3 4 1]\n"
          ]
        }
      ]
    },
    {
      "cell_type": "markdown",
      "source": [
        "**Instant Bookable**"
      ],
      "metadata": {
        "id": "GWeR1BOB8QNz"
      }
    },
    {
      "cell_type": "code",
      "source": [
        "explore_column(listings_cleaned, \"instant_bookable\", print_samples=None, print_unique=True)"
      ],
      "metadata": {
        "colab": {
          "base_uri": "https://localhost:8080/"
        },
        "id": "yX-OCyS88TKT",
        "outputId": "5bd65016-6283-4fcc-aa4c-2be22e0fc8d2"
      },
      "execution_count": null,
      "outputs": [
        {
          "output_type": "stream",
          "name": "stdout",
          "text": [
            "There are 0 of na columns.\n",
            "There are 2 unique values\n",
            "Column type:  object\n",
            "Unique values:  ['f' 't']\n"
          ]
        }
      ]
    },
    {
      "cell_type": "code",
      "source": [
        "# instant_bookable to categorical\n",
        "listings_cleaned[\"instant_bookable\"] = np.where(listings_cleaned[\"instant_bookable\"] == 'f', 0, 1)"
      ],
      "metadata": {
        "id": "WBqRlhb6w8Pk"
      },
      "execution_count": null,
      "outputs": []
    },
    {
      "cell_type": "markdown",
      "source": [
        "**Cancellation Policy**"
      ],
      "metadata": {
        "id": "BXORy3lM8ave"
      }
    },
    {
      "cell_type": "code",
      "source": [
        "#exploring cancellation policy and arranging inorder of flexible to super strict 30\n",
        "explore_column(listings_cleaned, \"cancellation_policy\", print_samples=None, print_unique=True)"
      ],
      "metadata": {
        "colab": {
          "base_uri": "https://localhost:8080/"
        },
        "id": "FCXAc6Us8Yyg",
        "outputId": "50d7c6a5-0bd5-4200-8f24-c4a9d71b9b52"
      },
      "execution_count": null,
      "outputs": [
        {
          "output_type": "stream",
          "name": "stdout",
          "text": [
            "There are 0 of na columns.\n",
            "There are 4 unique values\n",
            "Column type:  object\n",
            "Unique values:  ['moderate' 'flexible' 'strict' 'super_strict_30']\n"
          ]
        }
      ]
    },
    {
      "cell_type": "code",
      "source": [
        "cancel_uniques = ['flexible', 'moderate', 'strict', 'super_strict_30']"
      ],
      "metadata": {
        "id": "eg3NBEoHHIBI"
      },
      "execution_count": null,
      "outputs": []
    },
    {
      "cell_type": "code",
      "source": [
        "# cancellation_policy to categorical\n",
        "listings_cleaned[\"cancellation_policy\"] = listings_cleaned[\"cancellation_policy\"].astype(\"category\")\n",
        "listings_cleaned[\"cancellation_policy\"] = listings_cleaned[\"cancellation_policy\"].cat.set_categories(cancel_uniques, ordered=True)\n"
      ],
      "metadata": {
        "id": "q4VKodS75Fxx"
      },
      "execution_count": null,
      "outputs": []
    },
    {
      "cell_type": "code",
      "source": [
        "listings_cleaned[\"cancellation_policy_int\"] = listings_cleaned[\"cancellation_policy\"].cat.codes"
      ],
      "metadata": {
        "id": "BIvzJQqwHo3Q"
      },
      "execution_count": null,
      "outputs": []
    },
    {
      "cell_type": "markdown",
      "source": [
        "**Neighbourhood Column**"
      ],
      "metadata": {
        "id": "4VqyCzJH_WC7"
      }
    },
    {
      "cell_type": "code",
      "source": [
        "def fix_neighbourhood(row):\n",
        "  \"\"\"\n",
        "  To be used in the apply function. Converts neighbourhood to single word.\n",
        "  Parameters\n",
        "  ----------\n",
        "  row: pandas series, required\n",
        "  \"\"\" \n",
        "  if row[\"neighbourhood\"] is np.nan:\n",
        "    return row[\"street\"].split(',')[0]\n",
        "  else:\n",
        "    return row[\"neighbourhood\"]\n",
        "\n",
        "listings_cleaned[\"neighbourhood\"] = listings_cleaned.apply(fix_neighbourhood, axis=1)"
      ],
      "metadata": {
        "id": "6mCHtUQ2RIm4"
      },
      "execution_count": 225,
      "outputs": []
    },
    {
      "cell_type": "code",
      "source": [
        "listings_cleaned['neighbourhood'].unique()"
      ],
      "metadata": {
        "colab": {
          "base_uri": "https://localhost:8080/"
        },
        "id": "n_fRtMxe_cBT",
        "outputId": "82ed32e4-1dd4-4f47-dcaa-37a300a04782"
      },
      "execution_count": null,
      "outputs": [
        {
          "output_type": "execute_result",
          "data": {
            "text/plain": [
              "array(['Roslindale', 'Jamaica Plain', 'Mission Hill',\n",
              "       'Longwood Medical Area', 'Bay Village', 'Leather District',\n",
              "       'Chinatown', 'North End', 'Roxbury', 'South End', 'Back Bay',\n",
              "       'East Boston', 'Charlestown', 'West End', 'Beacon Hill',\n",
              "       'Downtown', 'Fenway', 'Brighton', 'West Roxbury', 'Hyde Park',\n",
              "       'Mattapan', 'Dorchester', 'South Boston Waterfront',\n",
              "       'South Boston', 'Allston'], dtype=object)"
            ]
          },
          "metadata": {},
          "execution_count": 154
        }
      ]
    },
    {
      "cell_type": "code",
      "source": [
        "listings_cleaned['neighbourhood'].nunique()"
      ],
      "metadata": {
        "colab": {
          "base_uri": "https://localhost:8080/"
        },
        "id": "55krlQkzTpZo",
        "outputId": "e8350a3c-8e58-4ea2-dd69-9d8cb231d961"
      },
      "execution_count": null,
      "outputs": [
        {
          "output_type": "execute_result",
          "data": {
            "text/plain": [
              "25"
            ]
          },
          "metadata": {},
          "execution_count": 155
        }
      ]
    },
    {
      "cell_type": "code",
      "source": [
        "listings_cleaned['neighbourhood'] = listings_cleaned['neighbourhood'].str.lower()\n",
        "listings_cleaned['neighbourhood'] = listings_cleaned['neighbourhood'].str.strip()\n",
        "# listings['neighbourhood'] = listings['neighbourhood'].str.replace('st', '')\n",
        "# listings['neighbourhood'] = listings['neighbourhood'].str.replace('treet', '')\n",
        "# listings['neighbourhood'] = listings['neighbourhood'].str.strip()"
      ],
      "metadata": {
        "id": "WWfFtjTOUHXc"
      },
      "execution_count": null,
      "outputs": []
    },
    {
      "cell_type": "code",
      "source": [
        "listings_cleaned['neighbourhood'].value_counts()"
      ],
      "metadata": {
        "colab": {
          "base_uri": "https://localhost:8080/"
        },
        "id": "A4fMwzBw_ea6",
        "outputId": "e724fc9a-83b9-4389-e203-bb87180ac57f"
      },
      "execution_count": null,
      "outputs": [
        {
          "output_type": "execute_result",
          "data": {
            "text/plain": [
              "jamaica plain              343\n",
              "south end                  326\n",
              "back bay                   302\n",
              "fenway                     290\n",
              "dorchester                 269\n",
              "allston                    260\n",
              "beacon hill                194\n",
              "brighton                   185\n",
              "south boston               174\n",
              "downtown                   172\n",
              "east boston                150\n",
              "roxbury                    144\n",
              "north end                  143\n",
              "mission hill               124\n",
              "charlestown                111\n",
              "south boston waterfront     83\n",
              "chinatown                   71\n",
              "roslindale                  56\n",
              "west end                    49\n",
              "west roxbury                46\n",
              "hyde park                   31\n",
              "mattapan                    24\n",
              "bay village                 24\n",
              "longwood medical area        9\n",
              "leather district             5\n",
              "Name: neighbourhood, dtype: int64"
            ]
          },
          "metadata": {},
          "execution_count": 157
        }
      ]
    },
    {
      "cell_type": "markdown",
      "source": [
        "### Processing Reviews Data"
      ],
      "metadata": {
        "id": "OoWcMRhSKcR8"
      }
    },
    {
      "cell_type": "code",
      "source": [
        "reviews_cleaned = pd.read_csv('reviews.csv')"
      ],
      "metadata": {
        "id": "kmiQn6-FKcB5"
      },
      "execution_count": null,
      "outputs": []
    },
    {
      "cell_type": "code",
      "source": [
        "reviews_cleaned.head()"
      ],
      "metadata": {
        "colab": {
          "base_uri": "https://localhost:8080/",
          "height": 337
        },
        "id": "KVTKjtXaHuh-",
        "outputId": "a4d36148-8134-49b5-9341-6b3a36cb48d4"
      },
      "execution_count": null,
      "outputs": [
        {
          "output_type": "execute_result",
          "data": {
            "text/plain": [
              "   listing_id       id        date  reviewer_id reviewer_name  \\\n",
              "0     1178162  4724140  2013-05-21      4298113       Olivier   \n",
              "1     1178162  4869189  2013-05-29      6452964     Charlotte   \n",
              "2     1178162  5003196  2013-06-06      6449554     Sebastian   \n",
              "3     1178162  5150351  2013-06-15      2215611        Marine   \n",
              "4     1178162  5171140  2013-06-16      6848427        Andrew   \n",
              "\n",
              "                                            comments  \n",
              "0  My stay at islam's place was really cool! Good...  \n",
              "1  Great location for both airport and city - gre...  \n",
              "2  We really enjoyed our stay at Islams house. Fr...  \n",
              "3  The room was nice and clean and so were the co...  \n",
              "4  Great location. Just 5 mins walk from the Airp...  "
            ],
            "text/html": [
              "\n",
              "  <div id=\"df-5b4a30fd-92f6-4139-8751-5a97ce7ff2cf\">\n",
              "    <div class=\"colab-df-container\">\n",
              "      <div>\n",
              "<style scoped>\n",
              "    .dataframe tbody tr th:only-of-type {\n",
              "        vertical-align: middle;\n",
              "    }\n",
              "\n",
              "    .dataframe tbody tr th {\n",
              "        vertical-align: top;\n",
              "    }\n",
              "\n",
              "    .dataframe thead th {\n",
              "        text-align: right;\n",
              "    }\n",
              "</style>\n",
              "<table border=\"1\" class=\"dataframe\">\n",
              "  <thead>\n",
              "    <tr style=\"text-align: right;\">\n",
              "      <th></th>\n",
              "      <th>listing_id</th>\n",
              "      <th>id</th>\n",
              "      <th>date</th>\n",
              "      <th>reviewer_id</th>\n",
              "      <th>reviewer_name</th>\n",
              "      <th>comments</th>\n",
              "    </tr>\n",
              "  </thead>\n",
              "  <tbody>\n",
              "    <tr>\n",
              "      <th>0</th>\n",
              "      <td>1178162</td>\n",
              "      <td>4724140</td>\n",
              "      <td>2013-05-21</td>\n",
              "      <td>4298113</td>\n",
              "      <td>Olivier</td>\n",
              "      <td>My stay at islam's place was really cool! Good...</td>\n",
              "    </tr>\n",
              "    <tr>\n",
              "      <th>1</th>\n",
              "      <td>1178162</td>\n",
              "      <td>4869189</td>\n",
              "      <td>2013-05-29</td>\n",
              "      <td>6452964</td>\n",
              "      <td>Charlotte</td>\n",
              "      <td>Great location for both airport and city - gre...</td>\n",
              "    </tr>\n",
              "    <tr>\n",
              "      <th>2</th>\n",
              "      <td>1178162</td>\n",
              "      <td>5003196</td>\n",
              "      <td>2013-06-06</td>\n",
              "      <td>6449554</td>\n",
              "      <td>Sebastian</td>\n",
              "      <td>We really enjoyed our stay at Islams house. Fr...</td>\n",
              "    </tr>\n",
              "    <tr>\n",
              "      <th>3</th>\n",
              "      <td>1178162</td>\n",
              "      <td>5150351</td>\n",
              "      <td>2013-06-15</td>\n",
              "      <td>2215611</td>\n",
              "      <td>Marine</td>\n",
              "      <td>The room was nice and clean and so were the co...</td>\n",
              "    </tr>\n",
              "    <tr>\n",
              "      <th>4</th>\n",
              "      <td>1178162</td>\n",
              "      <td>5171140</td>\n",
              "      <td>2013-06-16</td>\n",
              "      <td>6848427</td>\n",
              "      <td>Andrew</td>\n",
              "      <td>Great location. Just 5 mins walk from the Airp...</td>\n",
              "    </tr>\n",
              "  </tbody>\n",
              "</table>\n",
              "</div>\n",
              "      <button class=\"colab-df-convert\" onclick=\"convertToInteractive('df-5b4a30fd-92f6-4139-8751-5a97ce7ff2cf')\"\n",
              "              title=\"Convert this dataframe to an interactive table.\"\n",
              "              style=\"display:none;\">\n",
              "        \n",
              "  <svg xmlns=\"http://www.w3.org/2000/svg\" height=\"24px\"viewBox=\"0 0 24 24\"\n",
              "       width=\"24px\">\n",
              "    <path d=\"M0 0h24v24H0V0z\" fill=\"none\"/>\n",
              "    <path d=\"M18.56 5.44l.94 2.06.94-2.06 2.06-.94-2.06-.94-.94-2.06-.94 2.06-2.06.94zm-11 1L8.5 8.5l.94-2.06 2.06-.94-2.06-.94L8.5 2.5l-.94 2.06-2.06.94zm10 10l.94 2.06.94-2.06 2.06-.94-2.06-.94-.94-2.06-.94 2.06-2.06.94z\"/><path d=\"M17.41 7.96l-1.37-1.37c-.4-.4-.92-.59-1.43-.59-.52 0-1.04.2-1.43.59L10.3 9.45l-7.72 7.72c-.78.78-.78 2.05 0 2.83L4 21.41c.39.39.9.59 1.41.59.51 0 1.02-.2 1.41-.59l7.78-7.78 2.81-2.81c.8-.78.8-2.07 0-2.86zM5.41 20L4 18.59l7.72-7.72 1.47 1.35L5.41 20z\"/>\n",
              "  </svg>\n",
              "      </button>\n",
              "      \n",
              "  <style>\n",
              "    .colab-df-container {\n",
              "      display:flex;\n",
              "      flex-wrap:wrap;\n",
              "      gap: 12px;\n",
              "    }\n",
              "\n",
              "    .colab-df-convert {\n",
              "      background-color: #E8F0FE;\n",
              "      border: none;\n",
              "      border-radius: 50%;\n",
              "      cursor: pointer;\n",
              "      display: none;\n",
              "      fill: #1967D2;\n",
              "      height: 32px;\n",
              "      padding: 0 0 0 0;\n",
              "      width: 32px;\n",
              "    }\n",
              "\n",
              "    .colab-df-convert:hover {\n",
              "      background-color: #E2EBFA;\n",
              "      box-shadow: 0px 1px 2px rgba(60, 64, 67, 0.3), 0px 1px 3px 1px rgba(60, 64, 67, 0.15);\n",
              "      fill: #174EA6;\n",
              "    }\n",
              "\n",
              "    [theme=dark] .colab-df-convert {\n",
              "      background-color: #3B4455;\n",
              "      fill: #D2E3FC;\n",
              "    }\n",
              "\n",
              "    [theme=dark] .colab-df-convert:hover {\n",
              "      background-color: #434B5C;\n",
              "      box-shadow: 0px 1px 3px 1px rgba(0, 0, 0, 0.15);\n",
              "      filter: drop-shadow(0px 1px 2px rgba(0, 0, 0, 0.3));\n",
              "      fill: #FFFFFF;\n",
              "    }\n",
              "  </style>\n",
              "\n",
              "      <script>\n",
              "        const buttonEl =\n",
              "          document.querySelector('#df-5b4a30fd-92f6-4139-8751-5a97ce7ff2cf button.colab-df-convert');\n",
              "        buttonEl.style.display =\n",
              "          google.colab.kernel.accessAllowed ? 'block' : 'none';\n",
              "\n",
              "        async function convertToInteractive(key) {\n",
              "          const element = document.querySelector('#df-5b4a30fd-92f6-4139-8751-5a97ce7ff2cf');\n",
              "          const dataTable =\n",
              "            await google.colab.kernel.invokeFunction('convertToInteractive',\n",
              "                                                     [key], {});\n",
              "          if (!dataTable) return;\n",
              "\n",
              "          const docLinkHtml = 'Like what you see? Visit the ' +\n",
              "            '<a target=\"_blank\" href=https://colab.research.google.com/notebooks/data_table.ipynb>data table notebook</a>'\n",
              "            + ' to learn more about interactive tables.';\n",
              "          element.innerHTML = '';\n",
              "          dataTable['output_type'] = 'display_data';\n",
              "          await google.colab.output.renderOutput(dataTable, element);\n",
              "          const docLink = document.createElement('div');\n",
              "          docLink.innerHTML = docLinkHtml;\n",
              "          element.appendChild(docLink);\n",
              "        }\n",
              "      </script>\n",
              "    </div>\n",
              "  </div>\n",
              "  "
            ]
          },
          "metadata": {},
          "execution_count": 159
        }
      ]
    },
    {
      "cell_type": "code",
      "source": [
        "reviews_cleaned.info()"
      ],
      "metadata": {
        "colab": {
          "base_uri": "https://localhost:8080/"
        },
        "id": "fzl5HcQrIIlB",
        "outputId": "aeccb54a-8ed4-4e02-a0a9-94dd80b0c3b7"
      },
      "execution_count": null,
      "outputs": [
        {
          "output_type": "stream",
          "name": "stdout",
          "text": [
            "<class 'pandas.core.frame.DataFrame'>\n",
            "RangeIndex: 68275 entries, 0 to 68274\n",
            "Data columns (total 6 columns):\n",
            " #   Column         Non-Null Count  Dtype \n",
            "---  ------         --------------  ----- \n",
            " 0   listing_id     68275 non-null  int64 \n",
            " 1   id             68275 non-null  int64 \n",
            " 2   date           68275 non-null  object\n",
            " 3   reviewer_id    68275 non-null  int64 \n",
            " 4   reviewer_name  68275 non-null  object\n",
            " 5   comments       68222 non-null  object\n",
            "dtypes: int64(3), object(3)\n",
            "memory usage: 3.1+ MB\n"
          ]
        }
      ]
    },
    {
      "cell_type": "code",
      "source": [
        "reviews_cleaned[[\"listing_id\", \"id\", \"reviewer_id\"]] = reviews_cleaned[[\"listing_id\", \"id\", \"reviewer_id\"]].astype('str')"
      ],
      "metadata": {
        "id": "7ygpf31t5IcS"
      },
      "execution_count": null,
      "outputs": []
    },
    {
      "cell_type": "code",
      "source": [
        "# drop duplicates \"reviewer_id\", \"listing_id\"and \"comments\"\n",
        "reviews_cleaned = reviews_cleaned.drop_duplicates(subset=[\"reviewer_id\", \"listing_id\", \"comments\"])"
      ],
      "metadata": {
        "id": "rA-fac8SHvxp"
      },
      "execution_count": null,
      "outputs": []
    },
    {
      "cell_type": "code",
      "source": [
        "# Remove null comments\n",
        "reviews_cleaned = reviews_cleaned.dropna(axis=0, subset=[\"comments\"])"
      ],
      "metadata": {
        "id": "dgYuPol6Ioo8"
      },
      "execution_count": null,
      "outputs": []
    },
    {
      "cell_type": "code",
      "source": [
        "#convert date to datetime\n",
        "reviews_cleaned ['date'] = reviews_cleaned['date'].astype('datetime64[ns]')"
      ],
      "metadata": {
        "id": "vnpX39f6Jo6q"
      },
      "execution_count": null,
      "outputs": []
    },
    {
      "cell_type": "code",
      "source": [
        "# reviews_cleaned = reviews_cleaned.drop(columns = [\"reviewer_id\", \"reviewer_name\"])"
      ],
      "metadata": {
        "id": "TEBdp3PEUooc"
      },
      "execution_count": null,
      "outputs": []
    },
    {
      "cell_type": "code",
      "source": [
        "reviews_cleaned.info()"
      ],
      "metadata": {
        "colab": {
          "base_uri": "https://localhost:8080/"
        },
        "id": "0X3hMmUC5UgU",
        "outputId": "6ee16faa-ba31-4119-b18a-f024fd1f2890"
      },
      "execution_count": null,
      "outputs": [
        {
          "output_type": "stream",
          "name": "stdout",
          "text": [
            "<class 'pandas.core.frame.DataFrame'>\n",
            "Int64Index: 68204 entries, 0 to 68274\n",
            "Data columns (total 6 columns):\n",
            " #   Column         Non-Null Count  Dtype         \n",
            "---  ------         --------------  -----         \n",
            " 0   listing_id     68204 non-null  object        \n",
            " 1   id             68204 non-null  object        \n",
            " 2   date           68204 non-null  datetime64[ns]\n",
            " 3   reviewer_id    68204 non-null  object        \n",
            " 4   reviewer_name  68204 non-null  object        \n",
            " 5   comments       68204 non-null  object        \n",
            "dtypes: datetime64[ns](1), object(5)\n",
            "memory usage: 3.6+ MB\n"
          ]
        }
      ]
    },
    {
      "cell_type": "markdown",
      "source": [
        "### Combining Data"
      ],
      "metadata": {
        "id": "6-w60SFKOKKO"
      }
    },
    {
      "cell_type": "markdown",
      "source": [
        "Combine two datasets for creating a clean dataset by using pd.merge() with a left join on calendar_cleaned. Drop listing_id on merged."
      ],
      "metadata": {
        "id": "ukhOvMp3OPKa"
      }
    },
    {
      "cell_type": "code",
      "source": [
        "cal_list = pd.merge(calendar_cleaned, listings_cleaned, how='left', left_on='listing_id', right_on='id')"
      ],
      "metadata": {
        "id": "uNuZ3u9UPc7Y"
      },
      "execution_count": null,
      "outputs": []
    },
    {
      "cell_type": "code",
      "source": [
        "cal_list.info()"
      ],
      "metadata": {
        "colab": {
          "base_uri": "https://localhost:8080/"
        },
        "id": "SJaB6-rIwvh1",
        "outputId": "cb89d2e5-13db-4a69-b8c2-24981b1f5555"
      },
      "execution_count": null,
      "outputs": [
        {
          "output_type": "stream",
          "name": "stdout",
          "text": [
            "<class 'pandas.core.frame.DataFrame'>\n",
            "Int64Index: 1308525 entries, 0 to 1308524\n",
            "Data columns (total 31 columns):\n",
            " #   Column                   Non-Null Count    Dtype         \n",
            "---  ------                   --------------    -----         \n",
            " 0   listing_id               1308525 non-null  object        \n",
            " 1   date                     1308525 non-null  datetime64[ns]\n",
            " 2   available                1308525 non-null  int64         \n",
            " 3   price_x                  1308525 non-null  float64       \n",
            " 4   id                       1308525 non-null  object        \n",
            " 5   host_response_time       1308525 non-null  category      \n",
            " 6   host_listings_count      1308525 non-null  int64         \n",
            " 7   street                   1308525 non-null  object        \n",
            " 8   neighbourhood            1308525 non-null  object        \n",
            " 9   city                     1307795 non-null  object        \n",
            " 10  zipcode                  1294655 non-null  object        \n",
            " 11  property_type            1308525 non-null  category      \n",
            " 12  room_type                1308525 non-null  category      \n",
            " 13  accommodates             1308525 non-null  int64         \n",
            " 14  bathrooms                1308525 non-null  float64       \n",
            " 15  bedrooms                 1308525 non-null  float64       \n",
            " 16  beds                     1308525 non-null  float64       \n",
            " 17  bed_type                 1308525 non-null  category      \n",
            " 18  square_feet              1308525 non-null  float64       \n",
            " 19  price_y                  1308525 non-null  float64       \n",
            " 20  monthly_price            324120 non-null   object        \n",
            " 21  extra_people             1308525 non-null  float64       \n",
            " 22  instant_bookable         1308525 non-null  int64         \n",
            " 23  cancellation_policy      1308525 non-null  category      \n",
            " 24  listing_description      1308525 non-null  object        \n",
            " 25  listing_access           1308525 non-null  object        \n",
            " 26  host_rules               1308525 non-null  object        \n",
            " 27  host_response_time_int   1308525 non-null  int8          \n",
            " 28  room_type_int            1308525 non-null  int8          \n",
            " 29  bed_type_int             1308525 non-null  int8          \n",
            " 30  cancellation_policy_int  1308525 non-null  int8          \n",
            "dtypes: category(5), datetime64[ns](1), float64(7), int64(4), int8(4), object(10)\n",
            "memory usage: 240.8+ MB\n"
          ]
        }
      ]
    },
    {
      "cell_type": "code",
      "source": [
        "# id and listing_id are the same. So id will be dropped as it no longer\n",
        "# represent a unique identifier for the row.\n",
        "cal_list[cal_list[\"id\"] != cal_list[\"listing_id\"]]"
      ],
      "metadata": {
        "colab": {
          "base_uri": "https://localhost:8080/",
          "height": 143
        },
        "id": "kASs18uPwQvT",
        "outputId": "1ce71f9f-a2ec-40a6-b651-9b200149f89f"
      },
      "execution_count": null,
      "outputs": [
        {
          "output_type": "execute_result",
          "data": {
            "text/plain": [
              "Empty DataFrame\n",
              "Columns: [listing_id, date, available, price_x, id, host_response_time, host_listings_count, street, neighbourhood, city, zipcode, property_type, room_type, accommodates, bathrooms, bedrooms, beds, bed_type, square_feet, price_y, monthly_price, extra_people, instant_bookable, cancellation_policy, listing_description, listing_access, host_rules, host_response_time_int, room_type_int, bed_type_int, cancellation_policy_int]\n",
              "Index: []\n",
              "\n",
              "[0 rows x 31 columns]"
            ],
            "text/html": [
              "\n",
              "  <div id=\"df-2f1a8562-f2ce-42eb-a686-60d2150824de\">\n",
              "    <div class=\"colab-df-container\">\n",
              "      <div>\n",
              "<style scoped>\n",
              "    .dataframe tbody tr th:only-of-type {\n",
              "        vertical-align: middle;\n",
              "    }\n",
              "\n",
              "    .dataframe tbody tr th {\n",
              "        vertical-align: top;\n",
              "    }\n",
              "\n",
              "    .dataframe thead th {\n",
              "        text-align: right;\n",
              "    }\n",
              "</style>\n",
              "<table border=\"1\" class=\"dataframe\">\n",
              "  <thead>\n",
              "    <tr style=\"text-align: right;\">\n",
              "      <th></th>\n",
              "      <th>listing_id</th>\n",
              "      <th>date</th>\n",
              "      <th>available</th>\n",
              "      <th>price_x</th>\n",
              "      <th>id</th>\n",
              "      <th>host_response_time</th>\n",
              "      <th>host_listings_count</th>\n",
              "      <th>street</th>\n",
              "      <th>neighbourhood</th>\n",
              "      <th>city</th>\n",
              "      <th>...</th>\n",
              "      <th>extra_people</th>\n",
              "      <th>instant_bookable</th>\n",
              "      <th>cancellation_policy</th>\n",
              "      <th>listing_description</th>\n",
              "      <th>listing_access</th>\n",
              "      <th>host_rules</th>\n",
              "      <th>host_response_time_int</th>\n",
              "      <th>room_type_int</th>\n",
              "      <th>bed_type_int</th>\n",
              "      <th>cancellation_policy_int</th>\n",
              "    </tr>\n",
              "  </thead>\n",
              "  <tbody>\n",
              "  </tbody>\n",
              "</table>\n",
              "<p>0 rows × 31 columns</p>\n",
              "</div>\n",
              "      <button class=\"colab-df-convert\" onclick=\"convertToInteractive('df-2f1a8562-f2ce-42eb-a686-60d2150824de')\"\n",
              "              title=\"Convert this dataframe to an interactive table.\"\n",
              "              style=\"display:none;\">\n",
              "        \n",
              "  <svg xmlns=\"http://www.w3.org/2000/svg\" height=\"24px\"viewBox=\"0 0 24 24\"\n",
              "       width=\"24px\">\n",
              "    <path d=\"M0 0h24v24H0V0z\" fill=\"none\"/>\n",
              "    <path d=\"M18.56 5.44l.94 2.06.94-2.06 2.06-.94-2.06-.94-.94-2.06-.94 2.06-2.06.94zm-11 1L8.5 8.5l.94-2.06 2.06-.94-2.06-.94L8.5 2.5l-.94 2.06-2.06.94zm10 10l.94 2.06.94-2.06 2.06-.94-2.06-.94-.94-2.06-.94 2.06-2.06.94z\"/><path d=\"M17.41 7.96l-1.37-1.37c-.4-.4-.92-.59-1.43-.59-.52 0-1.04.2-1.43.59L10.3 9.45l-7.72 7.72c-.78.78-.78 2.05 0 2.83L4 21.41c.39.39.9.59 1.41.59.51 0 1.02-.2 1.41-.59l7.78-7.78 2.81-2.81c.8-.78.8-2.07 0-2.86zM5.41 20L4 18.59l7.72-7.72 1.47 1.35L5.41 20z\"/>\n",
              "  </svg>\n",
              "      </button>\n",
              "      \n",
              "  <style>\n",
              "    .colab-df-container {\n",
              "      display:flex;\n",
              "      flex-wrap:wrap;\n",
              "      gap: 12px;\n",
              "    }\n",
              "\n",
              "    .colab-df-convert {\n",
              "      background-color: #E8F0FE;\n",
              "      border: none;\n",
              "      border-radius: 50%;\n",
              "      cursor: pointer;\n",
              "      display: none;\n",
              "      fill: #1967D2;\n",
              "      height: 32px;\n",
              "      padding: 0 0 0 0;\n",
              "      width: 32px;\n",
              "    }\n",
              "\n",
              "    .colab-df-convert:hover {\n",
              "      background-color: #E2EBFA;\n",
              "      box-shadow: 0px 1px 2px rgba(60, 64, 67, 0.3), 0px 1px 3px 1px rgba(60, 64, 67, 0.15);\n",
              "      fill: #174EA6;\n",
              "    }\n",
              "\n",
              "    [theme=dark] .colab-df-convert {\n",
              "      background-color: #3B4455;\n",
              "      fill: #D2E3FC;\n",
              "    }\n",
              "\n",
              "    [theme=dark] .colab-df-convert:hover {\n",
              "      background-color: #434B5C;\n",
              "      box-shadow: 0px 1px 3px 1px rgba(0, 0, 0, 0.15);\n",
              "      filter: drop-shadow(0px 1px 2px rgba(0, 0, 0, 0.3));\n",
              "      fill: #FFFFFF;\n",
              "    }\n",
              "  </style>\n",
              "\n",
              "      <script>\n",
              "        const buttonEl =\n",
              "          document.querySelector('#df-2f1a8562-f2ce-42eb-a686-60d2150824de button.colab-df-convert');\n",
              "        buttonEl.style.display =\n",
              "          google.colab.kernel.accessAllowed ? 'block' : 'none';\n",
              "\n",
              "        async function convertToInteractive(key) {\n",
              "          const element = document.querySelector('#df-2f1a8562-f2ce-42eb-a686-60d2150824de');\n",
              "          const dataTable =\n",
              "            await google.colab.kernel.invokeFunction('convertToInteractive',\n",
              "                                                     [key], {});\n",
              "          if (!dataTable) return;\n",
              "\n",
              "          const docLinkHtml = 'Like what you see? Visit the ' +\n",
              "            '<a target=\"_blank\" href=https://colab.research.google.com/notebooks/data_table.ipynb>data table notebook</a>'\n",
              "            + ' to learn more about interactive tables.';\n",
              "          element.innerHTML = '';\n",
              "          dataTable['output_type'] = 'display_data';\n",
              "          await google.colab.output.renderOutput(dataTable, element);\n",
              "          const docLink = document.createElement('div');\n",
              "          docLink.innerHTML = docLinkHtml;\n",
              "          element.appendChild(docLink);\n",
              "        }\n",
              "      </script>\n",
              "    </div>\n",
              "  </div>\n",
              "  "
            ]
          },
          "metadata": {},
          "execution_count": 169
        }
      ]
    },
    {
      "cell_type": "code",
      "source": [
        "print(sum(cal_list[\"price_x\"] == 0.0))\n",
        "sum(cal_list[\"price_x\"] != 0.0)"
      ],
      "metadata": {
        "colab": {
          "base_uri": "https://localhost:8080/"
        },
        "id": "93BkQC1iIQu4",
        "outputId": "1b8f5bb7-4d8e-49e8-b089-59d6cbfe40d8"
      },
      "execution_count": null,
      "outputs": [
        {
          "output_type": "stream",
          "name": "stdout",
          "text": [
            "665568\n"
          ]
        },
        {
          "output_type": "execute_result",
          "data": {
            "text/plain": [
              "642957"
            ]
          },
          "metadata": {},
          "execution_count": 171
        }
      ]
    },
    {
      "cell_type": "code",
      "source": [
        "print(sum(cal_list[\"price_y\"] == 0.0))\n",
        "sum(cal_list[\"price_y\"] != 0.0)"
      ],
      "metadata": {
        "colab": {
          "base_uri": "https://localhost:8080/"
        },
        "id": "qIOv9H6WIbFi",
        "outputId": "3f93f042-bcff-4671-be0c-99652e5be14d"
      },
      "execution_count": null,
      "outputs": [
        {
          "output_type": "stream",
          "name": "stdout",
          "text": [
            "0\n"
          ]
        },
        {
          "output_type": "execute_result",
          "data": {
            "text/plain": [
              "1308525"
            ]
          },
          "metadata": {},
          "execution_count": 172
        }
      ]
    },
    {
      "cell_type": "code",
      "source": [
        "# cal_list.drop(columns=[\"price_x\"])"
      ],
      "metadata": {
        "id": "cVPZ49bhuwfM"
      },
      "execution_count": null,
      "outputs": []
    },
    {
      "cell_type": "code",
      "source": [
        "# cal_list = cal_list.rename(columns={\n",
        "#     \"price_y\": \"price\",\n",
        "#     \"price_x\": \"available_price\",\n",
        "# })\n"
      ],
      "metadata": {
        "id": "n_s_eYiE13kR"
      },
      "execution_count": null,
      "outputs": []
    },
    {
      "cell_type": "code",
      "source": [
        "print(sum(cal_list[\"price_y\"] == cal_list[\"price_x\"]))\n",
        "print(sum(cal_list[\"price_y\"] != cal_list[\"price_x\"]))"
      ],
      "metadata": {
        "colab": {
          "base_uri": "https://localhost:8080/"
        },
        "id": "4gj3L1VSJc8_",
        "outputId": "426856d5-5c3f-43c7-e962-f1bb85271937"
      },
      "execution_count": null,
      "outputs": [
        {
          "output_type": "stream",
          "name": "stdout",
          "text": [
            "409365\n",
            "899160\n"
          ]
        }
      ]
    },
    {
      "cell_type": "code",
      "source": [
        "# Total number of same priced values when listing is available.\n",
        "print(sum( (cal_list[\"price_y\"] == cal_list[\"price_x\"]) & (cal_list[\"available\"] == 1) ))"
      ],
      "metadata": {
        "colab": {
          "base_uri": "https://localhost:8080/"
        },
        "id": "DVIM3TomJuwV",
        "outputId": "72765b62-100a-4468-b7f7-52089773c60a"
      },
      "execution_count": null,
      "outputs": [
        {
          "output_type": "stream",
          "name": "stdout",
          "text": [
            "409365\n"
          ]
        }
      ]
    },
    {
      "cell_type": "code",
      "source": [
        "# Total number of same priced values when listing is not available.\n",
        "print(sum( (cal_list[\"price_y\"] == cal_list[\"price_x\"]) & (cal_list[\"available\"] == 0) ))"
      ],
      "metadata": {
        "colab": {
          "base_uri": "https://localhost:8080/"
        },
        "id": "eOqU23TsKIX7",
        "outputId": "462a2584-bada-4ab6-acb4-f884dc34d6b4"
      },
      "execution_count": null,
      "outputs": [
        {
          "output_type": "stream",
          "name": "stdout",
          "text": [
            "0\n"
          ]
        }
      ]
    },
    {
      "cell_type": "code",
      "source": [
        "# Total number of not same priced values when listing is available.\n",
        "print(sum( (cal_list[\"price_y\"] != cal_list[\"price_x\"]) & (cal_list[\"available\"] == 1) ))"
      ],
      "metadata": {
        "colab": {
          "base_uri": "https://localhost:8080/"
        },
        "id": "DQWTrmQdKKn7",
        "outputId": "9bd3f882-a66b-4cb3-e8aa-55a4644c286a"
      },
      "execution_count": null,
      "outputs": [
        {
          "output_type": "stream",
          "name": "stdout",
          "text": [
            "233592\n"
          ]
        }
      ]
    },
    {
      "cell_type": "code",
      "source": [
        "# Total number of not same priced values when listing is not available.\n",
        "print(sum( (cal_list[\"price_y\"] != cal_list[\"price_x\"]) & (cal_list[\"available\"] == 0) ))"
      ],
      "metadata": {
        "colab": {
          "base_uri": "https://localhost:8080/"
        },
        "id": "nwoOuIzsKNM4",
        "outputId": "38d52eeb-bb76-48e9-de42-a6562d03a8cb"
      },
      "execution_count": null,
      "outputs": [
        {
          "output_type": "stream",
          "name": "stdout",
          "text": [
            "665568\n"
          ]
        }
      ]
    },
    {
      "cell_type": "code",
      "source": [
        "cal_list['price_x'].plot();\n",
        "cal_list['price_y'].plot();"
      ],
      "metadata": {
        "colab": {
          "base_uri": "https://localhost:8080/",
          "height": 278
        },
        "id": "K2VqscGFDfPP",
        "outputId": "44a57544-718b-49d3-81db-d407ead6ce39"
      },
      "execution_count": null,
      "outputs": [
        {
          "output_type": "display_data",
          "data": {
            "text/plain": [
              "<Figure size 432x288 with 1 Axes>"
            ],
            "image/png": "[encoded data removed]"
          },
          "metadata": {
            "needs_background": "light"
          }
        }
      ]
    },
    {
      "cell_type": "code",
      "source": [
        "cal_list.columns"
      ],
      "metadata": {
        "colab": {
          "base_uri": "https://localhost:8080/"
        },
        "id": "ai0K3EsvMqSj",
        "outputId": "d8199dfa-068b-452d-eaa4-af4830bf9c0a"
      },
      "execution_count": null,
      "outputs": [
        {
          "output_type": "execute_result",
          "data": {
            "text/plain": [
              "Index(['listing_id', 'date', 'available', 'price_x', 'id',\n",
              "       'host_response_time', 'host_listings_count', 'street', 'neighbourhood',\n",
              "       'city', 'zipcode', 'property_type', 'room_type', 'accommodates',\n",
              "       'bathrooms', 'bedrooms', 'beds', 'bed_type', 'square_feet', 'price_y',\n",
              "       'monthly_price', 'extra_people', 'instant_bookable',\n",
              "       'cancellation_policy', 'listing_description', 'listing_access',\n",
              "       'host_rules', 'host_response_time_int', 'room_type_int', 'bed_type_int',\n",
              "       'cancellation_policy_int'],\n",
              "      dtype='object')"
            ]
          },
          "metadata": {},
          "execution_count": 179
        }
      ]
    },
    {
      "cell_type": "code",
      "source": [
        "cal_list.info()"
      ],
      "metadata": {
        "colab": {
          "base_uri": "https://localhost:8080/"
        },
        "id": "QE6wS-gc3cYG",
        "outputId": "6e9d2b93-db1d-42b2-a3d4-9a9f43a71927"
      },
      "execution_count": null,
      "outputs": [
        {
          "output_type": "stream",
          "name": "stdout",
          "text": [
            "<class 'pandas.core.frame.DataFrame'>\n",
            "Int64Index: 1308525 entries, 0 to 1308524\n",
            "Data columns (total 31 columns):\n",
            " #   Column                   Non-Null Count    Dtype         \n",
            "---  ------                   --------------    -----         \n",
            " 0   listing_id               1308525 non-null  object        \n",
            " 1   date                     1308525 non-null  datetime64[ns]\n",
            " 2   available                1308525 non-null  int64         \n",
            " 3   price_x                  1308525 non-null  float64       \n",
            " 4   id                       1308525 non-null  object        \n",
            " 5   host_response_time       1308525 non-null  category      \n",
            " 6   host_listings_count      1308525 non-null  int64         \n",
            " 7   street                   1308525 non-null  object        \n",
            " 8   neighbourhood            1308525 non-null  object        \n",
            " 9   city                     1307795 non-null  object        \n",
            " 10  zipcode                  1294655 non-null  object        \n",
            " 11  property_type            1308525 non-null  category      \n",
            " 12  room_type                1308525 non-null  category      \n",
            " 13  accommodates             1308525 non-null  int64         \n",
            " 14  bathrooms                1308525 non-null  float64       \n",
            " 15  bedrooms                 1308525 non-null  float64       \n",
            " 16  beds                     1308525 non-null  float64       \n",
            " 17  bed_type                 1308525 non-null  category      \n",
            " 18  square_feet              1308525 non-null  float64       \n",
            " 19  price_y                  1308525 non-null  float64       \n",
            " 20  monthly_price            324120 non-null   object        \n",
            " 21  extra_people             1308525 non-null  float64       \n",
            " 22  instant_bookable         1308525 non-null  int64         \n",
            " 23  cancellation_policy      1308525 non-null  category      \n",
            " 24  listing_description      1308525 non-null  object        \n",
            " 25  listing_access           1308525 non-null  object        \n",
            " 26  host_rules               1308525 non-null  object        \n",
            " 27  host_response_time_int   1308525 non-null  int8          \n",
            " 28  room_type_int            1308525 non-null  int8          \n",
            " 29  bed_type_int             1308525 non-null  int8          \n",
            " 30  cancellation_policy_int  1308525 non-null  int8          \n",
            "dtypes: category(5), datetime64[ns](1), float64(7), int64(4), int8(4), object(10)\n",
            "memory usage: 240.8+ MB\n"
          ]
        }
      ]
    },
    {
      "cell_type": "markdown",
      "source": [
        "## Section 4: Modelling, Evaluation & Deployment"
      ],
      "metadata": {
        "id": "8sht38GN9KfO"
      }
    },
    {
      "cell_type": "markdown",
      "source": [
        "### 1. Which column has the most impact on the price?"
      ],
      "metadata": {
        "id": "i09zrL9L9Wi1"
      }
    },
    {
      "cell_type": "code",
      "source": [
        "price_corr = listings_cleaned.corr()['price'].sort_values(ascending = False).head(15)[1:]\n",
        "price_corr"
      ],
      "metadata": {
        "colab": {
          "base_uri": "https://localhost:8080/"
        },
        "id": "amLjqgnr9Ozo",
        "outputId": "9fa090d4-9c52-4980-9f58-d2b101404b65"
      },
      "execution_count": null,
      "outputs": [
        {
          "output_type": "execute_result",
          "data": {
            "text/plain": [
              "accommodates               0.437756241\n",
              "room_type_int              0.420485570\n",
              "bedrooms                   0.382418260\n",
              "beds                       0.371407364\n",
              "bathrooms                  0.248695284\n",
              "host_listings_count        0.171929964\n",
              "cancellation_policy_int    0.156700886\n",
              "bed_type_int               0.098714689\n",
              "square_feet                0.048228026\n",
              "extra_people               0.028703300\n",
              "host_response_time_int    -0.019557594\n",
              "instant_bookable          -0.057358557\n",
              "Name: price, dtype: float64"
            ]
          },
          "metadata": {},
          "execution_count": 181
        }
      ]
    },
    {
      "cell_type": "code",
      "source": [
        "fig, ax = plt.subplots(figsize=(15,10))         \n",
        "sns.heatmap(listings_cleaned[['price', 'accommodates', 'room_type_int', 'bedrooms', 'beds', 'bathrooms', 'host_listings_count', 'cancellation_policy_int']].corr(), annot=True);"
      ],
      "metadata": {
        "colab": {
          "base_uri": "https://localhost:8080/",
          "height": 559
        },
        "id": "MhlQNrwMPVWJ",
        "outputId": "7ce7f073-0430-4c69-bfff-5aef3ab02310"
      },
      "execution_count": null,
      "outputs": [
        {
          "output_type": "display_data",
          "data": {
            "text/plain": [
              "<Figure size 1080x720 with 2 Axes>"
            ],
            "image/png": "[encoded data removed]"
          },
          "metadata": {
            "needs_background": "light"
          }
        }
      ]
    },
    {
      "cell_type": "markdown",
      "source": [
        "#### Result & Explanation\n",
        "From the heatmap it is understood that the;\n",
        "- No. of people a listing's can **accomodates** has the highest affect on the price column.\n",
        "- Room type available is the second biggest influencer.\n",
        "- A scaling system was created in such a way that higher area apts. get higest value.\n",
        "- No. of bedrooms and beds available also contributes to the pricing like in any traditional hotels."
      ],
      "metadata": {
        "id": "HTfw1By9hPg6"
      }
    },
    {
      "cell_type": "markdown",
      "source": [
        "### 2. Which neighbourhood in the listings are most expensive?"
      ],
      "metadata": {
        "id": "cjvbYYq_9xG7"
      }
    },
    {
      "cell_type": "code",
      "source": [
        "import pandas as pd\n",
        "import numpy as np\n",
        "import matplotlib.pyplot as plt\n",
        "import matplotlib as mpl\n",
        "from matplotlib.cm import ScalarMappable\n",
        "import matplotlib.colors as mcolors"
      ],
      "metadata": {
        "id": "k9aNYfISOAOt"
      },
      "execution_count": null,
      "outputs": []
    },
    {
      "cell_type": "code",
      "source": [
        "exp_neighbourhood = listings_cleaned.groupby(listings_cleaned['neighbourhood'])['price'].mean().sort_values(ascending = False)\n",
        "xvalues = list(exp_neighbourhood.keys())\n",
        "yvalues = list(exp_neighbourhood)\n",
        "colorvalues = list(np.linspace(1, 0, 25))\n",
        "\n",
        "clist = [(0, 'darkblue'), (1, 'darkred')]\n",
        "colors = mcolors.LinearSegmentedColormap.from_list(\"\", clist)\n",
        "\n",
        "barcolors = []\n",
        "for value in colorvalues:\n",
        "    barcolors.append(colors(value))"
      ],
      "metadata": {
        "id": "WLajEKuQoBL0"
      },
      "execution_count": null,
      "outputs": []
    },
    {
      "cell_type": "code",
      "source": [
        "fig, ax = plt.subplots(figsize = (20,15))\n",
        "\n",
        "cmappable = ScalarMappable(norm=plt.Normalize(0,1), cmap=colors)\n",
        "plt.colorbar(cmappable)\n",
        "plt.xticks(fontsize=18, rotation=90)\n",
        "\n",
        "ax.set_ylabel(\"Price ($)\")\n",
        "ax.set_xlabel(\"Neighbourhood\")\n",
        "ax.set_title(\"Price vs Neighbourhood\")\n",
        "ax.bar(xvalues, yvalues, color = barcolors)\n",
        "plt.show()"
      ],
      "metadata": {
        "colab": {
          "base_uri": "https://localhost:8080/",
          "height": 740
        },
        "id": "twMnDFJojOVW",
        "outputId": "73d45408-5c88-4476-b1ff-f4f3737790af"
      },
      "execution_count": null,
      "outputs": [
        {
          "output_type": "display_data",
          "data": {
            "text/plain": [
              "<Figure size 1440x1080 with 2 Axes>"
            ],
            "image/png": "[encoded data removed]"
          },
          "metadata": {
            "needs_background": "light"
          }
        }
      ]
    },
    {
      "cell_type": "code",
      "source": [
        "\"Highest amount is ${} and lowest amount is ${}\".format(\n",
        "    np.round(exp_neighbourhood.max(), 2),\n",
        "    np.round(exp_neighbourhood.min(), 2)\n",
        ")"
      ],
      "metadata": {
        "colab": {
          "base_uri": "https://localhost:8080/",
          "height": 35
        },
        "id": "nRPKSVoouIBL",
        "outputId": "4d6ee11d-5708-41d7-c579-b9b38f1859af"
      },
      "execution_count": null,
      "outputs": [
        {
          "output_type": "execute_result",
          "data": {
            "text/plain": [
              "'Highest amount is $306.06 and lowest amount is $75.12'"
            ],
            "application/vnd.google.colaboratory.intrinsic+json": {
              "type": "string"
            }
          },
          "metadata": {},
          "execution_count": 187
        }
      ]
    },
    {
      "cell_type": "markdown",
      "source": [
        "#### Result & Explanation\n",
        "From the barplot of all the neighbourhoods, it is evident that **South Boston** is the most expensive neighbourhood in the listings with the price of **$306.06**.\n",
        "\n",
        "On the other hand **Mattapan** is the least expensive neighbourhood with the price of **$75.12**."
      ],
      "metadata": {
        "id": "hI6Z3HegWhXV"
      }
    },
    {
      "cell_type": "markdown",
      "source": [
        "### 3a. What are the least busy times of the year to visit Boston?"
      ],
      "metadata": {
        "id": "1aju6DHhlyvt"
      }
    },
    {
      "cell_type": "code",
      "source": [
        "calendar_cleaned['month'] = pd.DatetimeIndex(calendar_cleaned['date']).month"
      ],
      "metadata": {
        "id": "PxA-sepPl5_I"
      },
      "execution_count": null,
      "outputs": []
    },
    {
      "cell_type": "code",
      "source": [
        "aob = calendar_cleaned.groupby('month')['available'].mean().plot(\n",
        "    kind=\"line\",\n",
        "    title='Availabilty of Boston',\n",
        "    figsize=(20,15),\n",
        "    linewidth=3\n",
        ")\n",
        "aob.set_ylabel(\"availability rate\")\n",
        "\n",
        "\n",
        "plt.show()"
      ],
      "metadata": {
        "colab": {
          "base_uri": "https://localhost:8080/",
          "height": 549
        },
        "id": "qspzzMaOmPQC",
        "outputId": "a40066a8-f7f8-4f20-e95e-53d5c2d0eadd"
      },
      "execution_count": null,
      "outputs": [
        {
          "output_type": "display_data",
          "data": {
            "text/plain": [
              "<Figure size 1440x1080 with 1 Axes>"
            ],
            "image/png": "[encoded data removed]"
          },
          "metadata": {
            "needs_background": "light"
          }
        }
      ]
    },
    {
      "cell_type": "markdown",
      "source": [
        "### 3b. By how low do the prices get?"
      ],
      "metadata": {
        "id": "FPoqkmJgq2YN"
      }
    },
    {
      "cell_type": "code",
      "source": [
        "from matplotlib.pyplot import figure"
      ],
      "metadata": {
        "id": "1Md4pDXbG33L"
      },
      "execution_count": null,
      "outputs": []
    },
    {
      "cell_type": "code",
      "source": [
        "calendar_cleaned_available = calendar_cleaned[calendar_cleaned[\"available\"] == 1]"
      ],
      "metadata": {
        "id": "03NGOArWwkcX"
      },
      "execution_count": null,
      "outputs": []
    },
    {
      "cell_type": "code",
      "source": [
        "calendar_cleaned_available.groupby('month')['price'].mean()"
      ],
      "metadata": {
        "colab": {
          "base_uri": "https://localhost:8080/"
        },
        "id": "vmmNfwr7J3ZK",
        "outputId": "ecb00b67-cb97-4c53-b84b-86a4d439d2ac"
      },
      "execution_count": null,
      "outputs": [
        {
          "output_type": "execute_result",
          "data": {
            "text/plain": [
              "month\n",
              "1    182.799670787\n",
              "2    180.961027988\n",
              "3    181.818741958\n",
              "4    197.252890117\n",
              "5    193.712294776\n",
              "6    196.535301815\n",
              "7    202.486308971\n",
              "8    203.330141646\n",
              "9    237.055387473\n",
              "10   233.425227793\n",
              "11   202.915712393\n",
              "12   192.600118046\n",
              "Name: price, dtype: float64"
            ]
          },
          "metadata": {},
          "execution_count": 192
        }
      ]
    },
    {
      "cell_type": "code",
      "source": [
        "paob = calendar_cleaned_available.groupby('month')['price'].mean().plot(\n",
        "    kind=\"bar\",\n",
        "    figsize=(10,8),\n",
        "    color = ['red', 'orange', 'green', 'blue', 'goldenrod', 'purple', 'cyan', 'magenta', 'brown', 'salmon', 'lime', 'gold'],\n",
        "    title='Price of Availabilty of Boston Airbnb',\n",
        ")\n",
        "\n",
        "plt.yticks(np.arange(0, 250+1, 25))\n",
        "paob.set_ylabel(\"price\")\n",
        "plt.show()"
      ],
      "metadata": {
        "id": "K2B1Af9vmuS1",
        "colab": {
          "base_uri": "https://localhost:8080/",
          "height": 516
        },
        "outputId": "d01f049f-22c0-4ae2-f98b-b2abad8232f6"
      },
      "execution_count": null,
      "outputs": [
        {
          "output_type": "display_data",
          "data": {
            "text/plain": [
              "<Figure size 720x576 with 1 Axes>"
            ],
            "image/png": "[encoded data removed]"
          },
          "metadata": {
            "needs_background": "light"
          }
        }
      ]
    },
    {
      "cell_type": "markdown",
      "source": [
        "#### Result & Explanation\n",
        "From the above two plots it is indicated that **January** and **February** have the highest availability rate which suggests that the listings are available the most in these months indicating that these are the least busy times of the year to visit Boston.\n",
        "Similarly the prices for the same months is as low as **$185**. \n"
      ],
      "metadata": {
        "id": "I665Ddrfl8Tp"
      }
    }
  ]
}